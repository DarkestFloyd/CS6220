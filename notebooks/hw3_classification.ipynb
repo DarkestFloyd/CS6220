{
 "cells": [
  {
   "cell_type": "code",
   "execution_count": 1,
   "metadata": {},
   "outputs": [],
   "source": [
    "import numpy as np\n",
    "import pandas as pd\n",
    "\n",
    "from sklearn.linear_model import LogisticRegression\n",
    "from sklearn.tree import DecisionTreeClassifier"
   ]
  },
  {
   "cell_type": "code",
   "execution_count": 2,
   "metadata": {},
   "outputs": [],
   "source": [
    "import matplotlib.pyplot as plt\n",
    "%matplotlib inline"
   ]
  },
  {
   "cell_type": "markdown",
   "metadata": {},
   "source": [
    "## MNIST"
   ]
  },
  {
   "cell_type": "code",
   "execution_count": 3,
   "metadata": {},
   "outputs": [],
   "source": [
    "from mnist import MNIST"
   ]
  },
  {
   "cell_type": "code",
   "execution_count": 4,
   "metadata": {},
   "outputs": [],
   "source": [
    "mnist_loader = MNIST(\"../data/mnist/\")\n",
    "mnist_loader.gz = True"
   ]
  },
  {
   "cell_type": "code",
   "execution_count": 5,
   "metadata": {},
   "outputs": [],
   "source": [
    "X, y = mnist_loader.load_training()\n",
    "_X, _y = mnist_loader.load_testing()"
   ]
  },
  {
   "cell_type": "code",
   "execution_count": 6,
   "metadata": {},
   "outputs": [],
   "source": [
    "X = np.array(X, dtype='float32') / 255\n",
    "y = np.array(y, dtype='int16')\n",
    "_X = np.array(_X, dtype='float32') / 255\n",
    "_y = np.array(_y, dtype='int16')"
   ]
  },
  {
   "cell_type": "markdown",
   "metadata": {},
   "source": [
    "#### LR"
   ]
  },
  {
   "cell_type": "code",
   "execution_count": 6,
   "metadata": {},
   "outputs": [],
   "source": [
    "mnist_lr = LogisticRegression(penalty='l2')"
   ]
  },
  {
   "cell_type": "code",
   "execution_count": 7,
   "metadata": {},
   "outputs": [
    {
     "name": "stdout",
     "output_type": "stream",
     "text": [
      "CPU times: user 1min 17s, sys: 187 ms, total: 1min 17s\n",
      "Wall time: 1min 19s\n"
     ]
    },
    {
     "data": {
      "text/plain": [
       "LogisticRegression(C=1.0, class_weight=None, dual=False, fit_intercept=True,\n",
       "          intercept_scaling=1, max_iter=100, multi_class='ovr', n_jobs=1,\n",
       "          penalty='l2', random_state=None, solver='liblinear', tol=0.0001,\n",
       "          verbose=0, warm_start=False)"
      ]
     },
     "execution_count": 7,
     "metadata": {},
     "output_type": "execute_result"
    }
   ],
   "source": [
    "%%time\n",
    "mnist_lr.fit(X, y)"
   ]
  },
  {
   "cell_type": "code",
   "execution_count": 8,
   "metadata": {},
   "outputs": [
    {
     "data": {
      "text/plain": [
       "0.9201"
      ]
     },
     "execution_count": 8,
     "metadata": {},
     "output_type": "execute_result"
    }
   ],
   "source": [
    "yhat = mnist_lr.predict(_X)\n",
    "sum(yhat == _y)/len(_y)"
   ]
  },
  {
   "cell_type": "code",
   "execution_count": 9,
   "metadata": {},
   "outputs": [],
   "source": [
    "d = 30"
   ]
  },
  {
   "cell_type": "code",
   "execution_count": 10,
   "metadata": {},
   "outputs": [
    {
     "data": {
      "text/plain": [
       "array([[629, 302, 397,  44, 430, 240, 498, 399, 368, 213, 298, 427, 370,\n",
       "        150, 265, 544, 189, 444, 360, 271, 374, 236, 482, 262, 404, 303,\n",
       "        125, 453, 127, 513],\n",
       "       [621, 350, 612,  69, 634, 636, 323, 295, 490, 613, 294, 609, 593,\n",
       "        381, 436, 578, 351, 489, 598,  71, 548, 579, 406, 145, 462, 661,\n",
       "        343, 433, 267, 163],\n",
       "       [474, 390, 418, 446, 501, 425, 696, 557, 389, 391, 528, 473, 611,\n",
       "        286, 584, 502, 257, 509, 361, 362, 118, 451, 121, 665, 529,  44,\n",
       "         93, 313, 454, 444],\n",
       "       [104, 507, 676, 563, 535, 171, 678, 117,  89, 311, 450, 443,  98,\n",
       "        526, 649, 440, 648, 478, 442, 256, 675, 712, 472, 708, 404, 452,\n",
       "         96, 395, 274, 143],\n",
       "       [348, 396, 136, 637, 424, 442, 191, 375, 596, 535, 593, 201, 678,\n",
       "        399, 517, 516, 468, 494, 373, 478, 411, 374, 257, 219, 404, 436,\n",
       "        463, 635, 456, 134],\n",
       "       [333, 332, 362, 304, 305, 276, 221, 444, 482, 306, 192, 334, 723,\n",
       "        249, 136, 248, 724, 722, 649, 273, 582, 609, 556, 277, 274, 314,\n",
       "        303, 416, 608, 162],\n",
       "       [387,  77,  79, 313, 370, 108, 574, 459,  66,  78,  76, 600, 484,\n",
       "        544,  69, 516, 220, 148, 107, 414,  68, 486, 543, 403, 445, 602,\n",
       "        347, 374, 605, 487],\n",
       "       [310, 338, 339, 411, 677, 293, 264, 282, 366, 231, 769, 199, 296,\n",
       "        773, 777, 171, 778, 442, 536, 621, 302, 651, 269, 256, 227, 423,\n",
       "        678, 437, 415, 176],\n",
       "       [691, 500, 332, 284, 278, 471, 341, 360, 107, 303, 657, 688, 403,\n",
       "        334, 667, 301, 485, 321, 165, 359, 526, 379, 355, 136, 488, 286,\n",
       "        377, 433, 290, 183],\n",
       "       [666, 359, 720, 746, 721, 695, 742, 748, 734, 732, 744, 585, 705,\n",
       "        740, 211, 212, 612, 565, 470, 328, 368, 182, 184, 667, 316, 735,\n",
       "        210, 668, 718, 358]])"
      ]
     },
     "execution_count": 10,
     "metadata": {},
     "output_type": "execute_result"
    }
   ],
   "source": [
    "coeffs = np.argsort(mnist_lr.coef_, axis=1)[:,::-1][:,:d]\n",
    "coeffs"
   ]
  },
  {
   "cell_type": "code",
   "execution_count": 12,
   "metadata": {},
   "outputs": [],
   "source": [
    "imgs = np.zeros(shape=(10, X.shape[1]))\n",
    "for i in range(10):\n",
    "    imgs[i] = X[y == i][0]"
   ]
  },
  {
   "cell_type": "code",
   "execution_count": 13,
   "metadata": {},
   "outputs": [],
   "source": [
    "features = np.zeros(shape=(10, X.shape[1]))\n",
    "for idx in range(10):\n",
    "    features[idx] = [1 if i in coeffs[idx] else 0 for i, x in enumerate(imgs[idx])]"
   ]
  },
  {
   "cell_type": "code",
   "execution_count": 14,
   "metadata": {},
   "outputs": [
    {
     "data": {
      "image/png": "[encoded data removed]",
      "text/plain": [
       "<matplotlib.figure.Figure at 0x7f0c3b633eb8>"
      ]
     },
     "metadata": {},
     "output_type": "display_data"
    },
    {
     "data": {
      "image/png": "[encoded data removed]",
      "text/plain": [
       "<matplotlib.figure.Figure at 0x7f0c3b5fbf98>"
      ]
     },
     "metadata": {},
     "output_type": "display_data"
    }
   ],
   "source": [
    "for idx in range(10):\n",
    "    plt.figure(1, figsize=(20,22))\n",
    "    plt.subplot(2, 10, idx + 1)\n",
    "    plt.imshow(imgs[idx].reshape(28,28), cmap='gray')\n",
    "    plt.figure(2, figsize=(20,22))\n",
    "    plt.subplot(2, 10, idx + 1)\n",
    "    plt.imshow(features[9 - idx].reshape(28,28), cmap='gray')"
   ]
  },
  {
   "cell_type": "markdown",
   "metadata": {},
   "source": [
    "#### DT"
   ]
  },
  {
   "cell_type": "code",
   "execution_count": 7,
   "metadata": {},
   "outputs": [],
   "source": [
    "mnist_tree = DecisionTreeClassifier(random_state=666)"
   ]
  },
  {
   "cell_type": "code",
   "execution_count": 8,
   "metadata": {},
   "outputs": [
    {
     "name": "stdout",
     "output_type": "stream",
     "text": [
      "CPU times: user 27.8 s, sys: 4.07 ms, total: 27.8 s\n",
      "Wall time: 27.9 s\n"
     ]
    },
    {
     "data": {
      "text/plain": [
       "DecisionTreeClassifier(class_weight=None, criterion='gini', max_depth=None,\n",
       "            max_features=None, max_leaf_nodes=None,\n",
       "            min_impurity_decrease=0.0, min_impurity_split=None,\n",
       "            min_samples_leaf=1, min_samples_split=2,\n",
       "            min_weight_fraction_leaf=0.0, presort=False, random_state=666,\n",
       "            splitter='best')"
      ]
     },
     "execution_count": 8,
     "metadata": {},
     "output_type": "execute_result"
    }
   ],
   "source": [
    "%%time\n",
    "mnist_tree.fit(X, y)"
   ]
  },
  {
   "cell_type": "code",
   "execution_count": 9,
   "metadata": {},
   "outputs": [
    {
     "data": {
      "text/plain": [
       "0.8772"
      ]
     },
     "execution_count": 9,
     "metadata": {},
     "output_type": "execute_result"
    }
   ],
   "source": [
    "yhat = mnist_tree.predict(_X)\n",
    "sum(yhat == _y)/len(_y)"
   ]
  },
  {
   "cell_type": "code",
   "execution_count": 10,
   "metadata": {},
   "outputs": [
    {
     "data": {
      "text/plain": [
       "array([489, 435, 568, 350, 430, 211, 346, 405, 234, 156,  98, 484, 486,\n",
       "       290, 354, 655, 402, 153, 155, 271, 101, 381, 658, 348, 296, 267,\n",
       "       297, 514, 300,  95])"
      ]
     },
     "execution_count": 10,
     "metadata": {},
     "output_type": "execute_result"
    }
   ],
   "source": [
    "imp_f = np.argsort(mnist_tree.feature_importances_)[::-1][:30]\n",
    "imp_f"
   ]
  },
  {
   "cell_type": "code",
   "execution_count": 11,
   "metadata": {},
   "outputs": [
    {
     "data": {
      "text/plain": [
       "<matplotlib.image.AxesImage at 0x7f0da15b9eb8>"
      ]
     },
     "execution_count": 11,
     "metadata": {},
     "output_type": "execute_result"
    },
    {
     "data": {
      "image/png": "[encoded data removed]",
      "text/plain": [
       "<matplotlib.figure.Figure at 0x7f0da153fcc0>"
      ]
     },
     "metadata": {},
     "output_type": "display_data"
    }
   ],
   "source": [
    "features = np.zeros(shape=(28*28))\n",
    "features[imp_f] = 1\n",
    "plt.imshow(features.reshape(28,28),cmap='gray')"
   ]
  },
  {
   "cell_type": "markdown",
   "metadata": {},
   "source": [
    "## Spambase"
   ]
  },
  {
   "cell_type": "code",
   "execution_count": 3,
   "metadata": {},
   "outputs": [],
   "source": [
    "spam_data = np.loadtxt('../data/spam/spambase.data', delimiter=',')"
   ]
  },
  {
   "cell_type": "code",
   "execution_count": 4,
   "metadata": {},
   "outputs": [],
   "source": [
    "y = spam_data[:, -1]\n",
    "spam_data = spam_data[:, :-1]"
   ]
  },
  {
   "cell_type": "code",
   "execution_count": 7,
   "metadata": {},
   "outputs": [],
   "source": [
    "spam_lr = LogisticRegression(penalty='l2')"
   ]
  },
  {
   "cell_type": "code",
   "execution_count": 8,
   "metadata": {},
   "outputs": [
    {
     "name": "stdout",
     "output_type": "stream",
     "text": [
      "CPU times: user 92.9 ms, sys: 3.97 ms, total: 96.9 ms\n",
      "Wall time: 97.1 ms\n"
     ]
    },
    {
     "data": {
      "text/plain": [
       "LogisticRegression(C=1.0, class_weight=None, dual=False, fit_intercept=True,\n",
       "          intercept_scaling=1, max_iter=100, multi_class='ovr', n_jobs=1,\n",
       "          penalty='l2', random_state=None, solver='liblinear', tol=0.0001,\n",
       "          verbose=0, warm_start=False)"
      ]
     },
     "execution_count": 8,
     "metadata": {},
     "output_type": "execute_result"
    }
   ],
   "source": [
    "%%time\n",
    "spam_lr.fit(spam_data, y)"
   ]
  },
  {
   "cell_type": "code",
   "execution_count": 9,
   "metadata": {},
   "outputs": [],
   "source": [
    "yhat = spam_lr.predict(spam_data)"
   ]
  },
  {
   "cell_type": "code",
   "execution_count": 10,
   "metadata": {},
   "outputs": [
    {
     "data": {
      "text/plain": [
       "0.9315366224733753"
      ]
     },
     "execution_count": 10,
     "metadata": {},
     "output_type": "execute_result"
    }
   ],
   "source": [
    "sum(yhat == y)/len(y)"
   ]
  },
  {
   "cell_type": "code",
   "execution_count": 25,
   "metadata": {},
   "outputs": [
    {
     "data": {
      "text/plain": [
       "array([26, 41, 24, 47, 45, 40, 43, 28, 34, 48, 25, 46, 32, 42, 38, 44, 37,\n",
       "       30, 50, 29,  0, 39, 10,  1, 11, 49, 12, 33, 31, 36, 54, 56, 55, 18,\n",
       "        9, 17,  2, 13, 20, 21, 51, 27, 23,  4,  7,  8,  3,  5, 35, 16, 14,\n",
       "       19, 15, 53, 22,  6, 52])"
      ]
     },
     "execution_count": 25,
     "metadata": {},
     "output_type": "execute_result"
    }
   ],
   "source": [
    "np.argsort(spam_lr.coef_)[0]"
   ]
  },
  {
   "cell_type": "code",
   "execution_count": 33,
   "metadata": {},
   "outputs": [
    {
     "data": {
      "text/plain": [
       "array(['char_freq_$:            continuous.',\n",
       "       'word_freq_remove:       continuous.',\n",
       "       'word_freq_000:          continuous.',\n",
       "       'char_freq_#:            continuous.',\n",
       "       'word_freq_free:         continuous.',\n",
       "       'word_freq_credit:       continuous.',\n",
       "       'word_freq_addresses:    continuous.',\n",
       "       'word_freq_business:     continuous.',\n",
       "       'word_freq_technology:   continuous.',\n",
       "       'word_freq_over:         continuous.',\n",
       "       'word_freq_3d:           continuous.',\n",
       "       'word_freq_order:        continuous.',\n",
       "       'word_freq_internet:     continuous.',\n",
       "       'word_freq_our:          continuous.',\n",
       "       'word_freq_money:        continuous.',\n",
       "       'word_freq_650:          continuous.',\n",
       "       'char_freq_!:            continuous.',\n",
       "       'word_freq_font:         continuous.',\n",
       "       'word_freq_your:         continuous.',\n",
       "       'word_freq_report:       continuous.',\n",
       "       'word_freq_all:          continuous.',\n",
       "       'word_freq_email:        continuous.',\n",
       "       'word_freq_mail:         continuous.',\n",
       "       'word_freq_you:          continuous.',\n",
       "       'capital_run_length_longest: continuous.',\n",
       "       'capital_run_length_total:   continuous.',\n",
       "       'capital_run_length_average: continuous.',\n",
       "       'word_freq_1999:         continuous.',\n",
       "       'word_freq_857:          continuous.',\n",
       "       'word_freq_415:          continuous.'], dtype='<U39')"
      ]
     },
     "execution_count": 33,
     "metadata": {},
     "output_type": "execute_result"
    }
   ],
   "source": [
    "with open('../data/spam/idx.txt') as infile:\n",
    "    features = infile.read().splitlines()\n",
    "np.array(features)[np.argsort(spam_lr.coef_)[0]][::-1][:30]"
   ]
  },
  {
   "cell_type": "markdown",
   "metadata": {},
   "source": [
    "### 20NG"
   ]
  },
  {
   "cell_type": "code",
   "execution_count": 3,
   "metadata": {},
   "outputs": [],
   "source": [
    "from sklearn.datasets import fetch_20newsgroups\n",
    "from sklearn.feature_extraction.text import CountVectorizer"
   ]
  },
  {
   "cell_type": "code",
   "execution_count": 4,
   "metadata": {},
   "outputs": [],
   "source": [
    "news_train = fetch_20newsgroups(\n",
    "    data_home='../data/20newsgroups/', \n",
    "    subset='train')\n",
    "news_test = fetch_20newsgroups(\n",
    "    data_home='../data/20newsgroups/', \n",
    "    subset='test')"
   ]
  },
  {
   "cell_type": "code",
   "execution_count": 5,
   "metadata": {},
   "outputs": [],
   "source": [
    "vectorizer = CountVectorizer(binary=True, stop_words='english')\n",
    "counts_train = vectorizer.fit_transform(news_train.data)\n",
    "counts_test = vectorizer.transform(news_test.data)"
   ]
  },
  {
   "cell_type": "code",
   "execution_count": 6,
   "metadata": {},
   "outputs": [],
   "source": [
    "_20_lr = LogisticRegression(penalty='l2')"
   ]
  },
  {
   "cell_type": "code",
   "execution_count": 7,
   "metadata": {},
   "outputs": [
    {
     "name": "stdout",
     "output_type": "stream",
     "text": [
      "CPU times: user 31.5 s, sys: 1.27 s, total: 32.8 s\n",
      "Wall time: 16.6 s\n"
     ]
    },
    {
     "data": {
      "text/plain": [
       "LogisticRegression(C=1.0, class_weight=None, dual=False, fit_intercept=True,\n",
       "          intercept_scaling=1, max_iter=100, multi_class='ovr', n_jobs=1,\n",
       "          penalty='l2', random_state=None, solver='liblinear', tol=0.0001,\n",
       "          verbose=0, warm_start=False)"
      ]
     },
     "execution_count": 7,
     "metadata": {},
     "output_type": "execute_result"
    }
   ],
   "source": [
    "%%time\n",
    "_20_lr.fit(counts_train, news_train.target)"
   ]
  },
  {
   "cell_type": "code",
   "execution_count": 8,
   "metadata": {},
   "outputs": [],
   "source": [
    "yhat = _20_lr.predict(counts_test)"
   ]
  },
  {
   "cell_type": "code",
   "execution_count": 9,
   "metadata": {},
   "outputs": [
    {
     "data": {
      "text/plain": [
       "0.8203664365374402"
      ]
     },
     "execution_count": 9,
     "metadata": {},
     "output_type": "execute_result"
    }
   ],
   "source": [
    "sum(yhat == news_test.target)/len(news_test.target)"
   ]
  },
  {
   "cell_type": "code",
   "execution_count": 16,
   "metadata": {},
   "outputs": [],
   "source": [
    "coeffs = np.argsort(_20_lr.coef_, axis=1)[:,::-1][:,:30]"
   ]
  },
  {
   "cell_type": "code",
   "execution_count": 35,
   "metadata": {},
   "outputs": [
    {
     "name": "stdout",
     "output_type": "stream",
     "text": [
      "alt.atheism\t['atheists', 'atheism', 'islamic', 'keith', 'cco', 'umd', 'rushdie', 'bible', 'thoughts', 'religious', 'wingate', 'schneider', 'god', 'political', 'wwc', 'charley', 'allan', 'caltech', 'believing', 'psuvm', 'saturn', 'psu', 'bil', 'okcforum', 'osrhe', 'conner', 'mantis', 'religion', 'atheist', 'islam']\n",
      "\n",
      "comp.graphics\t['graphics', '3d', 'image', 'tiff', 'pov', 'rumours', '3do', 'images', 'animation', 'algorithm', 'format', 'gif', 'polygon', 'viewer', 'points', 'vesa', 'package', 'library', 'surface', 'fractals', 'useful', 'polygons', 'mpeg', 'xv', 'philosophical', 'algorithms', '24', 'sphere', 'routine', 'rgb']\n",
      "\n",
      "comp.os.ms-windows.misc\t['windows', 'win', 'cica', 'win3', 'microsoft', 'file', 'winqvt', 'download', 'characters', 'drivers', 'driver', 'ms', 'borland', 'manager', 'nt', 'printer', 'ini', 'bj200', 'canon', 'files', 'font', 'change', 'try', 'tw', 'helps', 'bmp', 'haapanen', 'problems', 'ftp', 'multiple']\n",
      "\n",
      "comp.sys.ibm.pc.hardware\t['gateway', 'motherboard', '486', 'ide', 'pc', 'monitor', 'pins', 'vlb', 'card', 'bus', 'os', 'bios', 'fastmicro', 'ibm', 'controller', 'port', 'clone', 'dos', 'drives', 'ab245', 'latonia', 'pentium', 'winmarks', 'connector', 'floppy', 'cmos', 'connect', 'eisa', 'vs', 'adaptec']\n",
      "\n",
      "comp.sys.mac.hardware\t['mac', 'apple', 'quadra', 'powerbook', 'centris', 'se', 'lc', 'duo', 'macs', 'iisi', 'lciii', 'modem', 'macintosh', 'comp', 'buy', 'monitor', 'pb', 'simms', 'difference', 'internal', 'c650', '610', 'simm', 'pds', '68040', 'upgrade', 'adb', 'ethernet', 'sys', 'scsi']\n",
      "\n",
      "comp.windows.x\t['motif', 'widget', 'window', 'server', 'x11r5', 'xterm', 'mit', 'lcs', 'expo', 'x11', 'r5', 'display', 'sun', 'application', 'xpert', 'client', 'xlib', 'clients', 'widgets', 'support', 'color', 'openwindows', 'enterpoop', 'set', 'source', 'consortium', 'tool', 'binaries', 'xserver', 'degrees']\n",
      "\n",
      "misc.forsale\t['sale', 'forsale', 'wanted', 'shipping', 'sell', 'offer', 'asking', 'distribution', 'interested', 'games', 'trade', 'price', 'ticket', 'pay', 'trip', 'business', 'summer', 'email', 'keyboard', 'chen', 'contact', 'purdue', 'working', 'offers', 'includes', 'modem', 'test', 'computer', 'manual', 'unit']\n",
      "\n",
      "rec.autos\t['car', 'cars', 'automotive', 'warning', 'toyota', 'ford', 'auto', 'dealer', 'autos', 'mazda', 'oil', 'air', 'honda', 'dumbest', 'wrat', 'wharfie', 'clas', 'rear', 'unisql', 'engine', 'corporate', 'dodge', 'matthew', 'vw', 'truck', 'models', 'rec', 'concepts', 'nissan', 'owners']\n",
      "\n",
      "rec.motorcycles\t['dod', 'bike', 'motorcycle', 'bikes', 'bmw', 'riding', 'ride', 'motorcycles', 'honda', 'kawasaki', 'rec', 'insurance', 'rider', 'moto', 'vax5', 'cit', 'helmet', 'yamaha', 'uk', 'moa', 'ama', 'cornell', 'harley', 'advice', 'feet', 'road', 'zx', 'court', 'na4', 'jonathan']\n",
      "\n",
      "rec.sport.baseball\t['baseball', 'phillies', 'runs', 'sox', 'cubs', 'stadium', 'tigers', 'nl', 'ball', 'pitching', 'yankee', 'pitcher', 'team', 'mailing', 'career', 'yankees', 'erickson', 'braves', 'year', 'scott', 'giants', 'mets', 'royals', 'game', 'jay', 'players', 'jays', 'jewish', 'dodgers', 'rockies']\n",
      "\n",
      "rec.sport.hockey\t['hockey', 'nhl', 'playoff', 'pens', 'team', 'detroit', 'wings', 'cup', 'playoffs', 'penguins', 'game', 'ice', 'devils', 'finals', 'season', 'bruins', 'players', 'play', 'toronto', 'coach', 'beat', 'pittsburgh', 'wc', 'flyers', 'isles', 'espn', 'buffalo', 'pool', 'islanders', 'probert']\n",
      "\n",
      "sci.crypt\t['clipper', 'encryption', 'key', 'tapped', 'chip', 'crypto', 'code', 'pgp', 'security', 'cryptography', 'keys', 'nsa', 'wiretap', 'des', 'secret', 'crypt', 'public', 'secure', 'rsa', 'eff', 'government', 'toal', 'gtoal', 'protect', 'encrypted', 'na', 'announcement', 'algorithm', 'escrow', 'technical']\n",
      "\n",
      "sci.electronics\t['circuit', 'electronics', 'motorola', 'radar', 'tv', 'ee', 'electrical', 'design', 'circuits', 'power', 'chips', 'scope', 'low', '8051', 'exploding', 'catalog', 'projects', 'line', 'detector', 'dial', 'project', 'voltage', 'rf', 'frequency', 'intel', 'build', 'trace', 'detectors', 'protected', 'hp']\n",
      "\n",
      "sci.med\t['doctor', 'disease', 'medical', 'health', 'pitt', 'treatment', 'med', 'cancer', 'sensitivity', 'superstition', 'krillean', 'msg', 'photography', 'effects', 'syndrome', 'information', 'geb', 'foods', 'banks', 'gordon', 'diet', 'medicine', 'food', 'pain', 'patient', 'happen', 'risk', 'medication', 'skin', 'physician']\n",
      "\n",
      "sci.space\t['space', 'orbit', 'moon', 'sci', 'nasa', 'prb', 'planets', 'launch', 'shuttle', 'pat', 'spacecraft', 'orbital', 'funding', 'aurora', 'rockets', 'sky', 'flight', 'digex', 'earth', 'dc', 'henry', 'aerospace', 'nsmca', 'solar', 'sunset', 'sunrise', 'vandalizing', 'zoo', 'cmu', 'lunar']\n",
      "\n",
      "soc.religion.christian\t['rutgers', 'clh', 'church', 'god', 'athos', 'christians', 'christ', 'geneva', 'christian', 'book', 'bible', 'jesus', 'petch', 'christianity', 'easter', 'chuck', 'catholic', 'gvg47', '1993', 'group', 'gvg', 'people', 'verse', 'pa', 'joe', 'heaven', 'prayers', 'jodfishe', 'fisher', 'apr']\n",
      "\n",
      "talk.politics.guns\t['gun', 'guns', 'waco', 'batf', 'firearms', 'atf', 'fbi', 'weapons', 'ranch', 'handgun', 'nra', 'dividian', 'weapon', 'firearm', 'liberty', 'survivors', 'burns', 'usa', 'control', 'handguns', 'post', 'clinton', 'colorado', 'cathy', 'federal', 'cnn', 'tx', 'amendment', 'government', 'jrm']\n",
      "\n",
      "talk.politics.mideast\t['israel', 'israeli', 'turkish', 'jews', 'armenia', 'armenian', 'serdar', 'hezbollah', 'soldiers', 'argic', 'jewish', 'mr', 'terrorism', 'arab', 'freeman', 'yigal', 'adl', 'utexas', 'american', 'expansion', 'policy', 'racism', 'holocaust', 'garfiel', 'greece', 'arabs', 'turkey', 'mcgill', 'freedom', 'danny']\n",
      "\n",
      "talk.politics.misc\t['clinton', 'gay', 'kaldis', 'tax', 'romulus', 'celebrate', 'f36si', 'party', 'clayton', 'theodore', 'concentrate', 'cunyvm', 'optilink', 'la', 'cramer', 'sexual', 'teel', 'bitnet', 'percentage', 'law', 'white', 'liberty', 'president', 'homosexuals', 'government', 'economic', 'address', 'horne', 'verdict', 'broward']\n",
      "\n",
      "talk.religion.misc\t['christian', 'morality', 'koresh', '2000', 'promise', 'weiss', 'biblical', 'beast', '666', 'order', 'mr', 'homosexuality', 'psyrobtw', 'religion', 'god', 'mormons', 'mitre', 'ch981', 'jmeritt', 'abortion', 'alicea', 'rosicrucian', 'utexas', 'frank', 'happened', 'fbi', 'cult', 'jr', 'parks', 'kent']\n",
      "\n"
     ]
    }
   ],
   "source": [
    "reverse_map = {v: k for k, v in vectorizer.vocabulary_.items()}\n",
    "for i, coeff in enumerate(coeffs):\n",
    "    features = [reverse_map[c] for c in coeff]\n",
    "    tag = news_train.target_names[i]\n",
    "    print('{0}\\t{1}\\n'.format(tag, features))"
   ]
  },
  {
   "cell_type": "code",
   "execution_count": null,
   "metadata": {},
   "outputs": [],
   "source": []
  }
 ],
 "metadata": {
  "kernelspec": {
   "display_name": "Python 3",
   "language": "python",
   "name": "python3"
  },
  "language_info": {
   "codemirror_mode": {
    "name": "ipython",
    "version": 3
   },
   "file_extension": ".py",
   "mimetype": "text/x-python",
   "name": "python",
   "nbconvert_exporter": "python",
   "pygments_lexer": "ipython3",
   "version": "3.6.4"
  }
 },
 "nbformat": 4,
 "nbformat_minor": 2
}
