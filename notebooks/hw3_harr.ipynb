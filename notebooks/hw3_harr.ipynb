{
 "cells": [
  {
   "cell_type": "code",
   "execution_count": 1,
   "metadata": {},
   "outputs": [],
   "source": [
    "import numpy as np\n",
    "from mnist import MNIST\n",
    "from sklearn.linear_model import LogisticRegression"
   ]
  },
  {
   "cell_type": "code",
   "execution_count": 2,
   "metadata": {},
   "outputs": [],
   "source": [
    "mnist_loader = MNIST(\"../data/mnist/\")\n",
    "mnist_loader.gz = True"
   ]
  },
  {
   "cell_type": "code",
   "execution_count": 3,
   "metadata": {},
   "outputs": [],
   "source": [
    "X, y = mnist_loader.load_training()\n",
    "_X, _y = mnist_loader.load_testing()"
   ]
  },
  {
   "cell_type": "code",
   "execution_count": 4,
   "metadata": {},
   "outputs": [],
   "source": [
    "X = np.array(X, dtype='float32') / 255\n",
    "y = np.array(y, dtype='int16')\n",
    "_X = np.array(_X, dtype='float32') / 255\n",
    "_y = np.array(_y, dtype='int16')"
   ]
  },
  {
   "cell_type": "code",
   "execution_count": 5,
   "metadata": {},
   "outputs": [],
   "source": [
    "def compute_black(X, print_iterval):\n",
    "    \n",
    "    # init\n",
    "    black = []\n",
    "    \n",
    "    for idx in range(X.shape[0]):\n",
    "        \n",
    "        # init\n",
    "        b = np.empty((28,28))\n",
    "        \n",
    "        # print stat\n",
    "        if idx % print_iterval == 0:\n",
    "            print('done', idx)\n",
    "            \n",
    "        # reshape image\n",
    "        x = X[idx].reshape((28,28))\n",
    "        \n",
    "        b[0, 0] = 1 if x[0, 0] == 0 else 0\n",
    "        \n",
    "        # base case\n",
    "        for i in range(1, 28):\n",
    "            t = b[0, i - 1]\n",
    "            b[0, i] = t + 1 if x[0, i] == 0 else t\n",
    "            \n",
    "        # recursive\n",
    "        for i in range(1, 28):\n",
    "            for j in range(28):\n",
    "                if j == 0:\n",
    "                    t = b[i - 1, j]\n",
    "                    b[i, j] = t + 1 if x[i, j] == 0 else t\n",
    "                else:\n",
    "                    t = b[i - 1, j] + b[i, j - 1] - b[i - 1, j - 1]\n",
    "                    b[i, j] = t + 1 if x[i, j] == 0 else t\n",
    "                    \n",
    "        black.append(b)\n",
    "        \n",
    "    return np.array(black, dtype='int')"
   ]
  },
  {
   "cell_type": "code",
   "execution_count": 6,
   "metadata": {},
   "outputs": [
    {
     "name": "stdout",
     "output_type": "stream",
     "text": [
      "done 0\n",
      "done 10000\n",
      "done 20000\n",
      "done 30000\n",
      "done 40000\n",
      "done 50000\n",
      "CPU times: user 2min 8s, sys: 526 ms, total: 2min 8s\n",
      "Wall time: 2min 9s\n"
     ]
    }
   ],
   "source": [
    "%%time\n",
    "X_black = compute_black(X, 10000)"
   ]
  },
  {
   "cell_type": "code",
   "execution_count": 7,
   "metadata": {},
   "outputs": [],
   "source": [
    "k = 100\n",
    "np.random.seed(666)\n",
    "rect = []\n",
    "\n",
    "while len(rect) != k:\n",
    "    \n",
    "    # randomly pick top left point, length, and breadth\n",
    "    tl = np.random.randint(low=5, high=23, size=2)\n",
    "    b = np.random.randint(low=5, high=28 - tl[1])\n",
    "    l = np.random.randint(low=5, high=28 - tl[0])\n",
    "    if b * l < 130 or b * l >170:\n",
    "        continue\n",
    "    \n",
    "    # other corners\n",
    "    tr = np.array([tl[0] + l, tl[1]])\n",
    "    bl = np.array([tl[0], tl[1] + b])\n",
    "    br = np.array([tl[0] + l, tl[1] + b])\n",
    "    \n",
    "    # mid points\n",
    "    vt = np.array([tl[0] + l//2, tl[1]])\n",
    "    vb = np.array([tl[0] + l//2, bl[1]])\n",
    "    hl = np.array([tl[0], tl[1] + b//2])\n",
    "    hr = np.array([tr[0], tr[1] + b//2])\n",
    "\n",
    "    rect.append([tl, tr, bl, br, vt, vb, hl, hr])"
   ]
  },
  {
   "cell_type": "code",
   "execution_count": 8,
   "metadata": {},
   "outputs": [],
   "source": [
    "def HARR(X, b, print_interval):\n",
    "    _X = np.empty((X.shape[0], 200), dtype='int16')\n",
    "    for i in range(X.shape[0]):\n",
    "        \n",
    "        # debug info\n",
    "        if i % print_interval == 0:\n",
    "            print('done', i)\n",
    "        \n",
    "        # extract image\n",
    "        img = b[i]\n",
    "        \n",
    "        # compute features\n",
    "        for j in range(k):\n",
    "            tl, tr, bl, br, vt, vb, hl, hr = rect[j]\n",
    "            \n",
    "            top = img[hr[0], hr[1]] - img[hl[0], hl[1]] - img[tr[0], tr[1]] + img[tl[0], tl[1]]\n",
    "            bottom = img[br[0], br[1]] - img[bl[0], bl[1]] - img[hr[0], hr[1]] + img[hl[0], hl[1]]\n",
    "            v_score = top - bottom\n",
    "            \n",
    "            left = img[vb[0], vb[1]] - img[bl[0], bl[1]] - img[vt[0], vt[1]] + img[tl[0], tl[1]]\n",
    "            right = img[br[0], br[1]] - img[vb[0], vb[1]] - img[tr[0], tr[1]] + img[vt[0], vt[1]]\n",
    "            h_score = left - right\n",
    "\n",
    "            _X[i][j*2] = v_score\n",
    "            _X[i][(j*2)+1] = h_score\n",
    "\n",
    "    return _X"
   ]
  },
  {
   "cell_type": "code",
   "execution_count": 9,
   "metadata": {},
   "outputs": [
    {
     "name": "stdout",
     "output_type": "stream",
     "text": [
      "done 0\n",
      "done 10000\n",
      "done 20000\n",
      "done 30000\n",
      "done 40000\n",
      "done 50000\n",
      "CPU times: user 44 s, sys: 964 µs, total: 44 s\n",
      "Wall time: 44.1 s\n"
     ]
    }
   ],
   "source": [
    "%%time\n",
    "harr_X = HARR(X, X_black, 10000)"
   ]
  },
  {
   "cell_type": "code",
   "execution_count": 11,
   "metadata": {},
   "outputs": [],
   "source": [
    "mnist_lr = LogisticRegression(n_jobs=-1)"
   ]
  },
  {
   "cell_type": "code",
   "execution_count": 12,
   "metadata": {},
   "outputs": [
    {
     "name": "stderr",
     "output_type": "stream",
     "text": [
      "/home/cyclops/workspace/anaconda3/lib/python3.6/site-packages/sklearn/linear_model/logistic.py:1228: UserWarning: 'n_jobs' > 1 does not have any effect when 'solver' is set to 'liblinear'. Got 'n_jobs' = -1.\n",
      "  \" = {}.\".format(self.n_jobs))\n"
     ]
    },
    {
     "name": "stdout",
     "output_type": "stream",
     "text": [
      "CPU times: user 7min 51s, sys: 64.8 ms, total: 7min 51s\n",
      "Wall time: 7min 55s\n"
     ]
    },
    {
     "data": {
      "text/plain": [
       "LogisticRegression(C=1.0, class_weight=None, dual=False, fit_intercept=True,\n",
       "          intercept_scaling=1, max_iter=100, multi_class='ovr', n_jobs=-1,\n",
       "          penalty='l2', random_state=None, solver='liblinear', tol=0.0001,\n",
       "          verbose=0, warm_start=False)"
      ]
     },
     "execution_count": 12,
     "metadata": {},
     "output_type": "execute_result"
    }
   ],
   "source": [
    "%%time\n",
    "mnist_lr.fit(harr_X, y)"
   ]
  },
  {
   "cell_type": "code",
   "execution_count": 13,
   "metadata": {},
   "outputs": [
    {
     "name": "stdout",
     "output_type": "stream",
     "text": [
      "Train acc: 0.9107166666666666\n"
     ]
    }
   ],
   "source": [
    "yhat = mnist_lr.predict(harr_X)\n",
    "print('Train acc:', sum(yhat == y)/len(y))"
   ]
  },
  {
   "cell_type": "code",
   "execution_count": 15,
   "metadata": {},
   "outputs": [
    {
     "name": "stdout",
     "output_type": "stream",
     "text": [
      "done 0\n",
      "done 1000\n",
      "done 2000\n",
      "done 3000\n",
      "done 4000\n",
      "done 5000\n",
      "done 6000\n",
      "done 7000\n",
      "done 8000\n",
      "done 9000\n"
     ]
    }
   ],
   "source": [
    "_X_black = compute_black(_X, 1000)"
   ]
  },
  {
   "cell_type": "code",
   "execution_count": 16,
   "metadata": {},
   "outputs": [
    {
     "name": "stdout",
     "output_type": "stream",
     "text": [
      "done 0\n",
      "done 1000\n",
      "done 2000\n",
      "done 3000\n",
      "done 4000\n",
      "done 5000\n",
      "done 6000\n",
      "done 7000\n",
      "done 8000\n",
      "done 9000\n"
     ]
    }
   ],
   "source": [
    "_harr_X = HARR(_X, _X_black, 1000)"
   ]
  },
  {
   "cell_type": "code",
   "execution_count": 18,
   "metadata": {},
   "outputs": [
    {
     "name": "stdout",
     "output_type": "stream",
     "text": [
      "Test acc: 0.9133\n"
     ]
    }
   ],
   "source": [
    "_yhat = mnist_lr.predict(_harr_X)\n",
    "print('Test acc:', sum(_yhat == _y)/len(_y))"
   ]
  }
 ],
 "metadata": {
  "kernelspec": {
   "display_name": "Python 3",
   "language": "python",
   "name": "python3"
  },
  "language_info": {
   "codemirror_mode": {
    "name": "ipython",
    "version": 3
   },
   "file_extension": ".py",
   "mimetype": "text/x-python",
   "name": "python",
   "nbconvert_exporter": "python",
   "pygments_lexer": "ipython3",
   "version": "3.6.4"
  }
 },
 "nbformat": 4,
 "nbformat_minor": 2
}
