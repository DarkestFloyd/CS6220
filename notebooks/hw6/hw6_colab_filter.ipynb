{
 "cells": [
  {
   "cell_type": "code",
   "execution_count": 31,
   "metadata": {},
   "outputs": [],
   "source": [
    "import pandas as pd\n",
    "import numpy as np\n",
    "from tqdm import tqdm\n",
    "from collections import Counter\n",
    "\n",
    "from sklearn.metrics import mean_squared_error"
   ]
  },
  {
   "cell_type": "markdown",
   "metadata": {},
   "source": [
    "## Train"
   ]
  },
  {
   "cell_type": "code",
   "execution_count": 2,
   "metadata": {},
   "outputs": [],
   "source": [
    "data = np.loadtxt('../data/ml-100k/u.data', delimiter='\\t', dtype='int64')"
   ]
  },
  {
   "cell_type": "code",
   "execution_count": 3,
   "metadata": {},
   "outputs": [],
   "source": [
    "u_movie_counts = Counter(data[:,0])\n",
    "mov = Counter(data[:,1])\n",
    "n_users = len(u_movie_counts)\n",
    "n_movies = len(mov)"
   ]
  },
  {
   "cell_type": "code",
   "execution_count": 10,
   "metadata": {},
   "outputs": [],
   "source": [
    "# find mean and variance for each user\n",
    "u_mean = {}\n",
    "u_sigma = {}\n",
    "for u in u_movie_counts.keys():\n",
    "    u_ratings = data[np.where(data[:,0]==u)[0],2]\n",
    "    u_mean[u] = np.sum(u_ratings)/u_movie_counts[u]\n",
    "    u_sigma[u] = (np.sum(np.square(u_ratings))/u_movie_counts[u]) - np.square(u_mean[u])"
   ]
  },
  {
   "cell_type": "code",
   "execution_count": 14,
   "metadata": {},
   "outputs": [],
   "source": [
    "# normalize rating for each user, based on his mu and sigma\n",
    "norm_rating = {}\n",
    "for i, r in  enumerate(data[:,2]):\n",
    "    norm_rating[i] = (r - u_mean[u]) / u_sigma[u]"
   ]
  },
  {
   "cell_type": "code",
   "execution_count": 15,
   "metadata": {},
   "outputs": [],
   "source": [
    "# user-movie rating matrix (n_user, n_movies)\n",
    "user_rating = np.zeros((n_users, n_movies))\n",
    "for idx in range(data.shape[0]):\n",
    "    u = data[idx,0]-1\n",
    "    m = data[idx,1]-1\n",
    "    user_rating[u][m] = norm_rating[idx]"
   ]
  },
  {
   "cell_type": "code",
   "execution_count": 21,
   "metadata": {},
   "outputs": [
    {
     "name": "stderr",
     "output_type": "stream",
     "text": [
      "100%|██████████| 943/943 [00:19<00:00, 48.39it/s]\n"
     ]
    }
   ],
   "source": [
    "# similarity (pearsons)\n",
    "sim = np.zeros((n_users,n_users))\n",
    "for u1 in tqdm(range(n_users)):\n",
    "    for u2 in range(n_users):\n",
    "        r_ = np.sum(user_rating[u1]) * np.sum(user_rating[u2])\n",
    "        movie_count = np.count_nonzero(user_rating[u1] * user_rating[u2])\n",
    "        if movie_count != 0:\n",
    "            sim[u1][u2] = r_/movie_count"
   ]
  },
  {
   "cell_type": "markdown",
   "metadata": {},
   "source": [
    "## Test"
   ]
  },
  {
   "cell_type": "code",
   "execution_count": 24,
   "metadata": {},
   "outputs": [],
   "source": [
    "test_data = np.loadtxt('../data/ml-100k/u1.test', delimiter='\\t', dtype='int64')\n",
    "# sample 100 from test\n",
    "sample_data = np.random.randint(0, test_data.shape[0], 100)"
   ]
  },
  {
   "cell_type": "code",
   "execution_count": 25,
   "metadata": {},
   "outputs": [],
   "source": [
    "def predict():\n",
    "    pred = {}\n",
    "    for idx in sample_data:\n",
    "        rating_ = []\n",
    "        user = test_data[idx,0]\n",
    "        movie = test_data[idx,1]\n",
    "        neigh = sim[user].argsort()[::-1]\n",
    "        index = [np.where((data[:,0] == u) & (data[:,1] == movie))[0] for u in neigh]\n",
    "        for j in index:\n",
    "            if j != None:\n",
    "                i = j[0]\n",
    "                rating_.append(norm_rating[i] * sim[user][data[i][0]])\n",
    "        pred[idx] = u_mean[user] + ((np.sum(rating_) / np.sum(np.abs(sim[user][neigh]))) * u_sigma[user])\n",
    "    return pred"
   ]
  },
  {
   "cell_type": "code",
   "execution_count": 26,
   "metadata": {},
   "outputs": [],
   "source": [
    "y_true = test_data[sample_data,2].astype('float')"
   ]
  },
  {
   "cell_type": "code",
   "execution_count": 28,
   "metadata": {},
   "outputs": [
    {
     "name": "stderr",
     "output_type": "stream",
     "text": [
      "/home/cyclops/anaconda3/lib/python3.6/site-packages/ipykernel_launcher.py:10: DeprecationWarning: The truth value of an empty array is ambiguous. Returning False, but in future this will result in an error. Use `array.size > 0` to check that an array is not empty.\n",
      "  # Remove the CWD from sys.path while we load stuff.\n"
     ]
    }
   ],
   "source": [
    "y_pred = predict()"
   ]
  },
  {
   "cell_type": "code",
   "execution_count": 34,
   "metadata": {},
   "outputs": [
    {
     "data": {
      "text/plain": [
       "0.9628536371840544"
      ]
     },
     "execution_count": 34,
     "metadata": {},
     "output_type": "execute_result"
    }
   ],
   "source": [
    "error = mean_squared_error(y_true, list(y_pred.values()))\n",
    "error"
   ]
  }
 ],
 "metadata": {
  "kernelspec": {
   "display_name": "Python 3",
   "language": "python",
   "name": "python3"
  },
  "language_info": {
   "codemirror_mode": {
    "name": "ipython",
    "version": 3
   },
   "file_extension": ".py",
   "mimetype": "text/x-python",
   "name": "python",
   "nbconvert_exporter": "python",
   "pygments_lexer": "ipython3",
   "version": "3.6.5"
  }
 },
 "nbformat": 4,
 "nbformat_minor": 2
}
