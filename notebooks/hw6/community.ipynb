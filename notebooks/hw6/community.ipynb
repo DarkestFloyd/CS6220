{
 "cells": [
  {
   "cell_type": "code",
   "execution_count": 1,
   "metadata": {},
   "outputs": [],
   "source": [
    "import numpy as np"
   ]
  },
  {
   "cell_type": "code",
   "execution_count": 19,
   "metadata": {},
   "outputs": [],
   "source": [
    "edges = np.genfromtxt('../data/flikr/edges_sampled_2K.csv', delimiter=',', dtype='int64')"
   ]
  },
  {
   "cell_type": "code",
   "execution_count": 23,
   "metadata": {},
   "outputs": [],
   "source": [
    "mapper = {n: idx for idx, n in enumerate(np.unique(edges.reshape(-1,)))}\n",
    "reverse_mapper = {v: k for k, v in mapper.items()}"
   ]
  },
  {
   "cell_type": "code",
   "execution_count": 37,
   "metadata": {},
   "outputs": [],
   "source": [
    "normalized_edges = np.empty_like(edges)\n",
    "for idx, edge in enumerate(edges):\n",
    "    normalized_edges[idx] = [mapper[edge[0]], mapper[edge[1]]]"
   ]
  },
  {
   "cell_type": "code",
   "execution_count": 38,
   "metadata": {},
   "outputs": [
    {
     "data": {
      "text/plain": [
       "array([[111, 134],\n",
       "       [111, 125],\n",
       "       [111, 116],\n",
       "       ...,\n",
       "       [ 92, 134],\n",
       "       [ 92, 109],\n",
       "       [ 92, 159]])"
      ]
     },
     "execution_count": 38,
     "metadata": {},
     "output_type": "execute_result"
    }
   ],
   "source": [
    "normalized_edges"
   ]
  },
  {
   "cell_type": "markdown",
   "metadata": {},
   "source": [
    "## Helpers\n",
    "\n",
    "Taken from https://github.com/networkx/networkx/blob/master/networkx/algorithms/centrality/betweenness.py"
   ]
  },
  {
   "cell_type": "code",
   "execution_count": 61,
   "metadata": {},
   "outputs": [],
   "source": [
    "def shortest_path(G, s):\n",
    "    S = []\n",
    "    P = {}\n",
    "    for v in G:\n",
    "        P[v] = []\n",
    "    sigma = dict.fromkeys(G, 0.0)    # sigma[v]=0 for v in G\n",
    "    D = {}\n",
    "    sigma[s] = 1.0\n",
    "    D[s] = 0\n",
    "    Q = [s]\n",
    "    while Q:   # use BFS to find shortest paths\n",
    "        v = Q.pop(0)\n",
    "        S.append(v)\n",
    "        Dv = D[v]\n",
    "        sigmav = sigma[v]\n",
    "        for w in G[v]:\n",
    "            if w not in D:\n",
    "                Q.append(w)\n",
    "                D[w] = Dv + 1\n",
    "            if D[w] == Dv + 1:   # this is a shortest path, count paths\n",
    "                sigma[w] += sigmav\n",
    "                P[w].append(v)  # predecessors\n",
    "    return S, P, sigma\n",
    "\n",
    "def accumulate(betweenness, S, P, sigma, s):\n",
    "    delta = dict.fromkeys(S, 0)\n",
    "    while S:\n",
    "        w = S.pop()\n",
    "        coeff = (1.0 + delta[w]) / sigma[w]\n",
    "        for v in P[w]:\n",
    "            delta[v] += sigma[v] * coeff\n",
    "        if w != s:\n",
    "            betweenness[w] += delta[w]\n",
    "    return betweenness\n",
    "\n",
    "def rescale(betweenness, n, normalized, directed=False, k=None):\n",
    "    if normalized:\n",
    "        if n <= 2:\n",
    "            scale = None  # no normalization b=0 for all nodes\n",
    "        else:\n",
    "            scale = 1.0 / ((n - 1) * (n - 2))\n",
    "    else:  # rescale by 2 for undirected graphs\n",
    "        if not directed:\n",
    "            scale = 0.5\n",
    "        else:\n",
    "            scale = None\n",
    "    if scale is not None:\n",
    "        if k is not None:\n",
    "            scale = scale * n / k\n",
    "        for v in betweenness:\n",
    "            betweenness[v] *= scale\n",
    "    return betweenness"
   ]
  },
  {
   "cell_type": "code",
   "execution_count": 66,
   "metadata": {},
   "outputs": [],
   "source": [
    "def betweeness(G):\n",
    "    betweenness = dict.fromkeys(G, 0.0)\n",
    "    \n",
    "    for s in G.nodes():\n",
    "        S, P, sigma = shortest_path(G, s)\n",
    "\n",
    "        betweenness = accumulate(betweenness, S, P, sigma, s)\n",
    "    \n",
    "    betweenness = rescale(betweenness, len(G), normalized=True,\n",
    "                           directed=G.is_directed(), k=None)\n",
    "    \n",
    "    return betweenness"
   ]
  },
  {
   "cell_type": "code",
   "execution_count": 42,
   "metadata": {},
   "outputs": [],
   "source": [
    "import networkx as nx"
   ]
  },
  {
   "cell_type": "code",
   "execution_count": 52,
   "metadata": {},
   "outputs": [],
   "source": [
    "G = nx.Graph()"
   ]
  },
  {
   "cell_type": "code",
   "execution_count": 55,
   "metadata": {},
   "outputs": [],
   "source": [
    "G.add_edges_from(normalized_edges)"
   ]
  },
  {
   "cell_type": "code",
   "execution_count": 68,
   "metadata": {},
   "outputs": [
    {
     "data": {
      "text/plain": [
       "True"
      ]
     },
     "execution_count": 68,
     "metadata": {},
     "output_type": "execute_result"
    }
   ],
   "source": [
    "betweeness(G) == nx.betweenness_centrality(G)"
   ]
  },
  {
   "cell_type": "code",
   "execution_count": null,
   "metadata": {},
   "outputs": [],
   "source": []
  }
 ],
 "metadata": {
  "kernelspec": {
   "display_name": "Python 3",
   "language": "python",
   "name": "python3"
  },
  "language_info": {
   "codemirror_mode": {
    "name": "ipython",
    "version": 3
   },
   "file_extension": ".py",
   "mimetype": "text/x-python",
   "name": "python",
   "nbconvert_exporter": "python",
   "pygments_lexer": "ipython3",
   "version": "3.6.5"
  }
 },
 "nbformat": 4,
 "nbformat_minor": 2
}
