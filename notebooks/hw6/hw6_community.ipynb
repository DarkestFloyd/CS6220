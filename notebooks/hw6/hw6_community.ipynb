{
 "cells": [
  {
   "cell_type": "code",
   "execution_count": 1,
   "metadata": {},
   "outputs": [],
   "source": [
    "import numpy as np\n",
    "import networkx as nx"
   ]
  },
  {
   "cell_type": "code",
   "execution_count": 2,
   "metadata": {},
   "outputs": [],
   "source": [
    "edges = np.genfromtxt('../data/flikr/edges_sampled_map_2K.csv', delimiter=',', dtype='int64')"
   ]
  },
  {
   "cell_type": "code",
   "execution_count": 3,
   "metadata": {},
   "outputs": [],
   "source": [
    "truth = np.genfromtxt('../data/flikr/community_membership_2K.csv', delimiter=',', dtype='int')\n",
    "truth = [t[1] for t in truth]"
   ]
  },
  {
   "cell_type": "markdown",
   "metadata": {},
   "source": [
    "## Helpers\n",
    "\n",
    "Taken from https://github.com/networkx/networkx"
   ]
  },
  {
   "cell_type": "code",
   "execution_count": 4,
   "metadata": {},
   "outputs": [],
   "source": [
    "def shortest_path(G, s):\n",
    "    S = []\n",
    "    P = {}\n",
    "    for v in G:\n",
    "        P[v] = []\n",
    "    sigma = dict.fromkeys(G, 0.0)    # sigma[v]=0 for v in G\n",
    "    D = {}\n",
    "    sigma[s] = 1.0\n",
    "    D[s] = 0\n",
    "    Q = [s]\n",
    "    while Q:   # use BFS to find shortest paths\n",
    "        v = Q.pop(0)\n",
    "        S.append(v)\n",
    "        Dv = D[v]\n",
    "        sigmav = sigma[v]\n",
    "        for w in G[v]:\n",
    "            if w not in D:\n",
    "                Q.append(w)\n",
    "                D[w] = Dv + 1\n",
    "            if D[w] == Dv + 1:   # this is a shortest path, count paths\n",
    "                sigma[w] += sigmav\n",
    "                P[w].append(v)  # predecessors\n",
    "    return S, P, sigma\n",
    "\n",
    "def accumulate(betweenness, S, P, sigma, s):\n",
    "    delta = dict.fromkeys(S, 0)\n",
    "    while S:\n",
    "        w = S.pop()\n",
    "        coeff = (1.0 + delta[w]) / sigma[w]\n",
    "        for v in P[w]:\n",
    "            c = sigma[v] * coeff\n",
    "            if (v, w) not in betweenness:\n",
    "                betweenness[(w, v)] += c\n",
    "            else:\n",
    "                betweenness[(v, w)] += c\n",
    "            delta[v] += c\n",
    "        if w != s:\n",
    "            betweenness[w] += delta[w]\n",
    "    return betweenness\n",
    "\n",
    "def rescale(betweenness, n):\n",
    "    if n <= 1:\n",
    "        scale = None  # no normalization b=0 for all nodes\n",
    "    else:\n",
    "        scale = 1.0 / (n * (n - 1))\n",
    "    if scale is not None:\n",
    "        for v in betweenness:\n",
    "            betweenness[v] *= scale\n",
    "    return betweenness"
   ]
  },
  {
   "cell_type": "code",
   "execution_count": 5,
   "metadata": {},
   "outputs": [],
   "source": [
    "def betweeness(G):\n",
    "    betweenness = dict.fromkeys(G, 0.0)  # b[v]=0 for v in G\n",
    "    # b[e]=0 for e in G.edges()\n",
    "    betweenness.update(dict.fromkeys(G.edges(), 0.0))\n",
    "    nodes = G\n",
    "    \n",
    "    for s in nodes:\n",
    "        # single source shortest paths use BFS\n",
    "        S, P, sigma = shortest_path(G, s)\n",
    "        # accumulation\n",
    "        betweenness = accumulate(betweenness, S, P, sigma, s)\n",
    "    # rescaling\n",
    "    for n in G:  # remove nodes to only return edges\n",
    "        del betweenness[n]\n",
    "    betweenness = rescale(betweenness, len(G))\n",
    "    return betweenness"
   ]
  },
  {
   "cell_type": "code",
   "execution_count": 65,
   "metadata": {},
   "outputs": [],
   "source": [
    "def modularity(G, c, use_c=True):    \n",
    "    B = nx.modularity_matrix(G)\n",
    "    \n",
    "    if not use_c:\n",
    "        c = {}\n",
    "        for i, x in enumerate(sorted(nx.connected_components(G), key = len, reverse=True)):\n",
    "            for n in x:\n",
    "                c[n] = i\n",
    "    \n",
    "    _sum = 0\n",
    "    n = len(G)\n",
    "    m = G.number_of_edges()\n",
    "    for i in range(n):\n",
    "        for j in range(n):\n",
    "            d = 1 if c[i] == c[j] else 0\n",
    "            _sum += d * B.item((i, j))\n",
    "            \n",
    "    return _sum / (2 * m)"
   ]
  },
  {
   "cell_type": "code",
   "execution_count": 66,
   "metadata": {},
   "outputs": [],
   "source": [
    "def GN(G):\n",
    "    modularities = []\n",
    "    communities = []\n",
    "    _iter = 0\n",
    "    \n",
    "    while G.number_of_edges() > 0:\n",
    "        _iter += 1\n",
    "        \n",
    "        comp = nx.number_connected_components(G)\n",
    "        n_comp = comp\n",
    "        \n",
    "        while n_comp <= comp:\n",
    "            _betweeness = betweeness(G)\n",
    "            e = max(_betweeness, key=_betweeness.get)\n",
    "            G.remove_edge(*e)\n",
    "            n_comp = nx.number_connected_components(G)\n",
    "        \n",
    "        if G.number_of_edges() > 1:\n",
    "            m = modularity(G, truth, use_c=False)\n",
    "            modularities.append(m)\n",
    "            c = nx.number_connected_components(G)\n",
    "            communities.append(c)\n",
    "        \n",
    "        if _iter % 100 == 0:\n",
    "            print(\"Iter %d: Modularity %f, Communities %d\" % (_iter, m, c))\n",
    "            \n",
    "    return modularities, communities"
   ]
  },
  {
   "cell_type": "code",
   "execution_count": 71,
   "metadata": {},
   "outputs": [],
   "source": [
    "G = nx.Graph()\n",
    "G.add_edges_from(edges)"
   ]
  },
  {
   "cell_type": "code",
   "execution_count": 72,
   "metadata": {},
   "outputs": [
    {
     "name": "stdout",
     "output_type": "stream",
     "text": [
      "Iter 100: Modularity 0.428166, Communities 105\n",
      "Iter 200: Modularity 0.508145, Communities 205\n",
      "Iter 300: Modularity 0.816609, Communities 305\n",
      "CPU times: user 4min 20s, sys: 104 ms, total: 4min 20s\n",
      "Wall time: 4min 22s\n"
     ]
    }
   ],
   "source": [
    "%%time\n",
    "# G = nx.path_graph(10)\n",
    "mods, coms = GN(G)"
   ]
  },
  {
   "cell_type": "code",
   "execution_count": 73,
   "metadata": {},
   "outputs": [],
   "source": [
    "import matplotlib.pyplot as plt\n",
    "%matplotlib inline"
   ]
  },
  {
   "cell_type": "code",
   "execution_count": 74,
   "metadata": {},
   "outputs": [
    {
     "data": {
      "text/plain": [
       "[<matplotlib.lines.Line2D at 0x7f2d20eea048>]"
      ]
     },
     "execution_count": 74,
     "metadata": {},
     "output_type": "execute_result"
    },
    {
     "data": {
      "image/png": "[encoded data removed]",
      "text/plain": [
       "<Figure size 432x288 with 1 Axes>"
      ]
     },
     "metadata": {},
     "output_type": "display_data"
    }
   ],
   "source": [
    "plt.plot(coms, mods)"
   ]
  },
  {
   "cell_type": "code",
   "execution_count": null,
   "metadata": {},
   "outputs": [],
   "source": []
  }
 ],
 "metadata": {
  "kernelspec": {
   "display_name": "Python 3",
   "language": "python",
   "name": "python3"
  },
  "language_info": {
   "codemirror_mode": {
    "name": "ipython",
    "version": 3
   },
   "file_extension": ".py",
   "mimetype": "text/x-python",
   "name": "python",
   "nbconvert_exporter": "python",
   "pygments_lexer": "ipython3",
   "version": "3.6.5"
  }
 },
 "nbformat": 4,
 "nbformat_minor": 2
}
