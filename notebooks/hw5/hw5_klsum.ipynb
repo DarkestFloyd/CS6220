{
 "cells": [
  {
   "cell_type": "code",
   "execution_count": 131,
   "metadata": {},
   "outputs": [],
   "source": [
    "from collections import Counter\n",
    "import re\n",
    "\n",
    "import numpy as np\n",
    "from nltk.tokenize import sent_tokenize\n",
    "from scipy.stats import entropy as kl_div\n",
    "from math import log\n"
   ]
  },
  {
   "cell_type": "code",
   "execution_count": 2,
   "metadata": {},
   "outputs": [],
   "source": [
    "data_path = '../../data/DUC/'\n",
    "docs = {}"
   ]
  },
  {
   "cell_type": "code",
   "execution_count": 3,
   "metadata": {},
   "outputs": [],
   "source": [
    "def get_docs(path):\n",
    "    import os\n",
    "    from bs4 import BeautifulSoup\n",
    "    ret_dict = {}\n",
    "    files = os.listdir(path)\n",
    "    for file in files:\n",
    "        file = path + file\n",
    "        if os.path.isdir(file) or '.txt' in file:\n",
    "            continue\n",
    "        with open(path + file) as infile:\n",
    "            soup = BeautifulSoup(infile, 'html.parser')\n",
    "            ret_dict[soup.docno.text.strip()] = soup.find('text').text.strip()\n",
    "    return ret_dict"
   ]
  },
  {
   "cell_type": "code",
   "execution_count": 4,
   "metadata": {},
   "outputs": [],
   "source": [
    "docs = get_docs(data_path)"
   ]
  },
  {
   "cell_type": "code",
   "execution_count": 5,
   "metadata": {},
   "outputs": [],
   "source": [
    "duc_data = [v for k, v in docs.items()]"
   ]
  },
  {
   "cell_type": "code",
   "execution_count": 223,
   "metadata": {},
   "outputs": [],
   "source": [
    "regex = re.compile(r\"(\\W)\")\n",
    "wc = lambda text: Counter([t for t in re.split(r\"(\\W)\", text) if t and t != ' ' and t != '\\n'])\n",
    "pd = lambda wc: {k: v/sum(wc.values()) for k, v in wc.items()}"
   ]
  },
  {
   "cell_type": "code",
   "execution_count": 241,
   "metadata": {},
   "outputs": [],
   "source": [
    "def klsum(document, summary, L):\n",
    "    \n",
    "    doc_sent = sent_tokenize(document)\n",
    "    doc_wc = wc(document)\n",
    "    doc_pd = pd(doc_wc)\n",
    "    px = [p for p in doc_pd.values()]\n",
    "    \n",
    "    sum_sent = sent_tokenize(summary)\n",
    "    if len(sum_sent) < L:\n",
    "        if len(sum_sent) == 0:\n",
    "            sum_wc = Counter({k: 0 for k in doc_wc.keys()})\n",
    "            sum_pd = Counter({k: 0 for k in sum_wc.keys()})\n",
    "        else:\n",
    "            sum_wc = wc(summary)\n",
    "            sum_pd = pd(sum_wc)\n",
    "            \n",
    "        _min, min_id = 999, -1\n",
    "        for index, sent in enumerate(doc_sent):\n",
    "            new_wc = sum_wc + wc(sent)\n",
    "            new_pd = pd(new_wc)\n",
    "            qx = [new_pd[k] if k in new_pd else 0.001 for k in doc_pd.keys()]\n",
    "            kl = sum([p ])\n",
    "            if kl < _min:\n",
    "                _min = kl\n",
    "                min_id = index\n",
    "        \n",
    "        summary += '\\n' + doc_sent[min_id]\n",
    "        document = \" \".join(doc_sent[:index] + doc_sent[index+1:])\n",
    "                \n",
    "        return klsum(document, summary, L)\n",
    "    else:\n",
    "        return summary"
   ]
  },
  {
   "cell_type": "code",
   "execution_count": 242,
   "metadata": {},
   "outputs": [
    {
     "name": "stdout",
     "output_type": "stream",
     "text": [
      "\n",
      "Census officials say they are required to count everyone by the\n",
      "U.S. Constitution, which does not mention citizenship but only\n",
      "instructs that the House apportionment be based on the ``whole\n",
      "number of persons'' residing in the various states.\n",
      "Rep. Tom Ridge, R-Pa., said the Census Bureau should actually\n",
      "count everyone but that it should develop a method to determine how\n",
      "many people are illegally in the country, and them deduct that\n",
      "number from the figures used for reapportioning Congress.\n"
     ]
    }
   ],
   "source": [
    "print(klsum(docs['AP880217-0175'], '', 2))"
   ]
  },
  {
   "cell_type": "code",
   "execution_count": null,
   "metadata": {},
   "outputs": [],
   "source": []
  }
 ],
 "metadata": {
  "kernelspec": {
   "display_name": "Python 3",
   "language": "python",
   "name": "python3"
  },
  "language_info": {
   "codemirror_mode": {
    "name": "ipython",
    "version": 3
   },
   "file_extension": ".py",
   "mimetype": "text/x-python",
   "name": "python",
   "nbconvert_exporter": "python",
   "pygments_lexer": "ipython3",
   "version": "3.6.4"
  }
 },
 "nbformat": 4,
 "nbformat_minor": 2
}
