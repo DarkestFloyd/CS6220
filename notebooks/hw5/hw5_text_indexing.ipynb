{
 "cells": [
  {
   "cell_type": "code",
   "execution_count": 1,
   "metadata": {},
   "outputs": [],
   "source": [
    "from sklearn.datasets import fetch_20newsgroups\n",
    "\n",
    "from elasticsearch import Elasticsearch, RequestError\n",
    "from tqdm import tqdm"
   ]
  },
  {
   "cell_type": "code",
   "execution_count": 2,
   "metadata": {},
   "outputs": [],
   "source": [
    "es = Elasticsearch()"
   ]
  },
  {
   "cell_type": "markdown",
   "metadata": {},
   "source": [
    "# 20NG"
   ]
  },
  {
   "cell_type": "code",
   "execution_count": 3,
   "metadata": {},
   "outputs": [],
   "source": [
    "news_train = fetch_20newsgroups(\n",
    "    data_home='../data/20newsgroups/',\n",
    "    subset='train', remove=('headers', 'footers', 'quotes'),\n",
    "    shuffle=True, random_state=666)"
   ]
  },
  {
   "cell_type": "code",
   "execution_count": 5,
   "metadata": {},
   "outputs": [
    {
     "name": "stderr",
     "output_type": "stream",
     "text": [
      "\n",
      "0it [00:00, ?it/s]\u001b[A\n",
      "1it [00:00,  2.83it/s]\u001b[A\n",
      "3it [00:00,  5.92it/s]\u001b[A\n",
      "5it [00:00,  8.02it/s]\u001b[A\n",
      "7it [00:00,  9.53it/s]\u001b[A\n",
      "9it [00:00, 10.24it/s]\u001b[A\n",
      "11it [00:01, 10.91it/s]\u001b[A\n",
      "13it [00:01, 11.57it/s]\u001b[A\n",
      "15it [00:01, 12.11it/s]\u001b[A\n",
      "17it [00:01, 12.54it/s]\u001b[A\n",
      "19it [00:01, 12.92it/s]\u001b[A\n",
      "21it [00:01, 13.17it/s]\u001b[A\n",
      "23it [00:01, 13.32it/s]\u001b[A\n",
      "25it [00:01, 13.53it/s]\u001b[A\n",
      "27it [00:01, 13.85it/s]\u001b[A\n",
      "29it [00:02, 14.14it/s]\u001b[A\n",
      "31it [00:02, 14.36it/s]\u001b[A\n",
      "33it [00:02, 14.40it/s]\u001b[A\n",
      "35it [00:02, 14.61it/s]\u001b[A\n",
      "37it [00:02, 14.51it/s]\u001b[A\n",
      "39it [00:02, 14.67it/s]\u001b[A\n",
      "41it [00:02, 14.73it/s]\u001b[A\n",
      "43it [00:02, 14.61it/s]\u001b[A\n",
      "45it [00:03, 14.60it/s]\u001b[A\n",
      "47it [00:03, 14.57it/s]\u001b[A\n",
      "49it [00:03, 14.57it/s]\u001b[A\n",
      "51it [00:03, 14.56it/s]\u001b[A\n",
      "53it [00:03, 14.59it/s]\u001b[A\n",
      "55it [00:03, 14.64it/s]\u001b[A\n",
      "57it [00:03, 14.64it/s]\u001b[A\n",
      "59it [00:04, 14.01it/s]\u001b[A\n",
      "61it [00:04, 14.02it/s]\u001b[A\n",
      "63it [00:04, 14.01it/s]\u001b[A\n",
      "65it [00:04, 14.07it/s]\u001b[A\n",
      "67it [00:04, 14.05it/s]\u001b[A\n",
      "69it [00:04, 14.05it/s]\u001b[A\n",
      "71it [00:05, 14.06it/s]\u001b[A\n",
      "73it [00:05, 14.12it/s]\u001b[A\n",
      "75it [00:05, 14.12it/s]\u001b[A\n",
      "77it [00:05, 14.12it/s]\u001b[A\n",
      "79it [00:05, 14.09it/s]\u001b[A\n",
      "81it [00:05, 14.05it/s]\u001b[A\n",
      "83it [00:05, 14.13it/s]\u001b[A\n",
      "85it [00:06, 14.15it/s]\u001b[A\n",
      "87it [00:06, 14.14it/s]\u001b[A\n",
      "89it [00:06, 14.18it/s]\u001b[A\n",
      "91it [00:06, 14.15it/s]\u001b[A\n",
      "93it [00:06, 14.16it/s]\u001b[A\n",
      "95it [00:06, 14.14it/s]\u001b[A\n",
      "97it [00:06, 14.15it/s]\u001b[A\n",
      "99it [00:07, 14.10it/s]\u001b[A\n",
      "101it [00:07, 14.06it/s]\u001b[A\n",
      "103it [00:07, 14.12it/s]\u001b[A\n",
      "105it [00:07, 14.13it/s]\u001b[A\n",
      "107it [00:07, 14.17it/s]\u001b[A\n",
      "109it [00:07, 14.07it/s]\u001b[A\n",
      "111it [00:07, 14.08it/s]\u001b[A\n",
      "113it [00:08, 14.09it/s]\u001b[A\n",
      "115it [00:08, 14.12it/s]\u001b[A\n",
      "117it [00:08, 14.14it/s]\u001b[A\n",
      "119it [00:08, 14.14it/s]\u001b[A\n",
      "121it [00:08, 14.18it/s]\u001b[A\n",
      "123it [00:08, 14.17it/s]\u001b[A\n",
      "125it [00:08, 14.22it/s]\u001b[A\n",
      "127it [00:08, 14.23it/s]\u001b[A\n",
      "129it [00:09, 14.28it/s]\u001b[A\n",
      "131it [00:09, 14.17it/s]\u001b[A\n",
      "133it [00:09, 14.18it/s]\u001b[A\n",
      "135it [00:09, 14.17it/s]\u001b[A\n",
      "137it [00:09, 14.15it/s]\u001b[A\n",
      "139it [00:09, 14.16it/s]\u001b[A\n",
      "Exception in thread Thread-4:\n",
      "Traceback (most recent call last):\n",
      "  File \"/home/cyclops/anaconda3/lib/python3.6/threading.py\", line 916, in _bootstrap_inner\n",
      "    self.run()\n",
      "  File \"/home/cyclops/anaconda3/lib/python3.6/site-packages/tqdm/_monitor.py\", line 63, in run\n",
      "    for instance in self.tqdm_cls._instances:\n",
      "  File \"/home/cyclops/anaconda3/lib/python3.6/_weakrefset.py\", line 60, in __iter__\n",
      "    for itemref in self.data:\n",
      "RuntimeError: Set changed size during iteration\n",
      "\n",
      "501it [00:35, 14.19it/s]\n"
     ]
    }
   ],
   "source": [
    "for index, data in tqdm(enumerate(news_train.data)):\n",
    "    if index > 500:\n",
    "        break\n",
    "    doc = {'doc_id': index,\n",
    "           'doc_text': data}\n",
    "    try:\n",
    "        es.index(index='20ng', doc_type='doc', body=doc)\n",
    "    except RequestError:\n",
    "        pass"
   ]
  },
  {
   "cell_type": "markdown",
   "metadata": {},
   "source": [
    "# DUC"
   ]
  },
  {
   "cell_type": "code",
   "execution_count": 6,
   "metadata": {},
   "outputs": [],
   "source": [
    "def get_docs(path):\n",
    "    import os\n",
    "    from bs4 import BeautifulSoup\n",
    "    gold_path = path + \"Summaries\"\n",
    "    \n",
    "    ret_dict = {}\n",
    "    \n",
    "    doc_files = os.listdir(path)\n",
    "    gold_files = os.listdir(gold_path)\n",
    "\n",
    "    for gold_file in gold_files:\n",
    "        file_name =  gold_file.split('.')[0].upper()\n",
    "        if file_name not in doc_files:\n",
    "            print('no file for %s' % gold_file)\n",
    "            continue\n",
    "\n",
    "        sum_path = gold_path + '/' + gold_file\n",
    "\n",
    "        with open(sum_path) as sum_file:                \n",
    "            summary, doc = sum_file.read().strip().split('Introduction:')\n",
    "            summary = summary.split('Abstract:')[1]\n",
    "            \n",
    "            ret_dict[file_name] = [doc.strip(), summary.strip()]\n",
    "    return ret_dict"
   ]
  },
  {
   "cell_type": "code",
   "execution_count": 7,
   "metadata": {},
   "outputs": [
    {
     "name": "stdout",
     "output_type": "stream",
     "text": [
      "no file for ap890325-0143.txt\n",
      "no file for ap900928-0054.txt\n"
     ]
    }
   ],
   "source": [
    "docs = get_docs('../data/DUC/')"
   ]
  },
  {
   "cell_type": "code",
   "execution_count": 8,
   "metadata": {},
   "outputs": [
    {
     "name": "stderr",
     "output_type": "stream",
     "text": [
      "\n",
      "  0%|          | 0/301 [00:00<?, ?it/s]\u001b[A\n",
      "  0%|          | 1/301 [00:00<00:54,  5.50it/s]\u001b[A\n",
      "  1%|          | 2/301 [00:00<00:53,  5.57it/s]\u001b[A\n",
      "  1%|▏         | 4/301 [00:00<00:39,  7.59it/s]\u001b[A\n",
      "  2%|▏         | 6/301 [00:00<00:32,  9.11it/s]\u001b[A\n",
      "  3%|▎         | 8/301 [00:00<00:30,  9.70it/s]\u001b[A\n",
      "  3%|▎         | 10/301 [00:00<00:28, 10.33it/s]\u001b[A\n",
      "  4%|▍         | 12/301 [00:01<00:26, 10.98it/s]\u001b[A\n",
      "  5%|▍         | 14/301 [00:01<00:25, 11.34it/s]\u001b[A\n",
      "  5%|▌         | 16/301 [00:01<00:24, 11.60it/s]\u001b[A\n",
      "  6%|▌         | 18/301 [00:01<00:23, 11.80it/s]\u001b[A\n",
      "  7%|▋         | 20/301 [00:01<00:23, 12.07it/s]\u001b[A\n",
      "  7%|▋         | 22/301 [00:01<00:22, 12.22it/s]\u001b[A\n",
      "  8%|▊         | 24/301 [00:01<00:22, 12.40it/s]\u001b[A\n",
      "  9%|▊         | 26/301 [00:02<00:21, 12.64it/s]\u001b[A\n",
      "  9%|▉         | 28/301 [00:02<00:21, 12.72it/s]\u001b[A\n",
      " 10%|▉         | 30/301 [00:02<00:20, 12.92it/s]\u001b[A\n",
      " 11%|█         | 32/301 [00:02<00:20, 12.97it/s]\u001b[A\n",
      " 11%|█▏        | 34/301 [00:02<00:20, 12.92it/s]\u001b[A\n",
      " 12%|█▏        | 36/301 [00:02<00:20, 13.12it/s]\u001b[A\n",
      " 13%|█▎        | 38/301 [00:02<00:20, 13.08it/s]\u001b[A\n",
      " 13%|█▎        | 40/301 [00:03<00:20, 12.77it/s]\u001b[A\n",
      " 14%|█▍        | 42/301 [00:03<00:20, 12.35it/s]\u001b[A\n",
      " 15%|█▍        | 44/301 [00:03<00:20, 12.38it/s]\u001b[A\n",
      " 15%|█▌        | 46/301 [00:03<00:20, 12.48it/s]\u001b[A\n",
      " 16%|█▌        | 48/301 [00:03<00:20, 12.49it/s]\u001b[A\n",
      " 17%|█▋        | 50/301 [00:03<00:20, 12.51it/s]\u001b[A\n",
      " 17%|█▋        | 52/301 [00:04<00:19, 12.52it/s]\u001b[A\n",
      " 18%|█▊        | 54/301 [00:04<00:19, 12.50it/s]\u001b[A\n",
      " 19%|█▊        | 56/301 [00:04<00:19, 12.54it/s]\u001b[A\n",
      " 19%|█▉        | 58/301 [00:04<00:19, 12.64it/s]\u001b[A\n",
      " 20%|█▉        | 60/301 [00:04<00:19, 12.65it/s]\u001b[A\n",
      " 21%|██        | 62/301 [00:04<00:18, 12.63it/s]\u001b[A\n",
      " 21%|██▏       | 64/301 [00:05<00:18, 12.64it/s]\u001b[A\n",
      " 22%|██▏       | 66/301 [00:05<00:18, 12.72it/s]\u001b[A\n",
      " 23%|██▎       | 68/301 [00:05<00:18, 12.76it/s]\u001b[A\n",
      " 23%|██▎       | 70/301 [00:05<00:18, 12.79it/s]\u001b[A\n",
      "Exception in thread Thread-5:\n",
      "Traceback (most recent call last):\n",
      "  File \"/home/cyclops/anaconda3/lib/python3.6/threading.py\", line 916, in _bootstrap_inner\n",
      "    self.run()\n",
      "  File \"/home/cyclops/anaconda3/lib/python3.6/site-packages/tqdm/_monitor.py\", line 63, in run\n",
      "    for instance in self.tqdm_cls._instances:\n",
      "  File \"/home/cyclops/anaconda3/lib/python3.6/_weakrefset.py\", line 60, in __iter__\n",
      "    for itemref in self.data:\n",
      "RuntimeError: Set changed size during iteration\n",
      "\n",
      "100%|██████████| 301/301 [00:22<00:00, 13.52it/s]\n"
     ]
    }
   ],
   "source": [
    "for key, val in tqdm(docs.items()):\n",
    "    es_inp = {\n",
    "        'doc_id' : key,\n",
    "        'doc_text' : val[0],\n",
    "        'gold_summary' : val[1]\n",
    "    }\n",
    "    es.index(index='duc', doc_type='doc', body=es_inp)"
   ]
  },
  {
   "cell_type": "code",
   "execution_count": null,
   "metadata": {},
   "outputs": [],
   "source": []
  }
 ],
 "metadata": {
  "kernelspec": {
   "display_name": "Python 3",
   "language": "python",
   "name": "python3"
  },
  "language_info": {
   "codemirror_mode": {
    "name": "ipython",
    "version": 3
   },
   "file_extension": ".py",
   "mimetype": "text/x-python",
   "name": "python",
   "nbconvert_exporter": "python",
   "pygments_lexer": "ipython3",
   "version": "3.6.5"
  }
 },
 "nbformat": 4,
 "nbformat_minor": 2
}
