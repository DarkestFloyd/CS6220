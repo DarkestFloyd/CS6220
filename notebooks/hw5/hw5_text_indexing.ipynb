{
 "cells": [
  {
   "cell_type": "code",
   "execution_count": 4,
   "metadata": {},
   "outputs": [],
   "source": [
    "from sklearn.datasets import fetch_20newsgroups\n",
    "\n",
    "from elasticsearch import Elasticsearch, RequestError\n",
    "from tqdm import tqdm"
   ]
  },
  {
   "cell_type": "code",
   "execution_count": 2,
   "metadata": {},
   "outputs": [],
   "source": [
    "es = Elasticsearch()"
   ]
  },
  {
   "cell_type": "markdown",
   "metadata": {},
   "source": [
    "# 20NG"
   ]
  },
  {
   "cell_type": "code",
   "execution_count": 3,
   "metadata": {},
   "outputs": [],
   "source": [
    "news_train = fetch_20newsgroups(\n",
    "    data_home='../data/20newsgroups/',\n",
    "    subset='train', remove=('headers', 'footers', 'quotes'),\n",
    "    shuffle=True, random_state=666)"
   ]
  },
  {
   "cell_type": "code",
   "execution_count": 5,
   "metadata": {},
   "outputs": [
    {
     "name": "stderr",
     "output_type": "stream",
     "text": [
      "556it [00:38, 14.27it/s]POST http://localhost:9200/20ng/doc [status:400 request:0.020s]\n",
      "561it [00:39, 14.30it/s]POST http://localhost:9200/20ng/doc [status:400 request:0.016s]\n",
      "586it [00:40, 14.35it/s]POST http://localhost:9200/20ng/doc [status:400 request:0.010s]\n",
      "660it [00:46, 14.27it/s]POST http://localhost:9200/20ng/doc [status:400 request:0.011s]\n",
      "691it [00:48, 14.33it/s]POST http://localhost:9200/20ng/doc [status:400 request:0.013s]\n",
      "1557it [01:46, 14.57it/s]POST http://localhost:9200/20ng/doc [status:400 request:0.013s]\n",
      "1776it [02:02, 14.49it/s]POST http://localhost:9200/20ng/doc [status:400 request:0.005s]\n",
      "1783it [02:02, 14.50it/s]POST http://localhost:9200/20ng/doc [status:400 request:0.011s]\n",
      "1826it [02:06, 14.45it/s]POST http://localhost:9200/20ng/doc [status:400 request:0.012s]\n",
      "2046it [02:23, 14.22it/s]POST http://localhost:9200/20ng/doc [status:400 request:0.012s]\n",
      "2488it [02:58, 13.92it/s]POST http://localhost:9200/20ng/doc [status:400 request:0.006s]\n",
      "2753it [03:17, 13.94it/s]POST http://localhost:9200/20ng/doc [status:400 request:0.006s]\n",
      "3168it [03:47, 13.94it/s]POST http://localhost:9200/20ng/doc [status:400 request:0.006s]\n",
      "3549it [04:12, 14.07it/s]POST http://localhost:9200/20ng/doc [status:400 request:0.010s]\n",
      "3580it [04:14, 14.05it/s]POST http://localhost:9200/20ng/doc [status:400 request:0.006s]\n",
      "4121it [04:55, 13.94it/s]POST http://localhost:9200/20ng/doc [status:400 request:0.006s]\n",
      "4291it [05:06, 13.98it/s]POST http://localhost:9200/20ng/doc [status:400 request:0.005s]\n",
      "5006it [05:58, 13.96it/s]POST http://localhost:9200/20ng/doc [status:400 request:0.005s]\n",
      "5043it [06:01, 13.96it/s]POST http://localhost:9200/20ng/doc [status:400 request:0.009s]\n",
      "5162it [06:10, 13.95it/s]POST http://localhost:9200/20ng/doc [status:400 request:0.011s]\n",
      "5297it [06:20, 13.91it/s]POST http://localhost:9200/20ng/doc [status:400 request:0.004s]\n",
      "5462it [06:31, 13.94it/s]POST http://localhost:9200/20ng/doc [status:400 request:0.007s]\n",
      "5507it [06:35, 13.91it/s]POST http://localhost:9200/20ng/doc [status:400 request:0.009s]\n",
      "5528it [06:37, 13.91it/s]POST http://localhost:9200/20ng/doc [status:400 request:0.009s]\n",
      "5645it [06:46, 13.87it/s]POST http://localhost:9200/20ng/doc [status:400 request:0.011s]\n",
      "5820it [06:59, 13.89it/s]POST http://localhost:9200/20ng/doc [status:400 request:0.010s]\n",
      "5913it [07:05, 13.88it/s]POST http://localhost:9200/20ng/doc [status:400 request:0.013s]\n",
      "6697it [08:02, 13.87it/s]POST http://localhost:9200/20ng/doc [status:400 request:0.008s]\n",
      "6739it [08:05, 13.88it/s]POST http://localhost:9200/20ng/doc [status:400 request:0.005s]\n",
      "6882it [08:15, 13.90it/s]POST http://localhost:9200/20ng/doc [status:400 request:0.011s]\n",
      "7299it [08:43, 13.93it/s]POST http://localhost:9200/20ng/doc [status:400 request:0.008s]\n",
      "7607it [09:05, 13.94it/s]POST http://localhost:9200/20ng/doc [status:400 request:0.012s]\n",
      "7734it [09:14, 13.94it/s]POST http://localhost:9200/20ng/doc [status:400 request:0.009s]\n",
      "8135it [09:42, 13.97it/s]POST http://localhost:9200/20ng/doc [status:400 request:0.009s]\n",
      "8361it [09:58, 13.96it/s]POST http://localhost:9200/20ng/doc [status:400 request:0.010s]\n",
      "8528it [10:10, 13.97it/s]POST http://localhost:9200/20ng/doc [status:400 request:0.009s]\n",
      "8839it [10:33, 13.96it/s]POST http://localhost:9200/20ng/doc [status:400 request:0.008s]\n",
      "8918it [10:38, 13.96it/s]POST http://localhost:9200/20ng/doc [status:400 request:0.008s]\n",
      "9046it [10:48, 13.96it/s]POST http://localhost:9200/20ng/doc [status:400 request:0.008s]\n",
      "9119it [10:53, 13.96it/s]POST http://localhost:9200/20ng/doc [status:400 request:0.011s]\n",
      "9164it [10:56, 13.96it/s]POST http://localhost:9200/20ng/doc [status:400 request:0.013s]\n",
      "9249it [11:02, 13.96it/s]POST http://localhost:9200/20ng/doc [status:400 request:0.006s]\n",
      "9346it [11:09, 13.96it/s]POST http://localhost:9200/20ng/doc [status:400 request:0.008s]\n",
      "9553it [11:24, 13.95it/s]POST http://localhost:9200/20ng/doc [status:400 request:0.009s]\n",
      "9720it [11:37, 13.94it/s]POST http://localhost:9200/20ng/doc [status:400 request:0.005s]\n",
      "9963it [11:54, 13.95it/s]POST http://localhost:9200/20ng/doc [status:400 request:0.010s]\n",
      "10038it [11:59, 13.95it/s]POST http://localhost:9200/20ng/doc [status:400 request:0.016s]\n",
      "10396it [12:29, 13.87it/s]POST http://localhost:9200/20ng/doc [status:400 request:0.010s]\n",
      "10654it [12:49, 13.84it/s]POST http://localhost:9200/20ng/doc [status:400 request:0.005s]\n",
      "11084it [13:23, 13.80it/s]POST http://localhost:9200/20ng/doc [status:400 request:0.006s]\n",
      "11314it [13:39, 13.80it/s]\n"
     ]
    }
   ],
   "source": [
    "for index, data in tqdm(enumerate(news_train.data)):\n",
    "    doc = {'doc_id': index,\n",
    "           'doc_text': data}\n",
    "    try:\n",
    "        es.index(index='20ng', doc_type='doc', body=doc)\n",
    "    except RequestError:\n",
    "        pass"
   ]
  },
  {
   "cell_type": "markdown",
   "metadata": {},
   "source": [
    "# DUC"
   ]
  },
  {
   "cell_type": "code",
   "execution_count": 107,
   "metadata": {},
   "outputs": [],
   "source": [
    "def get_docs(path):\n",
    "    import os\n",
    "    from bs4 import BeautifulSoup\n",
    "    gold_path = path + \"Summaries\"\n",
    "    \n",
    "    ret_dict = {}\n",
    "    \n",
    "    doc_files = os.listdir(path)\n",
    "    gold_files = os.listdir(gold_path)\n",
    "\n",
    "    for gold_file in gold_files:\n",
    "        file_name =  gold_file.split('.')[0].upper()\n",
    "        if file_name not in doc_files:\n",
    "            print('no file for %s' % gold_file)\n",
    "            continue\n",
    "\n",
    "        sum_path = gold_path + '/' + gold_file\n",
    "\n",
    "        with open(sum_path) as sum_file:                \n",
    "            summary, doc = sum_file.read().strip().split('Introduction:')\n",
    "            summary = summary.split('Abstract:')[1]\n",
    "            \n",
    "            ret_dict[file_name] = [doc.strip(), summary.strip()]\n",
    "    return ret_dict"
   ]
  },
  {
   "cell_type": "code",
   "execution_count": 108,
   "metadata": {},
   "outputs": [
    {
     "name": "stdout",
     "output_type": "stream",
     "text": [
      "no file for ap890325-0143.txt\n",
      "no file for ap900928-0054.txt\n"
     ]
    }
   ],
   "source": [
    "docs = get_docs('../data/DUC/')"
   ]
  },
  {
   "cell_type": "code",
   "execution_count": 119,
   "metadata": {},
   "outputs": [
    {
     "name": "stderr",
     "output_type": "stream",
     "text": [
      "100%|██████████| 301/301 [00:19<00:00, 15.22it/s]\n"
     ]
    }
   ],
   "source": [
    "for key, val in tqdm(docs.items()):\n",
    "    es_inp = {\n",
    "        'doc_id' : key,\n",
    "        'doc_text' : val[0],\n",
    "        'gold_summary' : val[1]\n",
    "    }\n",
    "    es.index(index='duc', doc_type='doc', body=es_inp)"
   ]
  }
 ],
 "metadata": {
  "kernelspec": {
   "display_name": "Python 3",
   "language": "python",
   "name": "python3"
  },
  "language_info": {
   "codemirror_mode": {
    "name": "ipython",
    "version": 3
   },
   "file_extension": ".py",
   "mimetype": "text/x-python",
   "name": "python",
   "nbconvert_exporter": "python",
   "pygments_lexer": "ipython3",
   "version": "3.6.4"
  }
 },
 "nbformat": 4,
 "nbformat_minor": 2
}
