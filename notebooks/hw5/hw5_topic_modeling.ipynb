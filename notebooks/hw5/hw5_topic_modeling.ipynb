{
 "cells": [
  {
   "cell_type": "code",
   "execution_count": 1,
   "metadata": {},
   "outputs": [],
   "source": [
    "from sklearn.datasets import fetch_20newsgroups\n",
    "from sklearn.feature_extraction.text import CountVectorizer, TfidfVectorizer"
   ]
  },
  {
   "cell_type": "code",
   "execution_count": 2,
   "metadata": {},
   "outputs": [],
   "source": [
    "from sklearn.decomposition import LatentDirichletAllocation as LDA, NMF\n",
    "from tqdm import tqdm"
   ]
  },
  {
   "cell_type": "code",
   "execution_count": 3,
   "metadata": {},
   "outputs": [],
   "source": [
    "from elasticsearch import Elasticsearch\n",
    "es = Elasticsearch()"
   ]
  },
  {
   "cell_type": "markdown",
   "metadata": {},
   "source": [
    "## Helper functions"
   ]
  },
  {
   "cell_type": "code",
   "execution_count": 4,
   "metadata": {},
   "outputs": [],
   "source": [
    "# partly taken from http://scikit-learn.org/stable/auto_examples/applications/plot_topics_extraction_with_nmf_lda.html\n",
    "def print_top_words(model, feature_names, n_top_words):\n",
    "    ret = {}\n",
    "    for topic_idx, topic in enumerate(model.components_):\n",
    "        message = \"Topic #%d: \" % topic_idx\n",
    "        ret[topic_idx] = {feature_names[i]: topic[i]/sum(topic) for i in topic.argsort()[:-n_top_words - 1:-1]}\n",
    "        message += \" \".join([k + ' (%.5f)' % v for k, v in ret[topic_idx].items()])\n",
    "        print(message)\n",
    "    print()\n",
    "    return ret"
   ]
  },
  {
   "cell_type": "code",
   "execution_count": 5,
   "metadata": {},
   "outputs": [],
   "source": [
    "def decomposition_helper(data, method='lda', n_components=[10], vectorizer=CountVectorizer, print_num=20):\n",
    "    vectorized = vectorizer(stop_words='english', max_df=0.95, \n",
    "                             min_df=2, max_features=1000)\n",
    "    features = vectorized.fit_transform(data)\n",
    "    ret_models = {}\n",
    "    ret_topics = {}\n",
    "    for nc in n_components:\n",
    "        print('\\nFor n_components=%d' % nc)\n",
    "        if method == 'lda':\n",
    "            m = LDA(n_components=nc, random_state=666, learning_method='online', n_jobs=-1)\n",
    "        else:\n",
    "            m = NMF(n_components=nc, random_state=666)\n",
    "        m.fit(features)\n",
    "        ret_models[nc] = m\n",
    "        ret_topics[nc] = print_top_words(m, vectorized.get_feature_names(), print_num)\n",
    "    return ret_models, ret_topics"
   ]
  },
  {
   "cell_type": "code",
   "execution_count": 6,
   "metadata": {},
   "outputs": [],
   "source": [
    "def es_topic_indexer(topics, index):\n",
    "    for topic_id, words_pd in topics.items():\n",
    "        words, pds = [], []\n",
    "        for word, pd in words_pd.items():\n",
    "            words.append(word)\n",
    "            pds.append(pd)\n",
    "        doc = {\n",
    "            'topic_id' : topic_id,\n",
    "            'top_words' : words,\n",
    "            'word_prob' : pds\n",
    "        }\n",
    "        es.index(index=index, doc_type='topic', body=doc)"
   ]
  },
  {
   "cell_type": "code",
   "execution_count": 7,
   "metadata": {},
   "outputs": [],
   "source": [
    "def es_text_indexer(data, index, gold=False):\n",
    "    for idx, doc in tqdm(data.items()):\n",
    "        es_doc = {\n",
    "            'doc_id' : idx,\n",
    "            'doc_text' : doc['text'],\n",
    "            'doc_topics' : ', '.join([str(x) for x in doc['topics'][:5]]),\n",
    "            'doc_topics_pd' : ', '.join([str(x) for x in doc['pd'][:5]])\n",
    "        }\n",
    "        if gold:\n",
    "            es_doc['gold_summary'] = doc['gold']\n",
    "        es.index(index=index, doc_type='doc', body=es_doc)"
   ]
  },
  {
   "cell_type": "markdown",
   "metadata": {},
   "source": [
    "## 20NG"
   ]
  },
  {
   "cell_type": "code",
   "execution_count": 8,
   "metadata": {},
   "outputs": [],
   "source": [
    "news_train = fetch_20newsgroups(\n",
    "    data_home='../data/20newsgroups/',\n",
    "    subset='train', remove=('headers', 'footers', 'quotes'),\n",
    "    shuffle=True, random_state=666)"
   ]
  },
  {
   "cell_type": "code",
   "execution_count": 9,
   "metadata": {},
   "outputs": [
    {
     "name": "stdout",
     "output_type": "stream",
     "text": [
      "CPU times: user 4 µs, sys: 0 ns, total: 4 µs\n",
      "Wall time: 7.63 µs\n",
      "\n",
      "For n_components=10\n",
      "Topic #0: space (0.02703) new (0.01426) armenian (0.01348) president (0.01322) 1993 (0.01257) armenians (0.01183) research (0.01182) university (0.01134) national (0.01069) turkish (0.01056) center (0.01012) program (0.01006) nasa (0.01000) information (0.00954) april (0.00892) general (0.00812) press (0.00785) comp (0.00765) request (0.00753) launch (0.00723)\n",
      "Topic #1: good (0.01785) year (0.01696) like (0.01522) new (0.01437) just (0.01280) car (0.01196) game (0.01171) team (0.01030) time (0.01013) got (0.00986) years (0.00899) don (0.00834) think (0.00831) home (0.00802) best (0.00768) better (0.00757) ll (0.00738) games (0.00730) make (0.00701) high (0.00696)\n",
      "Topic #2: 145 (0.08498) b8f (0.04817) 34u (0.04244) bike (0.04081) w7 (0.03784) pl (0.03738) ah (0.03444) a86 (0.03319) 0t (0.03317) chz (0.03155) 2di (0.02877) lk (0.02830) air (0.02798) 1d9 (0.02764) gm (0.02676) ms (0.02647) 7u (0.02574) sl (0.02511) cd (0.02287) d9 (0.02035)\n",
      "Topic #3: use (0.01755) file (0.01670) windows (0.01351) drive (0.01254) software (0.01093) program (0.01061) using (0.01055) files (0.00883) version (0.00868) card (0.00865) data (0.00855) does (0.00835) window (0.00822) problem (0.00807) available (0.00806) dos (0.00793) ftp (0.00780) pc (0.00742) disk (0.00741) image (0.00717)\n",
      "Topic #4: edu (0.06519) com (0.03358) mail (0.03210) send (0.01961) thanks (0.01916) email (0.01732) information (0.01714) list (0.01672) internet (0.01478) post (0.01268) know (0.01237) cs (0.01161) subject (0.01157) address (0.01143) posting (0.01120) info (0.01063) news (0.01028) article (0.01019) gov (0.00942) group (0.00879)\n",
      "Topic #5: ax (0.82468) max (0.06049) g9v (0.01472) b8f (0.00972) a86 (0.00890) pl (0.00667) giz (0.00583) 1d9 (0.00560) 1t (0.00516) bhj (0.00501) 3t (0.00485) 75u (0.00470) 7ey (0.00386) 2tm (0.00378) 0t (0.00311) bxn (0.00298) 2di (0.00274) wm (0.00257) 34u (0.00254) gk (0.00223)\n",
      "Topic #6: key (0.02659) use (0.02077) government (0.02076) law (0.01796) gun (0.01519) scsi (0.01449) public (0.01420) chip (0.01350) encryption (0.01258) used (0.01072) keys (0.00947) security (0.00905) control (0.00883) clipper (0.00870) privacy (0.00846) motif (0.00844) state (0.00839) using (0.00812) people (0.00731) rights (0.00710)\n",
      "Topic #7: people (0.02539) don (0.02092) just (0.01742) think (0.01720) know (0.01661) like (0.01353) say (0.01159) time (0.01134) said (0.01080) did (0.01046) way (0.00869) things (0.00794) going (0.00755) ve (0.00754) make (0.00728) want (0.00726) really (0.00703) right (0.00699) does (0.00695) point (0.00669)\n",
      "Topic #8: 10 (0.04112) 00 (0.03791) 25 (0.02957) 15 (0.02912) 12 (0.02786) 11 (0.02770) 20 (0.02750) 16 (0.02553) 14 (0.02358) 17 (0.02252) 50 (0.02143) 24 (0.01936) 13 (0.01818) 18 (0.01806) 30 (0.01778) 40 (0.01670) 27 (0.01492) 21 (0.01452) 55 (0.01408) 19 (0.01406)\n",
      "Topic #9: god (0.10394) jesus (0.04512) bible (0.02892) christian (0.02805) church (0.02436) db (0.02326) believe (0.02314) faith (0.02237) christians (0.02148) christ (0.02023) does (0.01950) cx (0.01706) religion (0.01645) true (0.01547) truth (0.01476) word (0.01419) man (0.01305) john (0.01289) atheism (0.01269) belief (0.01255)\n",
      "\n",
      "\n",
      "For n_components=20\n",
      "Topic #0: key (0.05322) data (0.04518) chip (0.03040) use (0.02665) encryption (0.02519) technology (0.02027) keys (0.01896) clipper (0.01742) privacy (0.01686) computer (0.01465) security (0.01445) information (0.01435) used (0.01430) public (0.01415) bit (0.01380) access (0.01233) algorithm (0.01226) product (0.01164) number (0.01161) phone (0.01142)\n",
      "Topic #1: good (0.03212) best (0.02832) offer (0.02504) sell (0.02476) sale (0.02417) book (0.02412) new (0.02189) interested (0.02162) condition (0.02161) old (0.02089) win (0.02047) guy (0.01943) tape (0.01867) deleted (0.01848) shipping (0.01820) stuff (0.01659) great (0.01627) mail (0.01617) excellent (0.01600) make (0.01486)\n",
      "Topic #2: 00 (0.11822) 50 (0.08718) 25 (0.07630) price (0.07200) cd (0.04903) 40 (0.04671) 100 (0.04272) ac (0.03847) 200 (0.03729) quality (0.03497) service (0.03383) 75 (0.03355) 60 (0.02399) uk (0.02384) black (0.02369) 10 (0.02300) 300 (0.02099) 70 (0.01788) appears (0.01509) 12 (0.01204)\n",
      "Topic #3: edu (0.05816) file (0.04688) com (0.03314) files (0.02461) mail (0.02400) email (0.02292) send (0.02286) information (0.02175) ftp (0.02008) list (0.01936) pub (0.01579) address (0.01571) internet (0.01526) info (0.01496) program (0.01337) entry (0.01259) server (0.01183) original (0.01115) directory (0.01113) section (0.00982)\n",
      "Topic #4: like (0.03193) just (0.03011) don (0.02858) ve (0.02437) know (0.02181) think (0.01668) work (0.01540) time (0.01448) make (0.01351) good (0.01204) want (0.01177) didn (0.01170) use (0.01165) going (0.01158) does (0.01148) lot (0.01148) really (0.01136) way (0.01099) things (0.01096) problem (0.01059)\n",
      "Topic #5: team (0.03283) power (0.02721) new (0.02688) games (0.02183) year (0.02054) high (0.02032) cost (0.01880) years (0.01798) low (0.01790) time (0.01659) ground (0.01546) water (0.01493) radio (0.01276) box (0.01171) weeks (0.01130) runs (0.01107) used (0.01075) inside (0.01061) san (0.01004) line (0.00963)\n",
      "Topic #6: right (0.05289) left (0.02534) day (0.02286) motif (0.01866) second (0.01786) days (0.01748) instead (0.01723) later (0.01573) little (0.01536) new (0.01429) just (0.01352) quite (0.01326) hand (0.01211) people (0.01147) needs (0.01115) great (0.01095) imagine (0.01081) wanted (0.01080) solution (0.01018) time (0.00977)\n",
      "Topic #7: space (0.09067) car (0.05344) nasa (0.03446) research (0.03105) bike (0.02293) science (0.02257) center (0.02241) gov (0.02129) launch (0.02122) article (0.01805) earth (0.01709) dr (0.01644) satellite (0.01586) sources (0.01555) engine (0.01502) news (0.01492) posting (0.01430) greek (0.01399) medical (0.01394) shuttle (0.01394)\n",
      "Topic #8: 10 (0.04252) 15 (0.03256) 11 (0.03102) 12 (0.03058) 20 (0.02950) 14 (0.02719) 17 (0.02583) 16 (0.02411) 24 (0.02357) 13 (0.02182) 18 (0.02045) 30 (0.01865) 21 (0.01708) 27 (0.01696) 19 (0.01686) 25 (0.01626) 55 (0.01601) 22 (0.01573) 23 (0.01524) period (0.01372)\n",
      "Topic #9: god (0.04878) jesus (0.02114) does (0.01801) people (0.01635) believe (0.01571) true (0.01385) bible (0.01355) christian (0.01316) life (0.01304) church (0.01141) religion (0.01057) faith (0.01048) christians (0.01007) say (0.00995) truth (0.00971) christ (0.00948) word (0.00879) human (0.00857) religious (0.00818) evidence (0.00804)\n",
      "Topic #10: available (0.04456) code (0.03892) image (0.03425) software (0.03146) output (0.03067) source (0.02987) display (0.02465) use (0.02338) sun (0.02308) mit (0.02260) type (0.02030) number (0.02030) open (0.01758) set (0.01600) window (0.01527) function (0.01414) cs (0.01360) subject (0.01279) multiple (0.01245) write (0.01227)\n",
      "Topic #11: government (0.03634) law (0.02704) gun (0.02550) president (0.02428) state (0.01887) states (0.01817) rights (0.01770) public (0.01635) american (0.01597) people (0.01558) national (0.01387) police (0.01342) control (0.01290) crime (0.01283) guns (0.01236) laws (0.01141) administration (0.01133) united (0.01113) military (0.01112) federal (0.01106)\n",
      "Topic #12: problem (0.03459) hard (0.03255) speed (0.03110) card (0.02957) color (0.02791) video (0.02781) apple (0.02589) bus (0.02495) memory (0.02400) problems (0.02163) cards (0.01945) monitor (0.01915) mode (0.01844) land (0.01738) fast (0.01711) faster (0.01536) switch (0.01528) works (0.01397) local (0.01391) 16 (0.01258)\n",
      "Topic #13: db (0.09933) cx (0.08771) w7 (0.07085) ah (0.06924) air (0.06529) cs (0.05955) al (0.05763) chz (0.05456) gas (0.04926) lk (0.04688) tv (0.04198) bh (0.04051) 34u (0.03339) 7u (0.03049) ma (0.02896) d9 (0.02708) pick (0.02340) 145 (0.02025) ca (0.01417) 1t (0.01064)\n",
      "Topic #14: ax (0.78277) max (0.05691) g9v (0.01450) b8f (0.01429) a86 (0.01193) pl (0.00999) 145 (0.00912) 1d9 (0.00822) 0t (0.00644) 1t (0.00600) 75u (0.00599) 2di (0.00562) bhj (0.00559) giz (0.00558) 3t (0.00540) 34u (0.00500) 2tm (0.00432) wm (0.00392) 7ey (0.00369) 0d (0.00355)\n",
      "Topic #15: drive (0.04613) thanks (0.03448) pc (0.02791) scsi (0.02720) does (0.02716) disk (0.02281) use (0.02274) know (0.02066) mac (0.02021) faq (0.01956) bit (0.01929) hi (0.01592) drives (0.01521) card (0.01473) board (0.01442) driver (0.01427) help (0.01398) controller (0.01393) advance (0.01328) need (0.01313)\n",
      "Topic #16: don (0.03099) people (0.02657) know (0.02263) think (0.02202) did (0.01652) just (0.01608) like (0.01503) say (0.01500) way (0.01232) course (0.01202) question (0.01171) right (0.01072) said (0.01063) let (0.00987) time (0.00971) isn (0.00961) want (0.00954) really (0.00952) little (0.00949) good (0.00941)\n",
      "Topic #17: game (0.04814) year (0.03771) mr (0.03586) play (0.02546) season (0.02474) players (0.02231) bad (0.02221) hockey (0.02169) stephanopoulos (0.02029) israeli (0.02010) league (0.01971) good (0.01872) think (0.01716) did (0.01684) got (0.01661) points (0.01511) kill (0.01504) said (0.01503) wasn (0.01473) teams (0.01450)\n",
      "Topic #18: 000 (0.02821) people (0.02568) armenian (0.02450) israel (0.02226) armenians (0.02149) turkish (0.01919) war (0.01850) said (0.01844) jews (0.01739) children (0.01584) killed (0.01440) women (0.01324) city (0.01322) university (0.01315) years (0.01310) million (0.01253) health (0.01239) russian (0.01211) world (0.01183) population (0.01179)\n",
      "Topic #19: windows (0.04550) program (0.03949) dos (0.03599) version (0.02942) graphics (0.02851) package (0.02675) window (0.02609) application (0.02356) using (0.02312) programs (0.02284) ms (0.02202) systems (0.01994) widget (0.01793) os (0.01744) software (0.01684) comp (0.01664) applications (0.01573) unix (0.01556) manager (0.01490) run (0.01444)\n",
      "\n",
      "\n",
      "For n_components=50\n",
      "Topic #0: program (0.18892) output (0.09463) screen (0.07450) mac (0.06193) input (0.05131) hp (0.04844) section (0.04406) printer (0.03967) line (0.03598) lines (0.03532) distribution (0.02937) built (0.02299) size (0.02122) function (0.01713) end (0.01342) user (0.01292) uses (0.01288) mode (0.01083) type (0.00956) needed (0.00941)\n",
      "Topic #1: true (0.03548) case (0.03173) number (0.02258) actually (0.02187) argument (0.02092) order (0.01990) used (0.01918) school (0.01851) way (0.01705) free (0.01637) years (0.01455) david (0.01362) matter (0.01316) remember (0.01310) sounds (0.01302) parts (0.01277) guy (0.01205) response (0.01195) couple (0.01192) assume (0.01120)\n",
      "Topic #2: year (0.12397) play (0.07190) season (0.05552) home (0.05183) hit (0.03864) end (0.03358) mike (0.03035) division (0.02948) mark (0.02911) runs (0.02841) second (0.02622) period (0.02607) power (0.02583) got (0.02406) base (0.02380) dave (0.02377) better (0.02230) time (0.01720) near (0.01649) years (0.01643)\n",
      "Topic #3: use (0.19152) does (0.08843) thanks (0.08488) know (0.07520) used (0.05595) software (0.04106) advance (0.03738) using (0.03179) like (0.02642) 800 (0.02563) installed (0.02370) hardware (0.02202) environment (0.01781) quality (0.01554) info (0.01454) able (0.01402) looking (0.01289) worth (0.01245) color (0.01240) information (0.01182)\n",
      "Topic #4: edu (0.26781) image (0.07710) ftp (0.07448) pub (0.06436) internet (0.05681) cs (0.04288) images (0.03808) site (0.02376) gov (0.02365) tar (0.02200) mail (0.02049) sites (0.02047) university (0.02037) 128 (0.02000) commercial (0.01695) au (0.01658) david (0.01627) subject (0.01508) directory (0.01463) john (0.01359)\n",
      "Topic #5: gun (0.14513) control (0.08726) guns (0.07036) police (0.06233) study (0.06014) killed (0.05253) firearms (0.04959) america (0.04848) freedom (0.04568) defense (0.04343) self (0.04096) report (0.03298) reported (0.03154) shot (0.02650) reports (0.02608) la (0.01883) talk (0.01845) kill (0.01620) 1990 (0.01438) street (0.00987)\n",
      "Topic #6: com (0.23265) support (0.09008) display (0.08146) color (0.06682) mouse (0.04870) apple (0.04817) extra (0.03516) try (0.03038) products (0.02599) supports (0.02358) systems (0.02332) market (0.02173) class (0.02089) want (0.01690) ibm (0.01622) yes (0.01563) free (0.01218) note (0.01164) based (0.01053) entire (0.00950)\n",
      "Topic #7: said (0.05162) didn (0.04919) did (0.03587) probably (0.03095) know (0.03079) went (0.03055) time (0.02994) told (0.02958) came (0.02922) going (0.02721) days (0.02630) thought (0.02586) took (0.02439) day (0.02236) come (0.01960) saw (0.01925) just (0.01858) ll (0.01830) asked (0.01739) like (0.01655)\n",
      "Topic #8: 10 (0.04438) 11 (0.04236) 12 (0.03994) 24 (0.03584) 14 (0.03573) 17 (0.03424) 16 (0.03272) 18 (0.02974) 15 (0.02858) 13 (0.02835) 21 (0.02258) 27 (0.02238) 20 (0.02229) 19 (0.02176) 55 (0.02112) 25 (0.02058) 22 (0.02023) 23 (0.02011) 92 (0.01864) 26 (0.01822)\n",
      "Topic #9: machine (0.12260) questions (0.09027) copy (0.08635) answer (0.08034) machines (0.06789) drivers (0.06750) win (0.05495) vs (0.05429) break (0.04793) network (0.03528) check (0.03329) tell (0.03123) series (0.02997) needed (0.02165) running (0.02161) ask (0.01782) stop (0.01459) use (0.01353) does (0.01123) currently (0.01115)\n",
      "Topic #10: available (0.09775) information (0.09177) software (0.04629) based (0.03184) version (0.03067) contact (0.03025) library (0.02469) ibm (0.02427) anonymous (0.02427) unix (0.02310) programs (0.02305) type (0.02243) paper (0.01981) written (0.01969) source (0.01961) object (0.01947) code (0.01854) related (0.01781) functions (0.01623) 3d (0.01622)\n",
      "Topic #11: window (0.16368) question (0.10688) source (0.06471) ask (0.05871) code (0.05309) event (0.04619) sources (0.04563) appreciate (0.04276) comments (0.04116) events (0.03787) function (0.03215) like (0.03181) exist (0.02821) answers (0.02698) appears (0.02418) don (0.02103) know (0.01643) way (0.01337) state (0.01207) thanks (0.01143)\n",
      "Topic #12: armenian (0.08094) armenians (0.07100) turkish (0.06338) people (0.05063) greek (0.03728) turkey (0.03529) armenia (0.03064) russian (0.02743) turks (0.02625) soviet (0.02541) army (0.02455) government (0.02368) attack (0.02282) population (0.01970) city (0.01549) father (0.01532) women (0.01492) war (0.01374) children (0.01301) history (0.01267)\n",
      "Topic #13: line (0.12719) place (0.08730) night (0.08138) building (0.07986) left (0.07224) fbi (0.06746) gas (0.05786) hours (0.05551) unit (0.04875) cross (0.04809) room (0.03695) started (0.03545) second (0.03521) story (0.03477) person (0.02524) reference (0.02289) tv (0.00868) saw (0.00832) rest (0.00759) local (0.00658)\n",
      "Topic #14: 00 (0.17408) 50 (0.08601) 20 (0.08329) 10 (0.07822) 25 (0.07560) 30 (0.05441) 15 (0.05325) 40 (0.04168) 60 (0.02809) cover (0.02705) 1st (0.02156) 100 (0.01801) 75 (0.01721) 70 (0.01690) new (0.01659) appears (0.01625) 35 (0.01576) 80 (0.01328) man (0.01156) 12 (0.00809)\n",
      "Topic #15: ax (0.96082) pl (0.00462) 1t (0.00394) bhj (0.00369) 3t (0.00363) giz (0.00358) 7ey (0.00313) a86 (0.00276) b8f (0.00204) max (0.00200) 2tm (0.00190) gk (0.00170) 6ei (0.00166) 1d9 (0.00119) 9v (0.00068) 0t (0.00044) 80 (0.00035) g9v (0.00032) 25 (0.00030) 34u (0.00030)\n",
      "Topic #16: heard (0.04012) says (0.03938) did (0.03517) understand (0.03459) children (0.03402) guess (0.02872) ve (0.02827) hear (0.02810) life (0.02793) said (0.02558) dead (0.02395) things (0.02322) just (0.02295) death (0.02156) ok (0.02104) women (0.02071) ask (0.02057) men (0.02034) great (0.02034) seen (0.01764)\n",
      "Topic #17: right (0.44177) got (0.12000) water (0.08659) long (0.07076) white (0.05515) late (0.04548) away (0.03487) street (0.02970) held (0.01877) wait (0.01524) arms (0.01416) called (0.01217) condition (0.01145) looks (0.00965) coming (0.00497) takes (0.00404) write (0.00390) difference (0.00333) place (0.00281) went (0.00253)\n",
      "Topic #18: key (0.12917) graphics (0.06996) chip (0.06352) keys (0.04592) clipper (0.03938) encryption (0.03573) bit (0.03111) algorithm (0.02880) design (0.02745) secret (0.02730) standard (0.02685) des (0.02519) data (0.02355) nsa (0.02080) number (0.02058) escrow (0.02009) used (0.01750) security (0.01720) bits (0.01659) public (0.01506)\n",
      "Topic #19: windows (0.17873) dos (0.10560) version (0.06829) ms (0.06369) os (0.05124) comp (0.04887) manager (0.03825) 93 (0.03428) includes (0.03265) package (0.02941) apr (0.02448) tools (0.02274) date (0.02230) 1993 (0.02102) interface (0.01957) using (0.01945) release (0.01746) run (0.01706) unix (0.01458) runs (0.01229)\n",
      "Topic #20: government (0.05615) law (0.04679) public (0.02670) privacy (0.02019) use (0.01938) private (0.01856) crime (0.01791) legal (0.01640) security (0.01619) laws (0.01598) federal (0.01596) administration (0.01587) congress (0.01527) weapons (0.01523) clinton (0.01388) house (0.01316) people (0.01313) encryption (0.01271) protect (0.01238) enforcement (0.01199)\n",
      "Topic #21: car (0.04234) like (0.02666) just (0.02655) buy (0.02270) speed (0.02168) driver (0.01998) high (0.01987) good (0.01901) power (0.01899) don (0.01773) cost (0.01692) board (0.01524) cars (0.01507) work (0.01479) need (0.01442) engine (0.01439) low (0.01387) bought (0.01351) better (0.01316) ve (0.01291)\n",
      "Topic #22: god (0.07967) jesus (0.03453) believe (0.02450) bible (0.02214) christian (0.02149) does (0.01972) church (0.01864) faith (0.01712) people (0.01695) religion (0.01666) christians (0.01644) christ (0.01548) truth (0.01476) life (0.01445) man (0.01320) say (0.01258) religious (0.01198) true (0.01011) son (0.01010) belief (0.00996)\n",
      "Topic #23: israel (0.14420) jews (0.13241) anybody (0.10804) israeli (0.09043) jewish (0.07836) anti (0.06594) tax (0.06218) land (0.05286) peace (0.04080) policy (0.02495) citizens (0.01858) country (0.01771) solution (0.01508) state (0.01334) according (0.01173) fact (0.00970) said (0.00917) situation (0.00779) area (0.00762) attack (0.00682)\n",
      "Topic #24: server (0.12159) application (0.09404) motif (0.07756) sun (0.07427) widget (0.07163) running (0.07020) mit (0.05936) xt (0.05070) applications (0.04831) x11 (0.04516) volume (0.02968) limited (0.02783) available (0.01834) following (0.01553) example (0.01517) calls (0.01503) create (0.01471) start (0.01190) memory (0.01165) code (0.01116)\n",
      "Topic #25: db (0.22068) cx (0.19495) w7 (0.15740) al (0.12844) ah (0.11050) bh (0.08998) cs (0.05616) bits (0.01939) ca (0.00978) int (0.00215) display (0.00074) number (0.00001) 24 (0.00001) common (0.00001) right (0.00001) times (0.00001) higher (0.00001) code (0.00001) rules (0.00001) lower (0.00001)\n",
      "Topic #26: group (0.09952) different (0.09827) groups (0.06342) lot (0.05874) test (0.05018) body (0.03505) week (0.03123) knowledge (0.03084) pin (0.03083) range (0.02809) deal (0.02742) organization (0.02702) result (0.02306) big (0.02198) small (0.01982) current (0.01480) addition (0.01429) possibly (0.01390) kind (0.01384) having (0.01342)\n",
      "Topic #27: good (0.08357) bad (0.04880) oh (0.04039) little (0.04013) effect (0.03807) black (0.03786) getting (0.03698) reply (0.03428) left (0.03170) course (0.02969) short (0.02746) hot (0.02605) soon (0.02503) action (0.02380) physical (0.02377) just (0.02311) don (0.02279) instead (0.02010) appropriate (0.01862) real (0.01710)\n",
      "Topic #28: help (0.08404) stuff (0.07352) able (0.04993) looking (0.04649) thanks (0.04585) bike (0.04514) hi (0.04099) area (0.03840) appreciated (0.03819) package (0.03699) especially (0.03316) need (0.03117) like (0.02607) dod (0.02426) normal (0.02185) road (0.02066) good (0.01817) large (0.01604) experience (0.01529) child (0.01529)\n",
      "Topic #29: states (0.05318) world (0.04963) state (0.03913) war (0.03840) united (0.03201) power (0.03152) rights (0.02731) human (0.02583) american (0.02475) military (0.02352) years (0.02321) political (0.02255) history (0.02220) community (0.02210) term (0.02090) major (0.01918) air (0.01872) plan (0.01787) safety (0.01750) important (0.01566)\n",
      "Topic #30: won (0.17963) evidence (0.15805) league (0.11278) lost (0.08758) red (0.08210) 02 (0.05123) jim (0.04883) 01 (0.04493) 500 (0.04317) 03 (0.04154) 04 (0.03490) context (0.02570) national (0.01675) early (0.01580) carry (0.01571) american (0.00774) created (0.00588) claims (0.00512) home (0.00456) road (0.00354)\n",
      "Topic #31: space (0.11417) research (0.04575) nasa (0.04401) data (0.04243) science (0.04061) center (0.03831) launch (0.02725) earth (0.02507) radio (0.02463) theory (0.02297) scientific (0.02124) satellite (0.02026) technology (0.01896) program (0.01833) shuttle (0.01780) orbit (0.01760) analysis (0.01758) sci (0.01752) systems (0.01727) station (0.01721)\n",
      "Topic #32: drive (0.18629) scsi (0.10787) pc (0.08358) hard (0.07857) drives (0.06032) controller (0.05525) cd (0.05468) rom (0.04003) ide (0.03995) mac (0.03980) mb (0.03493) cable (0.02373) internal (0.02348) interface (0.02298) transfer (0.01620) 32 (0.01501) 16 (0.01169) supports (0.00934) wide (0.00901) devices (0.00678)\n",
      "Topic #33: sure (0.21411) post (0.13541) health (0.10132) net (0.08419) ground (0.07743) medical (0.07738) face (0.06889) sorry (0.05841) party (0.04810) usa (0.04354) claims (0.02258) make (0.00968) 90 (0.00844) know (0.00837) carry (0.00648) like (0.00579) need (0.00507) requires (0.00407) cause (0.00365) outside (0.00352)\n",
      "Topic #34: mail (0.06537) send (0.06131) address (0.04539) faq (0.03989) email (0.03913) computer (0.03746) ca (0.03485) request (0.02906) user (0.02665) fax (0.02616) uk (0.02615) ac (0.02261) phone (0.02259) keyboard (0.02145) export (0.02045) page (0.01996) org (0.01913) net (0.01756) message (0.01705) digital (0.01642)\n",
      "Topic #35: old (0.06735) year (0.04374) years (0.04001) rate (0.03320) interesting (0.03000) word (0.02876) hand (0.02632) probably (0.02561) company (0.02297) record (0.02203) higher (0.02177) insurance (0.02093) included (0.02015) mass (0.02000) language (0.01972) single (0.01962) add (0.01882) longer (0.01852) plus (0.01796) final (0.01741)\n",
      "Topic #36: card (0.10362) data (0.06966) memory (0.06359) video (0.05862) bit (0.05632) bus (0.04425) ram (0.04276) cards (0.03886) serial (0.03880) mode (0.03824) port (0.03631) chips (0.03428) modem (0.03105) 16 (0.02867) vga (0.02656) speed (0.01822) computer (0.01523) uses (0.01427) need (0.01314) chip (0.01302)\n",
      "Topic #37: g9v (0.09127) b8f (0.08101) 145 (0.06600) a86 (0.06212) 1d9 (0.04639) 34u (0.04248) pl (0.04170) 0t (0.03898) 75u (0.03839) 2di (0.03603) wm (0.02859) 0d (0.02276) 1t (0.02175) chz (0.02127) sl (0.01964) lk (0.01908) bhj (0.01895) bxn (0.01859) d9 (0.01815) ax (0.01788)\n",
      "Topic #38: mr (0.08164) 000 (0.07493) president (0.05851) 1993 (0.05071) april (0.04717) national (0.04206) university (0.03833) stephanopoulos (0.03621) press (0.03316) million (0.02994) members (0.02715) number (0.02430) said (0.02374) conference (0.02341) 1992 (0.02283) 1991 (0.01566) population (0.01435) letter (0.01316) department (0.01307) strong (0.01292)\n",
      "Topic #39: article (0.04209) current (0.03747) use (0.03672) posting (0.03668) subject (0.03497) entry (0.03087) read (0.02650) text (0.02559) original (0.02292) rules (0.02208) posted (0.02175) note (0.01936) error (0.01907) title (0.01724) number (0.01687) changes (0.01595) following (0.01561) author (0.01503) example (0.01398) given (0.01361)\n",
      "Topic #40: file (0.22523) files (0.11678) disk (0.09091) info (0.07422) format (0.05350) jpeg (0.03518) floppy (0.03308) directory (0.03258) write (0.03017) gif (0.02336) read (0.01461) size (0.01454) command (0.01414) need (0.01393) number (0.01208) standard (0.01171) email (0.01087) ftp (0.01027) error (0.01020) type (0.00914)\n",
      "Topic #41: things (0.03960) time (0.03809) idea (0.03635) ve (0.03612) quite (0.03230) having (0.03003) book (0.02503) like (0.02282) problem (0.02209) possible (0.02196) haven (0.02016) read (0.01931) cause (0.01917) people (0.01811) got (0.01643) food (0.01528) ideas (0.01524) simple (0.01511) common (0.01483) deleted (0.01477)\n",
      "Topic #42: new (0.15763) list (0.09989) news (0.08343) san (0.04939) york (0.04129) city (0.03961) st (0.03909) pittsburgh (0.03157) chicago (0.03145) washington (0.03004) tv (0.02851) usenet (0.02792) east (0.02614) day (0.02088) california (0.02008) south (0.01737) recent (0.01730) newsgroup (0.01726) steve (0.01451) post (0.01394)\n",
      "Topic #43: game (0.12152) team (0.11804) games (0.08436) hockey (0.06047) players (0.05888) points (0.04205) player (0.03948) teams (0.03878) average (0.03843) nhl (0.03683) goal (0.03380) win (0.03273) canada (0.02902) best (0.02840) steve (0.02248) good (0.01943) shot (0.01454) point (0.01320) chance (0.01212) great (0.01082)\n",
      "Topic #44: max (0.98473) giz (0.00255) ll (0.00189) 04 (0.00168) 7ey (0.00157) 2tm (0.00147) pc (0.00071) end (0.00063) 1d9 (0.00035) sl (0.00000) bxn (0.00000) 2di (0.00000) ax (0.00000) check (0.00000) st (0.00000) home (0.00000) went (0.00000) making (0.00000) far (0.00000) american (0.00000)\n",
      "Topic #45: interested (0.05309) price (0.05236) sale (0.03946) offer (0.03921) monitor (0.03528) sell (0.03081) condition (0.02895) tape (0.02812) shipping (0.02774) box (0.02558) asking (0.02483) wire (0.02454) best (0.02426) ii (0.02364) mail (0.02360) excellent (0.02318) 250 (0.02270) manual (0.02098) supply (0.02041) new (0.02032)\n",
      "Topic #46: people (0.16116) want (0.05158) live (0.04046) ones (0.04013) knows (0.03354) young (0.03259) knew (0.03149) day (0.03103) inside (0.03005) doing (0.02860) die (0.02761) picture (0.02727) media (0.02555) leave (0.02544) let (0.02392) today (0.02152) choice (0.02127) wanted (0.02108) follow (0.02078) drug (0.01950)\n",
      "Topic #47: set (0.17557) value (0.13509) return (0.12898) service (0.12256) include (0.11374) define (0.07679) values (0.07236) main (0.06193) int (0.05932) change (0.01895) total (0.00882) case (0.00631) note (0.00607) terms (0.00385) statement (0.00180) basis (0.00107) don (0.00007) x11 (0.00004) did (0.00003) read (0.00001)\n",
      "Topic #48: problem (0.06741) work (0.06149) using (0.05197) run (0.04159) working (0.03905) open (0.03727) time (0.03147) problems (0.02744) build (0.02649) access (0.02312) help (0.02124) change (0.02067) trying (0.02043) look (0.01983) programs (0.01921) fine (0.01803) switch (0.01746) new (0.01699) project (0.01681) process (0.01618)\n",
      "Topic #49: don (0.05816) think (0.05139) just (0.03304) know (0.03184) like (0.02555) people (0.02458) say (0.02260) make (0.01982) really (0.01887) doesn (0.01673) good (0.01599) going (0.01469) does (0.01445) way (0.01393) want (0.01360) better (0.01223) believe (0.01164) ll (0.01096) point (0.01060) thing (0.01047)\n",
      "\n"
     ]
    }
   ],
   "source": [
    "%%time\n",
    "lda_models, lda_topics = decomposition_helper(news_train.data, method='lda', n_components=[10, 20, 50], vectorizer=CountVectorizer)"
   ]
  },
  {
   "cell_type": "code",
   "execution_count": 7,
   "metadata": {},
   "outputs": [
    {
     "name": "stdout",
     "output_type": "stream",
     "text": [
      "\n",
      "For n_components=10\n",
      "Topic #0: don (0.01778) just (0.01737) people (0.01707) think (0.01431) like (0.01203) know (0.00813) right (0.00765) ve (0.00720) did (0.00712) time (0.00708) say (0.00703) really (0.00640) good (0.00634) way (0.00602) make (0.00583) said (0.00570) going (0.00562) want (0.00561) things (0.00554) thing (0.00492)\n",
      "Topic #1: card (0.08603) video (0.04278) monitor (0.02833) cards (0.02211) drivers (0.02184) bus (0.02041) vga (0.01926) driver (0.01797) color (0.01617) memory (0.01536) bit (0.01509) ram (0.01389) board (0.01304) mode (0.01295) pc (0.01256) graphics (0.01157) apple (0.01099) 16 (0.01097) modem (0.01021) speed (0.01000)\n",
      "Topic #2: god (0.08988) jesus (0.03210) bible (0.01888) believe (0.01649) christ (0.01634) faith (0.01514) christian (0.01499) christians (0.01433) church (0.01198) does (0.01036) life (0.01022) sin (0.00977) truth (0.00942) lord (0.00942) say (0.00924) man (0.00859) hell (0.00842) christianity (0.00787) love (0.00771) belief (0.00758)\n",
      "Topic #3: game (0.04738) team (0.04004) year (0.03148) games (0.02694) season (0.02121) players (0.02045) play (0.01896) hockey (0.01687) win (0.01559) league (0.01307) player (0.01298) teams (0.01261) nhl (0.01159) good (0.01087) runs (0.00926) better (0.00910) best (0.00905) hit (0.00856) think (0.00726) time (0.00693)\n",
      "Topic #4: new (0.02427) car (0.02285) 00 (0.01352) 10 (0.01155) sale (0.01115) price (0.01000) space (0.00849) condition (0.00785) offer (0.00768) used (0.00753) good (0.00737) 20 (0.00696) bike (0.00679) 50 (0.00671) shipping (0.00667) 15 (0.00658) old (0.00646) power (0.00646) interested (0.00614) 30 (0.00607)\n",
      "Topic #5: thanks (0.09248) know (0.06237) does (0.06102) mail (0.03356) advance (0.03349) anybody (0.02382) hi (0.02365) looking (0.02207) info (0.02179) help (0.01943) appreciated (0.01741) information (0.01667) email (0.01481) address (0.01479) post (0.01415) need (0.01175) interested (0.01172) send (0.01057) like (0.01043) appreciate (0.01034)\n",
      "Topic #6: windows (0.04591) file (0.02868) use (0.02426) files (0.02107) window (0.02019) dos (0.01956) program (0.01904) using (0.01663) problem (0.01559) running (0.01145) version (0.01041) run (0.00980) application (0.00904) server (0.00886) screen (0.00880) ms (0.00773) image (0.00758) help (0.00758) software (0.00751) ftp (0.00718)\n",
      "Topic #7: edu (0.15659) soon (0.03176) com (0.02479) university (0.02283) cs (0.02205) email (0.01596) article (0.01516) internet (0.01407) send (0.01294) mail (0.01268) ftp (0.01203) david (0.01138) pub (0.01062) mit (0.00830) address (0.00808) au (0.00782) reply (0.00661) 1993 (0.00659) subject (0.00643) apr (0.00639)\n",
      "Topic #8: key (0.04880) chip (0.02812) encryption (0.02134) clipper (0.02039) keys (0.01875) government (0.01787) use (0.01560) public (0.01258) escrow (0.01207) law (0.01171) algorithm (0.01007) security (0.00998) phone (0.00993) data (0.00987) nsa (0.00980) bit (0.00898) number (0.00897) secure (0.00891) chips (0.00807) des (0.00772)\n",
      "Topic #9: drive (0.12485) scsi (0.04601) hard (0.03512) drives (0.03382) disk (0.03282) ide (0.02360) floppy (0.02165) controller (0.02155) cd (0.01490) mac (0.01316) tape (0.01102) internal (0.01083) power (0.01062) rom (0.01052) cable (0.00987) computer (0.00953) apple (0.00944) problem (0.00937) mb (0.00869) switch (0.00816)\n",
      "\n",
      "\n",
      "For n_components=20\n",
      "Topic #0: people (0.06198) government (0.01597) right (0.01146) gun (0.00927) armenian (0.00906) armenians (0.00816) law (0.00788) said (0.00748) rights (0.00677) state (0.00675) turkish (0.00641) guns (0.00637) person (0.00621) world (0.00577) crime (0.00557) make (0.00537) country (0.00536) point (0.00505) laws (0.00502) children (0.00495)\n",
      "Topic #1: card (0.09741) video (0.04810) monitor (0.03067) cards (0.02438) drivers (0.02346) bus (0.02294) vga (0.02163) driver (0.01999) color (0.01787) memory (0.01695) bit (0.01579) ram (0.01525) mode (0.01469) pc (0.01420) board (0.01380) graphics (0.01329) 16 (0.01143) speed (0.01107) apple (0.01106) modem (0.01092)\n",
      "Topic #2: god (0.10260) jesus (0.03593) bible (0.02103) believe (0.01872) christ (0.01816) faith (0.01686) christian (0.01640) christians (0.01551) church (0.01220) life (0.01097) sin (0.01095) say (0.01065) lord (0.01058) truth (0.01019) hell (0.00999) man (0.00968) love (0.00864) christianity (0.00854) belief (0.00838) true (0.00758)\n",
      "Topic #3: game (0.05920) team (0.04905) year (0.03547) games (0.03277) season (0.02524) players (0.02480) play (0.02255) hockey (0.02084) win (0.01833) league (0.01581) player (0.01528) teams (0.01505) nhl (0.01424) runs (0.01122) best (0.00971) hit (0.00913) better (0.00832) division (0.00758) points (0.00715) goal (0.00702)\n",
      "Topic #4: new (0.03003) 00 (0.02165) 10 (0.01657) sale (0.01641) space (0.01376) price (0.01087) offer (0.01081) 20 (0.01021) 15 (0.00991) shipping (0.00984) condition (0.00944) 50 (0.00900) 12 (0.00871) interested (0.00794) 30 (0.00785) 11 (0.00755) asking (0.00708) 25 (0.00678) 000 (0.00636) old (0.00605)\n",
      "Topic #5: thanks (0.13095) mail (0.04848) advance (0.04754) hi (0.03237) looking (0.03195) info (0.02633) information (0.02204) help (0.02154) address (0.02080) appreciated (0.02033) email (0.02029) post (0.01963) know (0.01755) anybody (0.01683) send (0.01612) interested (0.01548) appreciate (0.01398) need (0.01317) reply (0.01131) tell (0.01021)\n",
      "Topic #6: windows (0.07269) file (0.04437) files (0.03236) dos (0.03085) program (0.02425) window (0.02252) problem (0.01870) using (0.01660) running (0.01566) version (0.01476) run (0.01207) ms (0.01175) ftp (0.01163) screen (0.01143) directory (0.01018) application (0.00984) server (0.00984) pc (0.00883) manager (0.00849) os (0.00798)\n",
      "Topic #7: edu (0.20266) soon (0.04215) university (0.02790) cs (0.02702) ftp (0.01540) email (0.01476) article (0.01472) internet (0.01398) pub (0.01297) david (0.01284) send (0.01244) mit (0.00998) mail (0.00975) au (0.00933) mac (0.00729) subject (0.00689) directory (0.00632) news (0.00625) available (0.00623) apr (0.00614)\n",
      "Topic #8: key (0.06542) chip (0.03701) clipper (0.02610) encryption (0.02570) keys (0.02471) government (0.01692) escrow (0.01577) public (0.01460) algorithm (0.01316) bit (0.01235) nsa (0.01234) phone (0.01172) security (0.01165) secure (0.01089) law (0.01083) data (0.01069) number (0.01053) chips (0.01038) des (0.01001) secret (0.00924)\n",
      "Topic #9: drive (0.14069) scsi (0.05157) hard (0.03838) drives (0.03757) disk (0.03641) ide (0.02651) floppy (0.02414) controller (0.02382) cd (0.01633) mac (0.01394) tape (0.01216) internal (0.01197) rom (0.01163) power (0.01129) cable (0.01071) computer (0.01036) apple (0.00971) mb (0.00960) dos (0.00902) switch (0.00877)\n",
      "Topic #10: just (0.25753) thought (0.01371) tell (0.01294) ll (0.01162) mean (0.01158) oh (0.01027) wanted (0.00984) little (0.00981) work (0.00976) fine (0.00913) guess (0.00910) right (0.00898) maybe (0.00896) bit (0.00884) say (0.00870) sure (0.00867) way (0.00844) group (0.00806) doesn (0.00773) new (0.00641)\n",
      "Topic #11: does (0.24786) know (0.09071) anybody (0.03062) mean (0.01778) doesn (0.01040) work (0.00902) say (0.00893) program (0.00835) help (0.00811) exist (0.00761) exactly (0.00708) getting (0.00655) ftp (0.00615) actually (0.00582) info (0.00578) appreciated (0.00576) board (0.00565) heard (0.00560) new (0.00509) clear (0.00482)\n",
      "Topic #12: think (0.20642) lot (0.01117) really (0.01029) wrong (0.00872) better (0.00870) space (0.00862) science (0.00841) say (0.00812) try (0.00797) makes (0.00783) agree (0.00781) bit (0.00770) way (0.00673) original (0.00662) david (0.00649) moral (0.00642) wasn (0.00625) question (0.00622) pretty (0.00618) important (0.00599)\n",
      "Topic #13: like (0.23003) sounds (0.03270) looks (0.02423) look (0.02272) lot (0.01205) things (0.01204) sound (0.01159) make (0.01081) really (0.00881) doesn (0.00834) sure (0.00805) thing (0.00786) new (0.00769) doing (0.00736) believe (0.00713) hear (0.00665) source (0.00583) idea (0.00566) sort (0.00547) nice (0.00539)\n",
      "Topic #14: don (0.18718) know (0.09464) want (0.02593) let (0.01320) need (0.01301) sure (0.00864) believe (0.00841) sorry (0.00835) little (0.00801) really (0.00799) things (0.00775) doesn (0.00774) tell (0.00772) mean (0.00769) say (0.00739) ll (0.00720) oh (0.00710) read (0.00709) ask (0.00680) probably (0.00680)\n",
      "Topic #15: car (0.16745) cars (0.03593) engine (0.02224) speed (0.01716) bike (0.01156) driver (0.01026) price (0.00933) buy (0.00924) insurance (0.00858) road (0.00798) bought (0.00770) power (0.00764) fast (0.00753) drivers (0.00728) gas (0.00728) radio (0.00728) looks (0.00717) right (0.00676) year (0.00652) went (0.00635)\n",
      "Topic #16: good (0.02894) ve (0.02526) time (0.02290) got (0.01514) did (0.01173) really (0.00944) problem (0.00940) ll (0.00896) years (0.00878) going (0.00875) didn (0.00857) long (0.00832) thing (0.00819) bike (0.00737) seen (0.00735) heard (0.00721) way (0.00687) better (0.00686) ago (0.00659) sure (0.00618)\n",
      "Topic #17: israel (0.07870) israeli (0.04210) jews (0.03652) jewish (0.02152) war (0.01496) peace (0.01430) state (0.01421) did (0.01128) anti (0.01036) land (0.01018) question (0.00913) rights (0.00843) killed (0.00833) fact (0.00823) human (0.00792) said (0.00742) policy (0.00731) states (0.00657) citizens (0.00642) claim (0.00632)\n",
      "Topic #18: use (0.13659) used (0.01544) using (0.01510) work (0.01225) window (0.01100) want (0.01036) way (0.00931) available (0.00845) set (0.00828) widget (0.00769) software (0.00745) need (0.00733) image (0.00722) data (0.00702) motif (0.00649) different (0.00626) mac (0.00600) uses (0.00586) code (0.00580) help (0.00574)\n",
      "Topic #19: com (0.16759) list (0.02765) dave (0.01680) article (0.01651) sun (0.01361) internet (0.01353) address (0.01238) phone (0.01198) email (0.01192) hp (0.01153) ibm (0.01064) said (0.00996) mail (0.00987) reply (0.00956) away (0.00924) jim (0.00900) paul (0.00678) ca (0.00659) mouse (0.00642) code (0.00633)\n",
      "\n",
      "\n",
      "For n_components=50\n",
      "Topic #0: people (0.21061) things (0.01292) person (0.01186) life (0.00992) world (0.00947) food (0.00837) way (0.00754) lot (0.00683) group (0.00666) care (0.00651) live (0.00643) point (0.00642) thing (0.00642) different (0.00628) come (0.00618) sort (0.00610) society (0.00605) isn (0.00562) true (0.00553) saying (0.00540)\n",
      "Topic #1: use (0.26677) using (0.01797) work (0.01727) available (0.01201) way (0.01023) different (0.00930) machine (0.00898) encryption (0.00821) instead (0.00816) image (0.00813) uses (0.00767) help (0.00711) set (0.00707) drug (0.00703) device (0.00686) current (0.00677) program (0.00650) usually (0.00606) software (0.00603) doesn (0.00592)\n",
      "Topic #2: god (0.27095) hell (0.02062) lord (0.01933) existence (0.01683) sin (0.01533) atheism (0.01407) faith (0.01365) son (0.01270) truth (0.01213) bible (0.01204) christ (0.01191) love (0.01163) exist (0.01129) man (0.01114) belief (0.01086) life (0.01053) created (0.00843) father (0.00807) world (0.00801) things (0.00778)\n",
      "Topic #3: team (0.10924) players (0.05409) hockey (0.03200) teams (0.03174) season (0.03063) nhl (0.03054) play (0.03023) player (0.02927) win (0.02540) league (0.02232) games (0.02064) best (0.01966) better (0.01511) runs (0.01298) points (0.01204) division (0.01066) pittsburgh (0.00889) north (0.00866) average (0.00730) canada (0.00683)\n",
      "Topic #4: space (0.10593) nasa (0.03778) shuttle (0.01992) launch (0.01879) orbit (0.01627) station (0.01505) earth (0.01481) program (0.01323) gov (0.01255) science (0.01133) data (0.01120) sci (0.01105) research (0.01095) satellite (0.00996) cost (0.00967) center (0.00885) technology (0.00733) available (0.00716) commercial (0.00697) idea (0.00652)\n",
      "Topic #5: thanks (0.29629) advance (0.09901) hi (0.06083) info (0.03800) anybody (0.02694) appreciated (0.02573) appreciate (0.02382) help (0.02375) tell (0.02176) email (0.02170) reply (0.01143) ftp (0.01134) lot (0.01038) post (0.01017) site (0.00917) information (0.00888) net (0.00863) gif (0.00728) says (0.00655) response (0.00642)\n",
      "Topic #6: windows (0.19951) dos (0.07958) ms (0.03058) version (0.02897) running (0.02620) using (0.02518) drivers (0.02108) os (0.02004) run (0.01973) driver (0.01718) printer (0.01577) screen (0.01424) software (0.01320) pc (0.01200) program (0.01152) win (0.01136) programs (0.01121) files (0.01111) mouse (0.01069) machine (0.01056)\n",
      "Topic #7: edu (0.25324) soon (0.05302) university (0.03351) cs (0.03342) article (0.01742) david (0.01590) internet (0.01564) ftp (0.01558) email (0.01441) pub (0.01391) mit (0.01185) au (0.01118) send (0.00779) subject (0.00759) apr (0.00753) department (0.00727) 1993 (0.00720) export (0.00658) news (0.00645) tar (0.00636)\n",
      "Topic #8: key (0.09601) chip (0.05102) keys (0.03482) clipper (0.03440) encryption (0.03219) escrow (0.02139) algorithm (0.01771) public (0.01635) nsa (0.01601) phone (0.01514) bit (0.01501) security (0.01454) chips (0.01426) secure (0.01376) number (0.01361) des (0.01355) secret (0.01265) serial (0.01016) bits (0.00984) data (0.00963)\n",
      "Topic #9: drive (0.22460) hard (0.05830) drives (0.05564) disk (0.05191) floppy (0.03750) ide (0.02206) cd (0.02154) controller (0.01759) power (0.01720) tape (0.01622) internal (0.01560) switch (0.01472) rom (0.01463) scsi (0.01363) dos (0.01260) format (0.01241) computer (0.01198) cable (0.01140) 25 (0.01020) mb (0.00886)\n",
      "Topic #10: just (0.32829) thought (0.01726) little (0.01264) maybe (0.01183) wanted (0.01175) work (0.01154) mean (0.01133) tell (0.01100) fine (0.01071) guess (0.01047) oh (0.01034) say (0.00974) doesn (0.00948) group (0.00925) way (0.00892) bit (0.00882) actually (0.00759) things (0.00689) case (0.00667) real (0.00659)\n",
      "Topic #11: does (0.35316) anybody (0.03396) mean (0.03110) work (0.01574) say (0.01473) exist (0.01064) help (0.01026) actually (0.00994) info (0.00854) exactly (0.00851) board (0.00766) doesn (0.00724) clear (0.00638) message (0.00568) ftp (0.00559) idea (0.00538) gives (0.00536) sound (0.00535) needs (0.00525) read (0.00525)\n",
      "Topic #12: don (0.31272) mean (0.02018) say (0.01339) read (0.01225) believe (0.01176) little (0.01148) care (0.01107) things (0.01091) understand (0.01081) work (0.01049) sorry (0.01018) oh (0.00989) pretty (0.00814) case (0.00811) tell (0.00790) remember (0.00739) try (0.00737) probably (0.00731) quite (0.00710) haven (0.00673)\n",
      "Topic #13: like (0.32259) sounds (0.04451) looks (0.03301) look (0.02879) things (0.01660) lot (0.01563) sound (0.01405) thing (0.00998) doing (0.00940) problems (0.00880) doesn (0.00865) hear (0.00750) believe (0.00735) sort (0.00723) looked (0.00712) idea (0.00688) nice (0.00604) having (0.00594) real (0.00575) going (0.00569)\n",
      "Topic #14: know (0.40530) let (0.06087) anybody (0.02256) doesn (0.01901) maybe (0.01494) didn (0.01278) program (0.01247) far (0.01243) heard (0.01207) interested (0.01175) getting (0.00988) kind (0.00950) going (0.00917) happen (0.00865) source (0.00844) wanted (0.00829) come (0.00672) appreciated (0.00663) knows (0.00633) mentioned (0.00588)\n",
      "Topic #15: car (0.21065) cars (0.04376) engine (0.02510) speed (0.02027) driver (0.01197) buy (0.00906) drivers (0.00897) power (0.00867) price (0.00860) radio (0.00859) insurance (0.00846) bought (0.00843) road (0.00823) fast (0.00822) looks (0.00818) gas (0.00817) went (0.00758) small (0.00748) said (0.00663) quite (0.00616)\n",
      "Topic #16: good (0.27760) bad (0.01870) thing (0.01666) pretty (0.01529) world (0.01256) better (0.01198) quality (0.01079) idea (0.01036) book (0.00971) say (0.00953) point (0.00807) chance (0.00748) things (0.00734) getting (0.00681) little (0.00679) course (0.00622) ones (0.00615) days (0.00608) books (0.00606) nice (0.00589)\n",
      "Topic #17: question (0.12225) answer (0.06935) ask (0.02225) questions (0.02186) post (0.01718) course (0.01677) true (0.01272) original (0.01150) read (0.01099) article (0.01009) posting (0.00978) asked (0.00967) discussion (0.00964) group (0.00918) case (0.00865) science (0.00843) possible (0.00833) answers (0.00828) real (0.00802) yes (0.00765)\n",
      "Topic #18: think (0.29644) lot (0.01371) wrong (0.01037) makes (0.01018) try (0.00996) bit (0.00879) wasn (0.00877) agree (0.00858) better (0.00832) come (0.00831) pretty (0.00807) way (0.00805) moral (0.00803) science (0.00791) david (0.00738) win (0.00737) said (0.00735) remember (0.00679) original (0.00675) important (0.00672)\n",
      "Topic #19: com (0.25421) dave (0.02508) article (0.02185) internet (0.01763) sun (0.01623) hp (0.01601) email (0.01522) ibm (0.01518) away (0.01442) said (0.01361) reply (0.01264) phone (0.01260) jim (0.01259) paul (0.00960) mouse (0.00933) al (0.00818) port (0.00814) mark (0.00803) apr (0.00787) ca (0.00778)\n",
      "Topic #20: israel (0.13035) israeli (0.06813) jews (0.05375) jewish (0.03047) peace (0.02233) war (0.02004) state (0.01535) land (0.01449) anti (0.01391) killed (0.01149) policy (0.01049) human (0.00970) rights (0.00895) fact (0.00893) citizens (0.00838) center (0.00812) research (0.00794) agree (0.00760) attack (0.00731) american (0.00719)\n",
      "Topic #21: ve (0.25647) seen (0.06577) heard (0.05790) tried (0.01839) times (0.01252) recently (0.01167) try (0.01024) read (0.00938) maybe (0.00879) actually (0.00851) great (0.00816) problems (0.00809) believe (0.00787) past (0.00779) months (0.00774) couple (0.00753) yes (0.00735) years (0.00689) thing (0.00670) help (0.00666)\n",
      "Topic #22: window (0.14604) application (0.02963) manager (0.02863) display (0.02668) server (0.02600) program (0.02411) motif (0.02356) using (0.02122) widget (0.01978) code (0.01725) screen (0.01634) set (0.01383) running (0.01246) way (0.01189) user (0.01141) sun (0.01029) size (0.00922) color (0.00904) mit (0.00858) event (0.00857)\n",
      "Topic #23: new (0.26565) york (0.03464) price (0.01129) old (0.01011) gm (0.00974) apple (0.00827) technology (0.00793) years (0.00747) computer (0.00712) cover (0.00657) thinking (0.00656) thing (0.00650) bought (0.00591) called (0.00587) buy (0.00570) money (0.00563) chicago (0.00562) books (0.00560) room (0.00555) day (0.00545)\n",
      "Topic #24: government (0.03671) law (0.03255) gun (0.03237) state (0.01859) guns (0.01740) laws (0.01446) federal (0.01303) rights (0.01294) crime (0.01260) police (0.01249) control (0.01083) weapons (0.01055) case (0.01017) public (0.00942) firearms (0.00870) court (0.00853) states (0.00848) clinton (0.00825) legal (0.00818) citizens (0.00738)\n",
      "Topic #25: did (0.22455) didn (0.03486) say (0.01829) fbi (0.01756) claim (0.01561) way (0.01468) evidence (0.01416) thought (0.00888) news (0.00887) said (0.00867) children (0.00847) took (0.00804) going (0.00796) told (0.00777) having (0.00762) went (0.00723) far (0.00682) saw (0.00650) came (0.00649) ago (0.00618)\n",
      "Topic #26: 10 (0.04608) 12 (0.02738) 11 (0.02565) 15 (0.02459) 20 (0.01890) 16 (0.01844) 14 (0.01757) 13 (0.01637) 17 (0.01573) 25 (0.01565) 21 (0.01468) 24 (0.01455) 18 (0.01450) 30 (0.01404) 23 (0.01356) 19 (0.01275) period (0.01203) 1993 (0.01176) 50 (0.01131) 22 (0.01121)\n",
      "Topic #27: problem (0.19076) problems (0.03122) using (0.01823) work (0.01707) try (0.01481) error (0.01466) fine (0.01367) apple (0.01343) screen (0.01263) help (0.01174) having (0.01143) solution (0.00946) cause (0.00941) works (0.00864) machine (0.00853) line (0.00819) monitor (0.00818) tried (0.00815) worked (0.00812) running (0.00787)\n",
      "Topic #28: file (0.15236) files (0.08580) ftp (0.03629) program (0.03385) directory (0.02823) format (0.02511) image (0.02010) available (0.01618) pub (0.01535) gif (0.01470) site (0.01197) graphics (0.01180) read (0.01120) copy (0.01015) try (0.00952) disk (0.00906) pc (0.00826) data (0.00824) win (0.00807) code (0.00804)\n",
      "Topic #29: need (0.27862) help (0.03944) buy (0.01856) run (0.01819) maybe (0.01402) able (0.01381) work (0.01204) board (0.01169) appreciated (0.01122) package (0.01097) memory (0.01089) true (0.00929) hardware (0.00917) pin (0.00882) end (0.00830) project (0.00784) add (0.00690) unless (0.00686) line (0.00681) supply (0.00680)\n",
      "Topic #30: time (0.18425) long (0.03887) years (0.01810) ago (0.01797) real (0.00882) going (0.00813) running (0.00788) read (0.00777) remember (0.00767) didn (0.00707) having (0.00675) little (0.00670) life (0.00668) weeks (0.00667) actually (0.00660) course (0.00659) experience (0.00608) goes (0.00606) problems (0.00605) finally (0.00582)\n",
      "Topic #31: year (0.20626) old (0.04382) years (0.03367) season (0.02487) ago (0.01767) hit (0.01411) won (0.01320) 000 (0.01269) games (0.01217) league (0.01070) better (0.01032) average (0.01010) early (0.00867) lot (0.00815) 20 (0.00743) week (0.00717) 1992 (0.00713) remember (0.00698) numbers (0.00685) end (0.00654)\n",
      "Topic #32: game (0.23256) games (0.06134) night (0.02354) hit (0.01954) play (0.01942) hockey (0.01888) goal (0.01812) runs (0.01598) win (0.01322) run (0.01282) home (0.01026) season (0.01025) day (0.00985) shot (0.00945) defense (0.00833) came (0.00797) second (0.00790) red (0.00755) away (0.00754) tv (0.00746)\n",
      "Topic #33: armenian (0.05693) armenians (0.04948) turkish (0.03756) said (0.03441) armenia (0.02435) turkey (0.02429) turks (0.02045) soviet (0.01470) russian (0.01386) greek (0.01352) children (0.01262) war (0.01221) women (0.01186) world (0.01035) population (0.01033) million (0.01031) killed (0.01008) government (0.00954) mr (0.00926) men (0.00923)\n",
      "Topic #34: used (0.16658) water (0.01596) years (0.01530) high (0.01248) actually (0.01218) air (0.01113) hot (0.01067) test (0.01043) way (0.00967) version (0.00944) using (0.00888) modem (0.00886) power (0.00853) ago (0.00839) output (0.00819) model (0.00765) couple (0.00745) set (0.00719) number (0.00631) engine (0.00607)\n",
      "Topic #35: right (0.21656) left (0.04747) wrong (0.02014) oh (0.01382) hand (0.01322) let (0.01295) turn (0.01288) arms (0.01194) going (0.01086) way (0.01043) course (0.01036) kind (0.00768) rights (0.00748) shall (0.00712) point (0.00694) place (0.00682) human (0.00675) yes (0.00657) actually (0.00643) company (0.00639)\n",
      "Topic #36: mail (0.16361) address (0.08011) send (0.05057) post (0.03168) phone (0.02146) fax (0.02051) interested (0.01993) reply (0.01575) info (0.01439) internet (0.01310) thank (0.01302) order (0.01287) email (0.01202) uk (0.01130) information (0.01010) available (0.00989) ca (0.00930) copy (0.00900) number (0.00843) box (0.00832)\n",
      "Topic #37: bike (0.21553) dod (0.03213) engine (0.01824) road (0.01492) turn (0.01429) fast (0.01320) insurance (0.01150) black (0.01058) course (0.01056) left (0.01050) street (0.01049) thing (0.01047) ground (0.00990) live (0.00959) saw (0.00931) buy (0.00914) going (0.00807) little (0.00794) work (0.00771) 500 (0.00746)\n",
      "Topic #38: looking (0.19501) information (0.06211) book (0.03142) help (0.03135) graphics (0.02304) appreciated (0.01989) source (0.01755) hi (0.01722) code (0.01641) interested (0.01526) email (0.01516) software (0.01425) thank (0.01056) algorithm (0.01023) anybody (0.00987) sources (0.00840) point (0.00831) subject (0.00747) books (0.00742) type (0.00678)\n",
      "Topic #39: jesus (0.05426) believe (0.03032) christian (0.02949) bible (0.02543) christians (0.02482) church (0.02402) christ (0.02035) faith (0.01762) christianity (0.01540) say (0.01500) religion (0.01450) true (0.01375) life (0.01077) point (0.01070) truth (0.00910) john (0.00889) evidence (0.00870) man (0.00848) word (0.00823) fact (0.00777)\n",
      "Topic #40: sale (0.07265) offer (0.05295) condition (0.04450) shipping (0.03826) price (0.03609) asking (0.03316) best (0.03232) email (0.02777) excellent (0.02425) sell (0.02405) interested (0.02280) original (0.01518) includes (0.01319) manual (0.01306) included (0.01170) great (0.01126) works (0.01029) contact (0.00984) model (0.00981) box (0.00978)\n",
      "Topic #41: 00 (0.28130) 50 (0.03494) 20 (0.02642) 30 (0.01570) dos (0.01554) cover (0.01495) price (0.01442) shipping (0.01262) 01 (0.01205) 40 (0.01015) 75 (0.00968) games (0.00938) 15 (0.00854) april (0.00847) 1st (0.00820) today (0.00819) man (0.00797) includes (0.00771) sale (0.00738) 25 (0.00683)\n",
      "Topic #42: card (0.16672) video (0.07962) monitor (0.04677) drivers (0.04033) cards (0.03788) vga (0.03522) driver (0.03233) color (0.02791) graphics (0.01969) mode (0.01914) bus (0.01683) ram (0.01415) 16 (0.01136) mouse (0.00964) screen (0.00960) performance (0.00955) board (0.00920) 24 (0.00860) display (0.00831) support (0.00794)\n",
      "Topic #43: make (0.17168) sure (0.12709) way (0.01505) possible (0.01389) difference (0.01334) big (0.01329) sense (0.01202) won (0.01013) wrong (0.00960) say (0.00845) doesn (0.00835) offer (0.00820) pretty (0.00810) work (0.00672) feel (0.00671) mike (0.00669) making (0.00660) wouldn (0.00657) trying (0.00632) ground (0.00627)\n",
      "Topic #44: scsi (0.07531) mac (0.05073) pc (0.03458) bus (0.03273) software (0.03227) bit (0.02701) controller (0.02640) memory (0.02542) ide (0.02457) data (0.02437) apple (0.01779) board (0.01599) port (0.01544) speed (0.01411) ibm (0.01351) ram (0.01289) modem (0.01266) interface (0.01096) hardware (0.01047) mb (0.01014)\n",
      "Topic #45: ll (0.24668) let (0.02463) tell (0.02345) post (0.02221) line (0.01813) course (0.01533) try (0.01482) said (0.01410) maybe (0.01298) didn (0.01177) check (0.01069) won (0.00890) great (0.00869) says (0.00788) way (0.00717) pay (0.00714) probably (0.00668) say (0.00656) stop (0.00649) start (0.00647)\n",
      "Topic #46: got (0.23781) didn (0.02583) going (0.02476) hit (0.01751) bad (0.01448) went (0.01283) thought (0.01049) idea (0.01030) home (0.01014) ago (0.00980) came (0.00974) wasn (0.00918) took (0.00912) started (0.00854) red (0.00783) nice (0.00776) probably (0.00756) end (0.00748) hope (0.00734) away (0.00732)\n",
      "Topic #47: want (0.22614) look (0.03195) probably (0.01533) better (0.01239) set (0.01211) send (0.01207) mouse (0.01172) copy (0.01129) buy (0.01091) come (0.01083) wouldn (0.01022) try (0.00924) hope (0.00909) reason (0.00847) able (0.00811) talk (0.00805) ask (0.00693) kind (0.00692) life (0.00682) going (0.00655)\n",
      "Topic #48: list (0.20526) faq (0.02339) motif (0.02136) add (0.01574) group (0.01557) probably (0.01487) request (0.01268) software (0.01106) net (0.01066) newsgroup (0.00972) news (0.00942) sun (0.00916) posted (0.00901) widget (0.00816) complete (0.00778) posting (0.00758) alt (0.00756) wish (0.00746) systems (0.00746) send (0.00725)\n",
      "Topic #49: really (0.16099) stuff (0.05818) deleted (0.05324) better (0.02138) isn (0.02102) doesn (0.01456) probably (0.01256) bad (0.01244) point (0.01062) hear (0.01058) little (0.01048) thing (0.00995) going (0.00886) lot (0.00866) mind (0.00817) didn (0.00809) say (0.00793) way (0.00775) great (0.00696) real (0.00629)\n",
      "\n"
     ]
    }
   ],
   "source": [
    "_, _ = decomposition_helper(news_train.data, method='nmf', n_components=[10, 20, 50], vectorizer=TfidfVectorizer)"
   ]
  },
  {
   "cell_type": "markdown",
   "metadata": {},
   "source": [
    "#### ES"
   ]
  },
  {
   "cell_type": "code",
   "execution_count": 37,
   "metadata": {},
   "outputs": [],
   "source": [
    "es_topic_indexer(lda_topics[10], 'topics20ng')"
   ]
  },
  {
   "cell_type": "code",
   "execution_count": 11,
   "metadata": {},
   "outputs": [
    {
     "data": {
      "text/plain": [
       "CountVectorizer(analyzer='word', binary=False, decode_error='strict',\n",
       "        dtype=<class 'numpy.int64'>, encoding='utf-8', input='content',\n",
       "        lowercase=True, max_df=0.95, max_features=1000, min_df=2,\n",
       "        ngram_range=(1, 1), preprocessor=None, stop_words='english',\n",
       "        strip_accents=None, token_pattern='(?u)\\\\b\\\\w\\\\w+\\\\b',\n",
       "        tokenizer=None, vocabulary=None)"
      ]
     },
     "execution_count": 11,
     "metadata": {},
     "output_type": "execute_result"
    }
   ],
   "source": [
    "vectorizer = CountVectorizer(stop_words='english', max_df=0.95, \n",
    "                             min_df=2, max_features=1000)\n",
    "vectorizer.fit(news_train.data)"
   ]
  },
  {
   "cell_type": "code",
   "execution_count": 82,
   "metadata": {},
   "outputs": [
    {
     "name": "stderr",
     "output_type": "stream",
     "text": [
      "100it [00:22,  4.40it/s]\n"
     ]
    }
   ],
   "source": [
    "_20ng_data = {}\n",
    "for idx, doc in tqdm(enumerate(news_train.data[:100])):\n",
    "    _20ng_data[idx] = {}\n",
    "    _20ng_data[idx]['text'] = doc\n",
    "    pd = lda_models[10].transform(vectorizer.transform([doc]))[0]\n",
    "    _20ng_data[idx]['topics'] = pd.argsort()[::-1]\n",
    "    _20ng_data[idx]['pd'] = pd[pd.argsort()[::-1]]"
   ]
  },
  {
   "cell_type": "code",
   "execution_count": 85,
   "metadata": {},
   "outputs": [
    {
     "name": "stderr",
     "output_type": "stream",
     "text": [
      "100%|██████████| 100/100 [00:06<00:00, 14.58it/s]\n"
     ]
    }
   ],
   "source": [
    "es_text_indexer(_20ng_data, '20ng')"
   ]
  },
  {
   "cell_type": "markdown",
   "metadata": {},
   "source": [
    "#### LDA analysis"
   ]
  },
  {
   "cell_type": "code",
   "execution_count": 59,
   "metadata": {},
   "outputs": [
    {
     "data": {
      "text/plain": [
       "(\"You can't make a Citizens arrest on anything but a felony.\\n.\\n  \\n\",\n",
       " 'rec.motorcycles')"
      ]
     },
     "execution_count": 59,
     "metadata": {},
     "output_type": "execute_result"
    }
   ],
   "source": [
    "news_train.data[0], news_train.target_names[news_train.target[0]]"
   ]
  },
  {
   "cell_type": "code",
   "execution_count": 60,
   "metadata": {},
   "outputs": [],
   "source": [
    "vectorizer = CountVectorizer(stop_words='english', max_df=0.95, min_df=2, max_features=1000)\n",
    "features = vectorizer.fit_transform(news_train.data)"
   ]
  },
  {
   "cell_type": "code",
   "execution_count": 62,
   "metadata": {},
   "outputs": [
    {
     "name": "stdout",
     "output_type": "stream",
     "text": [
      "10 ['key', 'use', 'government', 'law', 'gun', 'scsi', 'public', 'chip', 'encryption', 'used', 'keys', 'security', 'control', 'clipper', 'privacy', 'motif', 'state', 'using', 'people', 'rights']\n",
      "\n",
      "20 ['government', 'law', 'gun', 'president', 'state', 'states', 'rights', 'public', 'american', 'people', 'national', 'police', 'control', 'crime', 'guns', 'laws', 'administration', 'united', 'military', 'federal']\n",
      "\n",
      "50 ['government', 'law', 'public', 'privacy', 'use', 'private', 'crime', 'legal', 'security', 'laws', 'federal', 'administration', 'congress', 'weapons', 'clinton', 'house', 'people', 'encryption', 'protect', 'enforcement']\n",
      "\n"
     ]
    }
   ],
   "source": [
    "for n_topics, model in lda_models.items():\n",
    "    best_topic = model.transform(features[0])[0].argmax()\n",
    "    print(n_topics, [k for k in lda_topics[n_topics][best_topic].keys()])\n",
    "    print()"
   ]
  },
  {
   "cell_type": "markdown",
   "metadata": {},
   "source": [
    "The topics get better as the number of components increase."
   ]
  },
  {
   "cell_type": "markdown",
   "metadata": {},
   "source": [
    "## DUC"
   ]
  },
  {
   "cell_type": "code",
   "execution_count": 8,
   "metadata": {},
   "outputs": [],
   "source": [
    "data_path = '../../data/DUC/'\n",
    "docs = {}"
   ]
  },
  {
   "cell_type": "code",
   "execution_count": 9,
   "metadata": {},
   "outputs": [],
   "source": [
    "def get_docs(path):\n",
    "    import os\n",
    "    from bs4 import BeautifulSoup\n",
    "    gold_path = path + \"Summaries\"\n",
    "    \n",
    "    ret_dict = {}\n",
    "    \n",
    "    doc_files = os.listdir(path)\n",
    "    gold_files = os.listdir(gold_path)\n",
    "\n",
    "    for gold_file in gold_files:\n",
    "        file_name =  gold_file.split('.')[0].upper()\n",
    "        if file_name not in doc_files:\n",
    "            print('no file for %s' % gold_file)\n",
    "            continue\n",
    "\n",
    "        sum_path = gold_path + '/' + gold_file\n",
    "\n",
    "        with open(sum_path) as sum_file:                \n",
    "            summary, doc = sum_file.read().strip().split('Introduction:')\n",
    "            summary = summary.split('Abstract:')[1]\n",
    "            \n",
    "            ret_dict[file_name] = [doc.strip(), summary.strip()]\n",
    "    return ret_dict"
   ]
  },
  {
   "cell_type": "code",
   "execution_count": 10,
   "metadata": {},
   "outputs": [
    {
     "name": "stdout",
     "output_type": "stream",
     "text": [
      "no file for ap890325-0143.txt\n",
      "no file for ap900928-0054.txt\n"
     ]
    }
   ],
   "source": [
    "docs = get_docs(data_path)"
   ]
  },
  {
   "cell_type": "code",
   "execution_count": 11,
   "metadata": {},
   "outputs": [],
   "source": [
    "duc_data = [v[0] for k, v in docs.items()]"
   ]
  },
  {
   "cell_type": "code",
   "execution_count": 12,
   "metadata": {},
   "outputs": [
    {
     "name": "stdout",
     "output_type": "stream",
     "text": [
      "\n",
      "For n_components=10\n",
      "Topic #0: said (0.03492) hurricane (0.02118) taylor (0.01344) year (0.01271) eclipse (0.01230) disease (0.01008) drought (0.01001) people (0.00772) storm (0.00725) sun (0.00725) hurricanes (0.00705) center (0.00666) years (0.00647) hospital (0.00594) florida (0.00585) pneumonia (0.00574) farmers (0.00560) miami (0.00547) new (0.00544) 000 (0.00537)\n",
      "Topic #1: said (0.04476) police (0.02450) oil (0.01474) exxon (0.01263) earthquake (0.00902) forest (0.00884) year (0.00869) 000 (0.00868) national (0.00867) department (0.00852) fires (0.00802) spill (0.00763) officers (0.00727) officials (0.00700) miles (0.00690) officer (0.00680) valdez (0.00675) park (0.00658) state (0.00650) service (0.00607)\n",
      "Topic #2: said (0.02321) gun (0.01948) right (0.01933) party (0.01903) assassination (0.01902) government (0.01630) people (0.01514) amendment (0.01443) arms (0.01306) second (0.01176) candidate (0.01173) police (0.01125) state (0.01019) military (0.00976) presidential (0.00933) security (0.00931) bear (0.00890) president (0.00842) congress (0.00817) militia (0.00783)\n",
      "Topic #3: said (0.03633) mr (0.01679) bank (0.01614) air (0.01268) nafta (0.01267) crash (0.01198) says (0.01190) plane (0.01017) world (0.01000) diabetes (0.00798) people (0.00746) aircraft (0.00733) new (0.00704) year (0.00669) countries (0.00652) base (0.00594) force (0.00589) loans (0.00585) american (0.00561) crashed (0.00550)\n",
      "Topic #4: diamond (0.03591) path (0.02540) diamonds (0.02501) beers (0.02478) shining (0.02457) year (0.01581) market (0.01514) said (0.01333) cso (0.01265) world (0.01057) mr (0.01050) south (0.01029) production (0.00961) says (0.00951) dollars (0.00945) guerrillas (0.00809) lima (0.00767) government (0.00750) rough (0.00747) cent (0.00740)\n",
      "Topic #5: cellrule (0.05586) tablecell (0.04400) johnson (0.03835) said (0.03278) race (0.02107) chj (0.02070) cvj (0.02068) marathon (0.02031) rowrule (0.01288) world (0.01251) ben (0.01239) tablerow (0.01188) steroids (0.01126) record (0.01055) lewis (0.01004) second (0.00991) run (0.00966) time (0.00899) drugs (0.00863) olympic (0.00848)\n",
      "Topic #6: term (0.02143) said (0.01775) thomas (0.01637) limits (0.01535) state (0.01334) people (0.01239) house (0.01113) congress (0.00936) jackson (0.00902) senate (0.00895) states (0.00852) court (0.00850) mr (0.00797) census (0.00789) years (0.00782) says (0.00757) rights (0.00717) new (0.00663) black (0.00635) illegal (0.00629)\n",
      "Topic #7: tunnel (0.04205) french (0.02888) nra (0.02791) british (0.02234) gun (0.02125) france (0.01418) billion (0.01366) channel (0.01323) said (0.01317) london (0.01248) britain (0.01217) link (0.01188) workers (0.01178) 000 (0.01142) europe (0.01079) time (0.01039) project (0.01008) rail (0.01000) guns (0.00961) assault (0.00923)\n",
      "Topic #8: welfare (0.04994) people (0.02133) tuberculosis (0.02105) tb (0.01786) cent (0.01627) countries (0.01566) state (0.01399) health (0.01388) cases (0.01312) reform (0.01219) aids (0.01084) new (0.01067) costs (0.01053) increase (0.01045) number (0.01024) year (0.01019) disease (0.01015) benefits (0.00948) cjd (0.00929) years (0.00922)\n",
      "Topic #9: slovenia (0.07047) yugoslavia (0.03678) slovene (0.02207) federal (0.02142) army (0.01954) croatia (0.01898) independence (0.01730) republic (0.01689) said (0.01458) foreign (0.01448) country (0.01302) yugoslav (0.01253) republics (0.01214) war (0.01072) slovenian (0.01071) government (0.01049) serbia (0.01011) border (0.00985) state (0.00824) europe (0.00790)\n",
      "\n",
      "\n",
      "For n_components=20\n",
      "Topic #0: hurricane (0.03957) said (0.03456) eclipse (0.02270) storm (0.01402) hurricanes (0.01307) people (0.01251) sun (0.01207) year (0.01133) mph (0.01029) center (0.01024) winds (0.01018) miami (0.01015) storms (0.00998) florida (0.00906) tropical (0.00806) hit (0.00786) atlantic (0.00732) weather (0.00730) years (0.00724) season (0.00721)\n",
      "Topic #1: earthquake (0.02618) said (0.02373) year (0.02164) fires (0.01337) area (0.01200) park (0.01164) people (0.01043) damage (0.01027) yellowstone (0.00919) areas (0.00913) national (0.00909) service (0.00904) forest (0.00901) drought (0.00865) tornado (0.00857) 000 (0.00836) california (0.00827) years (0.00814) trees (0.00805) earthquakes (0.00788)\n",
      "Topic #2: gun (0.06945) right (0.03727) amendment (0.03594) control (0.02660) arms (0.02643) guns (0.02536) bear (0.01924) second (0.01900) state (0.01779) militia (0.01653) weapons (0.01469) people (0.01445) law (0.01296) constitutional (0.01257) rights (0.01136) constitution (0.01129) congress (0.01019) mr (0.01018) free (0.00949) members (0.00915)\n",
      "Topic #3: mr (0.02369) says (0.01865) diamond (0.01793) bank (0.01689) world (0.01478) year (0.01381) countries (0.01334) nafta (0.01318) said (0.01268) diamonds (0.01254) beers (0.01238) cent (0.01124) market (0.00976) diabetes (0.00843) trade (0.00761) new (0.00754) 000 (0.00747) dollars (0.00691) development (0.00649) percent (0.00640)\n",
      "Topic #4: diamond (0.00815) path (0.00645) beers (0.00565) year (0.00506) sun (0.00494) moon (0.00407) said (0.00402) world (0.00385) diamonds (0.00367) shining (0.00365) solar (0.00348) guerrillas (0.00277) south (0.00275) years (0.00274) says (0.00258) earth (0.00244) times (0.00243) market (0.00240) use (0.00219) cartel (0.00217)\n",
      "Topic #5: cellrule (0.20664) tablecell (0.16276) chj (0.07654) cvj (0.07650) rowrule (0.04762) tablerow (0.04391) said (0.01326) exxon (0.01200) 000 (0.00940) oil (0.00841) world (0.00700) valdez (0.00603) ship (0.00543) sunday (0.00500) million (0.00490) coast (0.00483) guard (0.00483) tanker (0.00424) 10 (0.00406) 20 (0.00372)\n",
      "Topic #6: term (0.03973) limits (0.02824) state (0.01951) thomas (0.01877) people (0.01637) congress (0.01415) court (0.01286) years (0.01189) political (0.01070) says (0.01048) house (0.01000) limit (0.00844) legislative (0.00816) democratic (0.00789) senate (0.00788) voters (0.00783) office (0.00772) think (0.00746) democrats (0.00729) rights (0.00726)\n",
      "Topic #7: said (0.00552) cellrule (0.00512) french (0.00451) tunnel (0.00418) tablecell (0.00412) slovenia (0.00371) serbia (0.00364) nra (0.00319) new (0.00307) control (0.00300) cvj (0.00290) state (0.00282) gun (0.00279) million (0.00275) slovenian (0.00272) government (0.00246) chj (0.00243) republics (0.00231) monday (0.00230) bank (0.00228)\n",
      "Topic #8: west (0.03033) germany (0.02433) continued (0.01672) level (0.01467) support (0.01409) defense (0.01367) saturday (0.01223) low (0.01140) public (0.00974) statement (0.00921) programs (0.00862) spending (0.00763) peace (0.00684) normal (0.00660) growing (0.00650) calls (0.00629) certain (0.00598) welfare (0.00498) workers (0.00482) issues (0.00457)\n",
      "Topic #9: slovenia (0.07926) yugoslavia (0.04149) slovene (0.02480) federal (0.02335) croatia (0.02130) independence (0.02002) republic (0.01914) army (0.01830) foreign (0.01688) said (0.01566) yugoslav (0.01409) country (0.01396) republics (0.01364) war (0.01228) slovenian (0.01207) government (0.01182) serbia (0.01139) border (0.01098) state (0.00904) europe (0.00864)\n",
      "Topic #10: police (0.07151) said (0.04892) officers (0.02013) jackson (0.01990) officer (0.01686) department (0.01636) brutality (0.01572) los (0.01488) angeles (0.01452) dickey (0.01317) commission (0.01117) chief (0.01056) report (0.01039) city (0.00991) car (0.00919) gates (0.00886) abortion (0.00814) rescue (0.00789) operation (0.00786) force (0.00776)\n",
      "Topic #11: peace (0.06191) october (0.05265) shining (0.04692) path (0.04531) guzman (0.03996) 1993 (0.03453) la (0.02606) january (0.02180) leadership (0.01486) government (0.01430) statement (0.01390) letter (0.01387) vote (0.01074) political (0.01044) second (0.01012) 14 (0.00915) agreement (0.00892) 26 (0.00881) television (0.00847) questions (0.00846)\n",
      "Topic #12: tunnel (0.06194) french (0.04230) british (0.03168) france (0.02090) billion (0.01949) channel (0.01943) workers (0.01879) link (0.01821) london (0.01787) britain (0.01779) rail (0.01473) europe (0.01450) project (0.01443) said (0.01279) time (0.01245) england (0.01244) high (0.01219) miles (0.01144) speed (0.01043) service (0.00915)\n",
      "Topic #13: welfare (0.03841) path (0.02373) shining (0.02364) government (0.01737) people (0.01708) party (0.01466) said (0.01441) president (0.01318) assassination (0.01223) police (0.01172) reform (0.01041) state (0.00985) guerrillas (0.00922) war (0.00841) presidential (0.00816) lima (0.00789) political (0.00786) peru (0.00782) drug (0.00779) candidate (0.00774)\n",
      "Topic #14: said (0.05576) taylor (0.03586) forest (0.02078) national (0.01702) firefighters (0.01697) acres (0.01639) hospital (0.01558) pneumonia (0.01533) doctors (0.01479) miss (0.01378) fires (0.01182) 000 (0.01094) health (0.00957) st (0.00893) john (0.00879) near (0.00848) monday (0.00705) blaze (0.00703) wednesday (0.00687) burned (0.00659)\n",
      "Topic #15: said (0.04189) oil (0.02841) exxon (0.02483) spill (0.01497) valdez (0.01321) census (0.01286) state (0.01159) nra (0.01148) million (0.01128) states (0.01125) house (0.01049) illegal (0.01006) federal (0.00940) 000 (0.00911) alaska (0.00892) aliens (0.00887) drought (0.00886) cleanup (0.00838) miles (0.00819) officials (0.00772)\n",
      "Topic #16: disease (0.04404) tuberculosis (0.02865) bse (0.02352) said (0.02347) cases (0.02207) tb (0.02152) people (0.01917) health (0.01722) aids (0.01693) cattle (0.01664) year (0.01392) infected (0.01347) new (0.01279) cjd (0.01240) dr (0.01146) study (0.01131) beef (0.01081) british (0.00995) percent (0.00991) sheep (0.00948)\n",
      "Topic #17: al (0.08516) assassination (0.04367) group (0.03381) security (0.03299) information (0.02344) organization (0.02176) official (0.02142) officials (0.01736) authorities (0.01520) investigation (0.01451) moved (0.01214) members (0.01143) country (0.01116) movement (0.01109) reports (0.01090) led (0.01021) charge (0.00937) office (0.00915) threat (0.00823) attack (0.00812)\n",
      "Topic #18: race (0.03677) marathon (0.03359) thomas (0.02411) miles (0.01605) said (0.01570) run (0.01447) year (0.01388) second (0.01337) time (0.01188) won (0.01177) black (0.01172) mr (0.01092) women (0.01082) runners (0.01080) boston (0.00979) andrew (0.00911) lead (0.00890) new (0.00867) course (0.00867) kelley (0.00845)\n",
      "Topic #19: said (0.06290) johnson (0.02484) air (0.01757) crash (0.01672) plane (0.01403) aircraft (0.01042) people (0.00938) crashed (0.00820) military (0.00813) force (0.00810) world (0.00809) ben (0.00794) jet (0.00765) flight (0.00757) steroids (0.00717) base (0.00694) lewis (0.00653) spokesman (0.00643) pilot (0.00641) drugs (0.00619)\n",
      "\n",
      "\n",
      "For n_components=50\n",
      "Topic #0: eclipse (0.09660) sun (0.05205) said (0.02622) moon (0.02495) solar (0.02132) hawaii (0.01794) mexico (0.01630) total (0.01586) people (0.01396) earth (0.01060) watch (0.01028) 10 (0.01009) percent (0.00946) 11 (0.00910) time (0.00879) 000 (0.00878) years (0.00847) miles (0.00810) island (0.00796) thousands (0.00782)\n",
      "Topic #1: earthquake (0.08984) earthquakes (0.02701) said (0.02435) year (0.02384) damage (0.02331) scale (0.02125) quake (0.02105) area (0.02085) 000 (0.01863) survey (0.01655) people (0.01580) reported (0.01285) recorded (0.01241) santa (0.01150) 10 (0.01133) california (0.01117) death (0.01086) san (0.01071) occurred (0.01039) south (0.01038)\n",
      "Topic #2: militia (0.00630) arms (0.00608) right (0.00481) people (0.00372) gun (0.00370) bear (0.00359) amendment (0.00346) service (0.00276) congress (0.00265) second (0.00255) body (0.00248) committee (0.00240) constitutional (0.00230) state (0.00230) army (0.00225) person (0.00220) military (0.00218) private (0.00217) free (0.00203) shining (0.00195)\n",
      "Topic #3: bank (0.02991) countries (0.02266) said (0.02099) world (0.01789) tuberculosis (0.01589) diabetes (0.01519) people (0.01515) says (0.01437) new (0.01366) percent (0.01304) mr (0.01158) debt (0.01122) loans (0.01077) aids (0.01013) development (0.01001) poverty (0.00944) year (0.00926) health (0.00917) banks (0.00765) economic (0.00751)\n",
      "Topic #4: debt (0.00123) poverty (0.00122) production (0.00121) help (0.00121) crop (0.00121) government (0.00120) loans (0.00120) world (0.00119) alleged (0.00118) thursday (0.00118) poor (0.00117) south (0.00117) used (0.00116) selling (0.00116) shining (0.00116) clear (0.00115) attention (0.00115) injuries (0.00115) comes (0.00114) increased (0.00113)\n",
      "Topic #5: cellrule (0.01576) tablecell (0.01322) chj (0.00603) cvj (0.00594) rowrule (0.00380) tablerow (0.00300) exxon (0.00202) said (0.00182) valdez (0.00180) diamond (0.00172) open (0.00161) mr (0.00157) old (0.00151) ship (0.00151) oil (0.00149) diamonds (0.00147) year (0.00146) south (0.00145) 000 (0.00143) says (0.00142)\n",
      "Topic #6: tunnel (0.07838) link (0.05549) rail (0.04456) london (0.03591) speed (0.03159) british (0.02979) billion (0.02793) high (0.02752) britain (0.02705) project (0.02573) says (0.02054) england (0.01664) money (0.01535) government (0.01507) end (0.01326) passengers (0.01154) french (0.01083) channel (0.00981) total (0.00975) century (0.00912)\n",
      "Topic #7: tunnel (0.00301) bank (0.00270) french (0.00260) new (0.00239) nra (0.00238) banks (0.00231) 000 (0.00230) billion (0.00208) said (0.00205) million (0.00198) gun (0.00198) boston (0.00197) europe (0.00196) money (0.00191) loans (0.00186) cellrule (0.00181) british (0.00176) big (0.00173) project (0.00166) england (0.00164)\n",
      "Topic #8: welfare (0.00424) president (0.00281) reform (0.00245) said (0.00213) people (0.00212) congress (0.00203) poverty (0.00186) programs (0.00181) public (0.00166) democrats (0.00165) year (0.00161) work (0.00157) department (0.00155) police (0.00154) poor (0.00151) independent (0.00151) federal (0.00146) families (0.00145) interests (0.00143) union (0.00139)\n",
      "Topic #9: year (0.00157) gun (0.00148) right (0.00140) said (0.00139) service (0.00139) nra (0.00137) militia (0.00135) california (0.00132) amendment (0.00132) arms (0.00131) state (0.00128) people (0.00128) bear (0.00128) house (0.00125) congress (0.00123) second (0.00122) season (0.00121) require (0.00121) hill (0.00120) level (0.00120)\n",
      "Topic #10: police (0.08973) said (0.04657) officers (0.02906) officer (0.02327) department (0.02291) los (0.02071) brutality (0.02000) angeles (0.01946) chief (0.01547) city (0.01518) report (0.01517) gates (0.01304) commission (0.01297) public (0.01041) black (0.00942) complaints (0.00922) incident (0.00881) force (0.00867) investigation (0.00855) attorney (0.00778)\n",
      "Topic #11: oil (0.00212) said (0.00166) diamonds (0.00156) spill (0.00152) started (0.00151) diamond (0.00151) order (0.00145) cleanup (0.00143) exxon (0.00142) says (0.00140) state (0.00138) thursday (0.00137) beers (0.00136) botswana (0.00134) open (0.00133) valdez (0.00132) world (0.00132) years (0.00132) plan (0.00130) tanker (0.00130)\n",
      "Topic #12: thomas (0.00186) oil (0.00145) tunnel (0.00133) exxon (0.00130) went (0.00130) began (0.00127) rights (0.00127) project (0.00124) court (0.00123) said (0.00122) spill (0.00120) family (0.00120) chairman (0.00120) tanker (0.00120) using (0.00118) point (0.00118) general (0.00118) turned (0.00118) clarence (0.00117) having (0.00117)\n",
      "Topic #13: welfare (0.01038) clinton (0.00773) mr (0.00737) war (0.00377) president (0.00375) shining (0.00369) children (0.00350) year (0.00349) path (0.00322) people (0.00318) working (0.00312) reform (0.00282) central (0.00280) guzman (0.00276) support (0.00264) limit (0.00263) jobs (0.00262) paid (0.00259) end (0.00259) committee (0.00254)\n",
      "Topic #14: nafta (0.07109) mr (0.05787) trade (0.02305) said (0.01659) president (0.01625) mexico (0.01552) clinton (0.01510) opposition (0.01491) says (0.01418) house (0.01344) virginia (0.01263) campaign (0.01259) agreement (0.01218) free (0.01157) anti (0.01132) administration (0.01101) congress (0.01071) american (0.01070) jobs (0.00939) pro (0.00863)\n",
      "Topic #15: gun (0.05405) nra (0.05082) guns (0.02218) control (0.02135) weapons (0.01737) assault (0.01725) members (0.01459) baker (0.01333) year (0.01277) ban (0.01239) mr (0.01176) said (0.01129) 000 (0.01055) republican (0.00873) building (0.00838) government (0.00822) state (0.00744) new (0.00717) day (0.00703) congress (0.00700)\n",
      "Topic #16: disease (0.06072) bse (0.03693) tb (0.03322) cases (0.02870) cattle (0.02346) cjd (0.01896) said (0.01866) infected (0.01849) beef (0.01707) health (0.01684) british (0.01643) sheep (0.01437) dr (0.01383) year (0.01382) scientists (0.01364) cow (0.01352) ministry (0.01171) mad (0.01147) animals (0.01058) agriculture (0.01053)\n",
      "Topic #17: al (0.00262) group (0.00206) taylor (0.00200) office (0.00191) information (0.00191) district (0.00185) attorney (0.00183) said (0.00182) assassination (0.00175) path (0.00175) charges (0.00170) members (0.00162) investigation (0.00158) security (0.00157) official (0.00153) report (0.00153) killed (0.00149) shining (0.00145) year (0.00140) area (0.00136)\n",
      "Topic #18: thomas (0.00776) tb (0.00519) black (0.00405) said (0.00327) blacks (0.00290) new (0.00255) rights (0.00239) aids (0.00238) tuberculosis (0.00236) clarence (0.00230) court (0.00216) law (0.00214) school (0.00213) civil (0.00198) supreme (0.00196) claims (0.00195) bank (0.00193) year (0.00193) disease (0.00192) loans (0.00189)\n",
      "Topic #19: said (0.04883) jackson (0.01700) census (0.01575) illegal (0.01259) states (0.01248) house (0.01238) dickey (0.01224) assassination (0.01086) aliens (0.01074) seats (0.00968) government (0.00926) plane (0.00883) people (0.00873) senate (0.00806) party (0.00772) bureau (0.00695) count (0.00681) engine (0.00671) candidate (0.00670) presidential (0.00659)\n",
      "Topic #20: mr (0.00513) disease (0.00358) british (0.00338) clinton (0.00307) bse (0.00273) nafta (0.00273) year (0.00273) cjd (0.00272) chicago (0.00251) beef (0.00250) trade (0.00232) says (0.00227) scientists (0.00220) political (0.00210) britain (0.00209) cow (0.00208) said (0.00192) agreement (0.00189) mad (0.00188) project (0.00185)\n",
      "Topic #21: oil (0.04166) said (0.03967) exxon (0.03740) spill (0.02257) valdez (0.01994) tunnel (0.01828) miles (0.01675) french (0.01534) alaska (0.01290) cleanup (0.01250) million (0.01160) british (0.00990) 000 (0.00988) state (0.00951) workers (0.00918) officials (0.00812) tanker (0.00811) coast (0.00810) sound (0.00763) channel (0.00742)\n",
      "Topic #22: tornado (0.02794) florida (0.02614) dollars (0.02395) said (0.02216) hurricane (0.02175) tornadoes (0.02000) louisiana (0.01955) andrew (0.01844) people (0.01750) yesterday (0.01727) storm (0.01613) damage (0.01468) insurance (0.01286) losses (0.01196) state (0.01183) industry (0.01009) county (0.00916) claims (0.00907) homes (0.00905) estimated (0.00870)\n",
      "Topic #23: diamond (0.06338) diamonds (0.04421) beers (0.04377) market (0.02533) cso (0.02224) year (0.02093) south (0.01674) world (0.01632) dollars (0.01528) cent (0.01467) rough (0.01321) mr (0.01310) says (0.01213) cartel (0.01203) botswana (0.01187) sales (0.01109) production (0.01097) africa (0.01033) 000 (0.00926) london (0.00907)\n",
      "Topic #24: marathon (0.00252) said (0.00197) race (0.00183) miles (0.00177) san (0.00176) 18 (0.00170) won (0.00161) city (0.00156) mr (0.00149) pounds (0.00147) mile (0.00143) half (0.00142) best (0.00142) hurricane (0.00141) border (0.00140) ran (0.00138) mexico (0.00137) took (0.00135) bay (0.00135) 14 (0.00133)\n",
      "Topic #25: caribbean (0.00319) gun (0.00224) nra (0.00207) said (0.00189) mr (0.00186) region (0.00177) mexico (0.00173) countries (0.00169) guns (0.00163) nafta (0.00156) president (0.00149) assault (0.00148) ban (0.00143) benefits (0.00142) administration (0.00141) markets (0.00140) weapons (0.00139) year (0.00136) efforts (0.00134) washington (0.00132)\n",
      "Topic #26: path (0.06985) shining (0.06393) peace (0.06369) guzman (0.05645) october (0.04643) 1993 (0.03074) la (0.02580) government (0.02121) leadership (0.02007) january (0.01801) second (0.01444) president (0.01344) political (0.01317) statement (0.01187) letter (0.01151) agreement (0.01143) vote (0.00962) leader (0.00909) 31 (0.00820) 26 (0.00792)\n",
      "Topic #27: johnson (0.08080) said (0.05393) ben (0.02611) steroids (0.02369) drugs (0.02256) world (0.02143) lewis (0.02116) francis (0.01758) canadian (0.01440) drug (0.01381) record (0.01378) olympic (0.01317) gold (0.01275) medal (0.01211) canada (0.01167) ms (0.01124) saying (0.01093) track (0.01058) athletes (0.01021) 100 (0.00994)\n",
      "Topic #28: police (0.06669) rescue (0.04242) abortion (0.04176) operation (0.03966) said (0.03153) anti (0.02904) civil (0.02492) pain (0.02378) rights (0.02167) used (0.01552) angeles (0.01409) los (0.01354) brutality (0.01339) like (0.01321) use (0.01217) force (0.01176) new (0.01156) national (0.01025) west (0.00909) conservative (0.00878)\n",
      "Topic #29: amendment (0.05154) right (0.04816) gun (0.03507) arms (0.03125) second (0.02665) bear (0.02460) militia (0.02224) state (0.02143) constitution (0.02079) constitutional (0.01756) rights (0.01738) free (0.01593) control (0.01572) people (0.01559) court (0.01248) law (0.01242) guns (0.01144) congress (0.00976) national (0.00929) laws (0.00900)\n",
      "Topic #30: kelley (0.15310) mr (0.10839) boston (0.04558) says (0.02839) isn (0.02248) age (0.01965) man (0.01471) doing (0.01470) ago (0.01459) john (0.01423) means (0.01310) years (0.01026) january (0.01024) hill (0.00999) thought (0.00953) hour (0.00753) reason (0.00725) training (0.00566) road (0.00540) exxon (0.00530)\n",
      "Topic #31: cellrule (0.01724) tablecell (0.01717) chj (0.00865) cvj (0.00841) marathon (0.00643) eclipse (0.00625) said (0.00534) rowrule (0.00526) tablerow (0.00409) sun (0.00372) run (0.00348) coast (0.00334) 10 (0.00305) percent (0.00303) moon (0.00263) 11 (0.00259) running (0.00255) miles (0.00234) exxon (0.00233) people (0.00232)\n",
      "Topic #32: taylor (0.07852) said (0.05327) pneumonia (0.03351) hospital (0.03264) doctors (0.03142) miss (0.02947) st (0.01795) al (0.01760) john (0.01718) condition (0.01428) health (0.01234) press (0.01086) statement (0.01042) april (0.00995) aids (0.00911) weeks (0.00904) year (0.00899) infection (0.00892) national (0.00877) care (0.00840)\n",
      "Topic #33: cellrule (0.22176) tablecell (0.17442) cvj (0.08206) chj (0.08204) rowrule (0.05107) tablerow (0.04719) said (0.01324) exxon (0.01260) 000 (0.00976) oil (0.00879) valdez (0.00630) ship (0.00577) world (0.00514) guard (0.00513) million (0.00511) coast (0.00508) tanker (0.00448) sunday (0.00442) sound (0.00384) 20 (0.00350)\n",
      "Topic #34: gave (0.00359) center (0.00244) america (0.00234) cellrule (0.00209) family (0.00209) true (0.00200) lives (0.00200) tablecell (0.00199) life (0.00199) moving (0.00190) thomas (0.00189) school (0.00187) nation (0.00187) pain (0.00184) living (0.00182) judge (0.00175) black (0.00175) rise (0.00171) terms (0.00170) year (0.00170)\n",
      "Topic #35: strong (0.00117) having (0.00117) led (0.00117) saw (0.00117) university (0.00116) passed (0.00116) social (0.00116) experts (0.00116) following (0.00115) death (0.00115) blacks (0.00115) john (0.00114) wind (0.00114) population (0.00114) study (0.00114) set (0.00114) dr (0.00113) hawaii (0.00113) athletes (0.00113) response (0.00113)\n",
      "Topic #36: said (0.03953) path (0.02191) shining (0.02005) forest (0.01915) firefighters (0.01574) fires (0.01347) people (0.01309) acres (0.01298) officials (0.01272) national (0.01085) 000 (0.01060) police (0.00789) guerrillas (0.00785) near (0.00735) lima (0.00692) valley (0.00687) service (0.00684) new (0.00678) war (0.00667) peru (0.00658)\n",
      "Topic #37: slovenia (0.08372) yugoslavia (0.04387) slovene (0.02627) federal (0.02408) croatia (0.02245) independence (0.02180) republic (0.01996) army (0.01867) foreign (0.01791) country (0.01495) yugoslav (0.01491) republics (0.01440) said (0.01299) war (0.01290) slovenian (0.01257) serbia (0.01202) government (0.01184) border (0.01136) europe (0.00933) state (0.00872)\n",
      "Topic #38: year (0.02482) drought (0.01961) said (0.01882) says (0.01746) years (0.01211) mr (0.01115) new (0.00893) million (0.00864) people (0.00855) farmers (0.00824) national (0.00807) 1988 (0.00773) state (0.00761) park (0.00754) department (0.00705) states (0.00682) service (0.00668) just (0.00664) 000 (0.00645) fires (0.00627)\n",
      "Topic #39: smith (0.23755) institute (0.03372) sound (0.00757) said (0.00716) plane (0.00527) statement (0.00459) police (0.00366) federal (0.00316) engine (0.00304) developing (0.00296) slovenia (0.00287) crash (0.00214) miss (0.00207) accident (0.00205) state (0.00200) military (0.00199) slovenian (0.00187) sunday (0.00167) board (0.00159) drugs (0.00158)\n",
      "Topic #40: thomas (0.07677) court (0.02858) said (0.02586) clarence (0.01977) black (0.01809) rights (0.01801) senate (0.01648) supreme (0.01247) law (0.01229) civil (0.01151) judge (0.00988) action (0.00926) chairman (0.00910) conservative (0.00899) people (0.00818) sen (0.00813) school (0.00794) virginia (0.00778) mr (0.00740) man (0.00691)\n",
      "Topic #41: hurricane (0.00553) storm (0.00309) said (0.00308) louisiana (0.00227) tropical (0.00208) winds (0.00203) losses (0.00185) center (0.00185) coast (0.00182) city (0.00172) east (0.00167) season (0.00167) south (0.00166) andrew (0.00164) government (0.00164) monday (0.00164) texas (0.00163) hit (0.00161) expected (0.00160) tornado (0.00158)\n",
      "Topic #42: said (0.05085) hurricane (0.03448) air (0.02548) crash (0.01795) aircraft (0.01365) hurricanes (0.01315) force (0.01189) people (0.01149) center (0.01076) mph (0.01057) winds (0.01039) storm (0.01030) miles (0.01022) storms (0.01001) plane (0.00983) jet (0.00976) crashed (0.00968) base (0.00943) miami (0.00909) west (0.00833)\n",
      "Topic #43: year (0.00453) fires (0.00384) diamond (0.00374) said (0.00326) beers (0.00314) diamonds (0.00292) threat (0.00263) area (0.00249) nafta (0.00249) california (0.00215) spread (0.00211) equipment (0.00211) million (0.00209) worst (0.00209) mr (0.00205) areas (0.00202) assistant (0.00200) angeles (0.00190) approach (0.00188) trying (0.00182)\n",
      "Topic #44: says (0.00383) eclipse (0.00363) air (0.00324) marathon (0.00301) kelley (0.00288) year (0.00261) run (0.00242) mexico (0.00222) building (0.00216) city (0.00213) hurricanes (0.00212) mr (0.00193) half (0.00192) like (0.00189) miles (0.00187) boston (0.00181) poor (0.00176) day (0.00175) sun (0.00173) race (0.00173)\n",
      "Topic #45: welfare (0.12076) reform (0.02952) state (0.02643) cent (0.02254) benefits (0.02114) families (0.01881) work (0.01814) spending (0.01711) costs (0.01576) increase (0.01513) age (0.01377) president (0.01371) cost (0.01141) social (0.01117) number (0.01081) support (0.01061) clinton (0.00968) public (0.00954) germany (0.00923) programs (0.00913)\n",
      "Topic #46: hurricanes (0.00152) says (0.00128) tropical (0.00126) gray (0.00124) year (0.00122) hurricane (0.00121) pressure (0.00121) lot (0.00120) sheets (0.00119) earth (0.00119) heat (0.00119) deaths (0.00118) return (0.00118) amp (0.00118) 13 (0.00118) simply (0.00118) temperatures (0.00117) moving (0.00117) usually (0.00116) good (0.00116)\n",
      "Topic #47: term (0.07590) limits (0.05353) state (0.03028) congress (0.01918) people (0.01806) limit (0.01709) political (0.01602) legislative (0.01413) says (0.01393) party (0.01386) democratic (0.01126) years (0.01122) voters (0.01110) elected (0.01092) incumbents (0.01088) office (0.01071) legislators (0.01009) house (0.01002) terms (0.00972) democrats (0.00867)\n",
      "Topic #48: beers (0.00455) diamond (0.00405) diamonds (0.00339) million (0.00277) peace (0.00254) sales (0.00237) says (0.00207) african (0.00203) world (0.00201) nafta (0.00195) shining (0.00192) path (0.00186) 1993 (0.00184) cartel (0.00184) market (0.00184) year (0.00181) guzman (0.00178) nra (0.00177) billion (0.00174) south (0.00172)\n",
      "Topic #49: race (0.05071) marathon (0.04876) miles (0.02235) said (0.02121) run (0.01959) year (0.01914) won (0.01750) second (0.01731) time (0.01607) runners (0.01546) women (0.01359) lead (0.01226) course (0.01152) finished (0.01139) boston (0.01123) running (0.01064) record (0.01013) old (0.00997) did (0.00927) new (0.00908)\n",
      "\n"
     ]
    }
   ],
   "source": [
    "lda_models_duc, lda_topics_duc = decomposition_helper(duc_data, method='lda', n_components=[10, 20, 50], vectorizer=CountVectorizer)"
   ]
  },
  {
   "cell_type": "code",
   "execution_count": 13,
   "metadata": {},
   "outputs": [
    {
     "name": "stdout",
     "output_type": "stream",
     "text": [
      "\n",
      "For n_components=10\n",
      "Topic #0: police (0.05493) officers (0.02296) said (0.01767) gates (0.01551) shining (0.01457) brutality (0.01425) path (0.01198) department (0.01185) officer (0.01098) commission (0.01017) angeles (0.00970) los (0.00961) jackson (0.00951) city (0.00945) black (0.00924) chief (0.00862) report (0.00773) racism (0.00666) guzman (0.00651) complaints (0.00633)\n",
      "Topic #1: hurricane (0.06908) hurricanes (0.02640) storm (0.01933) sheets (0.01793) storms (0.01608) atlantic (0.01500) mph (0.01490) tropical (0.01395) winds (0.01380) florida (0.01344) said (0.01316) gilbert (0.01174) hugo (0.01129) gray (0.01110) season (0.01096) forecasters (0.01050) center (0.01014) miami (0.00898) louisiana (0.00805) weather (0.00788)\n",
      "Topic #2: oil (0.06755) exxon (0.06428) spill (0.04570) valdez (0.03968) cleanup (0.02074) alaska (0.01938) said (0.01683) tanker (0.01627) sound (0.01238) ship (0.01162) million (0.00990) guard (0.00981) miles (0.00974) coast (0.00932) wildlife (0.00794) william (0.00744) 000 (0.00725) state (0.00718) company (0.00699) environmental (0.00694)\n",
      "Topic #3: nafta (0.01511) welfare (0.01399) mr (0.01307) thomas (0.01114) term (0.01020) census (0.00914) diamond (0.00909) house (0.00855) limits (0.00848) congress (0.00801) beers (0.00726) aliens (0.00682) diamonds (0.00638) says (0.00627) court (0.00602) amendment (0.00592) reform (0.00579) illegal (0.00576) bank (0.00553) state (0.00543)\n",
      "Topic #4: eclipse (0.11338) sun (0.04633) moon (0.02545) solar (0.02497) hawaii (0.01903) mexico (0.01236) total (0.01202) earth (0.00959) said (0.00837) percent (0.00832) watch (0.00830) scientists (0.00800) san (0.00770) 11 (0.00720) path (0.00682) minutes (0.00681) california (0.00678) island (0.00674) thousands (0.00645) miles (0.00617)\n",
      "Topic #5: taylor (0.03560) disease (0.02659) tuberculosis (0.02265) pneumonia (0.02070) miss (0.01775) bse (0.01624) hospital (0.01544) tb (0.01542) said (0.01531) doctors (0.01473) health (0.01384) aids (0.01354) diabetes (0.01259) cases (0.01165) cattle (0.01142) infection (0.00954) sheep (0.00836) st (0.00800) infected (0.00777) dr (0.00763)\n",
      "Topic #6: crash (0.03815) air (0.02664) plane (0.02584) said (0.02455) aircraft (0.02374) crashed (0.01998) jet (0.01974) pilot (0.01421) flight (0.01404) force (0.01351) base (0.01277) engine (0.01258) military (0.01101) training (0.00933) accident (0.00924) crew (0.00887) aboard (0.00862) miles (0.00806) spokesman (0.00766) west (0.00672)\n",
      "Topic #7: forest (0.03378) fires (0.02827) acres (0.02324) firefighters (0.02046) said (0.01637) park (0.01607) drought (0.01339) national (0.01173) yellowstone (0.01171) service (0.01024) blaze (0.00963) burned (0.00924) california (0.00823) brush (0.00822) 000 (0.00816) acre (0.00764) rain (0.00744) trees (0.00735) contained (0.00697) areas (0.00676)\n",
      "Topic #8: johnson (0.08271) ben (0.02848) lewis (0.02564) steroids (0.02055) francis (0.01993) said (0.01948) race (0.01586) canadian (0.01567) drugs (0.01566) gold (0.01513) olympic (0.01473) medal (0.01442) marathon (0.01403) athletes (0.01383) world (0.01297) canada (0.01286) drug (0.01227) record (0.01024) sport (0.00983) track (0.00964)\n",
      "Topic #9: slovenia (0.08850) yugoslavia (0.04163) slovene (0.02373) slovenian (0.02195) croatia (0.02064) serbia (0.02033) yugoslav (0.01916) republic (0.01816) republics (0.01720) independence (0.01397) federal (0.01271) foreign (0.01241) army (0.01214) bank (0.01193) war (0.00955) debt (0.00916) mr (0.00769) cent (0.00751) said (0.00744) military (0.00716)\n",
      "\n",
      "\n",
      "For n_components=20\n",
      "Topic #0: police (0.07095) officers (0.03184) gates (0.02211) said (0.02004) brutality (0.01995) department (0.01622) officer (0.01520) commission (0.01365) angeles (0.01362) los (0.01351) jackson (0.01350) city (0.01177) chief (0.01116) black (0.00996) report (0.00981) racism (0.00897) incident (0.00853) complaints (0.00832) investigation (0.00830) force (0.00797)\n",
      "Topic #1: hurricane (0.07209) hurricanes (0.02761) storm (0.02010) sheets (0.01881) storms (0.01680) atlantic (0.01571) mph (0.01554) tropical (0.01458) winds (0.01445) florida (0.01392) said (0.01336) gilbert (0.01229) hugo (0.01175) gray (0.01162) season (0.01154) forecasters (0.01095) center (0.01042) miami (0.00934) louisiana (0.00829) weather (0.00817)\n",
      "Topic #2: oil (0.07061) exxon (0.06722) spill (0.04779) valdez (0.04149) cleanup (0.02170) alaska (0.02023) said (0.01732) tanker (0.01702) sound (0.01294) ship (0.01199) guard (0.01026) million (0.01019) coast (0.00970) miles (0.00952) wildlife (0.00832) william (0.00777) state (0.00753) environmental (0.00730) 000 (0.00727) company (0.00722)\n",
      "Topic #3: diamond (0.07279) beers (0.05844) diamonds (0.05065) cso (0.01978) market (0.01708) botswana (0.01697) mr (0.01563) rough (0.01374) south (0.01367) world (0.01331) sales (0.01302) cent (0.01266) africa (0.01242) production (0.01242) dollars (0.01239) cartel (0.01206) african (0.01173) year (0.01116) says (0.01106) organization (0.01018)\n",
      "Topic #4: eclipse (0.13130) sun (0.05311) moon (0.02929) solar (0.02885) hawaii (0.02188) mexico (0.01378) total (0.01367) earth (0.01058) said (0.00959) watch (0.00952) percent (0.00912) scientists (0.00856) 11 (0.00809) san (0.00758) california (0.00734) island (0.00731) thousands (0.00719) minutes (0.00691) people (0.00651) 10 (0.00633)\n",
      "Topic #5: disease (0.03974) tuberculosis (0.03727) bse (0.02717) tb (0.02525) cases (0.01946) cattle (0.01921) aids (0.01668) diabetes (0.01613) health (0.01444) sheep (0.01390) infected (0.01272) cjd (0.01238) beef (0.01118) cow (0.01069) agriculture (0.01054) percent (0.01042) said (0.00994) feed (0.00888) farmers (0.00846) mad (0.00799)\n",
      "Topic #6: slovenia (0.09766) yugoslavia (0.04595) slovene (0.02608) slovenian (0.02434) croatia (0.02274) serbia (0.02255) yugoslav (0.02121) republic (0.01999) republics (0.01903) independence (0.01534) federal (0.01433) foreign (0.01337) army (0.01306) bank (0.01161) war (0.00968) debt (0.00943) said (0.00843) cent (0.00772) military (0.00767) border (0.00733)\n",
      "Topic #7: forest (0.03735) fires (0.03109) acres (0.02559) firefighters (0.02241) park (0.01778) said (0.01707) drought (0.01358) yellowstone (0.01294) national (0.01281) service (0.01111) blaze (0.01064) burned (0.01017) brush (0.00882) acre (0.00845) 000 (0.00833) california (0.00813) rain (0.00813) trees (0.00783) contained (0.00769) burning (0.00706)\n",
      "Topic #8: johnson (0.10079) ben (0.03470) lewis (0.03132) steroids (0.02537) francis (0.02450) said (0.02290) canadian (0.01913) drugs (0.01913) gold (0.01790) medal (0.01721) athletes (0.01692) olympic (0.01643) canada (0.01577) drug (0.01482) world (0.01428) sport (0.01151) record (0.01109) track (0.01067) use (0.00802) performance (0.00767)\n",
      "Topic #9: census (0.07134) aliens (0.05476) illegal (0.04404) seats (0.02802) house (0.02636) count (0.02615) bureau (0.02326) states (0.01941) counting (0.01896) senate (0.01601) said (0.01303) rep (0.01247) residents (0.01169) population (0.01107) constitution (0.01070) 1990 (0.00981) congress (0.00961) california (0.00940) county (0.00844) federal (0.00719)\n",
      "Topic #10: crash (0.04193) air (0.02927) plane (0.02823) said (0.02643) aircraft (0.02618) crashed (0.02203) jet (0.02172) pilot (0.01566) flight (0.01527) force (0.01494) base (0.01400) engine (0.01378) military (0.01208) accident (0.01020) training (0.01016) crew (0.00977) aboard (0.00936) spokesman (0.00835) miles (0.00737) west (0.00715)\n",
      "Topic #11: taylor (0.10993) pneumonia (0.06467) miss (0.05509) hospital (0.04317) doctors (0.04106) said (0.02760) st (0.02239) condition (0.01792) john (0.01729) statement (0.01641) infection (0.01431) health (0.01427) april (0.01256) weeks (0.01134) aids (0.00901) problems (0.00893) death (0.00876) week (0.00843) dr (0.00807) 35 (0.00805)\n",
      "Topic #12: welfare (0.12996) reform (0.04388) benefits (0.01793) clinton (0.01659) work (0.01635) poverty (0.01501) families (0.01461) president (0.01366) programs (0.01173) mr (0.01162) bank (0.01019) plan (0.00965) countries (0.00932) children (0.00899) cent (0.00896) spending (0.00824) administration (0.00792) training (0.00783) house (0.00694) support (0.00689)\n",
      "Topic #13: nafta (0.09458) mr (0.03173) trade (0.02240) clinton (0.01767) mexico (0.01418) agreement (0.01334) opposition (0.01240) president (0.01200) house (0.01134) anti (0.01101) administration (0.01098) pro (0.01071) hispanic (0.01057) jobs (0.00988) vote (0.00974) congress (0.00956) campaign (0.00954) bank (0.00887) support (0.00834) free (0.00824)\n",
      "Topic #14: thomas (0.09059) court (0.02937) clarence (0.02769) black (0.01918) supreme (0.01759) rights (0.01618) senate (0.01491) judge (0.01276) law (0.01217) civil (0.01150) school (0.01058) conservative (0.00957) said (0.00946) abortion (0.00895) sen (0.00866) education (0.00859) life (0.00765) man (0.00741) bush (0.00729) action (0.00711)\n",
      "Topic #15: tunnel (0.06965) french (0.03919) british (0.02609) channel (0.02096) rail (0.01952) france (0.01787) link (0.01777) britain (0.01731) billion (0.01673) project (0.01672) europe (0.01380) london (0.01371) workers (0.01124) england (0.01074) speed (0.01047) 1993 (0.00789) says (0.00785) passengers (0.00768) high (0.00677) bank (0.00625)\n",
      "Topic #16: term (0.03931) limits (0.03442) amendment (0.02214) gun (0.02117) congress (0.01557) right (0.01486) incumbents (0.01369) militia (0.01301) state (0.01252) arms (0.01246) voters (0.01244) legislators (0.01042) legislative (0.01020) limit (0.01005) constitutional (0.00960) bear (0.00956) rights (0.00852) political (0.00831) second (0.00824) terms (0.00791)\n",
      "Topic #17: marathon (0.06969) race (0.04146) runners (0.01712) women (0.01667) boston (0.01627) run (0.01596) finished (0.01463) won (0.01461) miles (0.01459) running (0.01302) second (0.01272) city (0.01089) year (0.01060) ran (0.01009) lead (0.00954) course (0.00905) time (0.00827) kelley (0.00819) bank (0.00796) 26 (0.00771)\n",
      "Topic #18: shining (0.06877) path (0.05723) guzman (0.02795) guerrillas (0.02378) lima (0.02067) peru (0.01866) police (0.01193) war (0.01170) movement (0.00991) said (0.00942) peace (0.00918) killed (0.00890) violence (0.00887) party (0.00877) military (0.00862) government (0.00805) drug (0.00799) valley (0.00761) people (0.00744) armed (0.00642)\n",
      "Topic #19: earthquake (0.11038) quake (0.04391) earthquakes (0.03089) damage (0.02049) area (0.02026) scale (0.01957) san (0.01214) survey (0.01153) japan (0.01095) said (0.01091) recorded (0.01089) says (0.01066) california (0.00953) major (0.00872) scientists (0.00804) struck (0.00802) bay (0.00727) year (0.00711) region (0.00689) person (0.00680)\n",
      "\n",
      "\n",
      "For n_components=50\n",
      "Topic #0: police (0.08881) officers (0.04465) said (0.03227) brutality (0.02770) officer (0.02520) city (0.02467) department (0.01867) racism (0.01573) white (0.01343) black (0.01235) mayor (0.01206) arrested (0.00941) complaints (0.00931) involved (0.00853) investigation (0.00838) incident (0.00803) problem (0.00791) review (0.00772) council (0.00767) man (0.00717)\n",
      "Topic #1: hurricane (0.10510) sheets (0.03707) mph (0.02707) storm (0.02523) winds (0.02262) gilbert (0.02183) tropical (0.01981) center (0.01805) forecasters (0.01760) said (0.01711) season (0.01283) storms (0.01279) atlantic (0.01271) hugo (0.01221) coast (0.01144) hurricanes (0.01092) miami (0.00988) caribbean (0.00940) texas (0.00900) pressure (0.00896)\n",
      "Topic #2: oil (0.07711) exxon (0.07365) spill (0.05251) valdez (0.04556) cleanup (0.02381) alaska (0.02217) tanker (0.01871) said (0.01742) sound (0.01414) ship (0.01318) guard (0.01116) coast (0.01053) million (0.01050) miles (0.01015) wildlife (0.00900) william (0.00853) environmental (0.00802) sea (0.00780) state (0.00766) company (0.00759)\n",
      "Topic #3: diamond (0.08282) diamonds (0.07276) beers (0.05904) cso (0.03257) botswana (0.02653) market (0.02422) rough (0.02008) cent (0.01925) production (0.01693) dollars (0.01480) sales (0.01465) year (0.01262) cartel (0.01226) world (0.01151) south (0.01136) african (0.01051) says (0.00938) prices (0.00928) 000 (0.00881) africa (0.00846)\n",
      "Topic #4: eclipse (0.14232) sun (0.05751) moon (0.03167) solar (0.03121) hawaii (0.02364) total (0.01460) mexico (0.01455) earth (0.01142) watch (0.01024) said (0.00940) scientists (0.00922) 11 (0.00857) percent (0.00842) island (0.00792) san (0.00784) minutes (0.00736) thousands (0.00732) california (0.00696) 10 (0.00664) people (0.00640)\n",
      "Topic #5: tuberculosis (0.17301) aids (0.05642) cases (0.02993) health (0.02992) infected (0.01714) said (0.01540) department (0.01347) infection (0.01344) disease (0.01283) rise (0.01166) poor (0.01161) air (0.01159) building (0.01125) risk (0.01108) number (0.01095) require (0.01093) year (0.01051) dr (0.01021) increase (0.01020) people (0.01016)\n",
      "Topic #6: slovenia (0.11648) yugoslavia (0.05521) slovene (0.03076) slovenian (0.02924) serbia (0.02725) croatia (0.02713) yugoslav (0.02562) republic (0.02409) republics (0.02290) independence (0.01797) federal (0.01660) army (0.01462) foreign (0.01390) war (0.01140) border (0.00869) relations (0.00834) said (0.00819) cent (0.00788) state (0.00725) european (0.00718)\n",
      "Topic #7: forest (0.06258) acres (0.05086) firefighters (0.04724) blaze (0.02793) said (0.02623) contained (0.02196) acre (0.02018) burned (0.01975) national (0.01818) fires (0.01790) crews (0.01669) 000 (0.01566) rain (0.01497) service (0.01284) monday (0.01272) burning (0.01096) saturday (0.00941) spokesman (0.00892) near (0.00871) officials (0.00858)\n",
      "Topic #8: johnson (0.10979) ben (0.03781) lewis (0.03164) said (0.02495) drugs (0.02275) gold (0.02228) medal (0.02201) canada (0.02170) steroids (0.02166) canadian (0.02106) olympic (0.02061) athletes (0.01612) drug (0.01369) world (0.01253) sport (0.01194) record (0.01188) track (0.01051) race (0.00936) performance (0.00865) 100 (0.00724)\n",
      "Topic #9: census (0.07898) aliens (0.06061) illegal (0.04857) seats (0.03094) count (0.02886) house (0.02810) bureau (0.02575) counting (0.02101) states (0.02054) senate (0.01750) rep (0.01368) said (0.01266) residents (0.01245) population (0.01199) constitution (0.01165) 1990 (0.01075) congress (0.01073) california (0.00900) citizens (0.00759) county (0.00758)\n",
      "Topic #10: air (0.05710) aircraft (0.04349) crash (0.04251) force (0.03206) crashed (0.03028) base (0.02984) pilot (0.02664) jet (0.02564) said (0.02530) military (0.02217) training (0.01933) plane (0.01569) west (0.01503) flight (0.01428) accident (0.01357) crew (0.01110) spokesman (0.01101) gulf (0.01036) miles (0.01033) killed (0.01025)\n",
      "Topic #11: taylor (0.11334) pneumonia (0.08142) miss (0.06778) hospital (0.05239) doctors (0.04548) said (0.02787) st (0.02689) condition (0.02202) john (0.02074) statement (0.01998) infection (0.01813) health (0.01692) april (0.01538) weeks (0.01450) death (0.01068) problems (0.01066) week (0.01062) dr (0.00974) near (0.00963) aids (0.00866)\n",
      "Topic #12: welfare (0.16157) reform (0.05384) benefits (0.02230) work (0.01994) clinton (0.01951) families (0.01793) president (0.01538) programs (0.01403) plan (0.01118) children (0.01017) spending (0.01014) poverty (0.01013) training (0.00971) cent (0.00967) administration (0.00957) democrats (0.00804) house (0.00798) congress (0.00793) support (0.00757) state (0.00731)\n",
      "Topic #13: nafta (0.12214) trade (0.02849) clinton (0.01898) agreement (0.01631) mexico (0.01609) opposition (0.01556) anti (0.01432) pro (0.01393) administration (0.01332) jobs (0.01294) vote (0.01292) house (0.01275) hispanic (0.01262) congress (0.01222) president (0.01209) free (0.01041) campaign (0.01039) democrats (0.00982) support (0.00981) environmental (0.00907)\n",
      "Topic #14: thomas (0.10356) court (0.03570) clarence (0.02799) supreme (0.02160) senate (0.01931) rights (0.01833) black (0.01531) law (0.01332) civil (0.01211) conservative (0.01145) said (0.01138) sen (0.01123) education (0.01043) judge (0.00946) action (0.00901) chairman (0.00883) abortion (0.00870) bush (0.00853) reagan (0.00840) commission (0.00827)\n",
      "Topic #15: tunnel (0.08207) french (0.04520) british (0.02830) channel (0.02460) rail (0.02292) link (0.02059) france (0.01950) project (0.01942) britain (0.01930) billion (0.01803) london (0.01585) europe (0.01578) workers (0.01334) england (0.01249) speed (0.01209) 1993 (0.00949) passengers (0.00864) high (0.00793) miles (0.00750) time (0.00687)\n",
      "Topic #16: term (0.06922) limits (0.06048) incumbents (0.02352) congress (0.02165) voters (0.02017) legislative (0.01750) legislators (0.01735) limit (0.01542) state (0.01425) terms (0.01339) political (0.01072) house (0.00997) office (0.00987) elected (0.00957) election (0.00922) power (0.00894) members (0.00875) congressional (0.00850) public (0.00828) interests (0.00744)\n",
      "Topic #17: earthquake (0.13372) quake (0.05274) earthquakes (0.03743) scale (0.02363) damage (0.02326) area (0.02281) san (0.01393) survey (0.01377) japan (0.01346) recorded (0.01249) said (0.01207) major (0.01007) scientists (0.00969) california (0.00934) struck (0.00921) bay (0.00804) cause (0.00801) says (0.00781) person (0.00781) earth (0.00760)\n",
      "Topic #18: shining (0.08570) path (0.07089) guzman (0.03491) guerrillas (0.02862) lima (0.02577) peru (0.02303) war (0.01420) police (0.01316) movement (0.01134) peace (0.01121) violence (0.01011) killed (0.00942) valley (0.00901) people (0.00857) said (0.00837) government (0.00760) military (0.00754) central (0.00739) october (0.00723) armed (0.00690)\n",
      "Topic #19: disease (0.08670) sheep (0.05337) cattle (0.05138) feed (0.03147) agriculture (0.02877) scientists (0.02640) animals (0.02026) britain (0.01712) bse (0.01620) cow (0.01475) mad (0.01449) cases (0.01435) confirmed (0.01427) infected (0.01287) condition (0.01247) ministry (0.01225) food (0.01188) government (0.01145) known (0.01105) said (0.01005)\n",
      "Topic #20: marathon (0.08787) race (0.05057) runners (0.02128) run (0.02000) women (0.01917) finished (0.01833) boston (0.01829) won (0.01805) miles (0.01804) running (0.01624) second (0.01533) ran (0.01265) city (0.01205) lead (0.01179) course (0.01132) year (0.01117) time (0.00972) 26 (0.00947) kelley (0.00946) seconds (0.00889)\n",
      "Topic #21: bank (0.11562) countries (0.04955) poverty (0.04923) debt (0.04920) world (0.03249) loans (0.02648) developing (0.02169) conable (0.01631) billion (0.01560) development (0.01297) banks (0.01203) boston (0.01083) economic (0.01060) new (0.00999) policies (0.00973) foreign (0.00890) africa (0.00880) cent (0.00834) investment (0.00804) poor (0.00795)\n",
      "Topic #22: amendment (0.07539) right (0.05451) militia (0.05392) arms (0.05271) gun (0.04763) bear (0.04096) second (0.02870) rights (0.02404) constitutional (0.02391) constitution (0.01611) court (0.01556) state (0.01376) law (0.01217) guns (0.01137) free (0.01031) states (0.00948) control (0.00924) guard (0.00905) national (0.00885) people (0.00879)\n",
      "Topic #23: diabetes (0.15285) hispanics (0.03365) hispanic (0.02800) said (0.01990) disease (0.01830) percent (0.01592) health (0.01532) society (0.01270) mexican (0.01076) americans (0.01011) hospital (0.00972) emergency (0.00924) body (0.00896) population (0.00895) researchers (0.00891) american (0.00857) form (0.00808) food (0.00806) care (0.00768) association (0.00766)\n",
      "Topic #24: drought (0.07411) farmers (0.03182) crop (0.02177) farm (0.01993) agriculture (0.01498) relief (0.01395) 1988 (0.01348) aid (0.01290) billion (0.01279) program (0.01230) year (0.01209) percent (0.01191) weather (0.01117) said (0.01091) states (0.01073) department (0.01021) disaster (0.01002) normal (0.00937) prices (0.00931) land (0.00912)\n",
      "Topic #25: tornado (0.08789) tornadoes (0.05655) weather (0.01915) deaths (0.01411) homes (0.01276) average (0.01268) mph (0.01242) reported (0.01222) said (0.01204) people (0.01172) storms (0.01136) april (0.01060) texas (0.00979) service (0.00924) injured (0.00917) county (0.00886) national (0.00841) june (0.00783) recorded (0.00776) miles (0.00765)\n",
      "Topic #26: dollars (0.04121) hurricane (0.03902) florida (0.03873) andrew (0.03763) losses (0.03672) insurance (0.03046) louisiana (0.02889) yesterday (0.02454) claims (0.02177) storm (0.01844) industry (0.01802) damage (0.01736) pounds (0.01543) property (0.01427) miami (0.01222) caused (0.01040) estimated (0.00997) total (0.00924) disaster (0.00900) cent (0.00863)\n",
      "Topic #27: assassination (0.07002) al (0.04107) military (0.03410) security (0.02627) army (0.01595) el (0.01558) officials (0.01167) 1979 (0.01137) evidence (0.01115) said (0.01100) team (0.01083) united (0.01017) attack (0.01005) official (0.01003) alleged (0.00928) organization (0.00926) state (0.00906) group (0.00861) threat (0.00845) government (0.00835)\n",
      "Topic #28: mr (0.15889) says (0.01962) political (0.01895) clinton (0.01851) kelley (0.01806) president (0.01314) bush (0.01291) andrew (0.01104) party (0.00939) man (0.00904) chicago (0.00874) drug (0.00846) role (0.00837) cent (0.00776) making (0.00756) development (0.00743) region (0.00739) baker (0.00728) according (0.00709) campaign (0.00705)\n",
      "Topic #29: crash (0.04663) plane (0.04154) engine (0.03512) said (0.02568) jet (0.01988) flight (0.01790) airport (0.01631) crashed (0.01574) united (0.01490) site (0.01252) passengers (0.01205) aboard (0.01084) board (0.01076) safety (0.01063) aircraft (0.01042) wind (0.01033) ground (0.01026) crew (0.00940) northwest (0.00901) accident (0.00805)\n",
      "Topic #30: brush (0.03447) santa (0.03129) trees (0.02506) california (0.02405) homes (0.02239) department (0.02054) firefighters (0.01956) water (0.01922) county (0.01479) areas (0.01470) southern (0.01358) drought (0.01260) fires (0.01188) season (0.01185) los (0.01180) city (0.01107) said (0.01068) protection (0.01020) san (0.01018) officials (0.00988)\n",
      "Topic #31: cellrule (0.26023) tablecell (0.20176) cvj (0.09463) chj (0.09463) rowrule (0.06369) tablerow (0.05846) world (0.00705) marathon (0.00621) olympic (0.00558) sunday (0.00441) hot (0.00388) monday (0.00384) won (0.00380) team (0.00319) boston (0.00307) exxon (0.00299) 000 (0.00285) place (0.00285) 11 (0.00284) record (0.00271)\n",
      "Topic #32: jackson (0.12742) dickey (0.06902) beach (0.04506) police (0.03612) long (0.02664) officer (0.02612) car (0.02523) incident (0.02277) said (0.01611) investigation (0.01299) angeles (0.01262) attorney (0.01258) los (0.01215) hill (0.01196) traffic (0.01184) brutality (0.00989) television (0.00968) officers (0.00940) office (0.00875) crew (0.00856)\n",
      "Topic #33: park (0.06271) yellowstone (0.05534) fires (0.05283) forest (0.04315) burn (0.02137) service (0.01738) natural (0.01499) national (0.01464) panel (0.01294) trees (0.01250) summer (0.01234) la (0.01111) management (0.01092) policies (0.01017) said (0.00961) areas (0.00959) season (0.00948) plans (0.00940) spring (0.00930) year (0.00879)\n",
      "Topic #34: gun (0.08136) nra (0.06238) guns (0.03903) control (0.02693) assault (0.02211) weapons (0.01627) ban (0.01471) james (0.01119) al (0.01067) reason (0.01052) laws (0.01044) 000 (0.00993) members (0.00977) issue (0.00952) important (0.00887) survey (0.00874) law (0.00859) criminal (0.00845) use (0.00781) republican (0.00756)\n",
      "Topic #35: says (0.04756) loans (0.02954) development (0.02564) banks (0.01852) poor (0.01833) women (0.01741) percent (0.01495) international (0.01408) world (0.01345) 100 (0.01341) million (0.01285) group (0.01260) agency (0.01155) private (0.01131) rate (0.01071) 50 (0.01019) 000 (0.01016) small (0.00923) plans (0.00815) start (0.00813)\n",
      "Topic #36: hurricanes (0.08175) gray (0.04923) hurricane (0.03946) storms (0.03499) atlantic (0.03460) season (0.01674) tropical (0.01527) hugo (0.01473) average (0.01284) drought (0.01207) year (0.01082) 1988 (0.01050) weather (0.01050) predicted (0.01047) period (0.01033) said (0.01013) storm (0.00965) africa (0.00938) caribbean (0.00917) 1985 (0.00915)\n",
      "Topic #37: candidate (0.05852) presidential (0.04680) party (0.04474) assassination (0.04083) cartel (0.02146) government (0.02083) drug (0.01739) mexican (0.01647) friday (0.01641) gandhi (0.01580) forces (0.01484) liberal (0.01432) armed (0.01336) said (0.01311) elections (0.01262) airport (0.01249) thursday (0.01238) killing (0.01199) political (0.01139) campaign (0.01103)\n",
      "Topic #38: tb (0.12291) tuberculosis (0.06322) aids (0.04400) percent (0.03456) cases (0.02971) infected (0.02836) blacks (0.02425) disease (0.01872) study (0.01742) infection (0.01532) new (0.01434) 000 (0.01396) health (0.01363) americans (0.01349) people (0.01212) drug (0.01187) dr (0.01164) reported (0.01136) rate (0.01133) 100 (0.00969)\n",
      "Topic #39: beers (0.07935) diamond (0.07169) organization (0.04999) london (0.03450) gold (0.02801) percent (0.02627) africa (0.02553) south (0.02478) selling (0.02401) office (0.02302) billion (0.02245) based (0.02005) african (0.01857) interests (0.01654) said (0.01646) investigation (0.01389) cartel (0.01339) central (0.01290) spokesman (0.01274) company (0.01265)\n",
      "Topic #40: beef (0.08098) bse (0.07175) british (0.05009) germany (0.03737) disease (0.03281) cow (0.03218) cattle (0.03155) ban (0.03136) uk (0.02503) britain (0.02075) commission (0.02036) mad (0.01944) exports (0.01569) ministry (0.01488) health (0.01417) research (0.01312) agriculture (0.01253) european (0.01015) 1990 (0.00954) said (0.00849)\n",
      "Topic #41: smith (0.09773) plane (0.02861) city (0.01431) season (0.01376) institute (0.01158) said (0.01135) death (0.01039) house (0.00958) heard (0.00949) acres (0.00946) residents (0.00927) miss (0.00925) night (0.00914) got (0.00858) come (0.00845) area (0.00793) million (0.00766) town (0.00765) months (0.00751) open (0.00744)\n",
      "Topic #42: gates (0.08033) police (0.07436) commission (0.04609) officers (0.04327) angeles (0.02843) los (0.02762) chief (0.02762) department (0.02560) report (0.02172) brutality (0.01842) king (0.01724) community (0.01314) force (0.01208) mayor (0.01148) complaints (0.01048) said (0.01025) black (0.00970) racism (0.00821) violence (0.00746) incident (0.00741)\n",
      "Topic #43: morgan (0.10166) drug (0.03529) officer (0.02589) black (0.02402) said (0.02066) angeles (0.01979) los (0.01791) court (0.01680) airport (0.01654) man (0.01255) drugs (0.01140) person (0.01137) lewis (0.01126) based (0.01013) police (0.00963) denied (0.00882) case (0.00841) year (0.00831) feet (0.00827) monday (0.00809)\n",
      "Topic #44: taylor (0.09200) district (0.04424) attorney (0.04301) office (0.03931) report (0.03438) charges (0.02499) press (0.02428) criminal (0.02389) declined (0.02362) medical (0.02297) county (0.02161) october (0.02120) investigation (0.02088) said (0.02072) ms (0.01979) doctors (0.01966) angeles (0.01908) los (0.01833) fell (0.01799) drug (0.01775)\n",
      "Topic #45: police (0.07276) abortion (0.05679) rescue (0.03953) pain (0.03638) operation (0.03560) anti (0.02343) brutality (0.02283) civil (0.01974) rights (0.01854) angeles (0.01786) los (0.01740) use (0.01253) force (0.01057) said (0.01055) conservative (0.00984) complaints (0.00921) used (0.00880) justice (0.00852) cities (0.00828) using (0.00792)\n",
      "Topic #46: thomas (0.04224) gave (0.03776) black (0.03653) clarence (0.02990) school (0.02882) judge (0.02743) lives (0.02680) family (0.02512) life (0.02481) america (0.02470) true (0.02443) race (0.02146) pain (0.01778) man (0.01446) living (0.01427) young (0.01367) rise (0.01347) children (0.01282) age (0.01250) story (0.01241)\n",
      "Topic #47: francis (0.15223) johnson (0.07796) steroids (0.04525) lewis (0.03080) ben (0.02654) athletes (0.02280) speed (0.02176) world (0.01917) use (0.01697) caught (0.01497) canadian (0.01386) drug (0.01290) track (0.01200) sport (0.01127) running (0.01087) said (0.01080) ms (0.01042) record (0.00924) gave (0.00907) sunday (0.00861)\n",
      "Topic #48: fires (0.06098) center (0.03087) equipment (0.01835) nation (0.01677) flames (0.01506) smoke (0.01432) acres (0.01395) military (0.01372) burning (0.01371) room (0.01235) miles (0.01187) 000 (0.01185) lines (0.01175) thousands (0.01111) mile (0.01087) line (0.01039) temperatures (0.01020) worst (0.01004) guard (0.00980) says (0.00965)\n",
      "Topic #49: cjd (0.09027) bse (0.07611) cases (0.02827) disease (0.02495) dr (0.02277) farmers (0.01949) medical (0.01626) year (0.01407) health (0.01397) case (0.01337) cow (0.01293) animals (0.01270) cause (0.01151) sheep (0.01021) says (0.00999) link (0.00967) mad (0.00960) uk (0.00955) died (0.00930) chance (0.00880)\n",
      "\n"
     ]
    }
   ],
   "source": [
    "_, _ = decomposition_helper(duc_data, method='nmf', n_components=[10, 20, 50], vectorizer=TfidfVectorizer)"
   ]
  },
  {
   "cell_type": "markdown",
   "metadata": {},
   "source": [
    "#### ES"
   ]
  },
  {
   "cell_type": "code",
   "execution_count": 38,
   "metadata": {},
   "outputs": [],
   "source": [
    "es_topic_indexer(lda_topics_duc[10], 'topicsduc')"
   ]
  },
  {
   "cell_type": "code",
   "execution_count": 14,
   "metadata": {},
   "outputs": [
    {
     "data": {
      "text/plain": [
       "CountVectorizer(analyzer='word', binary=False, decode_error='strict',\n",
       "        dtype=<class 'numpy.int64'>, encoding='utf-8', input='content',\n",
       "        lowercase=True, max_df=0.95, max_features=1000, min_df=2,\n",
       "        ngram_range=(1, 1), preprocessor=None, stop_words='english',\n",
       "        strip_accents=None, token_pattern='(?u)\\\\b\\\\w\\\\w+\\\\b',\n",
       "        tokenizer=None, vocabulary=None)"
      ]
     },
     "execution_count": 14,
     "metadata": {},
     "output_type": "execute_result"
    }
   ],
   "source": [
    "vectorizer = CountVectorizer(stop_words='english', max_df=0.95, \n",
    "                             min_df=2, max_features=1000)\n",
    "vectorizer.fit(duc_data)"
   ]
  },
  {
   "cell_type": "code",
   "execution_count": 15,
   "metadata": {},
   "outputs": [
    {
     "name": "stderr",
     "output_type": "stream",
     "text": [
      "301it [00:53,  5.59it/s]\n"
     ]
    }
   ],
   "source": [
    "_duc_data = {}\n",
    "for i, (idx, doc) in tqdm(enumerate(docs.items())):\n",
    "    _duc_data[idx] = {}\n",
    "    _duc_data[idx]['text'] = doc[0]\n",
    "    _duc_data[idx]['gold'] = doc[1]\n",
    "    pd = lda_models_duc[10].transform(vectorizer.transform([doc[0]]))[0]\n",
    "    _duc_data[idx]['topics'] = pd.argsort()[::-1]\n",
    "    _duc_data[idx]['pd'] = pd[pd.argsort()[::-1]]"
   ]
  },
  {
   "cell_type": "code",
   "execution_count": 16,
   "metadata": {},
   "outputs": [
    {
     "name": "stderr",
     "output_type": "stream",
     "text": [
      "100%|██████████| 301/301 [00:20<00:00, 14.64it/s]\n"
     ]
    }
   ],
   "source": [
    "es_text_indexer(_duc_data, 'duc', gold=True)"
   ]
  }
 ],
 "metadata": {
  "kernelspec": {
   "display_name": "Python 3",
   "language": "python",
   "name": "python3"
  },
  "language_info": {
   "codemirror_mode": {
    "name": "ipython",
    "version": 3
   },
   "file_extension": ".py",
   "mimetype": "text/x-python",
   "name": "python",
   "nbconvert_exporter": "python",
   "pygments_lexer": "ipython3",
   "version": "3.6.4"
  }
 },
 "nbformat": 4,
 "nbformat_minor": 2
}
