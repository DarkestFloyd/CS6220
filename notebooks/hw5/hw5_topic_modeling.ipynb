{
 "cells": [
  {
   "cell_type": "code",
   "execution_count": 1,
   "metadata": {},
   "outputs": [],
   "source": [
    "from sklearn.datasets import fetch_20newsgroups\n",
    "from sklearn.feature_extraction.text import CountVectorizer, TfidfVectorizer"
   ]
  },
  {
   "cell_type": "code",
   "execution_count": 2,
   "metadata": {},
   "outputs": [],
   "source": [
    "from sklearn.decomposition import LatentDirichletAllocation as LDA, NMF"
   ]
  },
  {
   "cell_type": "code",
   "execution_count": 23,
   "metadata": {},
   "outputs": [],
   "source": [
    "from elasticsearch import Elasticsearch\n",
    "es = Elasticsearch()"
   ]
  },
  {
   "cell_type": "markdown",
   "metadata": {},
   "source": [
    "## Helper functions"
   ]
  },
  {
   "cell_type": "code",
   "execution_count": 3,
   "metadata": {},
   "outputs": [],
   "source": [
    "# partly taken from http://scikit-learn.org/stable/auto_examples/applications/plot_topics_extraction_with_nmf_lda.html\n",
    "def print_top_words(model, feature_names, n_top_words):\n",
    "    ret = {}\n",
    "    for topic_idx, topic in enumerate(model.components_):\n",
    "        message = \"Topic #%d: \" % topic_idx\n",
    "        ret[topic_idx] = {feature_names[i]: topic[i]/sum(topic) for i in topic.argsort()[:-n_top_words - 1:-1]}\n",
    "        message += \" \".join([k + ' (%.5f)' % v for k, v in ret[topic_idx].items()])\n",
    "        print(message)\n",
    "    print()\n",
    "    return ret"
   ]
  },
  {
   "cell_type": "code",
   "execution_count": 4,
   "metadata": {},
   "outputs": [],
   "source": [
    "def decomposition_helper(data, method='lda', n_components=[10], vectorizer=CountVectorizer, print_num=20):\n",
    "    vectorized = vectorizer(stop_words='english', max_df=0.95, \n",
    "                             min_df=2, max_features=1000)\n",
    "    features = vectorized.fit_transform(data)\n",
    "    ret_models = {}\n",
    "    ret_topics = {}\n",
    "    for nc in n_components:\n",
    "        print('\\nFor n_components=%d' % nc)\n",
    "        if method == 'lda':\n",
    "            m = LDA(n_components=nc, random_state=666, learning_method='online', n_jobs=-1)\n",
    "        else:\n",
    "            m = NMF(n_components=nc, random_state=666)\n",
    "        m.fit(features)\n",
    "        ret_models[nc] = m\n",
    "        ret_topics[nc] = print_top_words(m, vectorized.get_feature_names(), print_num)\n",
    "    return ret_models, ret_topics"
   ]
  },
  {
   "cell_type": "code",
   "execution_count": 36,
   "metadata": {},
   "outputs": [],
   "source": [
    "def es_topic_indexer(topics, index):\n",
    "    for topic_id, words_pd in topics.items():\n",
    "        words, pds = [], []\n",
    "        for word, pd in words_pd.items():\n",
    "            words.append(word)\n",
    "            pds.append(pd)\n",
    "        doc = {\n",
    "            'topic_id' : topic_id,\n",
    "            'top_words' : words,\n",
    "            'word_prob' : pds\n",
    "        }\n",
    "        es.index(index=index, doc_type='topic', body=doc)"
   ]
  },
  {
   "cell_type": "markdown",
   "metadata": {},
   "source": [
    "## 20NG"
   ]
  },
  {
   "cell_type": "code",
   "execution_count": 5,
   "metadata": {},
   "outputs": [],
   "source": [
    "news_train = fetch_20newsgroups(\n",
    "    data_home='../data/20newsgroups/',\n",
    "    subset='train', remove=('headers', 'footers', 'quotes'),\n",
    "    shuffle=True, random_state=666)"
   ]
  },
  {
   "cell_type": "code",
   "execution_count": 6,
   "metadata": {},
   "outputs": [
    {
     "name": "stdout",
     "output_type": "stream",
     "text": [
      "\n",
      "For n_components=10\n",
      "Topic #0: space (0.02703) new (0.01426) armenian (0.01348) president (0.01322) 1993 (0.01257) armenians (0.01183) research (0.01182) university (0.01134) national (0.01069) turkish (0.01056) center (0.01012) program (0.01006) nasa (0.01000) information (0.00954) april (0.00892) general (0.00812) press (0.00785) comp (0.00765) request (0.00753) launch (0.00723)\n",
      "Topic #1: good (0.01785) year (0.01696) like (0.01522) new (0.01437) just (0.01280) car (0.01196) game (0.01171) team (0.01030) time (0.01013) got (0.00986) years (0.00899) don (0.00834) think (0.00831) home (0.00802) best (0.00768) better (0.00757) ll (0.00738) games (0.00730) make (0.00701) high (0.00696)\n",
      "Topic #2: 145 (0.08498) b8f (0.04817) 34u (0.04244) bike (0.04081) w7 (0.03784) pl (0.03738) ah (0.03444) a86 (0.03319) 0t (0.03317) chz (0.03155) 2di (0.02877) lk (0.02830) air (0.02798) 1d9 (0.02764) gm (0.02676) ms (0.02647) 7u (0.02574) sl (0.02511) cd (0.02287) d9 (0.02035)\n",
      "Topic #3: use (0.01755) file (0.01670) windows (0.01351) drive (0.01254) software (0.01093) program (0.01061) using (0.01055) files (0.00883) version (0.00868) card (0.00865) data (0.00855) does (0.00835) window (0.00822) problem (0.00807) available (0.00806) dos (0.00793) ftp (0.00780) pc (0.00742) disk (0.00741) image (0.00717)\n",
      "Topic #4: edu (0.06519) com (0.03358) mail (0.03210) send (0.01961) thanks (0.01916) email (0.01732) information (0.01714) list (0.01672) internet (0.01478) post (0.01268) know (0.01237) cs (0.01161) subject (0.01157) address (0.01143) posting (0.01120) info (0.01063) news (0.01028) article (0.01019) gov (0.00942) group (0.00879)\n",
      "Topic #5: ax (0.82468) max (0.06049) g9v (0.01472) b8f (0.00972) a86 (0.00890) pl (0.00667) giz (0.00583) 1d9 (0.00560) 1t (0.00516) bhj (0.00501) 3t (0.00485) 75u (0.00470) 7ey (0.00386) 2tm (0.00378) 0t (0.00311) bxn (0.00298) 2di (0.00274) wm (0.00257) 34u (0.00254) gk (0.00223)\n",
      "Topic #6: key (0.02659) use (0.02077) government (0.02076) law (0.01796) gun (0.01519) scsi (0.01449) public (0.01420) chip (0.01350) encryption (0.01258) used (0.01072) keys (0.00947) security (0.00905) control (0.00883) clipper (0.00870) privacy (0.00846) motif (0.00844) state (0.00839) using (0.00812) people (0.00731) rights (0.00710)\n",
      "Topic #7: people (0.02539) don (0.02092) just (0.01742) think (0.01720) know (0.01661) like (0.01353) say (0.01159) time (0.01134) said (0.01080) did (0.01046) way (0.00869) things (0.00794) going (0.00755) ve (0.00754) make (0.00728) want (0.00726) really (0.00703) right (0.00699) does (0.00695) point (0.00669)\n",
      "Topic #8: 10 (0.04112) 00 (0.03791) 25 (0.02957) 15 (0.02912) 12 (0.02786) 11 (0.02770) 20 (0.02750) 16 (0.02553) 14 (0.02358) 17 (0.02252) 50 (0.02143) 24 (0.01936) 13 (0.01818) 18 (0.01806) 30 (0.01778) 40 (0.01670) 27 (0.01492) 21 (0.01452) 55 (0.01408) 19 (0.01406)\n",
      "Topic #9: god (0.10394) jesus (0.04512) bible (0.02892) christian (0.02805) church (0.02436) db (0.02326) believe (0.02314) faith (0.02237) christians (0.02148) christ (0.02023) does (0.01950) cx (0.01706) religion (0.01645) true (0.01547) truth (0.01476) word (0.01419) man (0.01305) john (0.01289) atheism (0.01269) belief (0.01255)\n",
      "\n",
      "\n",
      "For n_components=20\n",
      "Topic #0: key (0.05322) data (0.04518) chip (0.03040) use (0.02665) encryption (0.02519) technology (0.02027) keys (0.01896) clipper (0.01742) privacy (0.01686) computer (0.01465) security (0.01445) information (0.01435) used (0.01430) public (0.01415) bit (0.01380) access (0.01233) algorithm (0.01226) product (0.01164) number (0.01161) phone (0.01142)\n",
      "Topic #1: good (0.03212) best (0.02832) offer (0.02504) sell (0.02476) sale (0.02417) book (0.02412) new (0.02189) interested (0.02162) condition (0.02161) old (0.02089) win (0.02047) guy (0.01943) tape (0.01867) deleted (0.01848) shipping (0.01820) stuff (0.01659) great (0.01627) mail (0.01617) excellent (0.01600) make (0.01486)\n",
      "Topic #2: 00 (0.11822) 50 (0.08718) 25 (0.07630) price (0.07200) cd (0.04903) 40 (0.04671) 100 (0.04272) ac (0.03847) 200 (0.03729) quality (0.03497) service (0.03383) 75 (0.03355) 60 (0.02399) uk (0.02384) black (0.02369) 10 (0.02300) 300 (0.02099) 70 (0.01788) appears (0.01509) 12 (0.01204)\n",
      "Topic #3: edu (0.05816) file (0.04688) com (0.03314) files (0.02461) mail (0.02400) email (0.02292) send (0.02286) information (0.02175) ftp (0.02008) list (0.01936) pub (0.01579) address (0.01571) internet (0.01526) info (0.01496) program (0.01337) entry (0.01259) server (0.01183) original (0.01115) directory (0.01113) section (0.00982)\n",
      "Topic #4: like (0.03193) just (0.03011) don (0.02858) ve (0.02437) know (0.02181) think (0.01668) work (0.01540) time (0.01448) make (0.01351) good (0.01204) want (0.01177) didn (0.01170) use (0.01165) going (0.01158) does (0.01148) lot (0.01148) really (0.01136) way (0.01099) things (0.01096) problem (0.01059)\n",
      "Topic #5: team (0.03283) power (0.02721) new (0.02688) games (0.02183) year (0.02054) high (0.02032) cost (0.01880) years (0.01798) low (0.01790) time (0.01659) ground (0.01546) water (0.01493) radio (0.01276) box (0.01171) weeks (0.01130) runs (0.01107) used (0.01075) inside (0.01061) san (0.01004) line (0.00963)\n",
      "Topic #6: right (0.05289) left (0.02534) day (0.02286) motif (0.01866) second (0.01786) days (0.01748) instead (0.01723) later (0.01573) little (0.01536) new (0.01429) just (0.01352) quite (0.01326) hand (0.01211) people (0.01147) needs (0.01115) great (0.01095) imagine (0.01081) wanted (0.01080) solution (0.01018) time (0.00977)\n",
      "Topic #7: space (0.09067) car (0.05344) nasa (0.03446) research (0.03105) bike (0.02293) science (0.02257) center (0.02241) gov (0.02129) launch (0.02122) article (0.01805) earth (0.01709) dr (0.01644) satellite (0.01586) sources (0.01555) engine (0.01502) news (0.01492) posting (0.01430) greek (0.01399) medical (0.01394) shuttle (0.01394)\n",
      "Topic #8: 10 (0.04252) 15 (0.03256) 11 (0.03102) 12 (0.03058) 20 (0.02950) 14 (0.02719) 17 (0.02583) 16 (0.02411) 24 (0.02357) 13 (0.02182) 18 (0.02045) 30 (0.01865) 21 (0.01708) 27 (0.01696) 19 (0.01686) 25 (0.01626) 55 (0.01601) 22 (0.01573) 23 (0.01524) period (0.01372)\n",
      "Topic #9: god (0.04878) jesus (0.02114) does (0.01801) people (0.01635) believe (0.01571) true (0.01385) bible (0.01355) christian (0.01316) life (0.01304) church (0.01141) religion (0.01057) faith (0.01048) christians (0.01007) say (0.00995) truth (0.00971) christ (0.00948) word (0.00879) human (0.00857) religious (0.00818) evidence (0.00804)\n",
      "Topic #10: available (0.04456) code (0.03892) image (0.03425) software (0.03146) output (0.03067) source (0.02987) display (0.02465) use (0.02338) sun (0.02308) mit (0.02260) type (0.02030) number (0.02030) open (0.01758) set (0.01600) window (0.01527) function (0.01414) cs (0.01360) subject (0.01279) multiple (0.01245) write (0.01227)\n",
      "Topic #11: government (0.03634) law (0.02704) gun (0.02550) president (0.02428) state (0.01887) states (0.01817) rights (0.01770) public (0.01635) american (0.01597) people (0.01558) national (0.01387) police (0.01342) control (0.01290) crime (0.01283) guns (0.01236) laws (0.01141) administration (0.01133) united (0.01113) military (0.01112) federal (0.01106)\n",
      "Topic #12: problem (0.03459) hard (0.03255) speed (0.03110) card (0.02957) color (0.02791) video (0.02781) apple (0.02589) bus (0.02495) memory (0.02400) problems (0.02163) cards (0.01945) monitor (0.01915) mode (0.01844) land (0.01738) fast (0.01711) faster (0.01536) switch (0.01528) works (0.01397) local (0.01391) 16 (0.01258)\n",
      "Topic #13: db (0.09933) cx (0.08771) w7 (0.07085) ah (0.06924) air (0.06529) cs (0.05955) al (0.05763) chz (0.05456) gas (0.04926) lk (0.04688) tv (0.04198) bh (0.04051) 34u (0.03339) 7u (0.03049) ma (0.02896) d9 (0.02708) pick (0.02340) 145 (0.02025) ca (0.01417) 1t (0.01064)\n",
      "Topic #14: ax (0.78277) max (0.05691) g9v (0.01450) b8f (0.01429) a86 (0.01193) pl (0.00999) 145 (0.00912) 1d9 (0.00822) 0t (0.00644) 1t (0.00600) 75u (0.00599) 2di (0.00562) bhj (0.00559) giz (0.00558) 3t (0.00540) 34u (0.00500) 2tm (0.00432) wm (0.00392) 7ey (0.00369) 0d (0.00355)\n",
      "Topic #15: drive (0.04613) thanks (0.03448) pc (0.02791) scsi (0.02720) does (0.02716) disk (0.02281) use (0.02274) know (0.02066) mac (0.02021) faq (0.01956) bit (0.01929) hi (0.01592) drives (0.01521) card (0.01473) board (0.01442) driver (0.01427) help (0.01398) controller (0.01393) advance (0.01328) need (0.01313)\n",
      "Topic #16: don (0.03099) people (0.02657) know (0.02263) think (0.02202) did (0.01652) just (0.01608) like (0.01503) say (0.01500) way (0.01232) course (0.01202) question (0.01171) right (0.01072) said (0.01063) let (0.00987) time (0.00971) isn (0.00961) want (0.00954) really (0.00952) little (0.00949) good (0.00941)\n",
      "Topic #17: game (0.04814) year (0.03771) mr (0.03586) play (0.02546) season (0.02474) players (0.02231) bad (0.02221) hockey (0.02169) stephanopoulos (0.02029) israeli (0.02010) league (0.01971) good (0.01872) think (0.01716) did (0.01684) got (0.01661) points (0.01511) kill (0.01504) said (0.01503) wasn (0.01473) teams (0.01450)\n",
      "Topic #18: 000 (0.02821) people (0.02568) armenian (0.02450) israel (0.02226) armenians (0.02149) turkish (0.01919) war (0.01850) said (0.01844) jews (0.01739) children (0.01584) killed (0.01440) women (0.01324) city (0.01322) university (0.01315) years (0.01310) million (0.01253) health (0.01239) russian (0.01211) world (0.01183) population (0.01179)\n",
      "Topic #19: windows (0.04550) program (0.03949) dos (0.03599) version (0.02942) graphics (0.02851) package (0.02675) window (0.02609) application (0.02356) using (0.02312) programs (0.02284) ms (0.02202) systems (0.01994) widget (0.01793) os (0.01744) software (0.01684) comp (0.01664) applications (0.01573) unix (0.01556) manager (0.01490) run (0.01444)\n",
      "\n",
      "\n",
      "For n_components=50\n",
      "Topic #0: program (0.18892) output (0.09463) screen (0.07450) mac (0.06193) input (0.05131) hp (0.04844) section (0.04406) printer (0.03967) line (0.03598) lines (0.03532) distribution (0.02937) built (0.02299) size (0.02122) function (0.01713) end (0.01342) user (0.01292) uses (0.01288) mode (0.01083) type (0.00956) needed (0.00941)\n",
      "Topic #1: true (0.03548) case (0.03173) number (0.02258) actually (0.02187) argument (0.02092) order (0.01990) used (0.01918) school (0.01851) way (0.01705) free (0.01637) years (0.01455) david (0.01362) matter (0.01316) remember (0.01310) sounds (0.01302) parts (0.01277) guy (0.01205) response (0.01195) couple (0.01192) assume (0.01120)\n",
      "Topic #2: year (0.12397) play (0.07190) season (0.05552) home (0.05183) hit (0.03864) end (0.03358) mike (0.03035) division (0.02948) mark (0.02911) runs (0.02841) second (0.02622) period (0.02607) power (0.02583) got (0.02406) base (0.02380) dave (0.02377) better (0.02230) time (0.01720) near (0.01649) years (0.01643)\n",
      "Topic #3: use (0.19152) does (0.08843) thanks (0.08488) know (0.07520) used (0.05595) software (0.04106) advance (0.03738) using (0.03179) like (0.02642) 800 (0.02563) installed (0.02370) hardware (0.02202) environment (0.01781) quality (0.01554) info (0.01454) able (0.01402) looking (0.01289) worth (0.01245) color (0.01240) information (0.01182)\n",
      "Topic #4: edu (0.26781) image (0.07710) ftp (0.07448) pub (0.06436) internet (0.05681) cs (0.04288) images (0.03808) site (0.02376) gov (0.02365) tar (0.02200) mail (0.02049) sites (0.02047) university (0.02037) 128 (0.02000) commercial (0.01695) au (0.01658) david (0.01627) subject (0.01508) directory (0.01463) john (0.01359)\n",
      "Topic #5: gun (0.14513) control (0.08726) guns (0.07036) police (0.06233) study (0.06014) killed (0.05253) firearms (0.04959) america (0.04848) freedom (0.04568) defense (0.04343) self (0.04096) report (0.03298) reported (0.03154) shot (0.02650) reports (0.02608) la (0.01883) talk (0.01845) kill (0.01620) 1990 (0.01438) street (0.00987)\n",
      "Topic #6: com (0.23265) support (0.09008) display (0.08146) color (0.06682) mouse (0.04870) apple (0.04817) extra (0.03516) try (0.03038) products (0.02599) supports (0.02358) systems (0.02332) market (0.02173) class (0.02089) want (0.01690) ibm (0.01622) yes (0.01563) free (0.01218) note (0.01164) based (0.01053) entire (0.00950)\n",
      "Topic #7: said (0.05162) didn (0.04919) did (0.03587) probably (0.03095) know (0.03079) went (0.03055) time (0.02994) told (0.02958) came (0.02922) going (0.02721) days (0.02630) thought (0.02586) took (0.02439) day (0.02236) come (0.01960) saw (0.01925) just (0.01858) ll (0.01830) asked (0.01739) like (0.01655)\n",
      "Topic #8: 10 (0.04438) 11 (0.04236) 12 (0.03994) 24 (0.03584) 14 (0.03573) 17 (0.03424) 16 (0.03272) 18 (0.02974) 15 (0.02858) 13 (0.02835) 21 (0.02258) 27 (0.02238) 20 (0.02229) 19 (0.02176) 55 (0.02112) 25 (0.02058) 22 (0.02023) 23 (0.02011) 92 (0.01864) 26 (0.01822)\n",
      "Topic #9: machine (0.12260) questions (0.09027) copy (0.08635) answer (0.08034) machines (0.06789) drivers (0.06750) win (0.05495) vs (0.05429) break (0.04793) network (0.03528) check (0.03329) tell (0.03123) series (0.02997) needed (0.02165) running (0.02161) ask (0.01782) stop (0.01459) use (0.01353) does (0.01123) currently (0.01115)\n",
      "Topic #10: available (0.09775) information (0.09177) software (0.04629) based (0.03184) version (0.03067) contact (0.03025) library (0.02469) ibm (0.02427) anonymous (0.02427) unix (0.02310) programs (0.02305) type (0.02243) paper (0.01981) written (0.01969) source (0.01961) object (0.01947) code (0.01854) related (0.01781) functions (0.01623) 3d (0.01622)\n",
      "Topic #11: window (0.16368) question (0.10688) source (0.06471) ask (0.05871) code (0.05309) event (0.04619) sources (0.04563) appreciate (0.04276) comments (0.04116) events (0.03787) function (0.03215) like (0.03181) exist (0.02821) answers (0.02698) appears (0.02418) don (0.02103) know (0.01643) way (0.01337) state (0.01207) thanks (0.01143)\n",
      "Topic #12: armenian (0.08094) armenians (0.07100) turkish (0.06338) people (0.05063) greek (0.03728) turkey (0.03529) armenia (0.03064) russian (0.02743) turks (0.02625) soviet (0.02541) army (0.02455) government (0.02368) attack (0.02282) population (0.01970) city (0.01549) father (0.01532) women (0.01492) war (0.01374) children (0.01301) history (0.01267)\n",
      "Topic #13: line (0.12719) place (0.08730) night (0.08138) building (0.07986) left (0.07224) fbi (0.06746) gas (0.05786) hours (0.05551) unit (0.04875) cross (0.04809) room (0.03695) started (0.03545) second (0.03521) story (0.03477) person (0.02524) reference (0.02289) tv (0.00868) saw (0.00832) rest (0.00759) local (0.00658)\n",
      "Topic #14: 00 (0.17408) 50 (0.08601) 20 (0.08329) 10 (0.07822) 25 (0.07560) 30 (0.05441) 15 (0.05325) 40 (0.04168) 60 (0.02809) cover (0.02705) 1st (0.02156) 100 (0.01801) 75 (0.01721) 70 (0.01690) new (0.01659) appears (0.01625) 35 (0.01576) 80 (0.01328) man (0.01156) 12 (0.00809)\n",
      "Topic #15: ax (0.96082) pl (0.00462) 1t (0.00394) bhj (0.00369) 3t (0.00363) giz (0.00358) 7ey (0.00313) a86 (0.00276) b8f (0.00204) max (0.00200) 2tm (0.00190) gk (0.00170) 6ei (0.00166) 1d9 (0.00119) 9v (0.00068) 0t (0.00044) 80 (0.00035) g9v (0.00032) 25 (0.00030) 34u (0.00030)\n",
      "Topic #16: heard (0.04012) says (0.03938) did (0.03517) understand (0.03459) children (0.03402) guess (0.02872) ve (0.02827) hear (0.02810) life (0.02793) said (0.02558) dead (0.02395) things (0.02322) just (0.02295) death (0.02156) ok (0.02104) women (0.02071) ask (0.02057) men (0.02034) great (0.02034) seen (0.01764)\n",
      "Topic #17: right (0.44177) got (0.12000) water (0.08659) long (0.07076) white (0.05515) late (0.04548) away (0.03487) street (0.02970) held (0.01877) wait (0.01524) arms (0.01416) called (0.01217) condition (0.01145) looks (0.00965) coming (0.00497) takes (0.00404) write (0.00390) difference (0.00333) place (0.00281) went (0.00253)\n",
      "Topic #18: key (0.12917) graphics (0.06996) chip (0.06352) keys (0.04592) clipper (0.03938) encryption (0.03573) bit (0.03111) algorithm (0.02880) design (0.02745) secret (0.02730) standard (0.02685) des (0.02519) data (0.02355) nsa (0.02080) number (0.02058) escrow (0.02009) used (0.01750) security (0.01720) bits (0.01659) public (0.01506)\n",
      "Topic #19: windows (0.17873) dos (0.10560) version (0.06829) ms (0.06369) os (0.05124) comp (0.04887) manager (0.03825) 93 (0.03428) includes (0.03265) package (0.02941) apr (0.02448) tools (0.02274) date (0.02230) 1993 (0.02102) interface (0.01957) using (0.01945) release (0.01746) run (0.01706) unix (0.01458) runs (0.01229)\n",
      "Topic #20: government (0.05615) law (0.04679) public (0.02670) privacy (0.02019) use (0.01938) private (0.01856) crime (0.01791) legal (0.01640) security (0.01619) laws (0.01598) federal (0.01596) administration (0.01587) congress (0.01527) weapons (0.01523) clinton (0.01388) house (0.01316) people (0.01313) encryption (0.01271) protect (0.01238) enforcement (0.01199)\n",
      "Topic #21: car (0.04234) like (0.02666) just (0.02655) buy (0.02270) speed (0.02168) driver (0.01998) high (0.01987) good (0.01901) power (0.01899) don (0.01773) cost (0.01692) board (0.01524) cars (0.01507) work (0.01479) need (0.01442) engine (0.01439) low (0.01387) bought (0.01351) better (0.01316) ve (0.01291)\n",
      "Topic #22: god (0.07967) jesus (0.03453) believe (0.02450) bible (0.02214) christian (0.02149) does (0.01972) church (0.01864) faith (0.01712) people (0.01695) religion (0.01666) christians (0.01644) christ (0.01548) truth (0.01476) life (0.01445) man (0.01320) say (0.01258) religious (0.01198) true (0.01011) son (0.01010) belief (0.00996)\n",
      "Topic #23: israel (0.14420) jews (0.13241) anybody (0.10804) israeli (0.09043) jewish (0.07836) anti (0.06594) tax (0.06218) land (0.05286) peace (0.04080) policy (0.02495) citizens (0.01858) country (0.01771) solution (0.01508) state (0.01334) according (0.01173) fact (0.00970) said (0.00917) situation (0.00779) area (0.00762) attack (0.00682)\n",
      "Topic #24: server (0.12159) application (0.09404) motif (0.07756) sun (0.07427) widget (0.07163) running (0.07020) mit (0.05936) xt (0.05070) applications (0.04831) x11 (0.04516) volume (0.02968) limited (0.02783) available (0.01834) following (0.01553) example (0.01517) calls (0.01503) create (0.01471) start (0.01190) memory (0.01165) code (0.01116)\n",
      "Topic #25: db (0.22068) cx (0.19495) w7 (0.15740) al (0.12844) ah (0.11050) bh (0.08998) cs (0.05616) bits (0.01939) ca (0.00978) int (0.00215) display (0.00074) number (0.00001) 24 (0.00001) common (0.00001) right (0.00001) times (0.00001) higher (0.00001) code (0.00001) rules (0.00001) lower (0.00001)\n",
      "Topic #26: group (0.09952) different (0.09827) groups (0.06342) lot (0.05874) test (0.05018) body (0.03505) week (0.03123) knowledge (0.03084) pin (0.03083) range (0.02809) deal (0.02742) organization (0.02702) result (0.02306) big (0.02198) small (0.01982) current (0.01480) addition (0.01429) possibly (0.01390) kind (0.01384) having (0.01342)\n",
      "Topic #27: good (0.08357) bad (0.04880) oh (0.04039) little (0.04013) effect (0.03807) black (0.03786) getting (0.03698) reply (0.03428) left (0.03170) course (0.02969) short (0.02746) hot (0.02605) soon (0.02503) action (0.02380) physical (0.02377) just (0.02311) don (0.02279) instead (0.02010) appropriate (0.01862) real (0.01710)\n",
      "Topic #28: help (0.08404) stuff (0.07352) able (0.04993) looking (0.04649) thanks (0.04585) bike (0.04514) hi (0.04099) area (0.03840) appreciated (0.03819) package (0.03699) especially (0.03316) need (0.03117) like (0.02607) dod (0.02426) normal (0.02185) road (0.02066) good (0.01817) large (0.01604) experience (0.01529) child (0.01529)\n",
      "Topic #29: states (0.05318) world (0.04963) state (0.03913) war (0.03840) united (0.03201) power (0.03152) rights (0.02731) human (0.02583) american (0.02475) military (0.02352) years (0.02321) political (0.02255) history (0.02220) community (0.02210) term (0.02090) major (0.01918) air (0.01872) plan (0.01787) safety (0.01750) important (0.01566)\n",
      "Topic #30: won (0.17963) evidence (0.15805) league (0.11278) lost (0.08758) red (0.08210) 02 (0.05123) jim (0.04883) 01 (0.04493) 500 (0.04317) 03 (0.04154) 04 (0.03490) context (0.02570) national (0.01675) early (0.01580) carry (0.01571) american (0.00774) created (0.00588) claims (0.00512) home (0.00456) road (0.00354)\n",
      "Topic #31: space (0.11417) research (0.04575) nasa (0.04401) data (0.04243) science (0.04061) center (0.03831) launch (0.02725) earth (0.02507) radio (0.02463) theory (0.02297) scientific (0.02124) satellite (0.02026) technology (0.01896) program (0.01833) shuttle (0.01780) orbit (0.01760) analysis (0.01758) sci (0.01752) systems (0.01727) station (0.01721)\n",
      "Topic #32: drive (0.18629) scsi (0.10787) pc (0.08358) hard (0.07857) drives (0.06032) controller (0.05525) cd (0.05468) rom (0.04003) ide (0.03995) mac (0.03980) mb (0.03493) cable (0.02373) internal (0.02348) interface (0.02298) transfer (0.01620) 32 (0.01501) 16 (0.01169) supports (0.00934) wide (0.00901) devices (0.00678)\n",
      "Topic #33: sure (0.21411) post (0.13541) health (0.10132) net (0.08419) ground (0.07743) medical (0.07738) face (0.06889) sorry (0.05841) party (0.04810) usa (0.04354) claims (0.02258) make (0.00968) 90 (0.00844) know (0.00837) carry (0.00648) like (0.00579) need (0.00507) requires (0.00407) cause (0.00365) outside (0.00352)\n",
      "Topic #34: mail (0.06537) send (0.06131) address (0.04539) faq (0.03989) email (0.03913) computer (0.03746) ca (0.03485) request (0.02906) user (0.02665) fax (0.02616) uk (0.02615) ac (0.02261) phone (0.02259) keyboard (0.02145) export (0.02045) page (0.01996) org (0.01913) net (0.01756) message (0.01705) digital (0.01642)\n",
      "Topic #35: old (0.06735) year (0.04374) years (0.04001) rate (0.03320) interesting (0.03000) word (0.02876) hand (0.02632) probably (0.02561) company (0.02297) record (0.02203) higher (0.02177) insurance (0.02093) included (0.02015) mass (0.02000) language (0.01972) single (0.01962) add (0.01882) longer (0.01852) plus (0.01796) final (0.01741)\n",
      "Topic #36: card (0.10362) data (0.06966) memory (0.06359) video (0.05862) bit (0.05632) bus (0.04425) ram (0.04276) cards (0.03886) serial (0.03880) mode (0.03824) port (0.03631) chips (0.03428) modem (0.03105) 16 (0.02867) vga (0.02656) speed (0.01822) computer (0.01523) uses (0.01427) need (0.01314) chip (0.01302)\n",
      "Topic #37: g9v (0.09127) b8f (0.08101) 145 (0.06600) a86 (0.06212) 1d9 (0.04639) 34u (0.04248) pl (0.04170) 0t (0.03898) 75u (0.03839) 2di (0.03603) wm (0.02859) 0d (0.02276) 1t (0.02175) chz (0.02127) sl (0.01964) lk (0.01908) bhj (0.01895) bxn (0.01859) d9 (0.01815) ax (0.01788)\n",
      "Topic #38: mr (0.08164) 000 (0.07493) president (0.05851) 1993 (0.05071) april (0.04717) national (0.04206) university (0.03833) stephanopoulos (0.03621) press (0.03316) million (0.02994) members (0.02715) number (0.02430) said (0.02374) conference (0.02341) 1992 (0.02283) 1991 (0.01566) population (0.01435) letter (0.01316) department (0.01307) strong (0.01292)\n",
      "Topic #39: article (0.04209) current (0.03747) use (0.03672) posting (0.03668) subject (0.03497) entry (0.03087) read (0.02650) text (0.02559) original (0.02292) rules (0.02208) posted (0.02175) note (0.01936) error (0.01907) title (0.01724) number (0.01687) changes (0.01595) following (0.01561) author (0.01503) example (0.01398) given (0.01361)\n",
      "Topic #40: file (0.22523) files (0.11678) disk (0.09091) info (0.07422) format (0.05350) jpeg (0.03518) floppy (0.03308) directory (0.03258) write (0.03017) gif (0.02336) read (0.01461) size (0.01454) command (0.01414) need (0.01393) number (0.01208) standard (0.01171) email (0.01087) ftp (0.01027) error (0.01020) type (0.00914)\n",
      "Topic #41: things (0.03960) time (0.03809) idea (0.03635) ve (0.03612) quite (0.03230) having (0.03003) book (0.02503) like (0.02282) problem (0.02209) possible (0.02196) haven (0.02016) read (0.01931) cause (0.01917) people (0.01811) got (0.01643) food (0.01528) ideas (0.01524) simple (0.01511) common (0.01483) deleted (0.01477)\n",
      "Topic #42: new (0.15763) list (0.09989) news (0.08343) san (0.04939) york (0.04129) city (0.03961) st (0.03909) pittsburgh (0.03157) chicago (0.03145) washington (0.03004) tv (0.02851) usenet (0.02792) east (0.02614) day (0.02088) california (0.02008) south (0.01737) recent (0.01730) newsgroup (0.01726) steve (0.01451) post (0.01394)\n",
      "Topic #43: game (0.12152) team (0.11804) games (0.08436) hockey (0.06047) players (0.05888) points (0.04205) player (0.03948) teams (0.03878) average (0.03843) nhl (0.03683) goal (0.03380) win (0.03273) canada (0.02902) best (0.02840) steve (0.02248) good (0.01943) shot (0.01454) point (0.01320) chance (0.01212) great (0.01082)\n",
      "Topic #44: max (0.98473) giz (0.00255) ll (0.00189) 04 (0.00168) 7ey (0.00157) 2tm (0.00147) pc (0.00071) end (0.00063) 1d9 (0.00035) sl (0.00000) bxn (0.00000) 2di (0.00000) ax (0.00000) check (0.00000) st (0.00000) home (0.00000) went (0.00000) making (0.00000) far (0.00000) american (0.00000)\n",
      "Topic #45: interested (0.05309) price (0.05236) sale (0.03946) offer (0.03921) monitor (0.03528) sell (0.03081) condition (0.02895) tape (0.02812) shipping (0.02774) box (0.02558) asking (0.02483) wire (0.02454) best (0.02426) ii (0.02364) mail (0.02360) excellent (0.02318) 250 (0.02270) manual (0.02098) supply (0.02041) new (0.02032)\n",
      "Topic #46: people (0.16116) want (0.05158) live (0.04046) ones (0.04013) knows (0.03354) young (0.03259) knew (0.03149) day (0.03103) inside (0.03005) doing (0.02860) die (0.02761) picture (0.02727) media (0.02555) leave (0.02544) let (0.02392) today (0.02152) choice (0.02127) wanted (0.02108) follow (0.02078) drug (0.01950)\n",
      "Topic #47: set (0.17557) value (0.13509) return (0.12898) service (0.12256) include (0.11374) define (0.07679) values (0.07236) main (0.06193) int (0.05932) change (0.01895) total (0.00882) case (0.00631) note (0.00607) terms (0.00385) statement (0.00180) basis (0.00107) don (0.00007) x11 (0.00004) did (0.00003) read (0.00001)\n",
      "Topic #48: problem (0.06741) work (0.06149) using (0.05197) run (0.04159) working (0.03905) open (0.03727) time (0.03147) problems (0.02744) build (0.02649) access (0.02312) help (0.02124) change (0.02067) trying (0.02043) look (0.01983) programs (0.01921) fine (0.01803) switch (0.01746) new (0.01699) project (0.01681) process (0.01618)\n",
      "Topic #49: don (0.05816) think (0.05139) just (0.03304) know (0.03184) like (0.02555) people (0.02458) say (0.02260) make (0.01982) really (0.01887) doesn (0.01673) good (0.01599) going (0.01469) does (0.01445) way (0.01393) want (0.01360) better (0.01223) believe (0.01164) ll (0.01096) point (0.01060) thing (0.01047)\n",
      "\n"
     ]
    }
   ],
   "source": [
    "lda_models, lda_topics = decomposition_helper(news_train.data, method='lda', n_components=[10, 20, 50], vectorizer=CountVectorizer)"
   ]
  },
  {
   "cell_type": "code",
   "execution_count": 7,
   "metadata": {},
   "outputs": [
    {
     "name": "stdout",
     "output_type": "stream",
     "text": [
      "\n",
      "For n_components=10\n",
      "Topic #0: don (0.01778) just (0.01737) people (0.01707) think (0.01431) like (0.01203) know (0.00813) right (0.00765) ve (0.00720) did (0.00712) time (0.00708) say (0.00703) really (0.00640) good (0.00634) way (0.00602) make (0.00583) said (0.00570) going (0.00562) want (0.00561) things (0.00554) thing (0.00492)\n",
      "Topic #1: card (0.08603) video (0.04278) monitor (0.02833) cards (0.02211) drivers (0.02184) bus (0.02041) vga (0.01926) driver (0.01797) color (0.01617) memory (0.01536) bit (0.01509) ram (0.01389) board (0.01304) mode (0.01295) pc (0.01256) graphics (0.01157) apple (0.01099) 16 (0.01097) modem (0.01021) speed (0.01000)\n",
      "Topic #2: god (0.08988) jesus (0.03210) bible (0.01888) believe (0.01649) christ (0.01634) faith (0.01514) christian (0.01499) christians (0.01433) church (0.01198) does (0.01036) life (0.01022) sin (0.00977) truth (0.00942) lord (0.00942) say (0.00924) man (0.00859) hell (0.00842) christianity (0.00787) love (0.00771) belief (0.00758)\n",
      "Topic #3: game (0.04738) team (0.04004) year (0.03148) games (0.02694) season (0.02121) players (0.02045) play (0.01896) hockey (0.01687) win (0.01559) league (0.01307) player (0.01298) teams (0.01261) nhl (0.01159) good (0.01087) runs (0.00926) better (0.00910) best (0.00905) hit (0.00856) think (0.00726) time (0.00693)\n",
      "Topic #4: new (0.02427) car (0.02285) 00 (0.01352) 10 (0.01155) sale (0.01115) price (0.01000) space (0.00849) condition (0.00785) offer (0.00768) used (0.00753) good (0.00737) 20 (0.00696) bike (0.00679) 50 (0.00671) shipping (0.00667) 15 (0.00658) old (0.00646) power (0.00646) interested (0.00614) 30 (0.00607)\n",
      "Topic #5: thanks (0.09248) know (0.06237) does (0.06102) mail (0.03356) advance (0.03349) anybody (0.02382) hi (0.02365) looking (0.02207) info (0.02179) help (0.01943) appreciated (0.01741) information (0.01667) email (0.01481) address (0.01479) post (0.01415) need (0.01175) interested (0.01172) send (0.01057) like (0.01043) appreciate (0.01034)\n",
      "Topic #6: windows (0.04591) file (0.02868) use (0.02426) files (0.02107) window (0.02019) dos (0.01956) program (0.01904) using (0.01663) problem (0.01559) running (0.01145) version (0.01041) run (0.00980) application (0.00904) server (0.00886) screen (0.00880) ms (0.00773) image (0.00758) help (0.00758) software (0.00751) ftp (0.00718)\n",
      "Topic #7: edu (0.15659) soon (0.03176) com (0.02479) university (0.02283) cs (0.02205) email (0.01596) article (0.01516) internet (0.01407) send (0.01294) mail (0.01268) ftp (0.01203) david (0.01138) pub (0.01062) mit (0.00830) address (0.00808) au (0.00782) reply (0.00661) 1993 (0.00659) subject (0.00643) apr (0.00639)\n",
      "Topic #8: key (0.04880) chip (0.02812) encryption (0.02134) clipper (0.02039) keys (0.01875) government (0.01787) use (0.01560) public (0.01258) escrow (0.01207) law (0.01171) algorithm (0.01007) security (0.00998) phone (0.00993) data (0.00987) nsa (0.00980) bit (0.00898) number (0.00897) secure (0.00891) chips (0.00807) des (0.00772)\n",
      "Topic #9: drive (0.12485) scsi (0.04601) hard (0.03512) drives (0.03382) disk (0.03282) ide (0.02360) floppy (0.02165) controller (0.02155) cd (0.01490) mac (0.01316) tape (0.01102) internal (0.01083) power (0.01062) rom (0.01052) cable (0.00987) computer (0.00953) apple (0.00944) problem (0.00937) mb (0.00869) switch (0.00816)\n",
      "\n",
      "\n",
      "For n_components=20\n",
      "Topic #0: people (0.06198) government (0.01597) right (0.01146) gun (0.00927) armenian (0.00906) armenians (0.00816) law (0.00788) said (0.00748) rights (0.00677) state (0.00675) turkish (0.00641) guns (0.00637) person (0.00621) world (0.00577) crime (0.00557) make (0.00537) country (0.00536) point (0.00505) laws (0.00502) children (0.00495)\n",
      "Topic #1: card (0.09741) video (0.04810) monitor (0.03067) cards (0.02438) drivers (0.02346) bus (0.02294) vga (0.02163) driver (0.01999) color (0.01787) memory (0.01695) bit (0.01579) ram (0.01525) mode (0.01469) pc (0.01420) board (0.01380) graphics (0.01329) 16 (0.01143) speed (0.01107) apple (0.01106) modem (0.01092)\n",
      "Topic #2: god (0.10260) jesus (0.03593) bible (0.02103) believe (0.01872) christ (0.01816) faith (0.01686) christian (0.01640) christians (0.01551) church (0.01220) life (0.01097) sin (0.01095) say (0.01065) lord (0.01058) truth (0.01019) hell (0.00999) man (0.00968) love (0.00864) christianity (0.00854) belief (0.00838) true (0.00758)\n",
      "Topic #3: game (0.05920) team (0.04905) year (0.03547) games (0.03277) season (0.02524) players (0.02480) play (0.02255) hockey (0.02084) win (0.01833) league (0.01581) player (0.01528) teams (0.01505) nhl (0.01424) runs (0.01122) best (0.00971) hit (0.00913) better (0.00832) division (0.00758) points (0.00715) goal (0.00702)\n",
      "Topic #4: new (0.03003) 00 (0.02165) 10 (0.01657) sale (0.01641) space (0.01376) price (0.01087) offer (0.01081) 20 (0.01021) 15 (0.00991) shipping (0.00984) condition (0.00944) 50 (0.00900) 12 (0.00871) interested (0.00794) 30 (0.00785) 11 (0.00755) asking (0.00708) 25 (0.00678) 000 (0.00636) old (0.00605)\n",
      "Topic #5: thanks (0.13095) mail (0.04848) advance (0.04754) hi (0.03237) looking (0.03195) info (0.02633) information (0.02204) help (0.02154) address (0.02080) appreciated (0.02033) email (0.02029) post (0.01963) know (0.01755) anybody (0.01683) send (0.01612) interested (0.01548) appreciate (0.01398) need (0.01317) reply (0.01131) tell (0.01021)\n",
      "Topic #6: windows (0.07269) file (0.04437) files (0.03236) dos (0.03085) program (0.02425) window (0.02252) problem (0.01870) using (0.01660) running (0.01566) version (0.01476) run (0.01207) ms (0.01175) ftp (0.01163) screen (0.01143) directory (0.01018) application (0.00984) server (0.00984) pc (0.00883) manager (0.00849) os (0.00798)\n",
      "Topic #7: edu (0.20266) soon (0.04215) university (0.02790) cs (0.02702) ftp (0.01540) email (0.01476) article (0.01472) internet (0.01398) pub (0.01297) david (0.01284) send (0.01244) mit (0.00998) mail (0.00975) au (0.00933) mac (0.00729) subject (0.00689) directory (0.00632) news (0.00625) available (0.00623) apr (0.00614)\n",
      "Topic #8: key (0.06542) chip (0.03701) clipper (0.02610) encryption (0.02570) keys (0.02471) government (0.01692) escrow (0.01577) public (0.01460) algorithm (0.01316) bit (0.01235) nsa (0.01234) phone (0.01172) security (0.01165) secure (0.01089) law (0.01083) data (0.01069) number (0.01053) chips (0.01038) des (0.01001) secret (0.00924)\n",
      "Topic #9: drive (0.14069) scsi (0.05157) hard (0.03838) drives (0.03757) disk (0.03641) ide (0.02651) floppy (0.02414) controller (0.02382) cd (0.01633) mac (0.01394) tape (0.01216) internal (0.01197) rom (0.01163) power (0.01129) cable (0.01071) computer (0.01036) apple (0.00971) mb (0.00960) dos (0.00902) switch (0.00877)\n",
      "Topic #10: just (0.25753) thought (0.01371) tell (0.01294) ll (0.01162) mean (0.01158) oh (0.01027) wanted (0.00984) little (0.00981) work (0.00976) fine (0.00913) guess (0.00910) right (0.00898) maybe (0.00896) bit (0.00884) say (0.00870) sure (0.00867) way (0.00844) group (0.00806) doesn (0.00773) new (0.00641)\n",
      "Topic #11: does (0.24786) know (0.09071) anybody (0.03062) mean (0.01778) doesn (0.01040) work (0.00902) say (0.00893) program (0.00835) help (0.00811) exist (0.00761) exactly (0.00708) getting (0.00655) ftp (0.00615) actually (0.00582) info (0.00578) appreciated (0.00576) board (0.00565) heard (0.00560) new (0.00509) clear (0.00482)\n",
      "Topic #12: think (0.20642) lot (0.01117) really (0.01029) wrong (0.00872) better (0.00870) space (0.00862) science (0.00841) say (0.00812) try (0.00797) makes (0.00783) agree (0.00781) bit (0.00770) way (0.00673) original (0.00662) david (0.00649) moral (0.00642) wasn (0.00625) question (0.00622) pretty (0.00618) important (0.00599)\n",
      "Topic #13: like (0.23003) sounds (0.03270) looks (0.02423) look (0.02272) lot (0.01205) things (0.01204) sound (0.01159) make (0.01081) really (0.00881) doesn (0.00834) sure (0.00805) thing (0.00786) new (0.00769) doing (0.00736) believe (0.00713) hear (0.00665) source (0.00583) idea (0.00566) sort (0.00547) nice (0.00539)\n",
      "Topic #14: don (0.18718) know (0.09464) want (0.02593) let (0.01320) need (0.01301) sure (0.00864) believe (0.00841) sorry (0.00835) little (0.00801) really (0.00799) things (0.00775) doesn (0.00774) tell (0.00772) mean (0.00769) say (0.00739) ll (0.00720) oh (0.00710) read (0.00709) ask (0.00680) probably (0.00680)\n",
      "Topic #15: car (0.16745) cars (0.03593) engine (0.02224) speed (0.01716) bike (0.01156) driver (0.01026) price (0.00933) buy (0.00924) insurance (0.00858) road (0.00798) bought (0.00770) power (0.00764) fast (0.00753) drivers (0.00728) gas (0.00728) radio (0.00728) looks (0.00717) right (0.00676) year (0.00652) went (0.00635)\n",
      "Topic #16: good (0.02894) ve (0.02526) time (0.02290) got (0.01514) did (0.01173) really (0.00944) problem (0.00940) ll (0.00896) years (0.00878) going (0.00875) didn (0.00857) long (0.00832) thing (0.00819) bike (0.00737) seen (0.00735) heard (0.00721) way (0.00687) better (0.00686) ago (0.00659) sure (0.00618)\n",
      "Topic #17: israel (0.07870) israeli (0.04210) jews (0.03652) jewish (0.02152) war (0.01496) peace (0.01430) state (0.01421) did (0.01128) anti (0.01036) land (0.01018) question (0.00913) rights (0.00843) killed (0.00833) fact (0.00823) human (0.00792) said (0.00742) policy (0.00731) states (0.00657) citizens (0.00642) claim (0.00632)\n",
      "Topic #18: use (0.13659) used (0.01544) using (0.01510) work (0.01225) window (0.01100) want (0.01036) way (0.00931) available (0.00845) set (0.00828) widget (0.00769) software (0.00745) need (0.00733) image (0.00722) data (0.00702) motif (0.00649) different (0.00626) mac (0.00600) uses (0.00586) code (0.00580) help (0.00574)\n",
      "Topic #19: com (0.16759) list (0.02765) dave (0.01680) article (0.01651) sun (0.01361) internet (0.01353) address (0.01238) phone (0.01198) email (0.01192) hp (0.01153) ibm (0.01064) said (0.00996) mail (0.00987) reply (0.00956) away (0.00924) jim (0.00900) paul (0.00678) ca (0.00659) mouse (0.00642) code (0.00633)\n",
      "\n",
      "\n",
      "For n_components=50\n",
      "Topic #0: people (0.21061) things (0.01292) person (0.01186) life (0.00992) world (0.00947) food (0.00837) way (0.00754) lot (0.00683) group (0.00666) care (0.00651) live (0.00643) point (0.00642) thing (0.00642) different (0.00628) come (0.00618) sort (0.00610) society (0.00605) isn (0.00562) true (0.00553) saying (0.00540)\n",
      "Topic #1: use (0.26677) using (0.01797) work (0.01727) available (0.01201) way (0.01023) different (0.00930) machine (0.00898) encryption (0.00821) instead (0.00816) image (0.00813) uses (0.00767) help (0.00711) set (0.00707) drug (0.00703) device (0.00686) current (0.00677) program (0.00650) usually (0.00606) software (0.00603) doesn (0.00592)\n",
      "Topic #2: god (0.27095) hell (0.02062) lord (0.01933) existence (0.01683) sin (0.01533) atheism (0.01407) faith (0.01365) son (0.01270) truth (0.01213) bible (0.01204) christ (0.01191) love (0.01163) exist (0.01129) man (0.01114) belief (0.01086) life (0.01053) created (0.00843) father (0.00807) world (0.00801) things (0.00778)\n",
      "Topic #3: team (0.10924) players (0.05409) hockey (0.03200) teams (0.03174) season (0.03063) nhl (0.03054) play (0.03023) player (0.02927) win (0.02540) league (0.02232) games (0.02064) best (0.01966) better (0.01511) runs (0.01298) points (0.01204) division (0.01066) pittsburgh (0.00889) north (0.00866) average (0.00730) canada (0.00683)\n",
      "Topic #4: space (0.10593) nasa (0.03778) shuttle (0.01992) launch (0.01879) orbit (0.01627) station (0.01505) earth (0.01481) program (0.01323) gov (0.01255) science (0.01133) data (0.01120) sci (0.01105) research (0.01095) satellite (0.00996) cost (0.00967) center (0.00885) technology (0.00733) available (0.00716) commercial (0.00697) idea (0.00652)\n",
      "Topic #5: thanks (0.29629) advance (0.09901) hi (0.06083) info (0.03800) anybody (0.02694) appreciated (0.02573) appreciate (0.02382) help (0.02375) tell (0.02176) email (0.02170) reply (0.01143) ftp (0.01134) lot (0.01038) post (0.01017) site (0.00917) information (0.00888) net (0.00863) gif (0.00728) says (0.00655) response (0.00642)\n",
      "Topic #6: windows (0.19951) dos (0.07958) ms (0.03058) version (0.02897) running (0.02620) using (0.02518) drivers (0.02108) os (0.02004) run (0.01973) driver (0.01718) printer (0.01577) screen (0.01424) software (0.01320) pc (0.01200) program (0.01152) win (0.01136) programs (0.01121) files (0.01111) mouse (0.01069) machine (0.01056)\n",
      "Topic #7: edu (0.25324) soon (0.05302) university (0.03351) cs (0.03342) article (0.01742) david (0.01590) internet (0.01564) ftp (0.01558) email (0.01441) pub (0.01391) mit (0.01185) au (0.01118) send (0.00779) subject (0.00759) apr (0.00753) department (0.00727) 1993 (0.00720) export (0.00658) news (0.00645) tar (0.00636)\n",
      "Topic #8: key (0.09601) chip (0.05102) keys (0.03482) clipper (0.03440) encryption (0.03219) escrow (0.02139) algorithm (0.01771) public (0.01635) nsa (0.01601) phone (0.01514) bit (0.01501) security (0.01454) chips (0.01426) secure (0.01376) number (0.01361) des (0.01355) secret (0.01265) serial (0.01016) bits (0.00984) data (0.00963)\n",
      "Topic #9: drive (0.22460) hard (0.05830) drives (0.05564) disk (0.05191) floppy (0.03750) ide (0.02206) cd (0.02154) controller (0.01759) power (0.01720) tape (0.01622) internal (0.01560) switch (0.01472) rom (0.01463) scsi (0.01363) dos (0.01260) format (0.01241) computer (0.01198) cable (0.01140) 25 (0.01020) mb (0.00886)\n",
      "Topic #10: just (0.32829) thought (0.01726) little (0.01264) maybe (0.01183) wanted (0.01175) work (0.01154) mean (0.01133) tell (0.01100) fine (0.01071) guess (0.01047) oh (0.01034) say (0.00974) doesn (0.00948) group (0.00925) way (0.00892) bit (0.00882) actually (0.00759) things (0.00689) case (0.00667) real (0.00659)\n",
      "Topic #11: does (0.35316) anybody (0.03396) mean (0.03110) work (0.01574) say (0.01473) exist (0.01064) help (0.01026) actually (0.00994) info (0.00854) exactly (0.00851) board (0.00766) doesn (0.00724) clear (0.00638) message (0.00568) ftp (0.00559) idea (0.00538) gives (0.00536) sound (0.00535) needs (0.00525) read (0.00525)\n",
      "Topic #12: don (0.31272) mean (0.02018) say (0.01339) read (0.01225) believe (0.01176) little (0.01148) care (0.01107) things (0.01091) understand (0.01081) work (0.01049) sorry (0.01018) oh (0.00989) pretty (0.00814) case (0.00811) tell (0.00790) remember (0.00739) try (0.00737) probably (0.00731) quite (0.00710) haven (0.00673)\n",
      "Topic #13: like (0.32259) sounds (0.04451) looks (0.03301) look (0.02879) things (0.01660) lot (0.01563) sound (0.01405) thing (0.00998) doing (0.00940) problems (0.00880) doesn (0.00865) hear (0.00750) believe (0.00735) sort (0.00723) looked (0.00712) idea (0.00688) nice (0.00604) having (0.00594) real (0.00575) going (0.00569)\n",
      "Topic #14: know (0.40530) let (0.06087) anybody (0.02256) doesn (0.01901) maybe (0.01494) didn (0.01278) program (0.01247) far (0.01243) heard (0.01207) interested (0.01175) getting (0.00988) kind (0.00950) going (0.00917) happen (0.00865) source (0.00844) wanted (0.00829) come (0.00672) appreciated (0.00663) knows (0.00633) mentioned (0.00588)\n",
      "Topic #15: car (0.21065) cars (0.04376) engine (0.02510) speed (0.02027) driver (0.01197) buy (0.00906) drivers (0.00897) power (0.00867) price (0.00860) radio (0.00859) insurance (0.00846) bought (0.00843) road (0.00823) fast (0.00822) looks (0.00818) gas (0.00817) went (0.00758) small (0.00748) said (0.00663) quite (0.00616)\n",
      "Topic #16: good (0.27760) bad (0.01870) thing (0.01666) pretty (0.01529) world (0.01256) better (0.01198) quality (0.01079) idea (0.01036) book (0.00971) say (0.00953) point (0.00807) chance (0.00748) things (0.00734) getting (0.00681) little (0.00679) course (0.00622) ones (0.00615) days (0.00608) books (0.00606) nice (0.00589)\n",
      "Topic #17: question (0.12225) answer (0.06935) ask (0.02225) questions (0.02186) post (0.01718) course (0.01677) true (0.01272) original (0.01150) read (0.01099) article (0.01009) posting (0.00978) asked (0.00967) discussion (0.00964) group (0.00918) case (0.00865) science (0.00843) possible (0.00833) answers (0.00828) real (0.00802) yes (0.00765)\n",
      "Topic #18: think (0.29644) lot (0.01371) wrong (0.01037) makes (0.01018) try (0.00996) bit (0.00879) wasn (0.00877) agree (0.00858) better (0.00832) come (0.00831) pretty (0.00807) way (0.00805) moral (0.00803) science (0.00791) david (0.00738) win (0.00737) said (0.00735) remember (0.00679) original (0.00675) important (0.00672)\n",
      "Topic #19: com (0.25421) dave (0.02508) article (0.02185) internet (0.01763) sun (0.01623) hp (0.01601) email (0.01522) ibm (0.01518) away (0.01442) said (0.01361) reply (0.01264) phone (0.01260) jim (0.01259) paul (0.00960) mouse (0.00933) al (0.00818) port (0.00814) mark (0.00803) apr (0.00787) ca (0.00778)\n",
      "Topic #20: israel (0.13035) israeli (0.06813) jews (0.05375) jewish (0.03047) peace (0.02233) war (0.02004) state (0.01535) land (0.01449) anti (0.01391) killed (0.01149) policy (0.01049) human (0.00970) rights (0.00895) fact (0.00893) citizens (0.00838) center (0.00812) research (0.00794) agree (0.00760) attack (0.00731) american (0.00719)\n",
      "Topic #21: ve (0.25647) seen (0.06577) heard (0.05790) tried (0.01839) times (0.01252) recently (0.01167) try (0.01024) read (0.00938) maybe (0.00879) actually (0.00851) great (0.00816) problems (0.00809) believe (0.00787) past (0.00779) months (0.00774) couple (0.00753) yes (0.00735) years (0.00689) thing (0.00670) help (0.00666)\n",
      "Topic #22: window (0.14604) application (0.02963) manager (0.02863) display (0.02668) server (0.02600) program (0.02411) motif (0.02356) using (0.02122) widget (0.01978) code (0.01725) screen (0.01634) set (0.01383) running (0.01246) way (0.01189) user (0.01141) sun (0.01029) size (0.00922) color (0.00904) mit (0.00858) event (0.00857)\n",
      "Topic #23: new (0.26565) york (0.03464) price (0.01129) old (0.01011) gm (0.00974) apple (0.00827) technology (0.00793) years (0.00747) computer (0.00712) cover (0.00657) thinking (0.00656) thing (0.00650) bought (0.00591) called (0.00587) buy (0.00570) money (0.00563) chicago (0.00562) books (0.00560) room (0.00555) day (0.00545)\n",
      "Topic #24: government (0.03671) law (0.03255) gun (0.03237) state (0.01859) guns (0.01740) laws (0.01446) federal (0.01303) rights (0.01294) crime (0.01260) police (0.01249) control (0.01083) weapons (0.01055) case (0.01017) public (0.00942) firearms (0.00870) court (0.00853) states (0.00848) clinton (0.00825) legal (0.00818) citizens (0.00738)\n",
      "Topic #25: did (0.22455) didn (0.03486) say (0.01829) fbi (0.01756) claim (0.01561) way (0.01468) evidence (0.01416) thought (0.00888) news (0.00887) said (0.00867) children (0.00847) took (0.00804) going (0.00796) told (0.00777) having (0.00762) went (0.00723) far (0.00682) saw (0.00650) came (0.00649) ago (0.00618)\n",
      "Topic #26: 10 (0.04608) 12 (0.02738) 11 (0.02565) 15 (0.02459) 20 (0.01890) 16 (0.01844) 14 (0.01757) 13 (0.01637) 17 (0.01573) 25 (0.01565) 21 (0.01468) 24 (0.01455) 18 (0.01450) 30 (0.01404) 23 (0.01356) 19 (0.01275) period (0.01203) 1993 (0.01176) 50 (0.01131) 22 (0.01121)\n",
      "Topic #27: problem (0.19076) problems (0.03122) using (0.01823) work (0.01707) try (0.01481) error (0.01466) fine (0.01367) apple (0.01343) screen (0.01263) help (0.01174) having (0.01143) solution (0.00946) cause (0.00941) works (0.00864) machine (0.00853) line (0.00819) monitor (0.00818) tried (0.00815) worked (0.00812) running (0.00787)\n",
      "Topic #28: file (0.15236) files (0.08580) ftp (0.03629) program (0.03385) directory (0.02823) format (0.02511) image (0.02010) available (0.01618) pub (0.01535) gif (0.01470) site (0.01197) graphics (0.01180) read (0.01120) copy (0.01015) try (0.00952) disk (0.00906) pc (0.00826) data (0.00824) win (0.00807) code (0.00804)\n",
      "Topic #29: need (0.27862) help (0.03944) buy (0.01856) run (0.01819) maybe (0.01402) able (0.01381) work (0.01204) board (0.01169) appreciated (0.01122) package (0.01097) memory (0.01089) true (0.00929) hardware (0.00917) pin (0.00882) end (0.00830) project (0.00784) add (0.00690) unless (0.00686) line (0.00681) supply (0.00680)\n",
      "Topic #30: time (0.18425) long (0.03887) years (0.01810) ago (0.01797) real (0.00882) going (0.00813) running (0.00788) read (0.00777) remember (0.00767) didn (0.00707) having (0.00675) little (0.00670) life (0.00668) weeks (0.00667) actually (0.00660) course (0.00659) experience (0.00608) goes (0.00606) problems (0.00605) finally (0.00582)\n",
      "Topic #31: year (0.20626) old (0.04382) years (0.03367) season (0.02487) ago (0.01767) hit (0.01411) won (0.01320) 000 (0.01269) games (0.01217) league (0.01070) better (0.01032) average (0.01010) early (0.00867) lot (0.00815) 20 (0.00743) week (0.00717) 1992 (0.00713) remember (0.00698) numbers (0.00685) end (0.00654)\n",
      "Topic #32: game (0.23256) games (0.06134) night (0.02354) hit (0.01954) play (0.01942) hockey (0.01888) goal (0.01812) runs (0.01598) win (0.01322) run (0.01282) home (0.01026) season (0.01025) day (0.00985) shot (0.00945) defense (0.00833) came (0.00797) second (0.00790) red (0.00755) away (0.00754) tv (0.00746)\n",
      "Topic #33: armenian (0.05693) armenians (0.04948) turkish (0.03756) said (0.03441) armenia (0.02435) turkey (0.02429) turks (0.02045) soviet (0.01470) russian (0.01386) greek (0.01352) children (0.01262) war (0.01221) women (0.01186) world (0.01035) population (0.01033) million (0.01031) killed (0.01008) government (0.00954) mr (0.00926) men (0.00923)\n",
      "Topic #34: used (0.16658) water (0.01596) years (0.01530) high (0.01248) actually (0.01218) air (0.01113) hot (0.01067) test (0.01043) way (0.00967) version (0.00944) using (0.00888) modem (0.00886) power (0.00853) ago (0.00839) output (0.00819) model (0.00765) couple (0.00745) set (0.00719) number (0.00631) engine (0.00607)\n",
      "Topic #35: right (0.21656) left (0.04747) wrong (0.02014) oh (0.01382) hand (0.01322) let (0.01295) turn (0.01288) arms (0.01194) going (0.01086) way (0.01043) course (0.01036) kind (0.00768) rights (0.00748) shall (0.00712) point (0.00694) place (0.00682) human (0.00675) yes (0.00657) actually (0.00643) company (0.00639)\n",
      "Topic #36: mail (0.16361) address (0.08011) send (0.05057) post (0.03168) phone (0.02146) fax (0.02051) interested (0.01993) reply (0.01575) info (0.01439) internet (0.01310) thank (0.01302) order (0.01287) email (0.01202) uk (0.01130) information (0.01010) available (0.00989) ca (0.00930) copy (0.00900) number (0.00843) box (0.00832)\n",
      "Topic #37: bike (0.21553) dod (0.03213) engine (0.01824) road (0.01492) turn (0.01429) fast (0.01320) insurance (0.01150) black (0.01058) course (0.01056) left (0.01050) street (0.01049) thing (0.01047) ground (0.00990) live (0.00959) saw (0.00931) buy (0.00914) going (0.00807) little (0.00794) work (0.00771) 500 (0.00746)\n",
      "Topic #38: looking (0.19501) information (0.06211) book (0.03142) help (0.03135) graphics (0.02304) appreciated (0.01989) source (0.01755) hi (0.01722) code (0.01641) interested (0.01526) email (0.01516) software (0.01425) thank (0.01056) algorithm (0.01023) anybody (0.00987) sources (0.00840) point (0.00831) subject (0.00747) books (0.00742) type (0.00678)\n",
      "Topic #39: jesus (0.05426) believe (0.03032) christian (0.02949) bible (0.02543) christians (0.02482) church (0.02402) christ (0.02035) faith (0.01762) christianity (0.01540) say (0.01500) religion (0.01450) true (0.01375) life (0.01077) point (0.01070) truth (0.00910) john (0.00889) evidence (0.00870) man (0.00848) word (0.00823) fact (0.00777)\n",
      "Topic #40: sale (0.07265) offer (0.05295) condition (0.04450) shipping (0.03826) price (0.03609) asking (0.03316) best (0.03232) email (0.02777) excellent (0.02425) sell (0.02405) interested (0.02280) original (0.01518) includes (0.01319) manual (0.01306) included (0.01170) great (0.01126) works (0.01029) contact (0.00984) model (0.00981) box (0.00978)\n",
      "Topic #41: 00 (0.28130) 50 (0.03494) 20 (0.02642) 30 (0.01570) dos (0.01554) cover (0.01495) price (0.01442) shipping (0.01262) 01 (0.01205) 40 (0.01015) 75 (0.00968) games (0.00938) 15 (0.00854) april (0.00847) 1st (0.00820) today (0.00819) man (0.00797) includes (0.00771) sale (0.00738) 25 (0.00683)\n",
      "Topic #42: card (0.16672) video (0.07962) monitor (0.04677) drivers (0.04033) cards (0.03788) vga (0.03522) driver (0.03233) color (0.02791) graphics (0.01969) mode (0.01914) bus (0.01683) ram (0.01415) 16 (0.01136) mouse (0.00964) screen (0.00960) performance (0.00955) board (0.00920) 24 (0.00860) display (0.00831) support (0.00794)\n",
      "Topic #43: make (0.17168) sure (0.12709) way (0.01505) possible (0.01389) difference (0.01334) big (0.01329) sense (0.01202) won (0.01013) wrong (0.00960) say (0.00845) doesn (0.00835) offer (0.00820) pretty (0.00810) work (0.00672) feel (0.00671) mike (0.00669) making (0.00660) wouldn (0.00657) trying (0.00632) ground (0.00627)\n",
      "Topic #44: scsi (0.07531) mac (0.05073) pc (0.03458) bus (0.03273) software (0.03227) bit (0.02701) controller (0.02640) memory (0.02542) ide (0.02457) data (0.02437) apple (0.01779) board (0.01599) port (0.01544) speed (0.01411) ibm (0.01351) ram (0.01289) modem (0.01266) interface (0.01096) hardware (0.01047) mb (0.01014)\n",
      "Topic #45: ll (0.24668) let (0.02463) tell (0.02345) post (0.02221) line (0.01813) course (0.01533) try (0.01482) said (0.01410) maybe (0.01298) didn (0.01177) check (0.01069) won (0.00890) great (0.00869) says (0.00788) way (0.00717) pay (0.00714) probably (0.00668) say (0.00656) stop (0.00649) start (0.00647)\n",
      "Topic #46: got (0.23781) didn (0.02583) going (0.02476) hit (0.01751) bad (0.01448) went (0.01283) thought (0.01049) idea (0.01030) home (0.01014) ago (0.00980) came (0.00974) wasn (0.00918) took (0.00912) started (0.00854) red (0.00783) nice (0.00776) probably (0.00756) end (0.00748) hope (0.00734) away (0.00732)\n",
      "Topic #47: want (0.22614) look (0.03195) probably (0.01533) better (0.01239) set (0.01211) send (0.01207) mouse (0.01172) copy (0.01129) buy (0.01091) come (0.01083) wouldn (0.01022) try (0.00924) hope (0.00909) reason (0.00847) able (0.00811) talk (0.00805) ask (0.00693) kind (0.00692) life (0.00682) going (0.00655)\n",
      "Topic #48: list (0.20526) faq (0.02339) motif (0.02136) add (0.01574) group (0.01557) probably (0.01487) request (0.01268) software (0.01106) net (0.01066) newsgroup (0.00972) news (0.00942) sun (0.00916) posted (0.00901) widget (0.00816) complete (0.00778) posting (0.00758) alt (0.00756) wish (0.00746) systems (0.00746) send (0.00725)\n",
      "Topic #49: really (0.16099) stuff (0.05818) deleted (0.05324) better (0.02138) isn (0.02102) doesn (0.01456) probably (0.01256) bad (0.01244) point (0.01062) hear (0.01058) little (0.01048) thing (0.00995) going (0.00886) lot (0.00866) mind (0.00817) didn (0.00809) say (0.00793) way (0.00775) great (0.00696) real (0.00629)\n",
      "\n"
     ]
    }
   ],
   "source": [
    "_, _ = decomposition_helper(news_train.data, method='nmf', n_components=[10, 20, 50], vectorizer=TfidfVectorizer)"
   ]
  },
  {
   "cell_type": "markdown",
   "metadata": {},
   "source": [
    "#### ES"
   ]
  },
  {
   "cell_type": "code",
   "execution_count": 37,
   "metadata": {},
   "outputs": [],
   "source": [
    "es_topic_indexer(lda_topics[10], 'topics20ng')"
   ]
  },
  {
   "cell_type": "markdown",
   "metadata": {},
   "source": [
    "#### LDA analysis"
   ]
  },
  {
   "cell_type": "code",
   "execution_count": 8,
   "metadata": {},
   "outputs": [
    {
     "data": {
      "text/plain": [
       "(\"You can't make a Citizens arrest on anything but a felony.\\n.\\n  \\n\",\n",
       " 'rec.motorcycles')"
      ]
     },
     "execution_count": 8,
     "metadata": {},
     "output_type": "execute_result"
    }
   ],
   "source": [
    "news_train.data[0], news_train.target_names[news_train.target[0]]"
   ]
  },
  {
   "cell_type": "code",
   "execution_count": 9,
   "metadata": {},
   "outputs": [],
   "source": [
    "vectorizer = CountVectorizer(stop_words='english', max_df=0.95, min_df=2, max_features=1000)\n",
    "features = vectorizer.fit_transform(news_train.data)"
   ]
  },
  {
   "cell_type": "code",
   "execution_count": 15,
   "metadata": {},
   "outputs": [
    {
     "name": "stdout",
     "output_type": "stream",
     "text": [
      "10 ['key', 'use', 'government', 'law', 'gun', 'scsi', 'public', 'chip', 'encryption', 'used', 'keys', 'security', 'control', 'clipper', 'privacy', 'motif', 'state', 'using', 'people', 'rights']\n",
      "\n",
      "20 ['government', 'law', 'gun', 'president', 'state', 'states', 'rights', 'public', 'american', 'people', 'national', 'police', 'control', 'crime', 'guns', 'laws', 'administration', 'united', 'military', 'federal']\n",
      "\n",
      "50 ['government', 'law', 'public', 'privacy', 'use', 'private', 'crime', 'legal', 'security', 'laws', 'federal', 'administration', 'congress', 'weapons', 'clinton', 'house', 'people', 'encryption', 'protect', 'enforcement']\n",
      "\n"
     ]
    }
   ],
   "source": [
    "for n_topics, model in lda_models.items():\n",
    "    best_topic = model.transform(features[0])[0].argmax()\n",
    "    print(n_topics, [k for k in lda_topics[n_topics][best_topic].keys()])\n",
    "    print()"
   ]
  },
  {
   "cell_type": "markdown",
   "metadata": {},
   "source": [
    "The topics get better as the number of components increase."
   ]
  },
  {
   "cell_type": "markdown",
   "metadata": {},
   "source": [
    "## DUC"
   ]
  },
  {
   "cell_type": "code",
   "execution_count": 16,
   "metadata": {},
   "outputs": [],
   "source": [
    "data_path = '../../data/DUC/'\n",
    "docs = {}"
   ]
  },
  {
   "cell_type": "code",
   "execution_count": 17,
   "metadata": {},
   "outputs": [],
   "source": [
    "def get_docs(path):\n",
    "    import os\n",
    "    from bs4 import BeautifulSoup\n",
    "    ret_dict = {}\n",
    "    files = os.listdir(path)\n",
    "    for file in files:\n",
    "        file = path + file\n",
    "        if os.path.isdir(file) or '.txt' in file:\n",
    "            continue\n",
    "        with open(path + file) as infile:\n",
    "            soup = BeautifulSoup(infile, 'html.parser')\n",
    "            ret_dict[soup.docno.text.strip()] = soup.find('text').text.strip()\n",
    "    return ret_dict"
   ]
  },
  {
   "cell_type": "code",
   "execution_count": 18,
   "metadata": {},
   "outputs": [],
   "source": [
    "docs = get_docs(data_path)"
   ]
  },
  {
   "cell_type": "code",
   "execution_count": 19,
   "metadata": {},
   "outputs": [],
   "source": [
    "duc_data = [v for k, v in docs.items()]"
   ]
  },
  {
   "cell_type": "code",
   "execution_count": 33,
   "metadata": {},
   "outputs": [
    {
     "name": "stdout",
     "output_type": "stream",
     "text": [
      "\n",
      "For n_components=10\n",
      "Topic #0: said (0.05070) crash (0.02569) air (0.02131) plane (0.02050) tunnel (0.01421) aircraft (0.01197) flight (0.01077) crashed (0.00981) force (0.00976) jet (0.00971) people (0.00940) 10 (0.00935) engine (0.00934) miles (0.00927) united (0.00909) pilot (0.00903) base (0.00891) military (0.00851) french (0.00822) near (0.00788)\n",
      "Topic #1: said (0.02908) year (0.01689) disease (0.01292) percent (0.01208) earthquake (0.01065) drought (0.01038) says (0.01032) british (0.00926) people (0.00898) new (0.00755) billion (0.00683) area (0.00680) taylor (0.00676) tornado (0.00648) damage (0.00632) bse (0.00622) years (0.00556) total (0.00546) scientists (0.00537) million (0.00526)\n",
      "Topic #2: said (0.00225) shining (0.00183) police (0.00179) department (0.00177) slovenia (0.00171) government (0.00163) federal (0.00163) state (0.00161) path (0.00160) hurricane (0.00154) army (0.00151) court (0.00150) people (0.00149) term (0.00147) president (0.00145) new (0.00143) slovenian (0.00142) years (0.00141) croatia (0.00139) drought (0.00134)\n",
      "Topic #3: said (0.04944) oil (0.01809) hurricane (0.01753) johnson (0.01596) exxon (0.01538) thomas (0.01069) spill (0.00958) valdez (0.00950) people (0.00851) lewis (0.00688) hurricanes (0.00670) 000 (0.00613) world (0.00606) tuberculosis (0.00600) coast (0.00588) miles (0.00586) million (0.00583) year (0.00558) national (0.00522) state (0.00488)\n",
      "Topic #4: said (0.03639) fires (0.02006) forest (0.01991) firefighters (0.01855) diabetes (0.01390) california (0.01338) year (0.01314) national (0.01300) park (0.01134) health (0.01022) department (0.01021) officials (0.00981) service (0.00923) acres (0.00918) years (0.00838) smoke (0.00798) yellowstone (0.00774) 000 (0.00750) people (0.00657) season (0.00619)\n",
      "Topic #5: diamond (0.02425) bank (0.02224) world (0.02189) mr (0.02061) beers (0.02048) welfare (0.01948) diamonds (0.01626) year (0.01604) says (0.01513) countries (0.01430) market (0.01208) debt (0.01002) billion (0.00995) cent (0.00935) said (0.00934) dollars (0.00929) new (0.00925) million (0.00830) south (0.00805) 000 (0.00767)\n",
      "Topic #6: said (0.01955) census (0.01923) marathon (0.01750) illegal (0.01616) race (0.01481) house (0.01395) senate (0.01167) states (0.01126) year (0.01078) aliens (0.01056) people (0.01049) second (0.01009) bureau (0.00884) amendment (0.00860) constitution (0.00838) time (0.00838) right (0.00828) congress (0.00781) run (0.00779) 000 (0.00732)\n",
      "Topic #7: slovenia (0.06082) yugoslavia (0.03195) slovene (0.02089) gun (0.01655) federal (0.01571) croatia (0.01491) state (0.01439) said (0.01422) yugoslav (0.01382) foreign (0.01255) relations (0.01191) war (0.01186) republic (0.01117) right (0.01034) nra (0.01034) independence (0.01020) arms (0.01014) slovenian (0.00940) serbia (0.00938) government (0.00934)\n",
      "Topic #8: police (0.03967) said (0.03292) eclipse (0.01661) path (0.01650) shining (0.01477) officers (0.01165) jackson (0.01061) people (0.00896) city (0.00846) guzman (0.00834) officer (0.00828) sun (0.00805) government (0.00781) department (0.00763) peace (0.00719) angeles (0.00708) los (0.00704) dickey (0.00698) report (0.00692) black (0.00676)\n",
      "Topic #9: mr (0.02655) nafta (0.02235) term (0.02142) congress (0.01833) limits (0.01610) president (0.01479) party (0.01266) state (0.01174) political (0.01152) house (0.00979) new (0.00958) said (0.00956) government (0.00920) washington (0.00815) mexico (0.00752) people (0.00744) trade (0.00739) election (0.00731) voters (0.00692) clinton (0.00681)\n",
      "\n",
      "\n",
      "For n_components=20\n",
      "Topic #0: french (0.09337) france (0.06430) tunnel (0.05263) 000 (0.03078) house (0.01967) near (0.01865) channel (0.01830) europe (0.01784) pounds (0.01488) century (0.01250) england (0.01082) la (0.01021) uk (0.01006) region (0.00940) time (0.00902) home (0.00890) open (0.00880) town (0.00870) far (0.00838) good (0.00780)\n",
      "Topic #1: thomas (0.03735) clarence (0.02552) said (0.02060) virginia (0.01710) community (0.01703) action (0.01683) women (0.01354) rights (0.01066) worth (0.01042) sign (0.01042) organization (0.01042) good (0.01028) legislation (0.01026) issues (0.01025) conservative (0.00733) department (0.00728) government (0.00724) court (0.00723) white (0.00723) say (0.00717)\n",
      "Topic #2: shining (0.00184) path (0.00162) state (0.00160) louisiana (0.00154) court (0.00148) florida (0.00146) people (0.00145) storm (0.00142) said (0.00140) term (0.00138) limit (0.00134) new (0.00133) lima (0.00130) office (0.00129) hurricane (0.00128) yesterday (0.00128) decision (0.00125) government (0.00125) states (0.00124) limits (0.00124)\n",
      "Topic #3: johnson (0.04634) said (0.04319) thomas (0.03101) lewis (0.01964) world (0.01504) ben (0.01241) drugs (0.01226) court (0.01158) people (0.01058) record (0.01050) francis (0.00979) drug (0.00937) gold (0.00877) track (0.00817) black (0.00797) steroids (0.00751) medal (0.00687) athletes (0.00683) use (0.00673) time (0.00665)\n",
      "Topic #4: forest (0.05657) fires (0.05420) park (0.04989) yellowstone (0.03675) service (0.02018) year (0.01948) national (0.01945) burn (0.01369) natural (0.01359) years (0.01314) trees (0.01300) says (0.01137) million (0.01004) areas (0.00896) policy (0.00829) spring (0.00827) mr (0.00824) summer (0.00823) research (0.00798) acres (0.00751)\n",
      "Topic #5: bank (0.09270) world (0.05991) debt (0.04073) countries (0.03652) loans (0.02459) mr (0.02304) poverty (0.01975) says (0.01915) banks (0.01898) 87 (0.01874) development (0.01842) 30 (0.01667) new (0.01623) exposure (0.01552) developing (0.01454) equity (0.01348) common (0.01295) conable (0.01218) reserve (0.01181) boston (0.01103)\n",
      "Topic #6: census (0.03831) illegal (0.03054) said (0.02760) house (0.02355) aliens (0.02100) bureau (0.01725) states (0.01682) senate (0.01521) counting (0.01416) seats (0.01325) dollars (0.01290) count (0.01284) people (0.01202) california (0.01183) federal (0.01177) florida (0.01046) losses (0.00982) immigration (0.00975) andrew (0.00938) 000 (0.00905)\n",
      "Topic #7: gun (0.04683) nra (0.03404) right (0.03287) amendment (0.02589) arms (0.02470) guns (0.01910) control (0.01663) militia (0.01599) bear (0.01571) state (0.01522) second (0.01387) weapons (0.01319) people (0.01187) law (0.01115) rights (0.01079) assault (0.01073) constitutional (0.01060) court (0.00960) constitution (0.00944) said (0.00939)\n",
      "Topic #8: path (0.05866) shining (0.05577) guzman (0.03119) peace (0.02709) government (0.01985) october (0.01867) fujimori (0.01678) war (0.01421) military (0.01264) people (0.01234) guerrillas (0.01096) 1993 (0.01087) president (0.01081) central (0.00995) lima (0.00979) peru (0.00968) la (0.00953) party (0.00898) leadership (0.00887) political (0.00879)\n",
      "Topic #9: disease (0.05403) bse (0.03211) cattle (0.02629) beef (0.02420) british (0.02386) said (0.01885) cow (0.01779) sheep (0.01653) cjd (0.01508) year (0.01475) mad (0.01449) scientists (0.01401) cases (0.01393) agriculture (0.01305) britain (0.01234) government (0.01228) ministry (0.01134) ban (0.01082) health (0.01059) feed (0.01015)\n",
      "Topic #10: said (0.03830) diabetes (0.01510) people (0.01378) tuberculosis (0.01371) marathon (0.01346) health (0.01279) year (0.01230) new (0.01139) race (0.01010) disease (0.00940) tb (0.00937) percent (0.00912) aids (0.00825) won (0.00741) city (0.00722) 000 (0.00698) time (0.00687) cases (0.00657) years (0.00652) dr (0.00598)\n",
      "Topic #11: diamond (0.05665) beers (0.04813) diamonds (0.03827) year (0.02030) market (0.01969) says (0.01812) world (0.01668) south (0.01646) mr (0.01583) sales (0.01364) 000 (0.01337) cso (0.01310) cent (0.01248) african (0.01208) dollars (0.01144) cartel (0.01114) botswana (0.01067) million (0.01049) africa (0.00994) rough (0.00991)\n",
      "Topic #12: hurricane (0.00386) disease (0.00333) bse (0.00316) cattle (0.00287) said (0.00225) agriculture (0.00208) britain (0.00192) sheep (0.00192) storm (0.00187) pressure (0.00183) farmers (0.00183) report (0.00175) year (0.00174) market (0.00171) sheets (0.00167) center (0.00167) government (0.00164) gilbert (0.00164) ministry (0.00163) food (0.00160)\n",
      "Topic #13: hurricane (0.04938) said (0.03045) hurricanes (0.01787) storm (0.01493) storms (0.01378) year (0.01282) mph (0.01266) winds (0.01220) center (0.01209) season (0.01105) atlantic (0.01090) weather (0.01086) sheets (0.01046) people (0.00947) years (0.00878) damage (0.00870) tropical (0.00827) national (0.00819) miles (0.00814) mr (0.00782)\n",
      "Topic #14: slovenia (0.04989) yugoslavia (0.02619) earthquake (0.02553) slovene (0.01710) said (0.01630) foreign (0.01251) quake (0.01244) federal (0.01234) croatia (0.01223) new (0.01192) mr (0.01168) yugoslav (0.01132) says (0.01104) minister (0.01090) independence (0.01044) republic (0.00925) relations (0.00917) people (0.00915) year (0.00901) area (0.00901)\n",
      "Topic #15: police (0.05491) said (0.03732) officers (0.01871) drought (0.01725) department (0.01574) year (0.01525) jackson (0.01491) officer (0.01310) report (0.01274) brutality (0.01081) mr (0.01076) percent (0.01053) dickey (0.01028) angeles (0.00993) gates (0.00989) los (0.00965) city (0.00932) chief (0.00832) caribbean (0.00806) billion (0.00790)\n",
      "Topic #16: said (0.03686) oil (0.03270) exxon (0.02787) eclipse (0.02193) spill (0.01736) valdez (0.01724) million (0.01227) sun (0.01122) miles (0.01101) tunnel (0.01098) 000 (0.00982) alaska (0.00853) billion (0.00838) cleanup (0.00814) coast (0.00790) tanker (0.00759) state (0.00710) sound (0.00661) 10 (0.00643) total (0.00619)\n",
      "Topic #17: mr (0.02761) term (0.01874) welfare (0.01830) nafta (0.01818) congress (0.01602) president (0.01421) limits (0.01371) state (0.01264) party (0.01081) house (0.01041) political (0.01029) government (0.00969) new (0.00932) people (0.00889) washington (0.00778) said (0.00726) clinton (0.00718) support (0.00682) reform (0.00679) years (0.00675)\n",
      "Topic #18: gun (0.00366) control (0.00230) people (0.00230) nra (0.00225) assassination (0.00220) mr (0.00213) members (0.00191) 000 (0.00191) new (0.00190) guns (0.00187) black (0.00186) right (0.00185) state (0.00172) said (0.00170) government (0.00169) ban (0.00167) amendment (0.00166) mexican (0.00165) second (0.00165) al (0.00163)\n",
      "Topic #19: said (0.06065) crash (0.01338) air (0.01310) plane (0.01074) firefighters (0.01012) people (0.00998) officials (0.00926) national (0.00921) 10 (0.00733) year (0.00685) california (0.00640) aircraft (0.00639) near (0.00635) spokesman (0.00621) miles (0.00607) service (0.00591) area (0.00591) taylor (0.00572) force (0.00571) flight (0.00555)\n",
      "\n",
      "\n",
      "For n_components=50\n",
      "Topic #0: 000 (0.05443) house (0.04663) la (0.03509) france (0.03453) pounds (0.03061) near (0.02584) century (0.02191) good (0.01692) town (0.01677) far (0.01670) uk (0.01669) french (0.01478) prices (0.01372) selling (0.01358) office (0.01339) market (0.01266) home (0.01251) property (0.01188) open (0.01027) area (0.00887)\n",
      "Topic #1: thomas (0.08813) court (0.02958) black (0.02274) said (0.02217) rights (0.01760) clarence (0.01728) law (0.01543) senate (0.01431) civil (0.01382) supreme (0.01313) judge (0.01056) school (0.01039) conservative (0.01038) action (0.01038) man (0.01004) education (0.00960) chairman (0.00792) hearings (0.00776) life (0.00746) reagan (0.00729)\n",
      "Topic #2: shining (0.00131) path (0.00124) especially (0.00116) investigation (0.00116) bse (0.00116) limit (0.00115) 27 (0.00115) department (0.00114) say (0.00114) mid (0.00114) quickly (0.00114) abortion (0.00114) decision (0.00114) lives (0.00113) burn (0.00113) injured (0.00113) cases (0.00113) free (0.00113) speed (0.00113) airport (0.00113)\n",
      "Topic #3: johnson (0.07557) said (0.05645) lewis (0.03199) world (0.02128) ben (0.02011) drugs (0.01999) drug (0.01628) francis (0.01595) record (0.01445) gold (0.01333) steroids (0.01221) track (0.01204) people (0.01131) athletes (0.01086) canadian (0.01065) medal (0.01028) sport (0.00999) use (0.00998) know (0.00870) don (0.00851)\n",
      "Topic #4: park (0.00304) yellowstone (0.00247) trees (0.00217) year (0.00214) fires (0.00207) mr (0.00200) years (0.00192) forest (0.00189) says (0.00161) natural (0.00144) research (0.00137) burned (0.00137) spring (0.00137) service (0.00131) officials (0.00130) damage (0.00129) national (0.00128) new (0.00125) open (0.00125) million (0.00124)\n",
      "Topic #5: bank (0.00399) mr (0.00273) world (0.00262) countries (0.00240) development (0.00203) says (0.00170) debt (0.00168) conable (0.00167) developing (0.00153) private (0.00144) dollars (0.00141) education (0.00137) new (0.00136) 1980s (0.00135) africa (0.00133) loans (0.00133) role (0.00131) officials (0.00130) year (0.00129) investment (0.00129)\n",
      "Topic #6: said (0.00386) house (0.00309) census (0.00307) illegal (0.00284) senate (0.00265) nra (0.00249) aliens (0.00248) states (0.00244) ban (0.00238) california (0.00235) santa (0.00215) city (0.00211) seats (0.00194) says (0.00193) gun (0.00185) count (0.00183) bureau (0.00178) just (0.00169) southern (0.00168) lost (0.00166)\n",
      "Topic #7: nra (0.09018) gun (0.07012) guns (0.03160) assault (0.02923) weapons (0.02705) control (0.02320) ban (0.02008) said (0.01851) members (0.01429) 000 (0.01304) baker (0.01288) year (0.01264) day (0.00980) million (0.00917) president (0.00814) florida (0.00646) nation (0.00640) legislation (0.00639) fight (0.00635) letter (0.00631)\n",
      "Topic #8: police (0.00396) said (0.00362) officers (0.00296) chief (0.00291) commission (0.00287) path (0.00283) report (0.00279) shining (0.00222) gates (0.00221) people (0.00218) community (0.00215) city (0.00213) lima (0.00190) force (0.00184) citizens (0.00183) peru (0.00182) department (0.00175) called (0.00171) new (0.00165) violence (0.00163)\n",
      "Topic #9: year (0.00384) mr (0.00376) bse (0.00308) nafta (0.00289) forest (0.00271) park (0.00248) said (0.00241) national (0.00230) cjd (0.00227) california (0.00201) weeks (0.00196) mexican (0.00193) people (0.00192) candidate (0.00192) cases (0.00190) assassination (0.00187) yellowstone (0.00186) opposition (0.00178) says (0.00177) caused (0.00173)\n",
      "Topic #10: said (0.04925) diabetes (0.02131) health (0.02016) people (0.02003) percent (0.01662) tuberculosis (0.01577) year (0.01451) disease (0.01352) tb (0.01296) new (0.01281) years (0.01203) aids (0.01190) 000 (0.01029) cases (0.00871) dr (0.00814) study (0.00806) million (0.00798) studies (0.00655) university (0.00633) researchers (0.00628)\n",
      "Topic #11: diamond (0.00647) diamonds (0.00576) mr (0.00436) cso (0.00432) market (0.00426) beers (0.00376) shining (0.00298) cent (0.00297) path (0.00293) dollars (0.00279) time (0.00241) world (0.00240) rough (0.00229) cartel (0.00226) fujimori (0.00225) says (0.00223) years (0.00222) south (0.00211) year (0.00211) way (0.00211)\n",
      "Topic #12: hurricane (0.00237) storm (0.00165) coast (0.00147) tropical (0.00141) louisiana (0.00140) center (0.00133) bob (0.00132) winds (0.00132) gilbert (0.00130) expected (0.00129) issued (0.00129) said (0.00129) western (0.00128) national (0.00126) season (0.00124) strong (0.00123) miles (0.00121) sheets (0.00120) beginning (0.00118) land (0.00118)\n",
      "Topic #13: hurricane (0.06756) said (0.03750) hurricanes (0.02754) storms (0.02022) storm (0.01977) mph (0.01961) winds (0.01813) atlantic (0.01665) sheets (0.01587) center (0.01580) season (0.01525) tropical (0.01253) gilbert (0.01138) forecasters (0.01106) people (0.01091) hugo (0.01088) year (0.01050) coast (0.01000) national (0.00976) weather (0.00947)\n",
      "Topic #14: earthquake (0.08759) quake (0.04306) area (0.03565) says (0.02641) earthquakes (0.02514) damage (0.02195) scale (0.01864) said (0.01798) california (0.01630) san (0.01422) year (0.01378) major (0.01176) bay (0.01156) like (0.01120) japan (0.01117) scientists (0.01049) day (0.01006) region (0.00973) recorded (0.00849) struck (0.00828)\n",
      "Topic #15: police (0.09563) said (0.05310) officers (0.03005) department (0.01955) los (0.01784) angeles (0.01778) brutality (0.01734) officer (0.01707) city (0.01671) gates (0.01545) chief (0.01396) black (0.01382) commission (0.01278) report (0.01228) force (0.01203) investigation (0.01182) mr (0.01168) office (0.00995) incident (0.00954) racism (0.00734)\n",
      "Topic #16: oil (0.05650) said (0.05191) exxon (0.04926) spill (0.03077) valdez (0.03054) million (0.01622) cleanup (0.01443) alaska (0.01431) tanker (0.01347) 000 (0.01257) miles (0.01190) sound (0.01152) coast (0.01117) ship (0.01039) guard (0.01008) state (0.00980) environmental (0.00768) gallons (0.00767) william (0.00754) prince (0.00663)\n",
      "Topic #17: welfare (0.04263) mr (0.04071) clinton (0.03876) children (0.02594) limit (0.01918) year (0.01372) paid (0.01371) benefits (0.01349) jobs (0.01283) support (0.01232) term (0.01210) end (0.01159) campaign (0.01102) longer (0.01076) working (0.01074) dollars (0.01032) budget (0.01019) bush (0.01003) families (0.00997) know (0.00956)\n",
      "Topic #18: mr (0.00180) gun (0.00168) control (0.00139) members (0.00135) nra (0.00129) political (0.00127) guns (0.00127) republican (0.00126) thousands (0.00124) people (0.00123) government (0.00122) just (0.00121) new (0.00121) clinton (0.00119) second (0.00119) andrew (0.00119) ban (0.00118) authorities (0.00118) costs (0.00118) tell (0.00117)\n",
      "Topic #19: said (0.05518) crash (0.01247) air (0.01174) national (0.01042) forest (0.01008) plane (0.00989) fires (0.00979) officials (0.00978) people (0.00942) firefighters (0.00941) year (0.00841) service (0.00749) 10 (0.00745) near (0.00641) miles (0.00596) aircraft (0.00594) area (0.00582) 000 (0.00569) california (0.00566) spokesman (0.00556)\n",
      "Topic #20: tuberculosis (0.06573) building (0.06067) air (0.05970) spread (0.02618) poor (0.02466) says (0.02189) workers (0.01954) health (0.01482) cases (0.01462) end (0.01348) study (0.01333) systems (0.01319) office (0.00994) disease (0.00992) year (0.00913) little (0.00910) department (0.00840) infection (0.00780) state (0.00747) studies (0.00739)\n",
      "Topic #21: welfare (0.05069) cent (0.03515) countries (0.03204) state (0.02727) costs (0.02427) increase (0.02181) number (0.01905) cost (0.01746) age (0.01702) economic (0.01552) growth (0.01374) people (0.01354) social (0.01332) families (0.01199) spending (0.01190) benefits (0.01107) germany (0.01039) higher (0.01021) rise (0.01020) population (0.00999)\n",
      "Topic #22: year (0.00254) marathon (0.00198) american (0.00197) time (0.00189) race (0.00175) women (0.00163) won (0.00157) new (0.00154) finished (0.00151) miles (0.00147) 30 (0.00142) second (0.00140) sunday (0.00133) mexico (0.00133) 26 (0.00129) took (0.00128) york (0.00128) history (0.00127) ran (0.00127) later (0.00125)\n",
      "Topic #23: path (0.03467) shining (0.03447) party (0.02321) government (0.02179) guzman (0.01872) peace (0.01713) assassination (0.01682) president (0.01202) political (0.01193) military (0.01188) october (0.01165) people (0.01087) fujimori (0.01039) said (0.00991) war (0.00982) congress (0.00839) security (0.00803) group (0.00794) country (0.00786) al (0.00775)\n",
      "Topic #24: marathon (0.05729) race (0.05327) run (0.02231) miles (0.02204) year (0.02190) won (0.02151) second (0.01966) time (0.01837) running (0.01572) said (0.01478) finished (0.01355) women (0.01328) runners (0.01283) boston (0.01187) course (0.01051) ran (0.01022) city (0.01009) world (0.00978) mile (0.00938) place (0.00928)\n",
      "Topic #25: eclipse (0.01604) sun (0.00733) look (0.00411) hawaii (0.00376) moon (0.00285) don (0.00265) bay (0.00244) area (0.00242) watch (0.00240) thousands (0.00235) san (0.00211) time (0.00205) said (0.00202) total (0.00202) mexico (0.00195) 000 (0.00191) 10 (0.00186) morning (0.00174) long (0.00173) end (0.00170)\n",
      "Topic #26: welfare (0.04973) drought (0.03760) year (0.02880) tornado (0.02510) percent (0.02135) reform (0.02053) tornadoes (0.01946) billion (0.01658) states (0.01589) said (0.01511) president (0.01428) weather (0.01419) work (0.01364) food (0.01052) 1988 (0.00887) house (0.00878) farmers (0.00851) people (0.00846) new (0.00839) total (0.00820)\n",
      "Topic #27: cjd (0.06059) disease (0.04171) sheep (0.03222) says (0.02683) scientists (0.02641) dr (0.02452) animals (0.02360) brown (0.01805) cases (0.01754) medical (0.01373) year (0.01346) form (0.01219) mad (0.01190) victims (0.01176) years (0.01127) case (0.01008) called (0.01000) link (0.00989) like (0.00959) died (0.00807)\n",
      "Topic #28: jackson (0.15457) dickey (0.11244) car (0.05127) beach (0.04565) long (0.04258) officer (0.02515) traffic (0.01962) television (0.01718) committee (0.01479) report (0.01431) face (0.01399) state (0.01388) saying (0.01135) hours (0.01082) crew (0.01077) used (0.01026) said (0.01005) point (0.00895) fight (0.00895) police (0.00887)\n",
      "Topic #29: hurricane (0.00371) said (0.00228) miami (0.00202) storm (0.00189) winds (0.00180) nafta (0.00173) hit (0.00161) coast (0.00156) tropical (0.00155) south (0.00153) site (0.00153) vessel (0.00151) guard (0.00145) water (0.00144) monday (0.00144) texas (0.00143) miles (0.00135) center (0.00134) season (0.00134) late (0.00133)\n",
      "Topic #30: bank (0.05962) mr (0.04943) world (0.03967) says (0.03013) debt (0.02646) countries (0.02232) new (0.01629) loans (0.01534) development (0.01527) poverty (0.01342) year (0.01306) banks (0.01244) 87 (0.01120) 30 (0.01003) developing (0.00987) exposure (0.00930) reserve (0.00861) common (0.00854) conable (0.00783) equity (0.00731)\n",
      "Topic #31: eclipse (0.10785) sun (0.05466) moon (0.02918) solar (0.02497) mexico (0.02163) said (0.01908) percent (0.01808) hawaii (0.01629) total (0.01615) 11 (0.01576) people (0.01488) 10 (0.01292) earth (0.01197) watch (0.01101) california (0.00940) july (0.00874) scientists (0.00866) years (0.00822) city (0.00808) path (0.00770)\n",
      "Topic #32: term (0.02941) limits (0.02199) state (0.02013) right (0.01852) congress (0.01534) amendment (0.01509) people (0.01502) rights (0.01055) arms (0.01041) new (0.00957) voters (0.00913) gun (0.00856) government (0.00834) years (0.00809) power (0.00792) second (0.00785) states (0.00752) constitutional (0.00727) bear (0.00721) time (0.00709)\n",
      "Topic #33: welfare (0.00370) hurricane (0.00362) sheets (0.00263) year (0.00251) yellowstone (0.00251) park (0.00250) said (0.00238) reform (0.00217) center (0.00212) fires (0.00200) new (0.00185) gilbert (0.00182) forest (0.00180) job (0.00176) national (0.00176) president (0.00176) years (0.00165) mr (0.00163) major (0.00158) says (0.00157)\n",
      "Topic #34: diamond (0.05965) beers (0.05060) diamonds (0.04016) year (0.02392) market (0.02023) production (0.01738) south (0.01731) world (0.01689) says (0.01658) mr (0.01507) sales (0.01467) 000 (0.01355) cso (0.01352) million (0.01296) prices (0.01271) african (0.01262) cartel (0.01168) dollars (0.01133) botswana (0.01120) africa (0.01055)\n",
      "Topic #35: nafta (0.00471) prices (0.00320) diamond (0.00289) trade (0.00272) diamonds (0.00259) week (0.00247) congress (0.00241) growth (0.00232) markets (0.00226) president (0.00211) world (0.00207) beers (0.00205) wednesday (0.00193) good (0.00193) share (0.00188) vote (0.00187) mexico (0.00177) market (0.00173) clinton (0.00167) year (0.00167)\n",
      "Topic #36: kelley (0.07278) mr (0.07074) boston (0.04926) says (0.02687) years (0.01866) age (0.01302) year (0.01262) man (0.01261) hours (0.01245) run (0.01209) don (0.01113) like (0.01104) doing (0.01081) ago (0.01066) runners (0.01065) time (0.01057) course (0.01030) isn (0.01024) long (0.00927) set (0.00893)\n",
      "Topic #37: nra (0.00633) gun (0.00476) said (0.00420) assault (0.00299) disease (0.00296) weapons (0.00285) welfare (0.00282) cattle (0.00241) countries (0.00228) year (0.00226) million (0.00224) control (0.00223) guns (0.00221) state (0.00221) ban (0.00219) members (0.00204) support (0.00201) hurricane (0.00190) president (0.00180) bse (0.00178)\n",
      "Topic #38: said (0.00400) year (0.00336) diamond (0.00321) percent (0.00277) drought (0.00274) hurricane (0.00268) slovenia (0.00265) 1988 (0.00261) beers (0.00256) florida (0.00254) dollars (0.00244) state (0.00237) region (0.00232) yesterday (0.00226) storm (0.00225) people (0.00214) farm (0.00212) new (0.00211) louisiana (0.00211) federal (0.00209)\n",
      "Topic #39: said (0.00565) slovenia (0.00402) serbia (0.00363) plane (0.00289) site (0.00287) friday (0.00269) american (0.00228) slovenian (0.00221) communist (0.00214) police (0.00207) tuesday (0.00202) right (0.00200) sunday (0.00198) world (0.00197) called (0.00193) washington (0.00192) crash (0.00191) days (0.00187) statement (0.00185) economic (0.00185)\n",
      "Topic #40: relief (0.03129) baker (0.02938) andrew (0.02486) bush (0.01724) pay (0.01151) performance (0.01080) caught (0.00832) destroyed (0.00769) young (0.00718) tell (0.00700) mr (0.00552) making (0.00490) 1979 (0.00482) staff (0.00478) president (0.00417) september (0.00377) census (0.00330) agency (0.00329) house (0.00308) aliens (0.00296)\n",
      "Topic #41: slovenia (0.06474) yugoslavia (0.03380) slovene (0.02222) said (0.01854) dollars (0.01809) federal (0.01663) croatia (0.01586) yugoslav (0.01468) republic (0.01181) foreign (0.01169) relations (0.01136) independence (0.01085) war (0.01044) state (0.01020) slovenian (0.00996) serbia (0.00991) mr (0.00973) new (0.00919) florida (0.00916) hurricane (0.00910)\n",
      "Topic #42: disease (0.05459) bse (0.03924) cattle (0.03301) beef (0.03031) british (0.02974) said (0.02431) cow (0.02049) agriculture (0.01759) britain (0.01539) government (0.01498) mad (0.01474) ministry (0.01362) ban (0.01354) feed (0.01290) year (0.01280) germany (0.01242) health (0.01212) sheep (0.01165) cases (0.01114) scientists (0.01060)\n",
      "Topic #43: caribbean (0.05545) nafta (0.04898) region (0.03070) mexico (0.02807) said (0.02644) trade (0.02474) mr (0.02392) markets (0.02187) countries (0.02050) exports (0.02026) canada (0.01647) president (0.01646) benefits (0.01496) clinton (0.01371) administration (0.01197) mexican (0.01147) american (0.01123) free (0.00993) leaders (0.00985) new (0.00966)\n",
      "Topic #44: mr (0.06361) nafta (0.05217) president (0.01910) trade (0.01664) daley (0.01604) house (0.01565) mexico (0.01484) said (0.01467) clinton (0.01341) congress (0.01338) congressman (0.01213) political (0.01170) agreement (0.01153) support (0.01148) campaign (0.01134) administration (0.01012) vote (0.00971) american (0.00964) week (0.00896) anti (0.00894)\n",
      "Topic #45: tunnel (0.05953) french (0.03446) link (0.02385) rail (0.02355) british (0.02348) london (0.02001) billion (0.01951) speed (0.01667) high (0.01616) britain (0.01529) channel (0.01457) project (0.01363) says (0.01341) france (0.01337) time (0.01330) england (0.01259) europe (0.01206) miles (0.01016) said (0.00959) workers (0.00861)\n",
      "Topic #46: said (0.00257) census (0.00250) illegal (0.00196) senate (0.00182) count (0.00182) park (0.00178) city (0.00172) population (0.00166) aliens (0.00163) community (0.00161) year (0.00160) yellowstone (0.00160) california (0.00155) house (0.00154) going (0.00143) santa (0.00143) federal (0.00141) impact (0.00140) says (0.00139) immigration (0.00137)\n",
      "Topic #47: earthquake (0.00379) bank (0.00252) year (0.00225) 000 (0.00211) damage (0.00199) earthquakes (0.00198) court (0.00191) people (0.00187) debt (0.00185) new (0.00174) scale (0.00173) conable (0.00162) world (0.00161) sun (0.00160) death (0.00157) mr (0.00151) 10 (0.00148) park (0.00148) eclipse (0.00148) thomas (0.00146)\n",
      "Topic #48: gun (0.00203) nra (0.00162) billion (0.00149) tunnel (0.00143) project (0.00139) link (0.00138) government (0.00136) mr (0.00135) control (0.00134) state (0.00131) british (0.00130) passengers (0.00129) rail (0.00128) republican (0.00127) members (0.00127) year (0.00126) company (0.00124) week (0.00124) passed (0.00123) virginia (0.00121)\n",
      "Topic #49: census (0.05143) illegal (0.04136) house (0.03119) aliens (0.02820) said (0.02629) states (0.02307) bureau (0.02286) senate (0.01971) counting (0.01899) seats (0.01718) count (0.01698) california (0.01431) immigration (0.01342) people (0.01237) congress (0.01212) federal (0.01203) says (0.01175) residents (0.01171) population (0.01155) constitution (0.01076)\n",
      "\n"
     ]
    }
   ],
   "source": [
    "lda_models_duc, lda_topics_duc = decomposition_helper(duc_data, method='lda', n_components=[10, 20, 50], vectorizer=CountVectorizer)"
   ]
  },
  {
   "cell_type": "code",
   "execution_count": 21,
   "metadata": {},
   "outputs": [
    {
     "name": "stdout",
     "output_type": "stream",
     "text": [
      "\n",
      "For n_components=10\n",
      "Topic #0: said (0.02081) crash (0.01975) forest (0.01684) air (0.01486) fires (0.01387) aircraft (0.01209) plane (0.01097) firefighters (0.01049) crashed (0.01043) acres (0.01037) jet (0.00960) base (0.00781) flight (0.00745) pilot (0.00743) park (0.00712) military (0.00690) force (0.00667) area (0.00639) national (0.00632) engine (0.00628)\n",
      "Topic #1: oil (0.06840) exxon (0.06335) spill (0.04597) valdez (0.04347) cleanup (0.02252) said (0.01898) tanker (0.01839) alaska (0.01718) ship (0.01420) sound (0.01392) guard (0.01215) coast (0.01092) million (0.00932) prince (0.00906) gallons (0.00898) miles (0.00870) vessel (0.00847) 000 (0.00846) environmental (0.00784) william (0.00772)\n",
      "Topic #2: hurricane (0.06818) hurricanes (0.02607) storm (0.01943) sheets (0.01790) storms (0.01578) mph (0.01526) atlantic (0.01471) winds (0.01406) tropical (0.01366) florida (0.01323) said (0.01310) gilbert (0.01178) hugo (0.01132) season (0.01120) gray (0.01095) center (0.01050) forecasters (0.01040) miami (0.00853) weather (0.00798) louisiana (0.00784)\n",
      "Topic #3: nafta (0.02900) diamond (0.02338) mr (0.02070) beers (0.01871) diamonds (0.01634) welfare (0.01604) bank (0.00942) says (0.00925) tunnel (0.00882) cent (0.00877) trade (0.00869) clinton (0.00820) world (0.00799) market (0.00687) president (0.00664) countries (0.00646) billion (0.00644) cso (0.00618) year (0.00616) dollars (0.00604)\n",
      "Topic #4: eclipse (0.11122) sun (0.04407) solar (0.02451) moon (0.02428) hawaii (0.01847) mexico (0.01231) total (0.01090) watch (0.00890) earth (0.00860) box (0.00846) percent (0.00843) said (0.00835) scientists (0.00817) san (0.00814) minutes (0.00722) 11 (0.00721) thousands (0.00675) miles (0.00663) island (0.00660) people (0.00627)\n",
      "Topic #5: johnson (0.08350) ben (0.02727) lewis (0.02320) steroids (0.02034) said (0.02017) francis (0.01769) gold (0.01693) marathon (0.01611) race (0.01586) olympic (0.01576) drugs (0.01556) canadian (0.01502) medal (0.01475) canada (0.01290) world (0.01286) athletes (0.01263) drug (0.01129) record (0.00992) sport (0.00905) track (0.00894)\n",
      "Topic #6: taylor (0.03692) disease (0.02847) tuberculosis (0.02389) pneumonia (0.02222) miss (0.01825) bse (0.01678) tb (0.01664) hospital (0.01635) said (0.01593) doctors (0.01559) aids (0.01444) health (0.01418) diabetes (0.01414) cases (0.01192) cattle (0.01189) infection (0.01043) st (0.00862) sheep (0.00852) infected (0.00841) condition (0.00792)\n",
      "Topic #7: thomas (0.02437) census (0.02104) aliens (0.01685) illegal (0.01404) term (0.01215) court (0.01214) amendment (0.01158) senate (0.01081) house (0.01057) limits (0.01040) seats (0.00916) gun (0.00904) congress (0.00895) states (0.00864) right (0.00814) count (0.00791) rights (0.00778) state (0.00775) constitution (0.00746) law (0.00689)\n",
      "Topic #8: police (0.05189) shining (0.02333) officers (0.02171) path (0.01942) said (0.01777) gates (0.01458) brutality (0.01315) officer (0.01029) department (0.01019) guzman (0.01007) commission (0.00923) jackson (0.00889) city (0.00847) angeles (0.00819) los (0.00809) chief (0.00799) report (0.00734) mr (0.00720) black (0.00719) guerrillas (0.00712)\n",
      "Topic #9: slovenia (0.09473) yugoslavia (0.04421) slovene (0.02509) slovenian (0.02397) croatia (0.02257) serbia (0.02194) yugoslav (0.02038) republic (0.01875) republics (0.01863) independence (0.01549) federal (0.01389) foreign (0.01227) army (0.01203) communist (0.01022) war (0.00945) bank (0.00922) debt (0.00859) said (0.00822) military (0.00755) border (0.00732)\n",
      "\n",
      "\n",
      "For n_components=20\n",
      "Topic #0: disease (0.04174) tuberculosis (0.03831) bse (0.02750) tb (0.02649) cattle (0.01948) cases (0.01941) diabetes (0.01906) aids (0.01725) health (0.01413) sheep (0.01385) infected (0.01345) cjd (0.01258) cow (0.01179) beef (0.01137) agriculture (0.01011) percent (0.00987) said (0.00954) feed (0.00891) mad (0.00855) infection (0.00853)\n",
      "Topic #1: oil (0.07046) exxon (0.06528) spill (0.04738) valdez (0.04480) cleanup (0.02322) said (0.01939) tanker (0.01894) alaska (0.01766) ship (0.01452) sound (0.01434) guard (0.01253) coast (0.01122) million (0.00948) prince (0.00933) gallons (0.00926) vessel (0.00873) 000 (0.00851) miles (0.00846) environmental (0.00811) william (0.00794)\n",
      "Topic #2: hurricane (0.07150) hurricanes (0.02735) storm (0.02028) sheets (0.01885) storms (0.01647) mph (0.01596) atlantic (0.01546) winds (0.01470) tropical (0.01432) florida (0.01376) said (0.01338) gilbert (0.01238) hugo (0.01183) season (0.01151) gray (0.01149) forecasters (0.01087) center (0.01076) miami (0.00891) louisiana (0.00814) weather (0.00812)\n",
      "Topic #3: nafta (0.09017) mr (0.03018) trade (0.02061) clinton (0.01746) congressman (0.01556) mexico (0.01365) president (0.01244) agreement (0.01230) house (0.01198) opposition (0.01162) daley (0.01114) vote (0.01077) administration (0.01053) anti (0.01023) pro (0.01007) campaign (0.00977) hispanic (0.00969) jobs (0.00924) democrats (0.00875) congress (0.00812)\n",
      "Topic #4: eclipse (0.12825) sun (0.05028) solar (0.02817) moon (0.02782) hawaii (0.02116) mexico (0.01357) total (0.01232) watch (0.01019) said (0.00987) box (0.00947) earth (0.00938) percent (0.00917) scientists (0.00865) 11 (0.00795) san (0.00794) thousands (0.00750) minutes (0.00736) island (0.00727) people (0.00679) bay (0.00627)\n",
      "Topic #5: johnson (0.10177) ben (0.03326) lewis (0.02831) steroids (0.02508) said (0.02371) francis (0.02178) gold (0.01980) drugs (0.01900) canadian (0.01838) medal (0.01747) olympic (0.01682) canada (0.01584) athletes (0.01543) drug (0.01376) world (0.01359) sport (0.01055) record (0.01030) track (0.00985) test (0.00867) use (0.00680)\n",
      "Topic #6: diamond (0.07251) beers (0.05825) diamonds (0.05042) cso (0.01925) market (0.01736) botswana (0.01692) mr (0.01539) south (0.01391) rough (0.01370) world (0.01367) sales (0.01298) production (0.01262) cent (0.01259) africa (0.01248) dollars (0.01237) cartel (0.01206) african (0.01172) year (0.01126) says (0.01092) organization (0.01018)\n",
      "Topic #7: census (0.06538) aliens (0.05268) illegal (0.04216) seats (0.02644) count (0.02392) house (0.02376) bureau (0.02072) states (0.01840) senate (0.01795) counting (0.01673) immigration (0.01574) said (0.01334) population (0.01217) california (0.01102) rep (0.01090) residents (0.01087) county (0.01006) 1990 (0.00945) federal (0.00938) constitution (0.00929)\n",
      "Topic #8: police (0.07166) officers (0.03259) gates (0.02242) said (0.02145) brutality (0.01994) department (0.01569) officer (0.01547) commission (0.01412) jackson (0.01377) angeles (0.01260) los (0.01252) city (0.01148) chief (0.01130) black (0.00954) report (0.00952) incident (0.00905) complaints (0.00885) investigation (0.00846) racism (0.00838) force (0.00809)\n",
      "Topic #9: slovenia (0.09548) yugoslavia (0.04450) slovene (0.02535) slovenian (0.02406) croatia (0.02271) serbia (0.02205) yugoslav (0.02050) republic (0.01879) republics (0.01875) independence (0.01560) federal (0.01389) foreign (0.01251) army (0.01188) bank (0.01117) communist (0.01024) debt (0.00950) war (0.00914) said (0.00826) cent (0.00767) border (0.00738)\n",
      "Topic #10: crash (0.04446) air (0.03159) aircraft (0.02678) said (0.02499) plane (0.02410) crashed (0.02300) jet (0.02092) base (0.01757) pilot (0.01668) flight (0.01622) force (0.01523) military (0.01462) engine (0.01384) accident (0.01103) training (0.01102) crew (0.00935) aboard (0.00904) spokesman (0.00839) wing (0.00789) killed (0.00774)\n",
      "Topic #11: taylor (0.10921) pneumonia (0.06661) miss (0.05433) hospital (0.04480) doctors (0.04179) said (0.02786) st (0.02332) condition (0.01938) john (0.01829) statement (0.01697) health (0.01460) infection (0.01457) april (0.01270) weeks (0.01182) aids (0.00949) problems (0.00925) death (0.00912) week (0.00876) near (0.00829) 35 (0.00813)\n",
      "Topic #12: forest (0.03800) fires (0.03069) acres (0.02306) firefighters (0.02203) said (0.01778) park (0.01725) drought (0.01296) yellowstone (0.01279) national (0.01228) service (0.01142) blaze (0.01027) burned (0.00946) rain (0.00873) california (0.00816) contained (0.00809) brush (0.00764) trees (0.00738) areas (0.00738) officials (0.00723) season (0.00697)\n",
      "Topic #13: shining (0.07852) path (0.06575) guzman (0.03191) guerrillas (0.02071) lima (0.01973) peru (0.01732) fujimori (0.01377) war (0.01366) peace (0.01117) government (0.01042) party (0.01011) movement (0.00967) said (0.00945) armed (0.00817) killed (0.00783) violence (0.00777) people (0.00748) police (0.00732) military (0.00709) valley (0.00702)\n",
      "Topic #14: welfare (0.13544) reform (0.04569) benefits (0.01847) clinton (0.01676) work (0.01650) families (0.01508) president (0.01387) poverty (0.01386) programs (0.01198) mr (0.01098) plan (0.00991) cent (0.00908) children (0.00863) countries (0.00857) spending (0.00852) training (0.00806) administration (0.00801) bank (0.00714) house (0.00700) congress (0.00697)\n",
      "Topic #15: thomas (0.09109) court (0.02556) clarence (0.02181) black (0.01649) rights (0.01513) senate (0.01444) supreme (0.01437) civil (0.01226) judge (0.01210) law (0.01173) mr (0.01053) conservative (0.01024) school (0.00912) action (0.00912) education (0.00908) abortion (0.00870) said (0.00842) sen (0.00833) box (0.00831) reagan (0.00719)\n",
      "Topic #16: tunnel (0.06741) french (0.03829) british (0.02648) rail (0.01958) channel (0.01817) billion (0.01754) france (0.01739) link (0.01709) britain (0.01678) project (0.01638) london (0.01414) europe (0.01274) workers (0.01134) speed (0.01052) england (0.01028) 1993 (0.00798) says (0.00785) passengers (0.00755) high (0.00648) miles (0.00641)\n",
      "Topic #17: marathon (0.07749) race (0.04436) runners (0.01949) won (0.01746) run (0.01738) boston (0.01707) miles (0.01663) finished (0.01640) women (0.01614) running (0.01385) second (0.01361) ran (0.01101) year (0.01079) city (0.01038) lead (0.00948) time (0.00937) course (0.00888) mile (0.00845) kelley (0.00796) sunday (0.00795)\n",
      "Topic #18: term (0.03210) limits (0.02694) amendment (0.02337) gun (0.02334) right (0.01541) arms (0.01489) militia (0.01433) congress (0.01403) state (0.01254) incumbents (0.01243) voters (0.01202) bear (0.00994) limit (0.00979) rights (0.00951) second (0.00934) constitutional (0.00923) guns (0.00848) legislative (0.00847) legislators (0.00815) people (0.00783)\n",
      "Topic #19: earthquake (0.10642) quake (0.04369) earthquakes (0.03067) damage (0.02102) area (0.02038) scale (0.01929) san (0.01189) says (0.01131) recorded (0.01092) said (0.01076) japan (0.01073) california (0.00934) major (0.00836) scientists (0.00832) struck (0.00797) tornado (0.00774) year (0.00735) bay (0.00712) person (0.00683) region (0.00683)\n",
      "\n",
      "\n",
      "For n_components=50\n",
      "Topic #0: police (0.09867) officers (0.04240) said (0.03486) brutality (0.02702) officer (0.02520) city (0.01573) department (0.01347) arrested (0.01181) complaints (0.01174) racism (0.01055) rescue (0.00975) man (0.00883) force (0.00849) involved (0.00818) incident (0.00799) abortion (0.00788) attorney (0.00776) operation (0.00772) pain (0.00766) investigation (0.00759)\n",
      "Topic #1: oil (0.07657) exxon (0.07110) spill (0.05177) valdez (0.04895) cleanup (0.02538) tanker (0.02068) said (0.01968) alaska (0.01922) ship (0.01585) sound (0.01558) guard (0.01362) coast (0.01210) prince (0.01015) gallons (0.01002) million (0.00983) vessel (0.00949) miles (0.00897) environmental (0.00884) 000 (0.00872) william (0.00862)\n",
      "Topic #2: hurricane (0.10449) sheets (0.03671) mph (0.02810) storm (0.02564) winds (0.02310) gilbert (0.02165) tropical (0.02017) center (0.01952) said (0.01730) forecasters (0.01719) atlantic (0.01289) season (0.01263) storms (0.01246) hugo (0.01213) coast (0.01174) hurricanes (0.01094) miami (0.01008) pressure (0.00898) caribbean (0.00892) islands (0.00887)\n",
      "Topic #3: nafta (0.12377) trade (0.02801) congressman (0.02011) clinton (0.01849) mexico (0.01669) opposition (0.01542) agreement (0.01541) vote (0.01464) anti (0.01409) house (0.01378) pro (0.01377) administration (0.01349) president (0.01329) jobs (0.01291) hispanic (0.01261) congress (0.01103) democrats (0.01067) campaign (0.01055) environmental (0.00986) free (0.00972)\n",
      "Topic #4: eclipse (0.14060) sun (0.05495) solar (0.03077) moon (0.03037) hawaii (0.02307) mexico (0.01470) total (0.01344) watch (0.01104) earth (0.01025) said (0.00970) percent (0.00953) scientists (0.00948) box (0.00882) 11 (0.00847) san (0.00824) island (0.00796) thousands (0.00784) minutes (0.00779) people (0.00649) bay (0.00649)\n",
      "Topic #5: johnson (0.11354) ben (0.03694) said (0.02670) gold (0.02538) lewis (0.02513) steroids (0.02306) medal (0.02253) drugs (0.02228) canada (0.02203) olympic (0.02128) canadian (0.02053) athletes (0.01348) drug (0.01304) sport (0.01027) record (0.01012) track (0.00920) race (0.00872) world (0.00864) 100 (0.00795) took (0.00794)\n",
      "Topic #6: diamond (0.08939) beers (0.07193) diamonds (0.06195) cso (0.02388) botswana (0.02058) market (0.01996) rough (0.01690) south (0.01674) sales (0.01561) africa (0.01428) cartel (0.01414) production (0.01413) african (0.01368) cent (0.01356) organization (0.01229) world (0.01210) year (0.01202) london (0.01174) dollars (0.01143) selling (0.01118)\n",
      "Topic #7: census (0.07411) aliens (0.05963) illegal (0.04749) seats (0.02962) count (0.02695) house (0.02548) bureau (0.02347) states (0.01923) senate (0.01915) counting (0.01901) immigration (0.01772) said (0.01353) population (0.01332) rep (0.01222) residents (0.01184) constitution (0.01048) california (0.01047) 1990 (0.01029) congress (0.00982) county (0.00978)\n",
      "Topic #8: gates (0.07690) police (0.07522) commission (0.04648) officers (0.04115) chief (0.02583) angeles (0.02449) los (0.02383) department (0.02364) report (0.02060) brutality (0.01970) community (0.01364) force (0.01273) complaints (0.01152) said (0.01041) black (0.00864) investigation (0.00804) law (0.00784) incident (0.00764) critics (0.00752) violence (0.00721)\n",
      "Topic #9: slovenia (0.11661) yugoslavia (0.05479) slovene (0.03051) slovenian (0.02967) croatia (0.02777) serbia (0.02734) yugoslav (0.02541) republic (0.02320) republics (0.02313) independence (0.01863) federal (0.01654) army (0.01345) foreign (0.01275) communist (0.01206) war (0.01089) border (0.00904) relations (0.00851) said (0.00794) cent (0.00781) european (0.00738)\n",
      "Topic #10: air (0.05333) crash (0.05114) aircraft (0.04404) base (0.03459) crashed (0.03388) force (0.02904) pilot (0.02647) military (0.02540) jet (0.02509) said (0.02504) training (0.01948) plane (0.01520) west (0.01427) accident (0.01384) flight (0.01296) wing (0.01282) crew (0.01064) miles (0.01059) spokesman (0.01052) gulf (0.00937)\n",
      "Topic #11: taylor (0.11652) pneumonia (0.07138) miss (0.05784) hospital (0.04747) doctors (0.04438) said (0.02786) st (0.02466) condition (0.02057) john (0.01910) statement (0.01782) infection (0.01540) health (0.01484) april (0.01330) weeks (0.01257) problems (0.00971) aids (0.00936) death (0.00930) week (0.00928) 35 (0.00856) near (0.00847)\n",
      "Topic #12: forest (0.05618) acres (0.04672) firefighters (0.04588) said (0.02927) blaze (0.02694) fires (0.02280) contained (0.02252) burned (0.01863) national (0.01699) rain (0.01694) crews (0.01688) monday (0.01374) service (0.01275) 000 (0.01211) saturday (0.01089) spokesman (0.01017) burning (0.00949) officials (0.00933) dry (0.00919) california (0.00884)\n",
      "Topic #13: shining (0.09271) path (0.07729) guzman (0.03766) guerrillas (0.02348) lima (0.02317) peru (0.02003) war (0.01582) fujimori (0.01581) peace (0.01306) movement (0.01049) government (0.01041) said (0.00878) armed (0.00873) violence (0.00839) agreement (0.00834) party (0.00826) people (0.00792) valley (0.00789) killed (0.00781) october (0.00768)\n",
      "Topic #14: welfare (0.16397) reform (0.05455) benefits (0.02226) work (0.01979) clinton (0.01942) families (0.01814) president (0.01510) programs (0.01401) plan (0.01126) children (0.01018) spending (0.01011) training (0.00974) cent (0.00973) administration (0.00935) house (0.00764) democrats (0.00755) support (0.00751) congress (0.00749) poverty (0.00716) states (0.00716)\n",
      "Topic #15: thomas (0.11688) clarence (0.02901) black (0.01811) rights (0.01526) judge (0.01435) law (0.01339) senate (0.01259) court (0.01257) conservative (0.01221) school (0.01186) civil (0.01116) supreme (0.00937) education (0.00921) reagan (0.00916) action (0.00862) said (0.00844) worked (0.00823) life (0.00802) virginia (0.00758) commission (0.00748)\n",
      "Topic #16: tunnel (0.08888) french (0.03628) british (0.03417) rail (0.02768) link (0.02436) channel (0.02332) project (0.02313) billion (0.02278) britain (0.02185) london (0.01968) europe (0.01529) speed (0.01520) workers (0.01515) england (0.01272) 1993 (0.01159) miles (0.00963) passengers (0.00881) high (0.00815) time (0.00756) france (0.00746)\n",
      "Topic #17: marathon (0.09445) race (0.05299) runners (0.02336) run (0.02107) miles (0.01997) women (0.01953) won (0.01914) finished (0.01848) running (0.01609) second (0.01531) ran (0.01317) lead (0.01183) city (0.01086) year (0.01061) course (0.01059) mile (0.01036) time (0.00990) sunday (0.00964) heat (0.00882) seconds (0.00878)\n",
      "Topic #18: limits (0.10264) term (0.08610) congress (0.03862) limit (0.01930) incumbents (0.01606) power (0.01456) election (0.01335) washington (0.01294) congressional (0.01242) best (0.01191) voters (0.01188) rights (0.01127) politicians (0.01101) house (0.00998) florida (0.00994) representatives (0.00966) members (0.00878) citizens (0.00853) public (0.00827) constitution (0.00812)\n",
      "Topic #19: disease (0.07233) sheep (0.04151) cattle (0.03820) bse (0.03756) cjd (0.03458) feed (0.02322) cases (0.02124) scientists (0.02120) agriculture (0.02038) animals (0.01917) cow (0.01740) mad (0.01523) farmers (0.01490) ministry (0.01151) infected (0.01066) confirmed (0.01055) britain (0.01001) government (0.00965) dr (0.00906) known (0.00861)\n",
      "Topic #20: earthquake (0.13436) quake (0.05403) earthquakes (0.03847) damage (0.02483) scale (0.02404) area (0.02333) san (0.01419) japan (0.01337) said (0.01294) recorded (0.01291) major (0.01020) scientists (0.01004) california (0.00958) struck (0.00945) cause (0.00831) bay (0.00827) person (0.00815) earth (0.00785) south (0.00780) pacific (0.00748)\n",
      "Topic #21: diabetes (0.16581) hispanics (0.03956) hispanic (0.02963) disease (0.02128) said (0.01983) type (0.01588) health (0.01578) americans (0.01263) society (0.01179) percent (0.01107) mexican (0.01054) population (0.01046) researchers (0.00984) american (0.00943) form (0.00868) test (0.00848) study (0.00805) food (0.00780) pounds (0.00728) body (0.00717)\n",
      "Topic #22: amendment (0.06664) militia (0.05060) arms (0.04865) right (0.04649) gun (0.04185) bear (0.03392) second (0.02704) rights (0.02056) constitutional (0.01848) constitution (0.01743) guns (0.01530) law (0.01359) state (0.01160) guard (0.01100) people (0.01062) free (0.00990) laws (0.00975) national (0.00962) control (0.00962) citizens (0.00914)\n",
      "Topic #23: bank (0.11284) debt (0.05677) countries (0.05266) poverty (0.03168) world (0.02716) loans (0.02410) developing (0.02118) conable (0.01969) billion (0.01859) development (0.01587) economic (0.01159) africa (0.01077) new (0.00972) policies (0.00950) foreign (0.00924) investment (0.00903) cent (0.00890) increase (0.00852) said (0.00824) banks (0.00762)\n",
      "Topic #24: tornado (0.08212) tornadoes (0.06640) weather (0.01649) storms (0.01398) deaths (0.01268) people (0.01207) said (0.01170) average (0.01136) mph (0.01107) homes (0.01067) reported (0.01050) injured (0.00966) texas (0.00950) killed (0.00945) april (0.00928) miles (0.00831) year (0.00809) service (0.00781) national (0.00778) county (0.00738)\n",
      "Topic #25: drought (0.09151) farmers (0.02576) farm (0.02163) relief (0.01851) billion (0.01819) 1988 (0.01777) disaster (0.01733) percent (0.01452) weather (0.01403) aid (0.01210) agriculture (0.01093) land (0.01063) went (0.01048) prices (0.01039) program (0.00939) normal (0.00933) region (0.00901) year (0.00892) department (0.00866) production (0.00826)\n",
      "Topic #26: dollars (0.04142) florida (0.03925) hurricane (0.03918) losses (0.03774) andrew (0.03682) insurance (0.03086) louisiana (0.02931) yesterday (0.02498) claims (0.02203) storm (0.01873) industry (0.01812) damage (0.01794) pounds (0.01419) property (0.01383) miami (0.01166) caused (0.01071) estimated (0.01006) total (0.00916) cent (0.00835) disaster (0.00829)\n",
      "Topic #27: candidate (0.05308) party (0.04844) presidential (0.04224) assassination (0.04094) government (0.02028) cartel (0.02027) drug (0.01727) mexican (0.01560) friday (0.01504) forces (0.01393) liberal (0.01324) political (0.01291) elections (0.01273) airport (0.01219) said (0.01208) armed (0.01182) killing (0.01166) thursday (0.01160) campaign (0.01082) month (0.01061)\n",
      "Topic #28: mr (0.17931) political (0.01630) bush (0.01389) clinton (0.01385) president (0.01364) kelley (0.01271) andrew (0.01267) drug (0.01192) man (0.01129) says (0.01061) fujimori (0.01010) role (0.00999) party (0.00986) cent (0.00895) yesterday (0.00870) according (0.00863) actions (0.00766) relief (0.00764) baker (0.00704) hand (0.00699)\n",
      "Topic #29: santa (0.03093) brush (0.03075) california (0.02255) trees (0.02179) homes (0.02139) department (0.02018) water (0.01855) firefighters (0.01790) fires (0.01651) county (0.01565) areas (0.01483) los (0.01462) said (0.01273) southern (0.01256) season (0.01204) city (0.01090) chief (0.01034) protection (0.00994) officials (0.00989) san (0.00972)\n",
      "Topic #30: crash (0.04587) engine (0.04264) plane (0.03581) said (0.02484) flight (0.02413) jet (0.02071) united (0.01584) airport (0.01488) wind (0.01347) crashed (0.01323) ground (0.01311) passengers (0.01280) aboard (0.01156) safety (0.01119) site (0.01103) northwest (0.01089) board (0.01012) accident (0.00976) people (0.00974) crew (0.00924)\n",
      "Topic #31: jackson (0.12054) dickey (0.06494) beach (0.04365) police (0.03217) long (0.02565) officer (0.02530) car (0.02397) incident (0.02271) said (0.01637) attorney (0.01606) investigation (0.01490) angeles (0.01321) office (0.01271) los (0.01265) district (0.01183) hill (0.01134) traffic (0.01099) officers (0.01086) black (0.00946) brutality (0.00936)\n",
      "Topic #32: fires (0.06055) park (0.05861) yellowstone (0.05160) forest (0.03211) burn (0.02101) service (0.01558) natural (0.01447) national (0.01395) panel (0.01250) trees (0.01154) summer (0.01066) management (0.01022) spring (0.00970) policies (0.00955) year (0.00933) said (0.00910) season (0.00875) plans (0.00857) la (0.00847) areas (0.00845)\n",
      "Topic #33: gun (0.08252) nra (0.07589) guns (0.02977) assault (0.02318) control (0.02307) weapons (0.01756) ban (0.01627) members (0.01193) laws (0.01130) congress (0.00928) james (0.00915) 000 (0.00828) republican (0.00822) black (0.00820) law (0.00760) legislation (0.00729) baker (0.00726) citizens (0.00689) washington (0.00687) period (0.00608)\n",
      "Topic #34: hurricanes (0.08140) gray (0.04959) hurricane (0.03979) storms (0.03416) atlantic (0.03379) season (0.01735) hugo (0.01536) tropical (0.01401) average (0.01339) year (0.01119) predicted (0.01114) drought (0.01110) said (0.01107) 1988 (0.01089) storm (0.01047) period (0.01032) caribbean (0.01027) weather (0.00983) 1985 (0.00933) winds (0.00920)\n",
      "Topic #35: says (0.06211) development (0.02297) loans (0.01374) group (0.01328) 100 (0.01185) plans (0.01093) million (0.01021) virginia (0.00997) rate (0.00990) west (0.00985) ms (0.00933) making (0.00920) year (0.00887) makes (0.00879) 000 (0.00852) region (0.00850) new (0.00781) people (0.00777) years (0.00762) poor (0.00756)\n",
      "Topic #36: beef (0.07738) bse (0.07655) british (0.05000) germany (0.03523) disease (0.03279) cattle (0.03231) cow (0.03128) ban (0.03095) uk (0.02589) britain (0.02057) commission (0.01993) mad (0.01802) health (0.01546) ministry (0.01527) exports (0.01451) agriculture (0.01303) research (0.01292) european (0.00976) 1990 (0.00915) said (0.00864)\n",
      "Topic #37: tuberculosis (0.18778) aids (0.07041) cases (0.03210) health (0.02221) infected (0.01892) said (0.01847) number (0.01566) infection (0.01440) rise (0.01370) year (0.01200) disease (0.01179) people (0.01136) require (0.01132) department (0.01095) risk (0.01043) drugs (0.01029) 1992 (0.00963) million (0.00940) available (0.00869) legislative (0.00865)\n",
      "Topic #38: tb (0.12591) tuberculosis (0.05919) aids (0.04226) percent (0.03743) cases (0.02886) infected (0.02884) blacks (0.02363) disease (0.01942) study (0.01642) infection (0.01616) new (0.01440) 000 (0.01435) americans (0.01353) health (0.01270) drug (0.01263) people (0.01230) reported (0.01208) rate (0.01130) 100 (0.01037) dr (0.01000)\n",
      "Topic #39: smith (0.09638) plane (0.03542) said (0.01395) season (0.01349) city (0.01320) institute (0.01182) death (0.01134) heard (0.01025) miss (0.00960) residents (0.00883) night (0.00874) acres (0.00872) come (0.00826) rep (0.00825) got (0.00820) million (0.00797) area (0.00768) months (0.00759) statement (0.00757) monday (0.00734)\n",
      "Topic #40: daley (0.11398) chicago (0.03903) black (0.02906) white (0.02667) city (0.02472) clinton (0.02065) brutality (0.01629) hearings (0.01557) blacks (0.01426) racism (0.01330) election (0.01307) political (0.01298) richard (0.01241) washington (0.01206) agreement (0.01167) relations (0.01057) politicians (0.01032) late (0.00967) democrats (0.00963) department (0.00954)\n",
      "Topic #41: poverty (0.10933) world (0.08817) non (0.05403) body (0.05365) private (0.05314) international (0.05084) community (0.04160) john (0.03996) poor (0.01794) lewis (0.01288) congress (0.01112) american (0.00907) today (0.00861) people (0.00852) aboard (0.00840) loans (0.00783) minister (0.00741) night (0.00737) president (0.00717) african (0.00699)\n",
      "Topic #42: court (0.07046) abortion (0.04323) box (0.04193) supreme (0.03182) senate (0.02121) sen (0.01835) civil (0.01580) rights (0.01428) committee (0.01425) justice (0.01325) bush (0.01222) morgan (0.01108) federal (0.01104) action (0.01056) state (0.00974) said (0.00927) constitutional (0.00926) issues (0.00909) operation (0.00888) assistant (0.00888)\n",
      "Topic #43: french (0.05588) france (0.05186) 000 (0.02559) pounds (0.02511) house (0.02010) tunnel (0.01845) la (0.01598) uk (0.01410) near (0.01370) century (0.01355) town (0.01222) attack (0.01163) prices (0.01013) good (0.00965) selling (0.00957) region (0.00947) far (0.00863) countries (0.00844) market (0.00831) northern (0.00727)\n",
      "Topic #44: air (0.06054) building (0.05784) poor (0.03220) tuberculosis (0.02955) spread (0.02282) health (0.02199) study (0.02120) workers (0.02011) says (0.01703) systems (0.01579) studies (0.01463) infection (0.01254) tb (0.01208) disease (0.01104) end (0.01070) infected (0.01039) dr (0.00990) little (0.00977) problems (0.00849) government (0.00812)\n",
      "Topic #45: assassination (0.06802) al (0.04124) military (0.03715) security (0.02628) army (0.01455) said (0.01320) evidence (0.01203) 1979 (0.01180) team (0.01133) officials (0.01118) organization (0.01111) official (0.01022) united (0.00993) attack (0.00975) alleged (0.00906) investigation (0.00880) newspaper (0.00840) foreign (0.00839) state (0.00837) president (0.00834)\n",
      "Topic #46: look (0.13048) forest (0.12951) western (0.09799) states (0.07504) state (0.03119) severe (0.02802) injured (0.02767) wednesday (0.02747) 27 (0.02543) hundreds (0.02529) 500 (0.02334) tornadoes (0.02212) left (0.02179) killed (0.02103) people (0.01648) mark (0.00653) service (0.00633) la (0.00624) united (0.00592) government (0.00588)\n",
      "Topic #47: francis (0.13972) johnson (0.07521) lewis (0.04393) steroids (0.03897) athletes (0.02614) ben (0.02549) test (0.02195) world (0.01997) use (0.01837) drug (0.01774) speed (0.01717) caught (0.01398) track (0.01376) canadian (0.01369) sport (0.01356) said (0.01232) record (0.01222) field (0.00838) gave (0.00833) reason (0.00777)\n",
      "Topic #48: term (0.04473) voters (0.02970) incumbents (0.02952) legislators (0.02655) legislative (0.02421) state (0.02053) terms (0.01862) elected (0.01651) political (0.01537) limit (0.01403) won (0.01394) interests (0.01361) limits (0.01304) people (0.01297) office (0.01147) think (0.01123) vote (0.01012) years (0.00959) house (0.00920) special (0.00894)\n",
      "Topic #49: boston (0.11261) kelley (0.06327) 87 (0.04534) exposure (0.03755) equity (0.02672) reserve (0.02519) world (0.02422) olympic (0.02070) common (0.01919) banks (0.01782) 30 (0.01752) 31 (0.01340) 1988 (0.01277) won (0.01224) 1984 (0.01206) 1989 (0.01193) 1990 (0.01084) loans (0.01061) finished (0.01045) year (0.00990)\n",
      "\n"
     ]
    }
   ],
   "source": [
    "_, _ = decomposition_helper(duc_data, method='nmf', n_components=[10, 20, 50], vectorizer=TfidfVectorizer)"
   ]
  },
  {
   "cell_type": "markdown",
   "metadata": {},
   "source": [
    "#### ES"
   ]
  },
  {
   "cell_type": "code",
   "execution_count": 38,
   "metadata": {},
   "outputs": [],
   "source": [
    "es_topic_indexer(lda_topics_duc[10], 'topicsduc')"
   ]
  }
 ],
 "metadata": {
  "kernelspec": {
   "display_name": "Python 3",
   "language": "python",
   "name": "python3"
  },
  "language_info": {
   "codemirror_mode": {
    "name": "ipython",
    "version": 3
   },
   "file_extension": ".py",
   "mimetype": "text/x-python",
   "name": "python",
   "nbconvert_exporter": "python",
   "pygments_lexer": "ipython3",
   "version": "3.6.4"
  }
 },
 "nbformat": 4,
 "nbformat_minor": 2
}
