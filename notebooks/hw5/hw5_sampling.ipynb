{
 "cells": [
  {
   "cell_type": "markdown",
   "metadata": {},
   "source": [
    "## Uniform random sampling"
   ]
  },
  {
   "cell_type": "code",
   "execution_count": 1,
   "metadata": {},
   "outputs": [],
   "source": [
    "import numpy as np\n",
    "import matplotlib.pyplot as plt\n",
    "from scipy.stats import multivariate_normal, norm\n",
    "%matplotlib inline"
   ]
  },
  {
   "cell_type": "code",
   "execution_count": 2,
   "metadata": {},
   "outputs": [],
   "source": [
    "def rand_uniform(high, low, sample_size, fig=False):\n",
    "    \n",
    "    np.random.seed()\n",
    "    samples = np.random.rand(sample_size)\n",
    "    \n",
    "    if fig:\n",
    "        plt.figure(figsize=(10,8))\n",
    "        plt.subplot(221)\n",
    "        plt.hist(samples,bins=20)\n",
    "    \n",
    "    samples = low + ((high - low) * samples)\n",
    "    \n",
    "    if fig:\n",
    "        plt.subplot(222)\n",
    "        plt.hist(samples,bins=20)\n",
    "    return samples"
   ]
  },
  {
   "cell_type": "code",
   "execution_count": 3,
   "metadata": {},
   "outputs": [
    {
     "data": {
      "text/plain": [
       "array([2.37447337, 1.22257895, 2.97289677, ..., 2.41038747, 1.7605351 ,\n",
       "       1.44385139])"
      ]
     },
     "execution_count": 3,
     "metadata": {},
     "output_type": "execute_result"
    },
    {
     "data": {
      "image/png": "[encoded data removed]",
      "text/plain": [
       "<matplotlib.figure.Figure at 0x7fbf50a85b70>"
      ]
     },
     "metadata": {},
     "output_type": "display_data"
    }
   ],
   "source": [
    "rand_uniform(3,1,2000, fig=True)"
   ]
  },
  {
   "cell_type": "markdown",
   "metadata": {},
   "source": [
    "## Normal sampling"
   ]
  },
  {
   "cell_type": "code",
   "execution_count": 5,
   "metadata": {},
   "outputs": [],
   "source": [
    "def rand_normal(mu, sigma, sample_size):\n",
    " \n",
    "    np.random.seed()\n",
    "    sample_x = np.zeros(sample_size)\n",
    "    sample_y = np.zeros(sample_size)\n",
    "    count = 0\n",
    "    while count < sample_size:\n",
    "        x = rand_uniform(-3,3,1)[0]\n",
    "        y = rand_uniform(0,3,1)[0]\n",
    "        y_ = norm.pdf(x, loc=mu, scale = sigma)\n",
    "\n",
    "        if y<y_:\n",
    "            sample_x[count]=x\n",
    "            sample_y[count]=y_\n",
    "            count += 1      \n",
    "#     hinfo = np.histogram(sample_x,30)\n",
    "#     plt.hist(sample_x,bins=30, label=u'Samples')\n",
    "    plt.bar(sample_x,sample_y, label=u'Samples') \n",
    "        #print(y_)"
   ]
  },
  {
   "cell_type": "code",
   "execution_count": 6,
   "metadata": {},
   "outputs": [
    {
     "data": {
      "image/png": "[encoded data removed]",
      "text/plain": [
       "<matplotlib.figure.Figure at 0x7fbf48256198>"
      ]
     },
     "metadata": {},
     "output_type": "display_data"
    }
   ],
   "source": [
    "rand_normal(0,1,200)"
   ]
  },
  {
   "cell_type": "code",
   "execution_count": 7,
   "metadata": {},
   "outputs": [],
   "source": [
    "def rand_normal_2d(mu, sigma, sample_size):\n",
    " \n",
    "    np.random.seed()\n",
    "    sample_x1 = np.zeros(sample_size)\n",
    "    sample_x2 = np.zeros(sample_size)\n",
    "    count = 0\n",
    "    while count < sample_size:\n",
    "        x1 = rand_uniform(-3,3,1)[0]\n",
    "        x2 = rand_uniform(-3,3,1)[0]\n",
    "        y = rand_uniform(0,3,1)[0]\n",
    "       # y = rand_uniform(-3,3,1)[0]\n",
    "        y_ = multivariate_normal.pdf([x1,x2], mean=mu, cov = sigma)\n",
    "        \n",
    "        if y<y_:\n",
    "            sample_x1[count]=x1\n",
    "            sample_x2[count]=x2\n",
    "            count += 1\n",
    "            \n",
    "    plt.xlim(xmin=-6,xmax=6)\n",
    "    plt.ylim(ymin=-6,ymax=6)\n",
    "    plt.scatter(sample_x1, sample_x2, marker='x', alpha=0.8)        \n",
    "        #print(y_)\n",
    "    \n",
    "    #plt.plot(y_,'.')"
   ]
  },
  {
   "cell_type": "code",
   "execution_count": 8,
   "metadata": {},
   "outputs": [
    {
     "data": {
      "image/png": "[encoded data removed]",
      "text/plain": [
       "<matplotlib.figure.Figure at 0x7fbf48428390>"
      ]
     },
     "metadata": {},
     "output_type": "display_data"
    }
   ],
   "source": [
    "rand_normal_2d([0,0],[[1,0.1],[0.1,1]],200)"
   ]
  },
  {
   "cell_type": "markdown",
   "metadata": {},
   "source": [
    "## Steven's method"
   ]
  },
  {
   "cell_type": "code",
   "execution_count": 9,
   "metadata": {},
   "outputs": [],
   "source": [
    "from collections import Counter\n",
    "from collections import OrderedDict\n",
    "from operator import itemgetter"
   ]
  },
  {
   "cell_type": "code",
   "execution_count": 10,
   "metadata": {},
   "outputs": [],
   "source": [
    "def stevens_sampling(sample_size, pop_size, mean, cov):\n",
    "    np.random.seed()\n",
    "    samples = np.random.normal(loc=mean, scale=cov, size=pop_size)\n",
    "    samples_pdf = norm.pdf(loc=mean, scale=cov , x=samples)\n",
    "    \n",
    "    #sort on pdf\n",
    "    sorted_pdf = np.sort(samples_pdf)[::-1]\n",
    "    sorted_sample = samples[np.argsort(samples_pdf)[::-1]]\n",
    "\n",
    "    plt.figure(figsize=(16,10))\n",
    "    plt.subplot(221)\n",
    "    plt.bar(samples, samples_pdf, width = 0.05)\n",
    "    \n",
    "    plt.subplot(222)\n",
    "    x = range(pop_size)\n",
    "    plt.bar(x,sorted_pdf, width=0.6)\n",
    "    \n",
    "    buckets = int(pop_size/sample_size)\n",
    "\n",
    "    #normalized pdfs\n",
    "    norm_prob =[]\n",
    "    for i in range(buckets):\n",
    "        norm_prob.append(np.average(sorted_pdf[i*sample_size:(i+1)*sample_size-1]))\n",
    "\n",
    "    #normalize buckets\n",
    "    for i, val in enumerate(norm_prob):\n",
    "        sorted_pdf[i*sample_size:(i+1)*sample_size] = val\n",
    "\n",
    "    plt.subplot(223)\n",
    "    x = range(pop_size)\n",
    "    plt.bar(x,sorted_pdf, width=0.8)\n",
    "     \n",
    "    #choose buckets at random with replcement and count\n",
    "    buckets_choice = Counter(np.random.choice(buckets, size=sample_size, replace=True))\n",
    "\n",
    "    print(\"bucket_choice: \", buckets_choice)\n",
    "    #sample without replacement\n",
    "    pick=[]\n",
    "    for key, value in buckets_choice.most_common():\n",
    "        pick.extend(np.random.choice(sorted_sample[key*sample_size:(key+1)*sample_size], size=int(value), replace=False))\n",
    "    \n",
    "    print(len(pick))\n",
    "    plt.subplot(224)\n",
    "    x = range(pop_size)\n",
    "    z = np.where(np.isin(sorted_sample, pick))\n",
    "    plt.bar(x,sorted_pdf, width=0.8) \n",
    "    plt.bar(z[0],sorted_pdf[z], width=0.8, color='red')\n",
    "            \n",
    "    print(\"Sampling without replcement: \", pick)"
   ]
  },
  {
   "cell_type": "code",
   "execution_count": 11,
   "metadata": {},
   "outputs": [
    {
     "name": "stdout",
     "output_type": "stream",
     "text": [
      "bucket_choice:  Counter({5: 2, 2: 2, 1: 2, 0: 2, 9: 1, 7: 1})\n",
      "10\n",
      "Sampling without replcement:  [0.7802299215067959, -0.6999935769184699, 0.3116710413283231, -0.3940512758850314, -0.24572263926110818, 0.21348785604590587, 0.17242922194490826, -0.06940150112527732, -1.9323995399925311, -1.1203952088652744]\n"
     ]
    },
    {
     "data": {
      "image/png": "[encoded data removed]",
      "text/plain": [
       "<matplotlib.figure.Figure at 0x7fbf483643c8>"
      ]
     },
     "metadata": {},
     "output_type": "display_data"
    }
   ],
   "source": [
    "stevens_sampling(10, 100, 0 , 1)"
   ]
  },
  {
   "cell_type": "code",
   "execution_count": null,
   "metadata": {},
   "outputs": [],
   "source": []
  }
 ],
 "metadata": {
  "kernelspec": {
   "display_name": "Python 3",
   "language": "python",
   "name": "python3"
  },
  "language_info": {
   "codemirror_mode": {
    "name": "ipython",
    "version": 3
   },
   "file_extension": ".py",
   "mimetype": "text/x-python",
   "name": "python",
   "nbconvert_exporter": "python",
   "pygments_lexer": "ipython3",
   "version": "3.6.5"
  }
 },
 "nbformat": 4,
 "nbformat_minor": 2
}
