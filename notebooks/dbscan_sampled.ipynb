{
 "cells": [
  {
   "cell_type": "code",
   "execution_count": 1,
   "metadata": {
    "collapsed": true
   },
   "outputs": [],
   "source": [
    "import numpy as np\n",
    "import pandas as pd\n",
    "from sklearn.metrics.pairwise import euclidean_distances\n",
    "import matplotlib.pyplot as plt\n",
    "%matplotlib inline\n",
    "from collections import Counter"
   ]
  },
  {
   "cell_type": "code",
   "execution_count": 14,
   "metadata": {
    "collapsed": true
   },
   "outputs": [],
   "source": [
    "class DBSCAN:\n",
    "    \n",
    "    def __init__(self, X, eps, min_pts):\n",
    "        self.eps = eps\n",
    "        self.min_pts = min_pts\n",
    "        self.X = X\n",
    "        self.n_rows = X.shape[0]\n",
    "        \n",
    "        #  0 - unclassified\n",
    "        # -1 - Noise\n",
    "        # >0 - cluster id the point belngs to\n",
    "        self.lable = np.zeros(self.n_rows, dtype='int16')\n",
    "        \n",
    "        # preconpute distance matrix\n",
    "        self.distances = euclidean_distances(self.X)\n",
    "            \n",
    "    def rangeQuery(self, pid):\n",
    "        return np.where(self.distances[pid] <= self.eps)[0]\n",
    "    \n",
    "    def computeGini(self):\n",
    "        Mj = self.conf_mat.sum(axis=1, keepdims=True)\n",
    "        gj = 1 - ((self.conf_mat/Mj)**2).sum(axis=1, keepdims=True)\n",
    "        return (sum(gj*Mj)/sum(Mj))[0]\n",
    "    \n",
    "    def computePurity(self):\n",
    "        Pj = self.conf_mat.max(axis=1)\n",
    "        Mj = self.conf_mat.sum(axis=1)\n",
    "        return sum(Pj)/sum(Mj)\n",
    "        \n",
    "    def evaluateConfusion(self, y):\n",
    "        c = len(np.unique(self.lable))\n",
    "        d = len(np.unique(y))\n",
    "        self.conf_mat = np.zeros(shape=(c - 1, d))\n",
    "        \n",
    "        # for noise (also change dimention of conf_mat)\n",
    "        # self.conf_mat[0] = np.bincount(y[np.where(self.lable == -1)[0]].ravel(), minlength=d)\n",
    "        \n",
    "        # for clusters\n",
    "        for cluster_id in range(1, c):\n",
    "            true_labels = y[np.where(self.lable == cluster_id)[0]].ravel()\n",
    "            self.conf_mat[cluster_id - 1] = np.bincount(true_labels, minlength=d)\n",
    "    \n",
    "    def fit(self):\n",
    "        c_id = 0\n",
    "        \n",
    "        for n in range(self.n_rows):\n",
    "            if self.lable[n] != 0:\n",
    "                continue\n",
    "            \n",
    "            # get neighbours for point\n",
    "            neighbours = self.rangeQuery(n)\n",
    "            \n",
    "            # density check\n",
    "            if len(neighbours) < self.min_pts:\n",
    "                self.lable[neighbours] = -1\n",
    "                continue\n",
    "            \n",
    "            c_id += 1\n",
    "            self.lable[n] = c_id\n",
    "            \n",
    "            # grow cluster\n",
    "            idx = 0\n",
    "            while idx < len(neighbours):\n",
    "                _n = neighbours[idx]\n",
    "                idx += 1\n",
    "                \n",
    "                # check if already processed\n",
    "                if self.lable[_n] > 0:\n",
    "                    continue\n",
    "                    \n",
    "                # add point to cluster\n",
    "                self.lable[_n] = c_id\n",
    "                _neighbours = self.rangeQuery(_n)\n",
    "                \n",
    "                # if core point, add to original neighbours\n",
    "                if len(_neighbours) >= self.min_pts:\n",
    "                    neighbours = np.concatenate((neighbours, _neighbours))"
   ]
  },
  {
   "cell_type": "markdown",
   "metadata": {},
   "source": [
    "## FASHION"
   ]
  },
  {
   "cell_type": "code",
   "execution_count": 3,
   "metadata": {},
   "outputs": [],
   "source": [
    "fashion_df = pd.read_csv('../data/fashion/fashion-mnist_train.csv')\n",
    "y = fashion_df['label']\n",
    "del fashion_df['label']\n",
    "fashion_X = fashion_df.values\n",
    "del fashion_df"
   ]
  },
  {
   "cell_type": "markdown",
   "metadata": {},
   "source": [
    "Sample points and shuffle"
   ]
  },
  {
   "cell_type": "code",
   "execution_count": 4,
   "metadata": {},
   "outputs": [],
   "source": [
    "label_idx = {}\n",
    "sample_size = 600\n",
    "for idx in range(len(np.unique(y))):\n",
    "    label_idx[idx] = np.where(y == idx)[0]\n",
    "\n",
    "np.random.seed(42)\n",
    "for idx in range(len(label_idx)):\n",
    "    label_idx[idx] = np.random.choice(label_idx[idx], sample_size, replace=False)\n",
    "\n",
    "fashion_sub = np.empty((sample_size * len(label_idx), fashion_X.shape[1]))\n",
    "y_sub = np.empty((sample_size * len(label_idx), 1), dtype='int16')\n",
    "for idx in range(len(label_idx)):\n",
    "    start = idx * sample_size\n",
    "    end = (idx + 1) * sample_size\n",
    "    fashion_sub[start:end] = fashion_X[label_idx[idx]]\n",
    "    y_sub[start:end] = idx\n",
    "\n",
    "s = np.arange(sample_size * len(label_idx))\n",
    "np.random.shuffle(s)\n",
    "fashion_sub = fashion_sub[s]\n",
    "y_sub = y_sub[s]"
   ]
  },
  {
   "cell_type": "markdown",
   "metadata": {},
   "source": [
    "DBSCAN on fashion"
   ]
  },
  {
   "cell_type": "code",
   "execution_count": 18,
   "metadata": {},
   "outputs": [
    {
     "name": "stdout",
     "output_type": "stream",
     "text": [
      "Counter({-1: 5323, 2: 332, 1: 139, 3: 98, 7: 25, 5: 25, 8: 19, 4: 17, 6: 14, 9: 8})\n",
      "Gini Index: 0.145870468948873\n",
      "Purity: 0.8788774002954209\n"
     ]
    }
   ],
   "source": [
    "fashion_db = DBSCAN(X=fashion_sub, eps=800, min_pts=5)\n",
    "fashion_db.fit()\n",
    "fashion_db.evaluateConfusion(y_sub)\n",
    "print(Counter(fashion_db.lable))\n",
    "print('Gini Index: {0}'.format(fashion_db.computeGini()))\n",
    "print('Purity: {0}'.format(fashion_db.computePurity()))"
   ]
  },
  {
   "cell_type": "code",
   "execution_count": 20,
   "metadata": {},
   "outputs": [
    {
     "name": "stdout",
     "output_type": "stream",
     "text": [
      "Counter({-1: 5744, 1: 109, 4: 70, 3: 50, 2: 9, 5: 8, 6: 5, 7: 5})\n",
      "Gini Index: 0.10999999999999999\n",
      "Purity: 0.90625\n"
     ]
    }
   ],
   "source": [
    "fashion_db = DBSCAN(X=fashion_sub, eps=700, min_pts=5)\n",
    "fashion_db.fit()\n",
    "fashion_db.evaluateConfusion(y_sub)\n",
    "print(Counter(fashion_db.lable))\n",
    "print('Gini Index: {0}'.format(fashion_db.computeGini()))\n",
    "print('Purity: {0}'.format(fashion_db.computePurity()))"
   ]
  },
  {
   "cell_type": "code",
   "execution_count": null,
   "metadata": {},
   "outputs": [],
   "source": []
  }
 ],
 "metadata": {
  "kernelspec": {
   "display_name": "Python 3",
   "language": "python",
   "name": "python3"
  },
  "language_info": {
   "codemirror_mode": {
    "name": "ipython",
    "version": 3
   },
   "file_extension": ".py",
   "mimetype": "text/x-python",
   "name": "python",
   "nbconvert_exporter": "python",
   "pygments_lexer": "ipython3",
   "version": "3.6.4"
  }
 },
 "nbformat": 4,
 "nbformat_minor": 2
}
