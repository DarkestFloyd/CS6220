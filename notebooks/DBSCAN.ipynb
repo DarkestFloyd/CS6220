{
 "cells": [
  {
   "cell_type": "code",
   "execution_count": 1,
   "metadata": {
    "collapsed": true
   },
   "outputs": [],
   "source": [
    "import numpy as np\n",
    "import pandas as pd\n",
    "from sklearn.metrics.pairwise import euclidean_distances\n",
    "import matplotlib.pyplot as plt\n",
    "%matplotlib inline"
   ]
  },
  {
   "cell_type": "markdown",
   "metadata": {},
   "source": [
    "# DBSCAN implementation"
   ]
  },
  {
   "cell_type": "code",
   "execution_count": 2,
   "metadata": {
    "collapsed": true
   },
   "outputs": [],
   "source": [
    "class DBSCAN:\n",
    "    \n",
    "    def __init__(self, eps, min_pts):\n",
    "        self.eps = eps\n",
    "        self.min_pts = min_pts\n",
    "            \n",
    "    def rangeQuery(self, pid, distance):\n",
    "        return np.where(distance[pid] <= self.eps)[0]\n",
    "            \n",
    "    def fit(self, X):\n",
    "        \n",
    "        n_rows, dims = X.shape\n",
    "        c_id = 0\n",
    "        \n",
    "        #  0 - unclassified\n",
    "        # -1 - Noise\n",
    "        # >0 - cluster id the point belngs to\n",
    "        lable = np.zeros(n_rows)\n",
    "        \n",
    "        # preconpute distance matrix\n",
    "        distances = euclidean_distances(X)\n",
    "        \n",
    "        for n in range(n_rows):\n",
    "            if lable[n] != 0:\n",
    "                continue\n",
    "            \n",
    "            # get neighbours for point\n",
    "            neighbours = self.rangeQuery(n, distance=distances)\n",
    "            \n",
    "            # density check\n",
    "            if len(neighbours) < self.min_pts:\n",
    "                lable[neighbours] = -1\n",
    "                continue\n",
    "            \n",
    "            c_id += 1\n",
    "            lable[n] = c_id\n",
    "            \n",
    "            # grow cluster\n",
    "            idx = 0\n",
    "            while idx < len(neighbours):\n",
    "                _n = neighbours[idx]\n",
    "                idx += 1\n",
    "                \n",
    "                # check if already processed\n",
    "                if lable[_n] > 0:\n",
    "                    continue\n",
    "                    \n",
    "                # add point to cluster\n",
    "                lable[_n] = c_id\n",
    "                _neighbours = self.rangeQuery(_n, distance=distances)\n",
    "                \n",
    "                # if core point, add to original neighbours\n",
    "                if len(_neighbours) >= self.min_pts:\n",
    "                    neighbours = np.concatenate((neighbours, _neighbours))\n",
    "\n",
    "        return lable"
   ]
  },
  {
   "cell_type": "markdown",
   "metadata": {},
   "source": [
    "### P5"
   ]
  },
  {
   "cell_type": "code",
   "execution_count": 7,
   "metadata": {
    "collapsed": true
   },
   "outputs": [],
   "source": [
    "df = pd.read_csv('../data/dbscan/dbscan.csv', index_col=1)"
   ]
  },
  {
   "cell_type": "code",
   "execution_count": 8,
   "metadata": {},
   "outputs": [],
   "source": [
    "p5_X = df.iloc[:, 1:3].values"
   ]
  },
  {
   "cell_type": "code",
   "execution_count": 10,
   "metadata": {},
   "outputs": [],
   "source": [
    "db = DBSCAN(7.5, 3)\n",
    "p5_labels = db.fit(X=p5_X)"
   ]
  },
  {
   "cell_type": "code",
   "execution_count": 12,
   "metadata": {},
   "outputs": [
    {
     "data": {
      "text/plain": [
       "<matplotlib.collections.PathCollection at 0x7f04bac84c18>"
      ]
     },
     "execution_count": 12,
     "metadata": {},
     "output_type": "execute_result"
    },
    {
     "data": {
      "image/png": "[encoded data removed]",
      "text/plain": [
       "<matplotlib.figure.Figure at 0x7f04bb56d908>"
      ]
     },
     "metadata": {},
     "output_type": "display_data"
    }
   ],
   "source": [
    "plt.scatter(p5_X[:, 0], p5_X[:, 1], c=p5_labels, s=10)"
   ]
  },
  {
   "cell_type": "markdown",
   "metadata": {},
   "source": [
    "### P6"
   ]
  },
  {
   "cell_type": "code",
   "execution_count": null,
   "metadata": {},
   "outputs": [],
   "source": []
  }
 ],
 "metadata": {
  "kernelspec": {
   "display_name": "Python 3",
   "language": "python",
   "name": "python3"
  },
  "language_info": {
   "codemirror_mode": {
    "name": "ipython",
    "version": 3
   },
   "file_extension": ".py",
   "mimetype": "text/x-python",
   "name": "python",
   "nbconvert_exporter": "python",
   "pygments_lexer": "ipython3",
   "version": "3.6.4"
  }
 },
 "nbformat": 4,
 "nbformat_minor": 2
}
