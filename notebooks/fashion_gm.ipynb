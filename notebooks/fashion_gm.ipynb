{
 "cells": [
  {
   "cell_type": "code",
   "execution_count": 1,
   "metadata": {
    "collapsed": true
   },
   "outputs": [],
   "source": [
    "import pandas as pd\n",
    "import numpy as np\n",
    "from sklearn.mixture import GaussianMixture"
   ]
  },
  {
   "cell_type": "code",
   "execution_count": 2,
   "metadata": {
    "collapsed": true
   },
   "outputs": [],
   "source": [
    "df = pd.read_csv('../data/fashion/fashion-mnist_train.csv')"
   ]
  },
  {
   "cell_type": "code",
   "execution_count": 3,
   "metadata": {},
   "outputs": [
    {
     "data": {
      "text/html": [
       "<div>\n",
       "<style scoped>\n",
       "    .dataframe tbody tr th:only-of-type {\n",
       "        vertical-align: middle;\n",
       "    }\n",
       "\n",
       "    .dataframe tbody tr th {\n",
       "        vertical-align: top;\n",
       "    }\n",
       "\n",
       "    .dataframe thead th {\n",
       "        text-align: right;\n",
       "    }\n",
       "</style>\n",
       "<table border=\"1\" class=\"dataframe\">\n",
       "  <thead>\n",
       "    <tr style=\"text-align: right;\">\n",
       "      <th></th>\n",
       "      <th>label</th>\n",
       "      <th>pixel1</th>\n",
       "      <th>pixel2</th>\n",
       "      <th>pixel3</th>\n",
       "      <th>pixel4</th>\n",
       "      <th>pixel5</th>\n",
       "      <th>pixel6</th>\n",
       "      <th>pixel7</th>\n",
       "      <th>pixel8</th>\n",
       "      <th>pixel9</th>\n",
       "      <th>...</th>\n",
       "      <th>pixel775</th>\n",
       "      <th>pixel776</th>\n",
       "      <th>pixel777</th>\n",
       "      <th>pixel778</th>\n",
       "      <th>pixel779</th>\n",
       "      <th>pixel780</th>\n",
       "      <th>pixel781</th>\n",
       "      <th>pixel782</th>\n",
       "      <th>pixel783</th>\n",
       "      <th>pixel784</th>\n",
       "    </tr>\n",
       "  </thead>\n",
       "  <tbody>\n",
       "    <tr>\n",
       "      <th>0</th>\n",
       "      <td>2</td>\n",
       "      <td>0</td>\n",
       "      <td>0</td>\n",
       "      <td>0</td>\n",
       "      <td>0</td>\n",
       "      <td>0</td>\n",
       "      <td>0</td>\n",
       "      <td>0</td>\n",
       "      <td>0</td>\n",
       "      <td>0</td>\n",
       "      <td>...</td>\n",
       "      <td>0</td>\n",
       "      <td>0</td>\n",
       "      <td>0</td>\n",
       "      <td>0</td>\n",
       "      <td>0</td>\n",
       "      <td>0</td>\n",
       "      <td>0</td>\n",
       "      <td>0</td>\n",
       "      <td>0</td>\n",
       "      <td>0</td>\n",
       "    </tr>\n",
       "    <tr>\n",
       "      <th>1</th>\n",
       "      <td>9</td>\n",
       "      <td>0</td>\n",
       "      <td>0</td>\n",
       "      <td>0</td>\n",
       "      <td>0</td>\n",
       "      <td>0</td>\n",
       "      <td>0</td>\n",
       "      <td>0</td>\n",
       "      <td>0</td>\n",
       "      <td>0</td>\n",
       "      <td>...</td>\n",
       "      <td>0</td>\n",
       "      <td>0</td>\n",
       "      <td>0</td>\n",
       "      <td>0</td>\n",
       "      <td>0</td>\n",
       "      <td>0</td>\n",
       "      <td>0</td>\n",
       "      <td>0</td>\n",
       "      <td>0</td>\n",
       "      <td>0</td>\n",
       "    </tr>\n",
       "    <tr>\n",
       "      <th>2</th>\n",
       "      <td>6</td>\n",
       "      <td>0</td>\n",
       "      <td>0</td>\n",
       "      <td>0</td>\n",
       "      <td>0</td>\n",
       "      <td>0</td>\n",
       "      <td>0</td>\n",
       "      <td>0</td>\n",
       "      <td>5</td>\n",
       "      <td>0</td>\n",
       "      <td>...</td>\n",
       "      <td>0</td>\n",
       "      <td>0</td>\n",
       "      <td>0</td>\n",
       "      <td>30</td>\n",
       "      <td>43</td>\n",
       "      <td>0</td>\n",
       "      <td>0</td>\n",
       "      <td>0</td>\n",
       "      <td>0</td>\n",
       "      <td>0</td>\n",
       "    </tr>\n",
       "    <tr>\n",
       "      <th>3</th>\n",
       "      <td>0</td>\n",
       "      <td>0</td>\n",
       "      <td>0</td>\n",
       "      <td>0</td>\n",
       "      <td>1</td>\n",
       "      <td>2</td>\n",
       "      <td>0</td>\n",
       "      <td>0</td>\n",
       "      <td>0</td>\n",
       "      <td>0</td>\n",
       "      <td>...</td>\n",
       "      <td>3</td>\n",
       "      <td>0</td>\n",
       "      <td>0</td>\n",
       "      <td>0</td>\n",
       "      <td>0</td>\n",
       "      <td>1</td>\n",
       "      <td>0</td>\n",
       "      <td>0</td>\n",
       "      <td>0</td>\n",
       "      <td>0</td>\n",
       "    </tr>\n",
       "    <tr>\n",
       "      <th>4</th>\n",
       "      <td>3</td>\n",
       "      <td>0</td>\n",
       "      <td>0</td>\n",
       "      <td>0</td>\n",
       "      <td>0</td>\n",
       "      <td>0</td>\n",
       "      <td>0</td>\n",
       "      <td>0</td>\n",
       "      <td>0</td>\n",
       "      <td>0</td>\n",
       "      <td>...</td>\n",
       "      <td>0</td>\n",
       "      <td>0</td>\n",
       "      <td>0</td>\n",
       "      <td>0</td>\n",
       "      <td>0</td>\n",
       "      <td>0</td>\n",
       "      <td>0</td>\n",
       "      <td>0</td>\n",
       "      <td>0</td>\n",
       "      <td>0</td>\n",
       "    </tr>\n",
       "  </tbody>\n",
       "</table>\n",
       "<p>5 rows × 785 columns</p>\n",
       "</div>"
      ],
      "text/plain": [
       "   label  pixel1  pixel2  pixel3  pixel4  pixel5  pixel6  pixel7  pixel8  \\\n",
       "0      2       0       0       0       0       0       0       0       0   \n",
       "1      9       0       0       0       0       0       0       0       0   \n",
       "2      6       0       0       0       0       0       0       0       5   \n",
       "3      0       0       0       0       1       2       0       0       0   \n",
       "4      3       0       0       0       0       0       0       0       0   \n",
       "\n",
       "   pixel9    ...     pixel775  pixel776  pixel777  pixel778  pixel779  \\\n",
       "0       0    ...            0         0         0         0         0   \n",
       "1       0    ...            0         0         0         0         0   \n",
       "2       0    ...            0         0         0        30        43   \n",
       "3       0    ...            3         0         0         0         0   \n",
       "4       0    ...            0         0         0         0         0   \n",
       "\n",
       "   pixel780  pixel781  pixel782  pixel783  pixel784  \n",
       "0         0         0         0         0         0  \n",
       "1         0         0         0         0         0  \n",
       "2         0         0         0         0         0  \n",
       "3         1         0         0         0         0  \n",
       "4         0         0         0         0         0  \n",
       "\n",
       "[5 rows x 785 columns]"
      ]
     },
     "execution_count": 3,
     "metadata": {},
     "output_type": "execute_result"
    }
   ],
   "source": [
    "df.head()"
   ]
  },
  {
   "cell_type": "code",
   "execution_count": 4,
   "metadata": {
    "collapsed": true
   },
   "outputs": [],
   "source": [
    "y = df['label']\n",
    "del df['label']"
   ]
  },
  {
   "cell_type": "code",
   "execution_count": 18,
   "metadata": {},
   "outputs": [],
   "source": [
    "def get_confusion_matrix(n_components, y, yhat):\n",
    "    conf_mat = np.empty(shape=(n_components, n_components), dtype='int64')\n",
    "    for cluster_id in range(n_components):\n",
    "        true_labels = y[np.where(cluster_id == yhat)]\n",
    "        conf_mat[cluster_id] = np.bincount(true_labels, minlength=n_components)\n",
    "    return conf_mat"
   ]
  },
  {
   "cell_type": "code",
   "execution_count": 20,
   "metadata": {},
   "outputs": [],
   "source": [
    "def purity(confusion_matrix):\n",
    "    Pj = confusion_matrix.max(axis=1)\n",
    "    Mj = confusion_matrix.sum(axis=1)\n",
    "    return sum(Pj)/sum(Mj)"
   ]
  },
  {
   "cell_type": "code",
   "execution_count": 21,
   "metadata": {},
   "outputs": [],
   "source": [
    "def gini(confusion_matrix):\n",
    "    Mj = confusion_matrix.sum(axis=1, keepdims=True)\n",
    "    gj = 1 - ((confusion_matrix/Mj)**2).sum(axis=1, keepdims=True)\n",
    "    return (sum(gj*Mj)/sum(Mj))[0]"
   ]
  },
  {
   "cell_type": "code",
   "execution_count": 5,
   "metadata": {},
   "outputs": [
    {
     "name": "stdout",
     "output_type": "stream",
     "text": [
      "CPU times: user 1min 11s, sys: 15.6 s, total: 1min 27s\n",
      "Wall time: 45.3 s\n"
     ]
    }
   ],
   "source": [
    "%%time\n",
    "gmm = GaussianMixture(n_components=10, covariance_type='diag').fit(df)"
   ]
  },
  {
   "cell_type": "code",
   "execution_count": 10,
   "metadata": {},
   "outputs": [],
   "source": [
    "yhat = gmm.predict(df)"
   ]
  },
  {
   "cell_type": "code",
   "execution_count": 22,
   "metadata": {},
   "outputs": [
    {
     "data": {
      "text/plain": [
       "array([[   0,    0,    0,    0,    6,    0,    3,    0, 1235,    0],\n",
       "       [ 121,    5,   60,    8,   33,    0,  206,    0,  411,   15],\n",
       "       [ 670, 5815,  103, 4846,  802,    5,  448,    0,  304,    1],\n",
       "       [ 673,   47,  826,   81,  375,   21,  900,    0,  289,   18],\n",
       "       [ 135,    3,   66,   13,   11,  185,  180,    1,  143,   38],\n",
       "       [   0,    0,    0,    0,    0,  903,    0,   24,    2, 1975],\n",
       "       [4002,    7,   10,  297,   14,    0,  908,    0,    2,    1],\n",
       "       [   0,    0,    0,    0,    0, 3929,    0, 5782,   12, 2034],\n",
       "       [  41,    1,   29,    7,   11,  938,   66,  193, 2642, 1897],\n",
       "       [ 358,  122, 4906,  748, 4748,   19, 3289,    0,  960,   21]])"
      ]
     },
     "execution_count": 22,
     "metadata": {},
     "output_type": "execute_result"
    }
   ],
   "source": [
    "model1_conf_mat = get_confusion_matrix(10, y.values, yhat)\n",
    "model1_conf_mat"
   ]
  },
  {
   "cell_type": "code",
   "execution_count": 23,
   "metadata": {},
   "outputs": [
    {
     "data": {
      "text/plain": [
       "0.46421666666666667"
      ]
     },
     "execution_count": 23,
     "metadata": {},
     "output_type": "execute_result"
    }
   ],
   "source": [
    "purity(model1_conf_mat)"
   ]
  },
  {
   "cell_type": "code",
   "execution_count": 24,
   "metadata": {},
   "outputs": [
    {
     "data": {
      "text/plain": [
       "0.6323260716569258"
      ]
     },
     "execution_count": 24,
     "metadata": {},
     "output_type": "execute_result"
    }
   ],
   "source": [
    "gini(model1_conf_mat)"
   ]
  },
  {
   "cell_type": "markdown",
   "metadata": {},
   "source": [
    "Full covar matrix"
   ]
  },
  {
   "cell_type": "code",
   "execution_count": 7,
   "metadata": {
    "scrolled": true
   },
   "outputs": [
    {
     "name": "stdout",
     "output_type": "stream",
     "text": [
      "CPU times: user 24min 17s, sys: 2min 28s, total: 26min 45s\n",
      "Wall time: 15min 6s\n"
     ]
    }
   ],
   "source": [
    "%%time\n",
    "gmm2 = GaussianMixture(n_components=10, covariance_type='full').fit(df)"
   ]
  },
  {
   "cell_type": "code",
   "execution_count": 25,
   "metadata": {
    "collapsed": true
   },
   "outputs": [],
   "source": [
    "yhat2 = gmm2.predict(df)"
   ]
  },
  {
   "cell_type": "code",
   "execution_count": 29,
   "metadata": {},
   "outputs": [
    {
     "data": {
      "text/plain": [
       "array([[ 635, 5795,   50, 4627,  540,    5,  383,    0,  242,    1],\n",
       "       [   0,    0,    0,    0,    0, 1738,    0,  270,    5, 4414],\n",
       "       [ 300,   20,  737,   33,  335,    0,  775,    0,  311,    4],\n",
       "       [ 275,   34,  300,   74,  146,   16,  416,    0,   58,   10],\n",
       "       [  36,    2,   21,    8,    4,  343,   57,    2,   65,   28],\n",
       "       [  33,    3,   22,    5,   12,   22,   58,   14, 1829,   24],\n",
       "       [2496,   21,    8,  101,    9,    1,  539,    0,    5,    0],\n",
       "       [2209,  125, 4851, 1151, 4942,    2, 3742,    0,  976,    4],\n",
       "       [   3,    0,    0,    0,    1, 3869,    7, 5714,  829, 1514],\n",
       "       [  13,    0,   11,    1,   11,    4,   23,    0, 1680,    1]])"
      ]
     },
     "execution_count": 29,
     "metadata": {},
     "output_type": "execute_result"
    }
   ],
   "source": [
    "model2_conf_mat = get_confusion_matrix(10, y.values, yhat2)\n",
    "model2_conf_mat"
   ]
  },
  {
   "cell_type": "code",
   "execution_count": 30,
   "metadata": {},
   "outputs": [
    {
     "data": {
      "text/plain": [
       "0.4734"
      ]
     },
     "execution_count": 30,
     "metadata": {},
     "output_type": "execute_result"
    }
   ],
   "source": [
    "purity(model2_conf_mat)"
   ]
  },
  {
   "cell_type": "code",
   "execution_count": 31,
   "metadata": {},
   "outputs": [
    {
     "data": {
      "text/plain": [
       "0.6241150499261668"
      ]
     },
     "execution_count": 31,
     "metadata": {},
     "output_type": "execute_result"
    }
   ],
   "source": [
    "gini(model2_conf_mat)"
   ]
  },
  {
   "cell_type": "code",
   "execution_count": 32,
   "metadata": {},
   "outputs": [
    {
     "data": {
      "text/plain": [
       "array([[[ 1.00000000e-06,  0.00000000e+00,  0.00000000e+00, ...,\n",
       "          0.00000000e+00,  0.00000000e+00,  0.00000000e+00],\n",
       "        [ 0.00000000e+00,  1.00000000e-06,  0.00000000e+00, ...,\n",
       "          0.00000000e+00,  0.00000000e+00,  0.00000000e+00],\n",
       "        [ 0.00000000e+00,  0.00000000e+00,  1.00000000e-06, ...,\n",
       "          0.00000000e+00,  0.00000000e+00,  0.00000000e+00],\n",
       "        ...,\n",
       "        [ 0.00000000e+00,  0.00000000e+00,  0.00000000e+00, ...,\n",
       "          1.00000000e-06,  0.00000000e+00,  0.00000000e+00],\n",
       "        [ 0.00000000e+00,  0.00000000e+00,  0.00000000e+00, ...,\n",
       "          0.00000000e+00,  1.00000000e-06,  0.00000000e+00],\n",
       "        [ 0.00000000e+00,  0.00000000e+00,  0.00000000e+00, ...,\n",
       "          0.00000000e+00,  0.00000000e+00,  1.00000000e-06]],\n",
       "\n",
       "       [[ 1.00000000e-06,  0.00000000e+00,  0.00000000e+00, ...,\n",
       "          0.00000000e+00,  0.00000000e+00,  0.00000000e+00],\n",
       "        [ 0.00000000e+00,  1.31551736e-01,  1.31550736e-01, ...,\n",
       "          8.92948633e-02,  1.04557512e-01, -1.98967088e-03],\n",
       "        [ 0.00000000e+00,  1.31550736e-01,  1.31551736e-01, ...,\n",
       "          8.92948633e-02,  1.04557512e-01, -1.98967088e-03],\n",
       "        ...,\n",
       "        [ 0.00000000e+00,  8.92948633e-02,  8.92948633e-02, ...,\n",
       "          7.93116343e+02,  4.03142392e+02,  2.81369830e+01],\n",
       "        [ 0.00000000e+00,  1.04557512e-01,  1.04557512e-01, ...,\n",
       "          4.03142392e+02,  3.55293722e+02,  2.98143351e+01],\n",
       "        [ 0.00000000e+00, -1.98967088e-03, -1.98967088e-03, ...,\n",
       "          2.81369830e+01,  2.98143351e+01,  1.01018503e+01]],\n",
       "\n",
       "       [[ 6.74131125e-03,  6.31756020e-04,  1.36659158e-03, ...,\n",
       "         -3.77928089e-02,  5.49546198e-03,  4.37818320e-03],\n",
       "        [ 6.31756020e-04,  1.23454906e-01,  6.56452339e-02, ...,\n",
       "         -3.42620559e-01,  9.86510635e-02,  4.84744690e-02],\n",
       "        [ 1.36659158e-03,  6.56452339e-02,  2.82523297e+00, ...,\n",
       "          7.98234589e-02, -1.42629275e-01, -7.17684598e-02],\n",
       "        ...,\n",
       "        [-3.77928089e-02, -3.42620559e-01,  7.98234589e-02, ...,\n",
       "          2.16297443e+03,  5.51451356e+02,  2.78948163e+01],\n",
       "        [ 5.49546198e-03,  9.86510635e-02, -1.42629275e-01, ...,\n",
       "          5.51451356e+02,  3.62010055e+02,  3.28257914e+01],\n",
       "        [ 4.37818320e-03,  4.84744690e-02, -7.17684598e-02, ...,\n",
       "          2.78948163e+01,  3.28257914e+01,  1.94271461e+01]],\n",
       "\n",
       "       ...,\n",
       "\n",
       "       [[ 1.00000000e-06,  0.00000000e+00,  0.00000000e+00, ...,\n",
       "          0.00000000e+00,  0.00000000e+00,  0.00000000e+00],\n",
       "        [ 0.00000000e+00,  1.00000000e-06,  0.00000000e+00, ...,\n",
       "          0.00000000e+00,  0.00000000e+00,  0.00000000e+00],\n",
       "        [ 0.00000000e+00,  0.00000000e+00,  1.00000000e-06, ...,\n",
       "          0.00000000e+00,  0.00000000e+00,  0.00000000e+00],\n",
       "        ...,\n",
       "        [ 0.00000000e+00,  0.00000000e+00,  0.00000000e+00, ...,\n",
       "          5.03928453e+01,  0.00000000e+00,  0.00000000e+00],\n",
       "        [ 0.00000000e+00,  0.00000000e+00,  0.00000000e+00, ...,\n",
       "          0.00000000e+00,  1.00000000e-06,  0.00000000e+00],\n",
       "        [ 0.00000000e+00,  0.00000000e+00,  0.00000000e+00, ...,\n",
       "          0.00000000e+00,  0.00000000e+00,  1.00000000e-06]],\n",
       "\n",
       "       [[ 1.00000000e-06,  0.00000000e+00,  0.00000000e+00, ...,\n",
       "          0.00000000e+00,  0.00000000e+00,  0.00000000e+00],\n",
       "        [ 0.00000000e+00,  1.00000000e-06,  0.00000000e+00, ...,\n",
       "          0.00000000e+00,  0.00000000e+00,  0.00000000e+00],\n",
       "        [ 0.00000000e+00,  0.00000000e+00,  1.00000000e-06, ...,\n",
       "          0.00000000e+00,  0.00000000e+00,  0.00000000e+00],\n",
       "        ...,\n",
       "        [ 0.00000000e+00,  0.00000000e+00,  0.00000000e+00, ...,\n",
       "          1.00000000e-06,  0.00000000e+00,  0.00000000e+00],\n",
       "        [ 0.00000000e+00,  0.00000000e+00,  0.00000000e+00, ...,\n",
       "          0.00000000e+00,  1.00000000e-06,  0.00000000e+00],\n",
       "        [ 0.00000000e+00,  0.00000000e+00,  0.00000000e+00, ...,\n",
       "          0.00000000e+00,  0.00000000e+00,  1.00000000e-06]],\n",
       "\n",
       "       [[ 9.17005143e-03,  6.77946932e-03,  1.09471004e-02, ...,\n",
       "          2.49572584e-01,  5.71156153e-01,  6.24802731e-02],\n",
       "        [ 6.77946932e-03,  1.41261588e+00,  5.47793352e+00, ...,\n",
       "         -3.04672705e-01,  1.91430251e-01,  1.46718632e-02],\n",
       "        [ 1.09471004e-02,  5.47793352e+00,  3.48108282e+01, ...,\n",
       "         -2.64380497e+00, -6.25839050e-01, -9.19758964e-02],\n",
       "        ...,\n",
       "        [ 2.49572584e-01, -3.04672705e-01, -2.64380497e+00, ...,\n",
       "          1.60988901e+03,  7.63548639e+02,  1.02832830e+02],\n",
       "        [ 5.71156153e-01,  1.91430251e-01, -6.25839050e-01, ...,\n",
       "          7.63548639e+02,  6.71404238e+02,  1.17204622e+02],\n",
       "        [ 6.24802731e-02,  1.46718632e-02, -9.19758964e-02, ...,\n",
       "          1.02832830e+02,  1.17204622e+02,  7.88643192e+01]]])"
      ]
     },
     "execution_count": 32,
     "metadata": {},
     "output_type": "execute_result"
    }
   ],
   "source": [
    "gmm2.covariances_"
   ]
  },
  {
   "cell_type": "code",
   "execution_count": null,
   "metadata": {},
   "outputs": [],
   "source": []
  }
 ],
 "metadata": {
  "kernelspec": {
   "display_name": "Python 3",
   "language": "python",
   "name": "python3"
  },
  "language_info": {
   "codemirror_mode": {
    "name": "ipython",
    "version": 3
   },
   "file_extension": ".py",
   "mimetype": "text/x-python",
   "name": "python",
   "nbconvert_exporter": "python",
   "pygments_lexer": "ipython3",
   "version": "3.6.4"
  }
 },
 "nbformat": 4,
 "nbformat_minor": 2
}
