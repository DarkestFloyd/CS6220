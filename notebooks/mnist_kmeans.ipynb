{
 "cells": [
  {
   "cell_type": "code",
   "execution_count": 25,
   "metadata": {
    "collapsed": true
   },
   "outputs": [],
   "source": [
    "import numpy as np\n",
    "from mnist import MNIST\n",
    "from sklearn.metrics.pairwise import euclidean_distances\n",
    "import matplotlib.pyplot as plt"
   ]
  },
  {
   "cell_type": "code",
   "execution_count": 2,
   "metadata": {
    "collapsed": true
   },
   "outputs": [],
   "source": [
    "mnist_loader = MNIST(\"../data/mnist/\")\n",
    "mnist_loader.gz = True"
   ]
  },
  {
   "cell_type": "code",
   "execution_count": 3,
   "metadata": {
    "collapsed": true
   },
   "outputs": [],
   "source": [
    "images, labels = mnist_loader.load_training()\n",
    "# uncomment if test data needed\n",
    "timages, tlabels = mnist_loader.load_testing()"
   ]
  },
  {
   "cell_type": "code",
   "execution_count": 4,
   "metadata": {
    "collapsed": true
   },
   "outputs": [],
   "source": [
    "images = np.array(images)\n",
    "labels = np.array(labels)\n",
    "timages = np.array(timages)\n",
    "tlabels = np.array(tlabels)"
   ]
  },
  {
   "cell_type": "code",
   "execution_count": 5,
   "metadata": {},
   "outputs": [],
   "source": [
    "images = np.concatenate((images, timages))\n",
    "labels = np.concatenate((labels, tlabels))"
   ]
  },
  {
   "cell_type": "code",
   "execution_count": 6,
   "metadata": {},
   "outputs": [
    {
     "data": {
      "text/plain": [
       "(70000, 784)"
      ]
     },
     "execution_count": 6,
     "metadata": {},
     "output_type": "execute_result"
    }
   ],
   "source": [
    "images.shape#, timages.shape"
   ]
  },
  {
   "cell_type": "code",
   "execution_count": 7,
   "metadata": {
    "collapsed": true
   },
   "outputs": [],
   "source": [
    "n_rows = images.shape[0]\n",
    "dims = images.shape[1]\n",
    "#t_n_rows = timages.shape[0]"
   ]
  },
  {
   "cell_type": "code",
   "execution_count": 8,
   "metadata": {},
   "outputs": [
    {
     "data": {
      "text/plain": [
       "(70000, 784)"
      ]
     },
     "execution_count": 8,
     "metadata": {},
     "output_type": "execute_result"
    }
   ],
   "source": [
    "n_rows, dims"
   ]
  },
  {
   "cell_type": "code",
   "execution_count": 9,
   "metadata": {
    "collapsed": true
   },
   "outputs": [],
   "source": [
    "del timages, tlabels"
   ]
  },
  {
   "cell_type": "markdown",
   "metadata": {},
   "source": [
    "# kmeans\n",
    "## init"
   ]
  },
  {
   "cell_type": "markdown",
   "metadata": {},
   "source": [
    "Randomly pick 10 images as starting points."
   ]
  },
  {
   "cell_type": "code",
   "execution_count": 10,
   "metadata": {
    "collapsed": true
   },
   "outputs": [],
   "source": [
    "def init(k, seed):\n",
    "    if seed != None:\n",
    "        np.random.seed(seed)\n",
    "    mu = np.empty((k, images.shape[1]))\n",
    "    for rand in range(k):\n",
    "        img_id = np.random.choice(n_rows)\n",
    "        mu[rand] = images[img_id]\n",
    "    return mu"
   ]
  },
  {
   "cell_type": "markdown",
   "metadata": {},
   "source": [
    "`init_dist` takes into account the distances of different points when picking stating mu's."
   ]
  },
  {
   "cell_type": "code",
   "execution_count": 11,
   "metadata": {},
   "outputs": [],
   "source": [
    "def init_dist(k, seed):\n",
    "    if seed != None:\n",
    "        np.random.seed(seed)\n",
    "    mu = np.empty((k, images.shape[1]))\n",
    "    memmap = '../data/mnist/dist.memmap'\n",
    "    fp = np.memmap(memmap, dtype='float32', shape=(n_rows, n_rows - 10000), mode='r')\n",
    "    \n",
    "    ids = []\n",
    "    img_id = np.random.choice(n_rows)\n",
    "    ids.append(img_id)\n",
    "    mu[0] = images[img_id]\n",
    "    for rand in range(1, k):\n",
    "        distances = fp[img_id].copy()\n",
    "        img_id = np.argmax(distances)\n",
    "        while img_id in ids:\n",
    "            distances[img_id] = -1\n",
    "            img_id = np.argmax(distances)\n",
    "        mu[rand] = images[img_id]\n",
    "        ids.append(img_id)        \n",
    "    del fp\n",
    "    \n",
    "    return mu"
   ]
  },
  {
   "cell_type": "markdown",
   "metadata": {},
   "source": [
    "## E step\n",
    "Assign memberships from current mu's. <br>\n",
    "Also evaluate loss"
   ]
  },
  {
   "cell_type": "code",
   "execution_count": 23,
   "metadata": {},
   "outputs": [],
   "source": [
    "def e_step(mu):\n",
    "    distances = np.matrix(euclidean_distances(X=images, Y=mu))\n",
    "    loss = np.sum(distances.min(axis=1))\n",
    "    return np.array(distances.argmin(1).T).ravel(), loss"
   ]
  },
  {
   "cell_type": "markdown",
   "metadata": {},
   "source": [
    "## M step\n",
    "Calculate new mu's from current memberships"
   ]
  },
  {
   "cell_type": "code",
   "execution_count": 13,
   "metadata": {
    "collapsed": true
   },
   "outputs": [],
   "source": [
    "def m_step(pi, k):\n",
    "    mu = np.empty((k, images.shape[1]))\n",
    "    for cluster_id in range(k):\n",
    "        cluster_images = images[np.where(pi == cluster_id)[0]]\n",
    "        mu[cluster_id] = np.mean(cluster_images, axis=0)\n",
    "    return mu"
   ]
  },
  {
   "cell_type": "markdown",
   "metadata": {},
   "source": [
    "## external metrics"
   ]
  },
  {
   "cell_type": "markdown",
   "metadata": {},
   "source": [
    "Helper function to get confusion matrix and cluster mappings for `k` and `pi`'s"
   ]
  },
  {
   "cell_type": "code",
   "execution_count": 14,
   "metadata": {},
   "outputs": [],
   "source": [
    "def get_confusion_matrix(k, pi):\n",
    "    conf_mat = [[0 for x in range(k)] for y in range(k)]\n",
    "    for cluster_id in range(k):\n",
    "        true_labels = labels[np.where(cluster_id == pi)]\n",
    "        conf_mat[cluster_id] = np.bincount(true_labels)\n",
    "    return np.array(conf_mat)"
   ]
  },
  {
   "cell_type": "markdown",
   "metadata": {
    "collapsed": true
   },
   "source": [
    "### Purity"
   ]
  },
  {
   "cell_type": "code",
   "execution_count": 15,
   "metadata": {
    "collapsed": true
   },
   "outputs": [],
   "source": [
    "def purity(confusion_matrix):\n",
    "    Pj = confusion_matrix.max(axis=1)\n",
    "    Mj = confusion_matrix.sum(axis=1)\n",
    "    return sum(Pj)/sum(Mj)"
   ]
  },
  {
   "cell_type": "markdown",
   "metadata": {},
   "source": [
    "### Gini"
   ]
  },
  {
   "cell_type": "code",
   "execution_count": 16,
   "metadata": {
    "collapsed": true
   },
   "outputs": [],
   "source": [
    "def gini(confusion_matrix):\n",
    "    Mj = confusion_matrix.sum(axis=1, keepdims=True)\n",
    "    gj = 1 - ((confusion_matrix/Mj)**2).sum(axis=1, keepdims=True)\n",
    "    return (sum(gj*Mj)/sum(Mj))[0]"
   ]
  },
  {
   "cell_type": "markdown",
   "metadata": {},
   "source": [
    "## k means helper"
   ]
  },
  {
   "cell_type": "code",
   "execution_count": 17,
   "metadata": {
    "collapsed": true
   },
   "outputs": [],
   "source": [
    "def kmeans(k, init_func, max_epochs, print_interval, seed):\n",
    "    _loss, _purity, _gini = [], [], []\n",
    "    _mu = init_func(k, seed)\n",
    "    for _epoch in range(max_epochs):\n",
    "        # e step\n",
    "        _pi, loss = e_step(_mu)\n",
    "        # m step\n",
    "        mu = m_step(_pi, k)\n",
    "        \n",
    "        # evaluation\n",
    "        conf_mat = get_confusion_matrix(k, _pi)\n",
    "        p = purity(conf_mat)\n",
    "        g = gini(conf_mat)\n",
    "        \n",
    "        # append to global\n",
    "        _purity.append(p)\n",
    "        _gini.append(g)\n",
    "        _loss.append(loss)\n",
    "        \n",
    "        # print info\n",
    "        if _epoch % print_interval == 0:\n",
    "            print('\\tEpoch:', _epoch, 'Loss:', loss, \n",
    "                  'Purity:', p, 'Gini Index:', g)\n",
    "                \n",
    "        # check for convergence\n",
    "        if np.allclose(_mu, mu):\n",
    "            print('\\tConvergence at epoch {0}, Loss at {1}'.format(_epoch, loss))\n",
    "            break\n",
    "        _mu = mu\n",
    "        if _epoch == (max_epochs - 1):\n",
    "            print('\\tNo convergence after {0} epochs, try higher value. Loss at {1}'.format(max_epochs, loss))\n",
    "            \n",
    "    return _loss, _purity, _gini"
   ]
  },
  {
   "cell_type": "markdown",
   "metadata": {},
   "source": [
    "## graph helpers"
   ]
  },
  {
   "cell_type": "code",
   "execution_count": 29,
   "metadata": {
    "collapsed": true
   },
   "outputs": [],
   "source": [
    "def graph_helper_loss(loss):\n",
    "    plt.plot(range(len(loss)), np.log(loss))\n",
    "    plt.xlabel('Epochs')\n",
    "    plt.ylabel('Loss (log_10)')\n",
    "    plt.title('Loss vs Epochs')\n",
    "    plt.legend()\n",
    "    plt.show()"
   ]
  },
  {
   "cell_type": "code",
   "execution_count": 30,
   "metadata": {},
   "outputs": [],
   "source": [
    "def graph_helper_metrics(purity, gini):\n",
    "    plt.plot(range(len(gini)), gini, 'r', label = 'Gini Index')\n",
    "    plt.plot(range(len(purity)), purity, 'g', label = 'Purity')\n",
    "    plt.xlabel('Epochs')\n",
    "    plt.ylabel('Gini Index/Purity')\n",
    "    plt.title('Gini Index/Purity vs Epochs')\n",
    "    plt.legend()\n",
    "    plt.show()"
   ]
  },
  {
   "cell_type": "markdown",
   "metadata": {},
   "source": [
    "## All together"
   ]
  },
  {
   "cell_type": "code",
   "execution_count": 33,
   "metadata": {
    "collapsed": true
   },
   "outputs": [],
   "source": [
    "def do_kmeans(ks):\n",
    "    seed = np.random.randint(n_rows)\n",
    "    \n",
    "    for k in ks:\n",
    "        print('For k = {0}:'.format(k))\n",
    "        t_loss, t_purity, t_gini = kmeans(k=k, init_func=init, \n",
    "                                          max_epochs=100, \n",
    "                                          print_interval=10, \n",
    "                                          seed=seed)\n",
    "        \n",
    "        print('\\n\\tFinal values: \\n\\t\\tLoss: {0}'.format(t_loss[-1]))\n",
    "        print('\\t\\tPurity: {0}'.format(t_purity[-1]))\n",
    "        print('\\t\\tGini Index: {0}\\n'.format(t_gini[-1]))\n",
    "        \n",
    "        graph_helper_loss(t_loss)\n",
    "        graph_helper_metrics(t_purity, t_gini)"
   ]
  },
  {
   "cell_type": "code",
   "execution_count": 34,
   "metadata": {
    "scrolled": false
   },
   "outputs": [
    {
     "name": "stdout",
     "output_type": "stream",
     "text": [
      "For k = 10:\n",
      "\tEpoch: 0 Loss: 151897665.132 Purity: 0.383142857143 Gini Index: 0.747103141263\n",
      "\tEpoch: 10 Loss: 110852203.658 Purity: 0.5519 Gini Index: 0.571775698753\n",
      "\tEpoch: 20 Loss: 110817590.793 Purity: 0.549657142857 Gini Index: 0.571682808517\n",
      "\tEpoch: 30 Loss: 110796583.79 Purity: 0.544542857143 Gini Index: 0.574873887132\n",
      "\tEpoch: 40 Loss: 110679447.645 Purity: 0.525414285714 Gini Index: 0.585139104342\n",
      "\tEpoch: 50 Loss: 110256067.94 Purity: 0.556028571429 Gini Index: 0.570911858449\n",
      "\tEpoch: 60 Loss: 110220357.195 Purity: 0.564785714286 Gini Index: 0.566542922327\n",
      "\tEpoch: 70 Loss: 110214301.968 Purity: 0.565814285714 Gini Index: 0.566292872936\n",
      "\tEpoch: 80 Loss: 110212714.495 Purity: 0.566271428571 Gini Index: 0.566161905097\n",
      "\tEpoch: 90 Loss: 110212511.333 Purity: 0.566742857143 Gini Index: 0.566298253344\n",
      "\tNo convergence after 100 epochs, try higher value. Loss at 110210053.49787845\n",
      "\n",
      "\tFinal values: \n",
      "\t\tLoss: 110210053.49787845\n",
      "\t\tPurity: 0.5669285714285714\n",
      "\t\tGini Index: 0.5663364378599246\n",
      "\n"
     ]
    },
    {
     "data": {
      "image/png": "[encoded data removed]",
      "text/plain": [
       "<matplotlib.figure.Figure at 0x7feabd771ef0>"
      ]
     },
     "metadata": {},
     "output_type": "display_data"
    },
    {
     "data": {
      "image/png": "[encoded data removed]",
      "text/plain": [
       "<matplotlib.figure.Figure at 0x7feabfe952e8>"
      ]
     },
     "metadata": {},
     "output_type": "display_data"
    },
    {
     "name": "stdout",
     "output_type": "stream",
     "text": [
      "For k = 5:\n",
      "\tEpoch: 0 Loss: 158202928.7 Purity: 0.268342857143 Gini Index: 0.822421120111\n",
      "\tEpoch: 10 Loss: 116302736.383 Purity: 0.450542857143 Gini Index: 0.672150609703\n",
      "\tEpoch: 20 Loss: 116182262.634 Purity: 0.452342857143 Gini Index: 0.658845274719\n",
      "\tConvergence at epoch 29, Loss at 116179614.39332554\n",
      "\n",
      "\tFinal values: \n",
      "\t\tLoss: 116179614.39332554\n",
      "\t\tPurity: 0.45248571428571427\n",
      "\t\tGini Index: 0.6583535127516839\n",
      "\n"
     ]
    },
    {
     "data": {
      "image/png": "[encoded data removed]",
      "text/plain": [
       "<matplotlib.figure.Figure at 0x7feabd9b14a8>"
      ]
     },
     "metadata": {},
     "output_type": "display_data"
    },
    {
     "data": {
      "image/png": "[encoded data removed]",
      "text/plain": [
       "<matplotlib.figure.Figure at 0x7feabd7ca4e0>"
      ]
     },
     "metadata": {},
     "output_type": "display_data"
    },
    {
     "name": "stdout",
     "output_type": "stream",
     "text": [
      "For k = 20:\n",
      "\tEpoch: 0 Loss: 138579221.888 Purity: 0.489314285714 Gini Index: 0.659936771791\n",
      "\tEpoch: 10 Loss: 104279419.841 Purity: 0.693571428571 Gini Index: 0.421962200306\n",
      "\tEpoch: 20 Loss: 104056820.305 Purity: 0.702085714286 Gini Index: 0.411013327243\n",
      "\tEpoch: 30 Loss: 104034533.599 Purity: 0.705128571429 Gini Index: 0.406578461963\n",
      "\tEpoch: 40 Loss: 104026204.645 Purity: 0.705714285714 Gini Index: 0.405182920804\n",
      "\tEpoch: 50 Loss: 104023866.358 Purity: 0.706242857143 Gini Index: 0.404634541243\n",
      "\tEpoch: 60 Loss: 104024399.517 Purity: 0.706142857143 Gini Index: 0.404829685799\n",
      "\tEpoch: 70 Loss: 104024312.036 Purity: 0.705957142857 Gini Index: 0.404875790322\n",
      "\tEpoch: 80 Loss: 104024587.206 Purity: 0.706057142857 Gini Index: 0.404831424484\n",
      "\tConvergence at epoch 81, Loss at 104024595.35927899\n",
      "\n",
      "\tFinal values: \n",
      "\t\tLoss: 104024595.35927899\n",
      "\t\tPurity: 0.7060571428571428\n",
      "\t\tGini Index: 0.4048314244835568\n",
      "\n"
     ]
    },
    {
     "data": {
      "image/png": "[encoded data removed]",
      "text/plain": [
       "<matplotlib.figure.Figure at 0x7feabd7fb4e0>"
      ]
     },
     "metadata": {},
     "output_type": "display_data"
    },
    {
     "data": {
      "image/png": "[encoded data removed]",
      "text/plain": [
       "<matplotlib.figure.Figure at 0x7feabd8d5d30>"
      ]
     },
     "metadata": {},
     "output_type": "display_data"
    }
   ],
   "source": [
    "do_kmeans([10, 5, 20])"
   ]
  },
  {
   "cell_type": "code",
   "execution_count": null,
   "metadata": {
    "collapsed": true
   },
   "outputs": [],
   "source": []
  }
 ],
 "metadata": {
  "kernelspec": {
   "display_name": "Python 3",
   "language": "python",
   "name": "python3"
  },
  "language_info": {
   "codemirror_mode": {
    "name": "ipython",
    "version": 3
   },
   "file_extension": ".py",
   "mimetype": "text/x-python",
   "name": "python",
   "nbconvert_exporter": "python",
   "pygments_lexer": "ipython3",
   "version": "3.6.3"
  }
 },
 "nbformat": 4,
 "nbformat_minor": 2
}
