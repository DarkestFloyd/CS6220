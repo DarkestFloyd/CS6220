{
 "cells": [
  {
   "cell_type": "code",
   "execution_count": 57,
   "metadata": {
    "collapsed": true
   },
   "outputs": [],
   "source": [
    "import numpy as np\n",
    "from mnist import MNIST\n",
    "from tqdm import tqdm\n",
    "from sklearn.metrics.pairwise import euclidean_distances"
   ]
  },
  {
   "cell_type": "code",
   "execution_count": 2,
   "metadata": {
    "collapsed": true
   },
   "outputs": [],
   "source": [
    "mnist_loader = MNIST(\"../data/mnist/\")\n",
    "mnist_loader.gz = True"
   ]
  },
  {
   "cell_type": "code",
   "execution_count": 3,
   "metadata": {
    "collapsed": true
   },
   "outputs": [],
   "source": [
    "images, labels = mnist_loader.load_training()\n",
    "timages, tlabels = mnist_loader.load_testing()"
   ]
  },
  {
   "cell_type": "code",
   "execution_count": 4,
   "metadata": {
    "collapsed": true
   },
   "outputs": [],
   "source": [
    "images = np.array(images)\n",
    "labels = np.array(labels)\n",
    "timages = np.array(timages)\n",
    "tlabels = np.array(tlabels)"
   ]
  },
  {
   "cell_type": "code",
   "execution_count": 5,
   "metadata": {},
   "outputs": [
    {
     "data": {
      "text/plain": [
       "((60000, 784), (10000, 784))"
      ]
     },
     "execution_count": 5,
     "metadata": {},
     "output_type": "execute_result"
    }
   ],
   "source": [
    "images.shape, timages.shape"
   ]
  },
  {
   "cell_type": "code",
   "execution_count": 6,
   "metadata": {
    "collapsed": true
   },
   "outputs": [],
   "source": [
    "n_rows = images.shape[0]\n",
    "t_n_rows = timages.shape[0]"
   ]
  },
  {
   "cell_type": "markdown",
   "metadata": {},
   "source": [
    "# kmeans\n",
    "## init"
   ]
  },
  {
   "cell_type": "code",
   "execution_count": 305,
   "metadata": {},
   "outputs": [],
   "source": [
    "def init(k):\n",
    "    _mu = np.empty((k, images.shape[1]))\n",
    "    for rand in range(k):\n",
    "        img_id = np.random.choice(len(images))\n",
    "        _mu[rand] = images[img_id]\n",
    "    return _mu"
   ]
  },
  {
   "cell_type": "markdown",
   "metadata": {},
   "source": [
    "## E step\n",
    "Assign memberships from current mu's. <br>\n",
    "Also evaluate loss"
   ]
  },
  {
   "cell_type": "code",
   "execution_count": 306,
   "metadata": {},
   "outputs": [],
   "source": [
    "def e_step(mu):\n",
    "    distances = np.matrix(euclidean_distances(X=images, Y=mu))\n",
    "    loss = np.sum(distances.min(axis=1))\n",
    "    return np.array(distances.argmin(1).T).ravel(), loss"
   ]
  },
  {
   "cell_type": "markdown",
   "metadata": {},
   "source": [
    "## M step\n",
    "Calculate new mu's from current memberships"
   ]
  },
  {
   "cell_type": "code",
   "execution_count": 315,
   "metadata": {},
   "outputs": [],
   "source": [
    "def m_step(pi, k):\n",
    "    mu = np.empty((k, images.shape[1]))\n",
    "    for cluster_id in range(k):\n",
    "        cluster_images = images[np.where(_pi == cluster_id)[0]]\n",
    "        mu[cluster_id] = np.mean(cluster_images, axis=0)\n",
    "    return mu"
   ]
  },
  {
   "cell_type": "markdown",
   "metadata": {},
   "source": [
    "## k means"
   ]
  },
  {
   "cell_type": "code",
   "execution_count": 313,
   "metadata": {
    "collapsed": true
   },
   "outputs": [],
   "source": [
    "k = 10\n",
    "np.random.seed(666)\n",
    "max_epochs = 100"
   ]
  },
  {
   "cell_type": "code",
   "execution_count": 314,
   "metadata": {},
   "outputs": [
    {
     "name": "stdout",
     "output_type": "stream",
     "text": [
      "Epoch: 0 Loss: 128768701.369\n",
      "Epoch: 5 Loss: 95821331.0201\n",
      "Epoch: 10 Loss: 95368733.6418\n",
      "Epoch: 15 Loss: 95316648.4302\n",
      "Epoch: 20 Loss: 95169685.9731\n",
      "Epoch: 25 Loss: 94823078.0926\n",
      "Epoch: 30 Loss: 94775526.8056\n",
      "Epoch: 35 Loss: 94773679.5606\n",
      "Epoch: 40 Loss: 94773467.4025\n",
      "Epoch: 45 Loss: 94773676.6578\n",
      "Convergence at epoch 46, loss 94773678.2702097\n"
     ]
    }
   ],
   "source": [
    "_mu = init(k)\n",
    "for _epoch in range(max_epochs):\n",
    "    _pi, loss = e_step(_mu)\n",
    "    mu = m_step(_pi, k)\n",
    "    if _epoch % 5 == 0:\n",
    "        print('Epoch:', _epoch, 'Loss:', loss)\n",
    "    if np.allclose(_mu, mu):\n",
    "        print('Convergence at epoch {0}, loss {1}'.format(_epoch, loss))\n",
    "        break\n",
    "    _mu = mu"
   ]
  },
  {
   "cell_type": "code",
   "execution_count": null,
   "metadata": {
    "collapsed": true
   },
   "outputs": [],
   "source": []
  }
 ],
 "metadata": {
  "kernelspec": {
   "display_name": "Python 3",
   "language": "python",
   "name": "python3"
  },
  "language_info": {
   "codemirror_mode": {
    "name": "ipython",
    "version": 3
   },
   "file_extension": ".py",
   "mimetype": "text/x-python",
   "name": "python",
   "nbconvert_exporter": "python",
   "pygments_lexer": "ipython3",
   "version": "3.6.3"
  }
 },
 "nbformat": 4,
 "nbformat_minor": 2
}
