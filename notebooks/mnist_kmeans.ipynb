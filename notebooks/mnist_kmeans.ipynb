{
 "cells": [
  {
   "cell_type": "code",
   "execution_count": 104,
   "metadata": {
    "collapsed": true
   },
   "outputs": [],
   "source": [
    "import numpy as np\n",
    "from mnist import MNIST\n",
    "from sklearn.metrics.pairwise import euclidean_distances"
   ]
  },
  {
   "cell_type": "code",
   "execution_count": 2,
   "metadata": {
    "collapsed": true
   },
   "outputs": [],
   "source": [
    "mnist_loader = MNIST(\"../data/mnist/\")\n",
    "mnist_loader.gz = True"
   ]
  },
  {
   "cell_type": "code",
   "execution_count": 8,
   "metadata": {
    "collapsed": true
   },
   "outputs": [],
   "source": [
    "images, labels = mnist_loader.load_training()\n",
    "# uncomment if test data needed\n",
    "timages, tlabels = mnist_loader.load_testing()"
   ]
  },
  {
   "cell_type": "code",
   "execution_count": 9,
   "metadata": {
    "collapsed": true
   },
   "outputs": [],
   "source": [
    "images = np.array(images)\n",
    "labels = np.array(labels)\n",
    "timages = np.array(timages)\n",
    "tlabels = np.array(tlabels)"
   ]
  },
  {
   "cell_type": "code",
   "execution_count": 14,
   "metadata": {},
   "outputs": [],
   "source": [
    "images = np.concatenate((images, timages))\n",
    "labels = np.concatenate((labels, tlabels))"
   ]
  },
  {
   "cell_type": "code",
   "execution_count": 15,
   "metadata": {},
   "outputs": [
    {
     "data": {
      "text/plain": [
       "(70000, 784)"
      ]
     },
     "execution_count": 15,
     "metadata": {},
     "output_type": "execute_result"
    }
   ],
   "source": [
    "images.shape#, timages.shape"
   ]
  },
  {
   "cell_type": "code",
   "execution_count": 16,
   "metadata": {
    "collapsed": true
   },
   "outputs": [],
   "source": [
    "n_rows = images.shape[0]\n",
    "dims = images.shape[1]\n",
    "#t_n_rows = timages.shape[0]"
   ]
  },
  {
   "cell_type": "code",
   "execution_count": 17,
   "metadata": {},
   "outputs": [
    {
     "data": {
      "text/plain": [
       "(70000, 784)"
      ]
     },
     "execution_count": 17,
     "metadata": {},
     "output_type": "execute_result"
    }
   ],
   "source": [
    "n_rows, dims"
   ]
  },
  {
   "cell_type": "code",
   "execution_count": 18,
   "metadata": {
    "collapsed": true
   },
   "outputs": [],
   "source": [
    "del timages, tlabels"
   ]
  },
  {
   "cell_type": "markdown",
   "metadata": {},
   "source": [
    "# kmeans\n",
    "## init"
   ]
  },
  {
   "cell_type": "markdown",
   "metadata": {},
   "source": [
    "Randomly pick 10 images as starting points."
   ]
  },
  {
   "cell_type": "code",
   "execution_count": 87,
   "metadata": {
    "collapsed": true
   },
   "outputs": [],
   "source": [
    "def init(k, seed):\n",
    "    if seed != None:\n",
    "        np.random.seed(seed)\n",
    "    mu = np.empty((k, images.shape[1]))\n",
    "    for rand in range(k):\n",
    "        img_id = np.random.choice(n_rows)\n",
    "        mu[rand] = images[img_id]\n",
    "    return mu"
   ]
  },
  {
   "cell_type": "markdown",
   "metadata": {},
   "source": [
    "`init_dist` takes into account the distances of different points when picking stating mu's."
   ]
  },
  {
   "cell_type": "code",
   "execution_count": 88,
   "metadata": {},
   "outputs": [],
   "source": [
    "def init_dist(k, seed):\n",
    "    if seed != None:\n",
    "        np.random.seed(seed)\n",
    "    mu = np.empty((k, images.shape[1]))\n",
    "    memmap = '../data/mnist/dist.memmap'\n",
    "    fp = np.memmap(memmap, dtype='float32', shape=(n_rows, n_rows - 10000), mode='r')\n",
    "    \n",
    "    ids = []\n",
    "    img_id = np.random.choice(n_rows)\n",
    "    ids.append(img_id)\n",
    "    mu[0] = images[img_id]\n",
    "    for rand in range(1, k):\n",
    "        distances = fp[img_id].copy()\n",
    "        img_id = np.argmax(distances)\n",
    "        while img_id in ids:\n",
    "            distances[img_id] = -1\n",
    "            img_id = np.argmax(distances)\n",
    "        mu[rand] = images[img_id]\n",
    "        ids.append(img_id)        \n",
    "    del fp\n",
    "    \n",
    "    return mu"
   ]
  },
  {
   "cell_type": "markdown",
   "metadata": {},
   "source": [
    "## E step\n",
    "Assign memberships from current mu's. <br>\n",
    "Also evaluate loss"
   ]
  },
  {
   "cell_type": "code",
   "execution_count": 89,
   "metadata": {
    "collapsed": true
   },
   "outputs": [],
   "source": [
    "def e_step(mu):\n",
    "    distances = np.matrix(2(X=images, Y=mu))\n",
    "    loss = np.sum(distances.min(axis=1))\n",
    "    return np.array(distances.argmin(1).T).ravel(), loss"
   ]
  },
  {
   "cell_type": "markdown",
   "metadata": {},
   "source": [
    "## M step\n",
    "Calculate new mu's from current memberships"
   ]
  },
  {
   "cell_type": "code",
   "execution_count": 90,
   "metadata": {
    "collapsed": true
   },
   "outputs": [],
   "source": [
    "def m_step(pi, k):\n",
    "    mu = np.empty((k, images.shape[1]))\n",
    "    for cluster_id in range(k):\n",
    "        cluster_images = images[np.where(pi == cluster_id)[0]]\n",
    "        mu[cluster_id] = np.mean(cluster_images, axis=0)\n",
    "    return mu"
   ]
  },
  {
   "cell_type": "markdown",
   "metadata": {},
   "source": [
    "## k means helper"
   ]
  },
  {
   "cell_type": "code",
   "execution_count": 338,
   "metadata": {
    "collapsed": true
   },
   "outputs": [],
   "source": [
    "def kmeans(k, init_func, max_epochs, print_interval, seed):\n",
    "    _loss = []\n",
    "    _mu = init_func(k, seed)\n",
    "    for _epoch in range(max_epochs):\n",
    "        _pi, loss = e_step(_mu)\n",
    "        _loss.append(loss)\n",
    "        mu = m_step(_pi, k)\n",
    "        if _epoch % print_interval == 0:\n",
    "            print('\\tEpoch:', _epoch, 'Loss:', loss)\n",
    "        if np.allclose(_mu, mu):\n",
    "            print('\\tConvergence at epoch {0}, loss {1}'.format(_epoch, loss))\n",
    "            break\n",
    "        _mu = mu\n",
    "        if _epoch == (max_epochs - 1):\n",
    "            print('\\tNo convergence after {0} epochs, try higher value. Loss at {1}'.format(max_epochs, loss))\n",
    "    return _loss, _pi"
   ]
  },
  {
   "cell_type": "code",
   "execution_count": 121,
   "metadata": {
    "collapsed": true
   },
   "outputs": [],
   "source": [
    "def wrapper(k, init_func):\n",
    "    return kmeans(k=k, init_func=init_func, max_epochs=100, print_interval=10, seed=666)"
   ]
  },
  {
   "cell_type": "markdown",
   "metadata": {},
   "source": [
    "## Run kmeans for different k's\n",
    "### k = 10"
   ]
  },
  {
   "cell_type": "code",
   "execution_count": 107,
   "metadata": {},
   "outputs": [
    {
     "name": "stdout",
     "output_type": "stream",
     "text": [
      "Epoch: 0 Loss: 147291292.56\n",
      "Epoch: 10 Loss: 110818877.165\n",
      "Epoch: 20 Loss: 110701285.21\n",
      "Epoch: 30 Loss: 110698357.639\n",
      "Epoch: 40 Loss: 110698736.549\n",
      "Convergence at epoch 45, loss 110698787.02468647\n"
     ]
    }
   ],
   "source": [
    "rand_loss_10, rand_pi_10 = wrapper(k=10, init_func=init)"
   ]
  },
  {
   "cell_type": "code",
   "execution_count": 108,
   "metadata": {},
   "outputs": [
    {
     "name": "stdout",
     "output_type": "stream",
     "text": [
      "Epoch: 0 Loss: 154998903.864\n",
      "Epoch: 10 Loss: 110148149.545\n",
      "Epoch: 20 Loss: 109981721.587\n",
      "Epoch: 30 Loss: 109970075.506\n",
      "Convergence at epoch 33, loss 109970097.7609525\n"
     ]
    }
   ],
   "source": [
    "dist_loss_10, dist_pi_10 = wrapper(k=10, init_func=init_dist)"
   ]
  },
  {
   "cell_type": "markdown",
   "metadata": {},
   "source": [
    "### k = 5"
   ]
  },
  {
   "cell_type": "code",
   "execution_count": 109,
   "metadata": {},
   "outputs": [
    {
     "name": "stdout",
     "output_type": "stream",
     "text": [
      "Epoch: 0 Loss: 160752068.584\n",
      "Epoch: 10 Loss: 116782970.834\n",
      "Epoch: 20 Loss: 116187969.098\n",
      "Epoch: 30 Loss: 116180725.125\n",
      "Convergence at epoch 36, loss 116179586.28974739\n"
     ]
    }
   ],
   "source": [
    "rand_loss_5, rand_pi_5 = wrapper(k=5, init_func=init)"
   ]
  },
  {
   "cell_type": "code",
   "execution_count": 110,
   "metadata": {},
   "outputs": [
    {
     "name": "stdout",
     "output_type": "stream",
     "text": [
      "Epoch: 0 Loss: 158276470.779\n",
      "Epoch: 10 Loss: 116519289.363\n",
      "Epoch: 20 Loss: 116179863.489\n",
      "Epoch: 30 Loss: 116180263.948\n",
      "Convergence at epoch 36, loss 116179586.28974739\n"
     ]
    }
   ],
   "source": [
    "dist_loss_5, dist_pi_5 = wrapper(k=5, init_func=init_dist)"
   ]
  },
  {
   "cell_type": "markdown",
   "metadata": {},
   "source": [
    "### k = 20"
   ]
  },
  {
   "cell_type": "code",
   "execution_count": 122,
   "metadata": {},
   "outputs": [
    {
     "name": "stdout",
     "output_type": "stream",
     "text": [
      "Epoch: 0 Loss: 138775789.912\n",
      "Epoch: 10 Loss: 104507418.926\n",
      "Epoch: 20 Loss: 104429411.966\n",
      "Epoch: 30 Loss: 104374831.372\n",
      "Epoch: 40 Loss: 104293033.608\n",
      "Epoch: 50 Loss: 104168411.997\n",
      "Epoch: 60 Loss: 104147675.131\n",
      "Epoch: 70 Loss: 104141635.27\n",
      "Epoch: 80 Loss: 104139387.878\n",
      "Epoch: 90 Loss: 104137152.158\n",
      "No convergence after 100 epochs, try higher value. Loss at 104136392.06702183\n"
     ]
    }
   ],
   "source": [
    "rand_loss_20, rand_pi_20 = wrapper(k=20, init_func=init)"
   ]
  },
  {
   "cell_type": "code",
   "execution_count": 123,
   "metadata": {},
   "outputs": [
    {
     "name": "stdout",
     "output_type": "stream",
     "text": [
      "Epoch: 0 Loss: 149916652.102\n",
      "Epoch: 10 Loss: 105046988.384\n",
      "Epoch: 20 Loss: 104703957.873\n",
      "Epoch: 30 Loss: 104505374.688\n",
      "Epoch: 40 Loss: 104424323.168\n",
      "Epoch: 50 Loss: 104399093.093\n",
      "Epoch: 60 Loss: 104394538.879\n",
      "Epoch: 70 Loss: 104394174.84\n",
      "Epoch: 80 Loss: 104393846.149\n",
      "Epoch: 90 Loss: 104392546.346\n",
      "No convergence after 100 epochs, try higher value. Loss at 104392551.82852197\n"
     ]
    }
   ],
   "source": [
    "dist_loss_20, dist_pi_20 = wrapper(k=20, init_func=init_dist)"
   ]
  },
  {
   "cell_type": "markdown",
   "metadata": {},
   "source": [
    "### visualize loss vs epoch"
   ]
  },
  {
   "cell_type": "code",
   "execution_count": 124,
   "metadata": {
    "collapsed": true
   },
   "outputs": [],
   "source": [
    "import matplotlib.pyplot as plt\n",
    "%matplotlib inline"
   ]
  },
  {
   "cell_type": "code",
   "execution_count": 131,
   "metadata": {},
   "outputs": [
    {
     "data": {
      "image/png": "[encoded data removed]",
      "text/plain": [
       "<matplotlib.figure.Figure at 0x7f9c9521f6a0>"
      ]
     },
     "metadata": {},
     "output_type": "display_data"
    }
   ],
   "source": [
    "plt.plot(range(len(rand_loss_5)), np.log(rand_loss_5), 'b--', label = 'k = 5 (r)')\n",
    "plt.plot(range(len(rand_loss_10)), np.log(rand_loss_10), 'y--', label = 'k = 10 (r)')\n",
    "plt.plot(range(len(rand_loss_20)), np.log(rand_loss_20),  'g--', label = 'k = 20 (r)')\n",
    "plt.plot(range(len(dist_loss_5)), np.log(dist_loss_5), 'b-', label = 'k = 5 (d)')\n",
    "plt.plot(range(len(dist_loss_10)), np.log(dist_loss_10), 'y-', label = 'k = 10 (d)')\n",
    "plt.plot(range(len(dist_loss_20)), np.log(dist_loss_20),  'g-', label = 'k = 20 (d)')\n",
    "plt.xlabel('Epochs')\n",
    "plt.ylabel('Loss (log_10)')\n",
    "plt.title('Loss vs Epochs')\n",
    "plt.legend()\n",
    "plt.show()"
   ]
  },
  {
   "cell_type": "markdown",
   "metadata": {},
   "source": [
    "## external metrics"
   ]
  },
  {
   "cell_type": "markdown",
   "metadata": {},
   "source": [
    "Helper function to get confusion matrix and cluster mappings for `k` and `pi`'s"
   ]
  },
  {
   "cell_type": "code",
   "execution_count": 201,
   "metadata": {},
   "outputs": [],
   "source": [
    "def get_mappings(k, pi):\n",
    "    conf_mat = [[0 for x in range(k)] for y in range(k)]\n",
    "    cluster_mapping = {}\n",
    "    for cluster_id in range(k):\n",
    "        true_labels = labels[np.where(cluster_id == pi)]\n",
    "        conf_mat[cluster_id] = np.bincount(true_labels)\n",
    "        cluster_mapping[cluster_id] = np.argmax(conf_mat[cluster_id])\n",
    "    return cluster_mapping, np.array(conf_mat)"
   ]
  },
  {
   "cell_type": "code",
   "execution_count": 216,
   "metadata": {},
   "outputs": [],
   "source": [
    "mapping, confusion_matrix = get_mappings(10, dist_pi_10)"
   ]
  },
  {
   "cell_type": "markdown",
   "metadata": {
    "collapsed": true
   },
   "source": [
    "### Purity"
   ]
  },
  {
   "cell_type": "code",
   "execution_count": 318,
   "metadata": {
    "collapsed": true
   },
   "outputs": [],
   "source": [
    "def purity(confusion_matrix):\n",
    "    Pj = confusion_matrix.max(axis=1)\n",
    "    Mj = confusion_matrix.sum(axis=1)\n",
    "    return sum(Pj)/sum(Mj)"
   ]
  },
  {
   "cell_type": "code",
   "execution_count": 319,
   "metadata": {},
   "outputs": [
    {
     "name": "stdout",
     "output_type": "stream",
     "text": [
      "Aggregate purity: 0.5914857142857143\n"
     ]
    }
   ],
   "source": [
    "print('Aggregate purity: {0}'.format(purity(confusion_matrix)))"
   ]
  },
  {
   "cell_type": "markdown",
   "metadata": {},
   "source": [
    "### Gini"
   ]
  },
  {
   "cell_type": "code",
   "execution_count": 331,
   "metadata": {
    "collapsed": true
   },
   "outputs": [],
   "source": [
    "def gini(confusion_matrix):\n",
    "    Mj = confusion_matrix.sum(axis=1, keepdims=True)\n",
    "    gj = 1 - ((confusion_matrix/Mj)**2).sum(axis=1, keepdims=True)\n",
    "    return (sum(gj*Mj)/sum(Mj))[0]"
   ]
  },
  {
   "cell_type": "code",
   "execution_count": 333,
   "metadata": {},
   "outputs": [
    {
     "name": "stdout",
     "output_type": "stream",
     "text": [
      "Gini Index: 0.5484558045037563\n"
     ]
    }
   ],
   "source": [
    "print('Gini Index: {0}'.format(gini(confusion_matrix)))"
   ]
  },
  {
   "cell_type": "markdown",
   "metadata": {},
   "source": [
    "## All together"
   ]
  },
  {
   "cell_type": "code",
   "execution_count": 369,
   "metadata": {
    "collapsed": true
   },
   "outputs": [],
   "source": [
    "def do_kmeans(ks):\n",
    "    loss, pi = [], []\n",
    "    seed = np.random.randint(n_rows)\n",
    "    \n",
    "    for k in ks:\n",
    "        print('For k = {0}:'.format(k))\n",
    "        _loss, _pi = kmeans(k=k, init_func=init, \n",
    "                            max_epochs=5, \n",
    "                            print_interval=10, \n",
    "                            seed=seed)\n",
    "        loss.append(_loss)\n",
    "        pi.append(_pi)\n",
    "        print('\\n\\tFinal values: \\n\\t\\tLoss: {0}'.format(_loss[-1]))\n",
    "        mapping, conf_mat = get_mappings(k, _pi)\n",
    "        _purity = purity(conf_mat)\n",
    "        _gini = gini(conf_mat)\n",
    "        print('\\t\\tPurity: {0}'.format(_purity))\n",
    "        print('\\t\\tGini Index: {0}\\n'.format(_gini))\n",
    "        \n",
    "#     for _loss in loss:\n",
    "        plt.plot(range(len(_loss)), np.log(_loss), label = 'k = {0}'.format(k))\n",
    "        plt.xlabel('Epochs')\n",
    "        plt.ylabel('Loss (log_10)')\n",
    "        plt.title('Loss vs Epochs')\n",
    "        plt.legend()\n",
    "        plt.show()"
   ]
  },
  {
   "cell_type": "code",
   "execution_count": 370,
   "metadata": {},
   "outputs": [
    {
     "name": "stdout",
     "output_type": "stream",
     "text": [
      "For k = 10:\n",
      "\tEpoch: 0 Loss: 150299930.467\n",
      "\tNo convergence after 5 epochs, try higher value. Loss at 111319563.17328326\n",
      "\n",
      "\tFinal values: \n",
      "\t\tLoss: 111319563.17328326\n",
      "\t\tPurity: 0.537\n",
      "\t\tGini Index: 0.5901213426562233\n",
      "\n"
     ]
    },
    {
     "data": {
      "image/png": "[encoded data removed]",
      "text/plain": [
       "<matplotlib.figure.Figure at 0x7f9c94f7e470>"
      ]
     },
     "metadata": {},
     "output_type": "display_data"
    }
   ],
   "source": [
    "do_kmeans([10])"
   ]
  },
  {
   "cell_type": "code",
   "execution_count": null,
   "metadata": {
    "collapsed": true
   },
   "outputs": [],
   "source": []
  }
 ],
 "metadata": {
  "kernelspec": {
   "display_name": "Python 3",
   "language": "python",
   "name": "python3"
  },
  "language_info": {
   "codemirror_mode": {
    "name": "ipython",
    "version": 3
   },
   "file_extension": ".py",
   "mimetype": "text/x-python",
   "name": "python",
   "nbconvert_exporter": "python",
   "pygments_lexer": "ipython3",
   "version": "3.6.3"
  }
 },
 "nbformat": 4,
 "nbformat_minor": 2
}
