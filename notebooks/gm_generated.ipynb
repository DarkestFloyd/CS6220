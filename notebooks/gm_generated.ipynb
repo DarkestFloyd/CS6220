{
 "cells": [
  {
   "cell_type": "markdown",
   "metadata": {},
   "source": [
    "Reference: https://gist.github.com/bistaumanga/6023716"
   ]
  },
  {
   "cell_type": "code",
   "execution_count": 1,
   "metadata": {
    "collapsed": true
   },
   "outputs": [],
   "source": [
    "import numpy as np\n",
    "from scipy.stats import multivariate_normal\n",
    "import matplotlib.pyplot as plt\n",
    "%matplotlib inline"
   ]
  },
  {
   "cell_type": "code",
   "execution_count": 2,
   "metadata": {},
   "outputs": [],
   "source": [
    "class GM():\n",
    "    \n",
    "    def __init__(self, X, k):\n",
    "        self.k = k\n",
    "        self.X = X\n",
    "        \n",
    "        self.n_rows = X.shape[0]\n",
    "        self.dims = X.shape[1]\n",
    "        \n",
    "        np.random.seed(666)\n",
    "        self.mu = self.X[np.random.choice(self.n_rows, size=k, replace=False), :]\n",
    "        self.sigma = [np.eye(self.dims)] * k\n",
    "        self.coeff = [1/k] * k\n",
    "        self.pi = np.zeros(shape=(self.n_rows, k))\n",
    "        \n",
    "        self.loss = [0]\n",
    "        \n",
    "    normal = lambda self, _m, _s: multivariate_normal(_m, _s).pdf(self.X)\n",
    "    \n",
    "    def e_step(self):\n",
    "        \n",
    "        pi = np.empty(shape=(self.k, self.n_rows))\n",
    "                \n",
    "        for k in range(self.k):\n",
    "            pi[k] = self.coeff[k] * self.normal(self.mu[k], self.sigma[k])\n",
    "                        \n",
    "        fx = pi.sum(axis=0)\n",
    "        self.loss.append(np.log(fx).sum())\n",
    "                                \n",
    "        self.pi = (pi / fx).T\n",
    "        \n",
    "    def m_step(self):\n",
    "        \n",
    "        # n_k\n",
    "        n_k = self.pi.sum(axis=0)\n",
    "        \n",
    "        for k in range(self.k):\n",
    "            \n",
    "            # mu\n",
    "            self.mu[k] = (self.pi[:, k] * self.X.T).sum(axis=1).T / n_k[k]\n",
    "            \n",
    "            # sigma\n",
    "            x_mu = self.X - self.mu[k]\n",
    "            self.sigma[k] = np.dot(np.multiply(x_mu.T,  self.pi[:, k]), x_mu) / n_k[k]\n",
    "            \n",
    "            # mixture coefficient\n",
    "            self.coeff[k] = n_k[k] / self.n_rows\n",
    "        \n",
    "    def fit_data(self, max_epochs=100):\n",
    "        \n",
    "        for epoch in range(max_epochs):\n",
    "            \n",
    "            p_loss = self.loss[-1]\n",
    "            \n",
    "            # e step\n",
    "            self.e_step()\n",
    "            \n",
    "            # m step\n",
    "            self.m_step()\n",
    "            \n",
    "            if abs(p_loss - self.loss[-1]) < 0.0001:\n",
    "                print('Convergence at epoch {0}'.format(epoch))\n",
    "                break\n",
    "                \n",
    "            \n",
    "    def plot_loss(self):\n",
    "        plt.plot(np.array(self.loss[1:]))\n",
    "        plt.gca().invert_yaxis()\n",
    "        plt.xlabel('Epochs')\n",
    "        plt.ylabel('Log Likelihood')\n",
    "        plt.title('Log Likelihood vs Epochs')"
   ]
  },
  {
   "cell_type": "markdown",
   "metadata": {},
   "source": [
    "# 2 gaussians"
   ]
  },
  {
   "cell_type": "code",
   "execution_count": 3,
   "metadata": {
    "collapsed": true
   },
   "outputs": [],
   "source": [
    "dp = np.loadtxt('../data/GM/2gaussian.txt')"
   ]
  },
  {
   "cell_type": "code",
   "execution_count": 4,
   "metadata": {},
   "outputs": [],
   "source": [
    "gm = GM(dp, 2)"
   ]
  },
  {
   "cell_type": "code",
   "execution_count": 5,
   "metadata": {},
   "outputs": [
    {
     "name": "stdout",
     "output_type": "stream",
     "text": [
      "Convergence at epoch 33\n"
     ]
    }
   ],
   "source": [
    "gm.fit_data()"
   ]
  },
  {
   "cell_type": "code",
   "execution_count": 6,
   "metadata": {},
   "outputs": [
    {
     "data": {
      "image/png": "[encoded data removed]",
      "text/plain": [
       "<matplotlib.figure.Figure at 0x7f15118fc208>"
      ]
     },
     "metadata": {},
     "output_type": "display_data"
    }
   ],
   "source": [
    "gm.plot_loss()"
   ]
  },
  {
   "cell_type": "code",
   "execution_count": 7,
   "metadata": {},
   "outputs": [
    {
     "data": {
      "text/plain": [
       "array([[ 7.01321406,  3.98317175],\n",
       "       [ 2.99425844,  3.05208155]])"
      ]
     },
     "execution_count": 7,
     "metadata": {},
     "output_type": "execute_result"
    }
   ],
   "source": [
    "gm.mu"
   ]
  },
  {
   "cell_type": "code",
   "execution_count": 8,
   "metadata": {},
   "outputs": [
    {
     "data": {
      "text/plain": [
       "[array([[ 0.97464436,  0.49740528],\n",
       "        [ 0.49740528,  1.00108766]]), array([[ 1.01044351,  0.0271686 ],\n",
       "        [ 0.0271686 ,  2.93772465]])]"
      ]
     },
     "execution_count": 8,
     "metadata": {},
     "output_type": "execute_result"
    }
   ],
   "source": [
    "gm.sigma"
   ]
  },
  {
   "cell_type": "code",
   "execution_count": 9,
   "metadata": {},
   "outputs": [
    {
     "data": {
      "text/plain": [
       "array([ 3991.09682097,  2008.90317903])"
      ]
     },
     "execution_count": 9,
     "metadata": {},
     "output_type": "execute_result"
    }
   ],
   "source": [
    "gm.pi.sum(axis=0)"
   ]
  },
  {
   "cell_type": "markdown",
   "metadata": {},
   "source": [
    "# 3 gaussians"
   ]
  },
  {
   "cell_type": "code",
   "execution_count": 10,
   "metadata": {
    "collapsed": true
   },
   "outputs": [],
   "source": [
    "dp3 = np.loadtxt('../data/GM/3gaussian.txt')"
   ]
  },
  {
   "cell_type": "code",
   "execution_count": 11,
   "metadata": {
    "collapsed": true
   },
   "outputs": [],
   "source": [
    "gm3 = GM(dp3, 3)"
   ]
  },
  {
   "cell_type": "code",
   "execution_count": 12,
   "metadata": {},
   "outputs": [
    {
     "name": "stdout",
     "output_type": "stream",
     "text": [
      "Convergence at epoch 41\n"
     ]
    }
   ],
   "source": [
    "gm3.fit_data()"
   ]
  },
  {
   "cell_type": "code",
   "execution_count": 13,
   "metadata": {},
   "outputs": [
    {
     "data": {
      "image/png": "[encoded data removed]",
      "text/plain": [
       "<matplotlib.figure.Figure at 0x7f1511890eb8>"
      ]
     },
     "metadata": {},
     "output_type": "display_data"
    }
   ],
   "source": [
    "gm3.plot_loss()"
   ]
  },
  {
   "cell_type": "code",
   "execution_count": 14,
   "metadata": {},
   "outputs": [
    {
     "data": {
      "text/plain": [
       "array([[ 3.03925178,  3.04723555],\n",
       "       [ 5.01150714,  7.0012754 ],\n",
       "       [ 7.02146826,  4.01541031]])"
      ]
     },
     "execution_count": 14,
     "metadata": {},
     "output_type": "execute_result"
    }
   ],
   "source": [
    "gm3.mu"
   ]
  },
  {
   "cell_type": "code",
   "execution_count": 15,
   "metadata": {},
   "outputs": [
    {
     "data": {
      "text/plain": [
       "[array([[ 0.97464436,  0.49740528],\n",
       "        [ 0.49740528,  1.00108766]]), array([[ 1.01044351,  0.0271686 ],\n",
       "        [ 0.0271686 ,  2.93772465]])]"
      ]
     },
     "execution_count": 15,
     "metadata": {},
     "output_type": "execute_result"
    }
   ],
   "source": [
    "gm.sigma"
   ]
  },
  {
   "cell_type": "code",
   "execution_count": 16,
   "metadata": {},
   "outputs": [
    {
     "data": {
      "text/plain": [
       "[0.66518280349423864, 0.33481719650576131]"
      ]
     },
     "execution_count": 16,
     "metadata": {},
     "output_type": "execute_result"
    }
   ],
   "source": [
    "gm.coeff"
   ]
  }
 ],
 "metadata": {
  "kernelspec": {
   "display_name": "Python 3",
   "language": "python",
   "name": "python3"
  },
  "language_info": {
   "codemirror_mode": {
    "name": "ipython",
    "version": 3
   },
   "file_extension": ".py",
   "mimetype": "text/x-python",
   "name": "python",
   "nbconvert_exporter": "python",
   "pygments_lexer": "ipython3",
   "version": "3.6.3"
  }
 },
 "nbformat": 4,
 "nbformat_minor": 2
}
