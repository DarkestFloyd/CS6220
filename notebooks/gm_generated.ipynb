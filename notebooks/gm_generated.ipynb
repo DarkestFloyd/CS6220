{
 "cells": [
  {
   "cell_type": "code",
   "execution_count": 1,
   "metadata": {
    "collapsed": true
   },
   "outputs": [],
   "source": [
    "import numpy as np\n",
    "from scipy.stats import multivariate_normal\n",
    "import matplotlib.pyplot as plt\n",
    "%matplotlib inline"
   ]
  },
  {
   "cell_type": "code",
   "execution_count": 2,
   "metadata": {
    "collapsed": true
   },
   "outputs": [],
   "source": [
    "dp = np.loadtxt('../data/GM/2gaussian.txt')"
   ]
  },
  {
   "cell_type": "code",
   "execution_count": 3,
   "metadata": {
    "collapsed": true
   },
   "outputs": [],
   "source": [
    "P = lambda X, mu, s: np.linalg.det(s) ** -.5 ** (2 * np.pi) ** (-X.shape[1]/2.) \\\n",
    "                * np.exp(-.5 * np.einsum('ij, ij -> i',\\\n",
    "                        X - mu, np.dot(np.linalg.inv(s) , (X - mu).T).T ) )"
   ]
  },
  {
   "cell_type": "code",
   "execution_count": 27,
   "metadata": {
    "collapsed": true
   },
   "outputs": [],
   "source": [
    "def init(X, k):\n",
    "    \n",
    "    n_rows, dims = X.shape\n",
    "    \n",
    "    mu = X[np.random.choice(n_rows, 2, False)]\n",
    "    sigma = [np.eye(k) for _ in range(k)]\n",
    "    w = [1/k for _ in range(k)]\n",
    "    pi = np.zeros(shape=(n_rows, k))\n",
    "    \n",
    "    return mu, sigma, w, pi"
   ]
  },
  {
   "cell_type": "code",
   "execution_count": 132,
   "metadata": {
    "collapsed": true
   },
   "outputs": [],
   "source": [
    "def e_step(X, k, mu, sigma, w, pi):\n",
    "    \n",
    "    n_rows, dims = X.shape\n",
    "                        \n",
    "    for _k in range(k):\n",
    "        pi[:, _k] = w[_k] * P(dp, mu[_k], sigma[_k])\n",
    "    \n",
    "    loss = np.sum(np.log(pi.sum(axis=1)))\n",
    "    pi = pi.T / pi.sum(axis=1)\n",
    "    \n",
    "    return pi.T, loss"
   ]
  },
  {
   "cell_type": "code",
   "execution_count": 133,
   "metadata": {},
   "outputs": [],
   "source": [
    "def m_step(X, k, pi, mu, sigma, w):\n",
    "    \n",
    "    N_k = pi.sum(axis=0)\n",
    "                \n",
    "    for _k in range(k):\n",
    "        \n",
    "        mu[_k] = 1/N_k[_k] * (pi[:, _k] * X.T).sum(axis=1)\n",
    "        \n",
    "        x_mu = X - mu[_k]\n",
    "        sigma[_k] = np.array(1/N_k[_k] * np.dot(np.multiply(x_mu.T, pi[:, _k]), x_mu))\n",
    "        \n",
    "        w[_k] = N_k[_k] / X.shape[0]\n",
    "                                        \n",
    "    return mu, sigma, w, N_k"
   ]
  },
  {
   "cell_type": "code",
   "execution_count": 137,
   "metadata": {},
   "outputs": [],
   "source": [
    "def do_em(X, k, max_epochs=100):\n",
    "    \n",
    "    np.random.seed(666)\n",
    "    mu, sigma, weights, pi = init(X, k)\n",
    "    \n",
    "    p_loss = 0\n",
    "    \n",
    "    for epoch in range(max_epochs):\n",
    "                \n",
    "        # e step\n",
    "        pi, loss = e_step(X, k, mu, sigma, weights, pi)\n",
    "        \n",
    "        # m step\n",
    "        mu, sigma, coeff, N_k = m_step(X, k, pi, mu, sigma, weights)\n",
    "        \n",
    "        # check convergence\n",
    "        if np.abs(p_loss - loss) < 0.0001:\n",
    "            print('Convergenve at epoch {0}'.format(epoch))\n",
    "            break\n",
    "        p_loss = loss\n",
    "        \n",
    "    print('Final loss: {0}'.format(loss))\n",
    "    print(N_k)"
   ]
  },
  {
   "cell_type": "code",
   "execution_count": 138,
   "metadata": {},
   "outputs": [
    {
     "name": "stdout",
     "output_type": "stream",
     "text": [
      "Convergenve at epoch 42\n",
      "Final loss: -10445.603358566954\n",
      "[ 4095.91852725  1904.08147275]\n"
     ]
    }
   ],
   "source": [
    "do_em(dp, 2, 1000)"
   ]
  },
  {
   "cell_type": "code",
   "execution_count": 139,
   "metadata": {},
   "outputs": [
    {
     "name": "stdout",
     "output_type": "stream",
     "text": [
      "[[ 5.72617704  3.44160626]\n",
      " [ 5.59702385  3.94831234]]\n"
     ]
    }
   ],
   "source": [
    "print(mu)"
   ]
  },
  {
   "cell_type": "code",
   "execution_count": 140,
   "metadata": {},
   "outputs": [
    {
     "name": "stdout",
     "output_type": "stream",
     "text": [
      "[array([[ 4.36201587,  1.44636342],\n",
      "       [ 1.44636342,  1.87279356]]), array([[ 4.84214949,  0.88021396],\n",
      "       [ 0.88021396,  1.66588995]])]\n"
     ]
    }
   ],
   "source": [
    "print(sigma)"
   ]
  }
 ],
 "metadata": {
  "kernelspec": {
   "display_name": "Python 3",
   "language": "python",
   "name": "python3"
  },
  "language_info": {
   "codemirror_mode": {
    "name": "ipython",
    "version": 3
   },
   "file_extension": ".py",
   "mimetype": "text/x-python",
   "name": "python",
   "nbconvert_exporter": "python",
   "pygments_lexer": "ipython3",
   "version": "3.6.3"
  }
 },
 "nbformat": 4,
 "nbformat_minor": 2
}
