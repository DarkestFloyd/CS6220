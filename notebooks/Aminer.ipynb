{
 "cells": [
  {
   "cell_type": "code",
   "execution_count": 10,
   "metadata": {
    "collapsed": true
   },
   "outputs": [],
   "source": [
    "import numpy as np\n",
    "import pandas as pd\n",
    "import matplotlib.pyplot as plt\n",
    "%matplotlib inline\n",
    "\n",
    "from collections import Counter"
   ]
  },
  {
   "cell_type": "code",
   "execution_count": 3,
   "metadata": {
    "collapsed": true
   },
   "outputs": [],
   "source": [
    "df = pd.read_table(\"../data/Aminer/AP_train.tsv\", \n",
    "                   sep = \"\\t+\", index_col = 0, engine = 'python')"
   ]
  },
  {
   "cell_type": "code",
   "execution_count": 4,
   "metadata": {
    "collapsed": true
   },
   "outputs": [],
   "source": [
    "# save to pickle for faster loading in future\n",
    "df.to_pickle(\"../data/Aminer/AP_train.pickle\")"
   ]
  },
  {
   "cell_type": "code",
   "execution_count": 2,
   "metadata": {
    "collapsed": true
   },
   "outputs": [],
   "source": [
    "dfo = pd.read_pickle(\"../data/Aminer/AP_train.pickle\")"
   ]
  },
  {
   "cell_type": "code",
   "execution_count": 3,
   "metadata": {},
   "outputs": [
    {
     "data": {
      "text/plain": [
       "1976815"
      ]
     },
     "execution_count": 3,
     "metadata": {},
     "output_type": "execute_result"
    }
   ],
   "source": [
    "n_rows = dfo.shape[0]\n",
    "n_rows"
   ]
  },
  {
   "cell_type": "code",
   "execution_count": 4,
   "metadata": {
    "collapsed": true
   },
   "outputs": [],
   "source": [
    "def sub(w):\n",
    "    if w == 0:\n",
    "        tdf = dfo\n",
    "        tnr = n_rows\n",
    "    else:\n",
    "        tdf = dfo[:w]\n",
    "        tnr = w\n",
    "    return tdf, tnr"
   ]
  },
  {
   "cell_type": "markdown",
   "metadata": {
    "collapsed": true
   },
   "source": [
    "# 1a"
   ]
  },
  {
   "cell_type": "code",
   "execution_count": 71,
   "metadata": {
    "collapsed": true
   },
   "outputs": [],
   "source": [
    "df = sub(0)"
   ]
  },
  {
   "cell_type": "code",
   "execution_count": 72,
   "metadata": {
    "collapsed": true
   },
   "outputs": [],
   "source": [
    "authors = [author.split(';') for author in df[df['authors'].notnull()]['authors']]"
   ]
  },
  {
   "cell_type": "code",
   "execution_count": 73,
   "metadata": {
    "collapsed": true
   },
   "outputs": [],
   "source": [
    "n_authors = len(set([name for author in authors for name in author]))"
   ]
  },
  {
   "cell_type": "code",
   "execution_count": 74,
   "metadata": {
    "collapsed": true
   },
   "outputs": [],
   "source": [
    "n_venues = len(set(df['venue']))"
   ]
  },
  {
   "cell_type": "code",
   "execution_count": 75,
   "metadata": {
    "collapsed": true
   },
   "outputs": [],
   "source": [
    "n_pubs = df[['title', 'authors', 'year', 'venue']].drop_duplicates().shape[0]"
   ]
  },
  {
   "cell_type": "code",
   "execution_count": 76,
   "metadata": {
    "collapsed": true
   },
   "outputs": [],
   "source": [
    "references = [ref.split(',') for ref in df[df['refs'].notnull()]['refs']]"
   ]
  },
  {
   "cell_type": "code",
   "execution_count": 77,
   "metadata": {
    "collapsed": true
   },
   "outputs": [],
   "source": [
    "n_refs = len(set([ref for reference in references for ref in reference]))"
   ]
  },
  {
   "cell_type": "code",
   "execution_count": 78,
   "metadata": {},
   "outputs": [
    {
     "name": "stdout",
     "output_type": "stream",
     "text": [
      "Total distinct authors:\t 1483290\n",
      "Total distinct venues:\t 255808\n",
      "Total publications:\t 1964961\n",
      "Total citations:\t 871089\n"
     ]
    }
   ],
   "source": [
    "print(\"Total distinct authors:\\t\", n_authors)\n",
    "print(\"Total distinct venues:\\t\", n_venues)\n",
    "print(\"Total publications:\\t\", n_pubs)\n",
    "print(\"Total citations:\\t\", n_refs)"
   ]
  },
  {
   "cell_type": "markdown",
   "metadata": {},
   "source": [
    "# 1b"
   ]
  },
  {
   "cell_type": "code",
   "execution_count": 165,
   "metadata": {
    "collapsed": true
   },
   "outputs": [],
   "source": [
    "df = sub(10)"
   ]
  },
  {
   "cell_type": "code",
   "execution_count": 156,
   "metadata": {
    "collapsed": true
   },
   "outputs": [],
   "source": [
    "venue_not_null = df[df['venue'].notnull()]"
   ]
  },
  {
   "cell_type": "code",
   "execution_count": null,
   "metadata": {
    "collapsed": true
   },
   "outputs": [],
   "source": [
    "venue_not_null[venue_not_null['venue'].str.contains('Principles and Practice of Knowledge Discovery in Databases')]"
   ]
  },
  {
   "cell_type": "markdown",
   "metadata": {
    "collapsed": true
   },
   "source": [
    "# 1c"
   ]
  },
  {
   "cell_type": "code",
   "execution_count": 106,
   "metadata": {
    "collapsed": true
   },
   "outputs": [],
   "source": [
    "batch_size = 10000"
   ]
  },
  {
   "cell_type": "code",
   "execution_count": 117,
   "metadata": {
    "collapsed": true
   },
   "outputs": [],
   "source": [
    "df, rows = sub(0)"
   ]
  },
  {
   "cell_type": "code",
   "execution_count": 118,
   "metadata": {},
   "outputs": [
    {
     "data": {
      "text/plain": [
       "1976815"
      ]
     },
     "execution_count": 118,
     "metadata": {},
     "output_type": "execute_result"
    }
   ],
   "source": [
    "rows"
   ]
  },
  {
   "cell_type": "code",
   "execution_count": 119,
   "metadata": {
    "collapsed": true
   },
   "outputs": [],
   "source": [
    "auth_counter = Counter()"
   ]
  },
  {
   "cell_type": "code",
   "execution_count": 120,
   "metadata": {
    "collapsed": true
   },
   "outputs": [],
   "source": [
    "def count_authors(batch):\n",
    "    #print(len(batch))\n",
    "    global auth_counter\n",
    "    for author in batch.str.split(';', expand=True).stack().values:\n",
    "        auth_counter[author] += 1"
   ]
  },
  {
   "cell_type": "code",
   "execution_count": 121,
   "metadata": {
    "collapsed": true
   },
   "outputs": [],
   "source": [
    "for i in range(rows//batch_size + 1):\n",
    "    start_index = batch_size * i\n",
    "    end_index = batch_size * (i + 1)\n",
    "    #print(start_index, end_index)\n",
    "    count_authors(df['authors'][start_index:end_index])"
   ]
  },
  {
   "cell_type": "code",
   "execution_count": 122,
   "metadata": {},
   "outputs": [
    {
     "data": {
      "text/plain": [
       "1483290"
      ]
     },
     "execution_count": 122,
     "metadata": {},
     "output_type": "execute_result"
    }
   ],
   "source": [
    "len(auth_counter)"
   ]
  },
  {
   "cell_type": "code",
   "execution_count": 142,
   "metadata": {
    "collapsed": true
   },
   "outputs": [],
   "source": [
    "counts = np.array(list(auth_counter.values()))"
   ]
  },
  {
   "cell_type": "code",
   "execution_count": 138,
   "metadata": {},
   "outputs": [
    {
     "data": {
      "text/plain": [
       "(array([  1.11540400e+06,   1.64361000e+05,   1.03145000e+05,\n",
       "          5.64970000e+04,   2.69760000e+04,   1.20030000e+04,\n",
       "          3.92800000e+03,   8.34000000e+02,   1.27000000e+02,\n",
       "          1.50000000e+01]),\n",
       " array([ 0.        ,  0.30236639,  0.60473278,  0.90709918,  1.20946557,\n",
       "         1.51183196,  1.81419835,  2.11656474,  2.41893113,  2.72129753,\n",
       "         3.02366392]),\n",
       " <a list of 10 Patch objects>)"
      ]
     },
     "execution_count": 138,
     "metadata": {},
     "output_type": "execute_result"
    },
    {
     "data": {
      "image/png": "[encoded data removed]",
      "text/plain": [
       "<matplotlib.figure.Figure at 0x7f08eb4d6198>"
      ]
     },
     "metadata": {},
     "output_type": "display_data"
    }
   ],
   "source": [
    "plt.hist(np.log10(list(auth_counter.values())))"
   ]
  },
  {
   "cell_type": "markdown",
   "metadata": {},
   "source": [
    "# 1d"
   ]
  },
  {
   "cell_type": "code",
   "execution_count": 158,
   "metadata": {
    "collapsed": true
   },
   "outputs": [],
   "source": [
    "def print_summary(values, string):\n",
    "    print(string, \": \", sep='')\n",
    "    print(\"Mean: \", np.mean(values), sep=\"\\t\\t\\t\")\n",
    "    print(\"1st quantile: \", np.percentile(values, 25), sep=\"\\t\\t\")\n",
    "    print(\"Median/2nd quantile: \", np.median(values), sep=\"\\t\")\n",
    "    print(\"3st quantile: \", np.percentile(values, 75), sep=\"\\t\\t\")\n",
    "    print(\"Standard deviation: \", np.std(values), sep=\"\\t\")"
   ]
  },
  {
   "cell_type": "code",
   "execution_count": 159,
   "metadata": {},
   "outputs": [
    {
     "name": "stdout",
     "output_type": "stream",
     "text": [
      "Number of publications per author:: \n",
      "Mean: \t\t\t3.28167586918\n",
      "1st quantile: \t\t1.0\n",
      "Median/2nd quantile: \t1.0\n",
      "3st quantile: \t\t2.0\n",
      "Standard deviation: \t8.83637959265\n"
     ]
    }
   ],
   "source": [
    "print_summary(counts, \"Number of publications per author:\")"
   ]
  },
  {
   "cell_type": "markdown",
   "metadata": {},
   "source": [
    "The mean and median are "
   ]
  },
  {
   "cell_type": "markdown",
   "metadata": {},
   "source": [
    "# 1e"
   ]
  },
  {
   "cell_type": "code",
   "execution_count": 160,
   "metadata": {
    "collapsed": true
   },
   "outputs": [],
   "source": [
    "pub_counter = Counter()"
   ]
  },
  {
   "cell_type": "code",
   "execution_count": 172,
   "metadata": {
    "collapsed": true
   },
   "outputs": [],
   "source": [
    "df, rows = sub(0)"
   ]
  },
  {
   "cell_type": "code",
   "execution_count": 174,
   "metadata": {
    "collapsed": true
   },
   "outputs": [],
   "source": [
    "publication_counts = df['venue'].value_counts()"
   ]
  },
  {
   "cell_type": "code",
   "execution_count": 177,
   "metadata": {},
   "outputs": [
    {
     "name": "stdout",
     "output_type": "stream",
     "text": [
      "Number of publications pper venue:: \n",
      "Mean: \t\t\t7.7309658368695855\n",
      "1st quantile: \t\t1.0\n",
      "Median/2nd quantile: \t1.0\n",
      "3st quantile: \t\t1.0\n",
      "Standard deviation: \t83.3809075405714\n"
     ]
    }
   ],
   "source": [
    "print_summary(publication_counts, \"Number of publications pper venue:\")"
   ]
  },
  {
   "cell_type": "code",
   "execution_count": 185,
   "metadata": {},
   "outputs": [
    {
     "name": "stdout",
     "output_type": "stream",
     "text": [
      "Venue with maximum publications:  IEEE Transactions on Information Theory\n"
     ]
    }
   ],
   "source": [
    "print(\"Venue with maximum publications: \", publication_counts.idxmax())"
   ]
  },
  {
   "cell_type": "markdown",
   "metadata": {},
   "source": [
    "# 1f "
   ]
  },
  {
   "cell_type": "markdown",
   "metadata": {},
   "source": [
    "Number of references"
   ]
  },
  {
   "cell_type": "code",
   "execution_count": 145,
   "metadata": {
    "collapsed": true
   },
   "outputs": [],
   "source": [
    "non_null_refs = df[df['refs'].notnull()]"
   ]
  },
  {
   "cell_type": "code",
   "execution_count": 127,
   "metadata": {},
   "outputs": [],
   "source": [
    "ref_counts = non_null_refs['refs'].str.count(',') + 1"
   ]
  },
  {
   "cell_type": "code",
   "execution_count": 68,
   "metadata": {},
   "outputs": [
    {
     "data": {
      "text/plain": [
       "(array([ 214.,    5.,    3.,    2.,    2.,    2.,    1.,    2.,    2.,    2.]),\n",
       " array([  1.00000000e+00,   7.29910000e+03,   1.45972000e+04,\n",
       "          2.18953000e+04,   2.91934000e+04,   3.64915000e+04,\n",
       "          4.37896000e+04,   5.10877000e+04,   5.83858000e+04,\n",
       "          6.56839000e+04,   7.29820000e+04]),\n",
       " <a list of 10 Patch objects>)"
      ]
     },
     "execution_count": 68,
     "metadata": {},
     "output_type": "execute_result"
    },
    {
     "data": {
      "image/png": "[encoded data removed]",
      "text/plain": [
       "<matplotlib.figure.Figure at 0x7f057284cb38>"
      ]
     },
     "metadata": {},
     "output_type": "display_data"
    }
   ],
   "source": [
    "plt.hist(ref_counts.value_counts())"
   ]
  },
  {
   "cell_type": "code",
   "execution_count": 146,
   "metadata": {},
   "outputs": [
    {
     "data": {
      "text/plain": [
       "title                                       Cited References\n",
       "authors    Johannes Grabmeier;Erich Kaltofen;Volker Weisp...\n",
       "year                                                    2003\n",
       "venue                              Computer algebra handbook\n",
       "refs       293,767,858,1363,1460,1807,1825,2172,2593,2835...\n",
       "abs                                                      NaN\n",
       "Name: 719353, dtype: object"
      ]
     },
     "execution_count": 146,
     "metadata": {},
     "output_type": "execute_result"
    }
   ],
   "source": [
    "non_null_refs.loc[ref_counts.idxmax()]"
   ]
  },
  {
   "cell_type": "markdown",
   "metadata": {},
   "source": [
    "This makes sense, as the paper seems to be just a list of publications"
   ]
  },
  {
   "cell_type": "markdown",
   "metadata": {},
   "source": [
    "Number of citations"
   ]
  },
  {
   "cell_type": "code",
   "execution_count": 26,
   "metadata": {
    "collapsed": true
   },
   "outputs": [],
   "source": [
    "df, rows = sub(0)"
   ]
  },
  {
   "cell_type": "code",
   "execution_count": 32,
   "metadata": {},
   "outputs": [],
   "source": [
    "def count_citations(batch):\n",
    "    global citation_counter\n",
    "    for reference in batch.str.split(',', expand=True).stack().values:\n",
    "        citation_counter[reference] += 1"
   ]
  },
  {
   "cell_type": "code",
   "execution_count": 64,
   "metadata": {},
   "outputs": [],
   "source": [
    "citation_counter = Counter()\n",
    "batch_size = 10000\n",
    "for i in range(rows//batch_size + 1):\n",
    "    start_index = batch_size * i\n",
    "    end_index = batch_size * (i + 1)\n",
    "    count_citations(non_null_refs['refs'][start_index:end_index])"
   ]
  },
  {
   "cell_type": "code",
   "execution_count": 149,
   "metadata": {},
   "outputs": [
    {
     "data": {
      "text/plain": [
       "title      Fuzzy Switching and Automata: Theory and Appli...\n",
       "authors                         Abraham Kandel;Samuel C. Lee\n",
       "year                                                    1979\n",
       "venue      Fuzzy Switching and Automata: Theory and Appli...\n",
       "refs                                                     NaN\n",
       "abs                                                      NaN\n",
       "Name: 408398, dtype: object"
      ]
     },
     "execution_count": 149,
     "metadata": {},
     "output_type": "execute_result"
    }
   ],
   "source": [
    "df.iloc[int(citation_counter.most_common()[0][0])]"
   ]
  },
  {
   "cell_type": "markdown",
   "metadata": {},
   "source": [
    "This is a very old paper, 1979, makes sense that it has the most references."
   ]
  },
  {
   "cell_type": "markdown",
   "metadata": {},
   "source": [
    "# 1g"
   ]
  },
  {
   "cell_type": "code",
   "execution_count": 153,
   "metadata": {},
   "outputs": [],
   "source": [
    "citations_per_venue_counter = Counter()\n",
    "def citations_per_venue():\n",
    "    return"
   ]
  }
 ],
 "metadata": {
  "kernelspec": {
   "display_name": "Python 3",
   "language": "python",
   "name": "python3"
  },
  "language_info": {
   "codemirror_mode": {
    "name": "ipython",
    "version": 3
   },
   "file_extension": ".py",
   "mimetype": "text/x-python",
   "name": "python",
   "nbconvert_exporter": "python",
   "pygments_lexer": "ipython3",
   "version": "3.6.3"
  }
 },
 "nbformat": 4,
 "nbformat_minor": 2
}
