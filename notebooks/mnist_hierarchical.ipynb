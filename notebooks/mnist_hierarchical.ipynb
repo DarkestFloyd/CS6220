{
 "cells": [
  {
   "cell_type": "code",
   "execution_count": 1,
   "metadata": {},
   "outputs": [],
   "source": [
    "import numpy as np\n",
    "from mnist import MNIST\n",
    "from sklearn.cluster import AgglomerativeClustering"
   ]
  },
  {
   "cell_type": "code",
   "execution_count": 2,
   "metadata": {},
   "outputs": [],
   "source": [
    "mnist_loader = MNIST(\"../data/mnist/\")\n",
    "mnist_loader.gz = True"
   ]
  },
  {
   "cell_type": "code",
   "execution_count": 3,
   "metadata": {},
   "outputs": [],
   "source": [
    "images, labels = mnist_loader.load_training()"
   ]
  },
  {
   "cell_type": "code",
   "execution_count": 4,
   "metadata": {},
   "outputs": [],
   "source": [
    "images = np.array(images)\n",
    "labels = np.array(labels)"
   ]
  },
  {
   "cell_type": "code",
   "execution_count": 5,
   "metadata": {},
   "outputs": [],
   "source": [
    "n_rows, dims = images.shape"
   ]
  },
  {
   "cell_type": "markdown",
   "metadata": {},
   "source": [
    "Sampling, 5000 datapoints (500 from each label)"
   ]
  },
  {
   "cell_type": "code",
   "execution_count": 17,
   "metadata": {},
   "outputs": [],
   "source": [
    "sample_size = 1000\n",
    "total_labels = 10"
   ]
  },
  {
   "cell_type": "code",
   "execution_count": 38,
   "metadata": {},
   "outputs": [],
   "source": [
    "label_idx = {}\n",
    "np.random.seed(42)\n",
    "\n",
    "# pick datapoints\n",
    "for idx in range(total_labels):\n",
    "    label_idx[idx] = np.random.choice(np.where(labels == idx)[0], sample_size, replace=False)\n",
    "\n",
    "# placeholder\n",
    "mnist_sub = np.empty((sample_size * total_labels, dims), dtype='int16')\n",
    "labels_sub = np.empty((sample_size * total_labels, 1), dtype='int8')\n",
    "\n",
    "# add value to placeholder\n",
    "for idx in range(total_labels):\n",
    "    start = idx * sample_size\n",
    "    end = (idx + 1) * sample_size\n",
    "    mnist_sub[start:end] = images[label_idx[idx]]\n",
    "    labels_sub[start:end] = idx\n",
    "\n",
    "# shuffle new data\n",
    "s = np.arange(sample_size * total_labels)\n",
    "np.random.shuffle(s)\n",
    "mnist_sub = mnist_sub[s]\n",
    "labels_sub = labels_sub[s]\n",
    "\n",
    "# free up space\n",
    "del images, labels"
   ]
  },
  {
   "cell_type": "code",
   "execution_count": 40,
   "metadata": {},
   "outputs": [],
   "source": [
    "model = AgglomerativeClustering(n_clusters=10)"
   ]
  },
  {
   "cell_type": "code",
   "execution_count": 42,
   "metadata": {},
   "outputs": [
    {
     "data": {
      "text/plain": [
       "AgglomerativeClustering(affinity='euclidean', compute_full_tree='auto',\n",
       "            connectivity=None, linkage='ward', memory=None, n_clusters=10,\n",
       "            pooling_func=<function mean at 0x7f59a40e2b70>)"
      ]
     },
     "execution_count": 42,
     "metadata": {},
     "output_type": "execute_result"
    }
   ],
   "source": [
    "%%time\n",
    "model.fit(mnist_sub)"
   ]
  },
  {
   "cell_type": "code",
   "execution_count": 47,
   "metadata": {},
   "outputs": [],
   "source": [
    "yhat = model.labels_"
   ]
  },
  {
   "cell_type": "code",
   "execution_count": 62,
   "metadata": {},
   "outputs": [],
   "source": [
    "conf_mat = np.empty((total_labels, 10), dtype='int32')\n",
    "for idx in range(total_labels):\n",
    "    true_labels = labels_sub[np.where(yhat == idx)[0]].ravel()\n",
    "    conf_mat[idx] = np.bincount(true_labels, minlength=10)"
   ]
  },
  {
   "cell_type": "code",
   "execution_count": 69,
   "metadata": {},
   "outputs": [
    {
     "data": {
      "text/plain": [
       "0.4349750619688919"
      ]
     },
     "execution_count": 69,
     "metadata": {},
     "output_type": "execute_result"
    }
   ],
   "source": [
    "def gini(confusion_matrix):\n",
    "    Mj = confusion_matrix.sum(axis=1, keepdims=True)\n",
    "    gj = 1 - ((confusion_matrix/Mj)**2).sum(axis=1, keepdims=True)\n",
    "    return (sum(gj*Mj)/sum(Mj))[0]\n",
    "\n",
    "gini(conf_mat)"
   ]
  },
  {
   "cell_type": "code",
   "execution_count": 70,
   "metadata": {},
   "outputs": [
    {
     "data": {
      "text/plain": [
       "0.6462"
      ]
     },
     "execution_count": 70,
     "metadata": {},
     "output_type": "execute_result"
    }
   ],
   "source": [
    "def purity(confusion_matrix):\n",
    "    Pj = confusion_matrix.max(axis=1)\n",
    "    Mj = confusion_matrix.sum(axis=1)\n",
    "    return sum(Pj)/sum(Mj)\n",
    "\n",
    "purity(conf_mat)"
   ]
  },
  {
   "cell_type": "code",
   "execution_count": null,
   "metadata": {},
   "outputs": [],
   "source": []
  }
 ],
 "metadata": {
  "kernelspec": {
   "display_name": "Python 3",
   "language": "python",
   "name": "python3"
  },
  "language_info": {
   "codemirror_mode": {
    "name": "ipython",
    "version": 3
   },
   "file_extension": ".py",
   "mimetype": "text/x-python",
   "name": "python",
   "nbconvert_exporter": "python",
   "pygments_lexer": "ipython3",
   "version": "3.6.4"
  }
 },
 "nbformat": 4,
 "nbformat_minor": 2
}
