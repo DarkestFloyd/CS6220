{
 "cells": [
  {
   "cell_type": "code",
   "execution_count": 1,
   "metadata": {
    "collapsed": true
   },
   "outputs": [],
   "source": [
    "import numpy as np\n",
    "import pandas as pd\n",
    "import matplotlib.pyplot as plt\n",
    "%matplotlib inline\n",
    "from tqdm import tqdm\n",
    "from collections import Counter"
   ]
  },
  {
   "cell_type": "code",
   "execution_count": null,
   "metadata": {
    "collapsed": true
   },
   "outputs": [],
   "source": [
    "#df = pd.read_table(\"../data/Aminer/AP_train.tsv\", sep = \"\\t+\", index_col = 0, engine = 'python')\n",
    "#save to pickle for faster loading in future\n",
    "#df.to_pickle(\"../data/Aminer/AP_train.pickle\")"
   ]
  },
  {
   "cell_type": "code",
   "execution_count": 2,
   "metadata": {
    "collapsed": true
   },
   "outputs": [],
   "source": [
    "df = pd.read_pickle(\"../data/Aminer/AP_train.pickle\")"
   ]
  },
  {
   "cell_type": "code",
   "execution_count": 6,
   "metadata": {},
   "outputs": [
    {
     "data": {
      "text/html": [
       "<div>\n",
       "<style>\n",
       "    .dataframe thead tr:only-child th {\n",
       "        text-align: right;\n",
       "    }\n",
       "\n",
       "    .dataframe thead th {\n",
       "        text-align: left;\n",
       "    }\n",
       "\n",
       "    .dataframe tbody tr th {\n",
       "        vertical-align: top;\n",
       "    }\n",
       "</style>\n",
       "<table border=\"1\" class=\"dataframe\">\n",
       "  <thead>\n",
       "    <tr style=\"text-align: right;\">\n",
       "      <th></th>\n",
       "      <th>title</th>\n",
       "      <th>authors</th>\n",
       "      <th>year</th>\n",
       "      <th>venue</th>\n",
       "      <th>refs</th>\n",
       "      <th>abs</th>\n",
       "    </tr>\n",
       "    <tr>\n",
       "      <th>index</th>\n",
       "      <th></th>\n",
       "      <th></th>\n",
       "      <th></th>\n",
       "      <th></th>\n",
       "      <th></th>\n",
       "      <th></th>\n",
       "    </tr>\n",
       "  </thead>\n",
       "  <tbody>\n",
       "    <tr>\n",
       "      <th>11</th>\n",
       "      <td>Lower Bounds and Fast Algorithms for Sequence ...</td>\n",
       "      <td>George M. Trojan</td>\n",
       "      <td>1984.0</td>\n",
       "      <td>Journal of the ACM (JACM)</td>\n",
       "      <td>NaN</td>\n",
       "      <td>NaN</td>\n",
       "    </tr>\n",
       "    <tr>\n",
       "      <th>12</th>\n",
       "      <td>Space-Time Trade-Offs for Banded Matrix Problems</td>\n",
       "      <td>John E. Savage</td>\n",
       "      <td>1984.0</td>\n",
       "      <td>Journal of the ACM (JACM)</td>\n",
       "      <td>289024,408638,600828,688897</td>\n",
       "      <td>NaN</td>\n",
       "    </tr>\n",
       "    <tr>\n",
       "      <th>13</th>\n",
       "      <td>The VLSI Complexity of Selected Graph Problems</td>\n",
       "      <td>Joseph Já Já</td>\n",
       "      <td>1984.0</td>\n",
       "      <td>Journal of the ACM (JACM)</td>\n",
       "      <td>769,289452,319821,408343,598672,598673,598675,...</td>\n",
       "      <td>NaN</td>\n",
       "    </tr>\n",
       "    <tr>\n",
       "      <th>14</th>\n",
       "      <td>Computability with Pascal</td>\n",
       "      <td>John S. Mallozzi;Nicholas J. De Lillo</td>\n",
       "      <td>1984.0</td>\n",
       "      <td>Computability with Pascal</td>\n",
       "      <td>NaN</td>\n",
       "      <td>NaN</td>\n",
       "    </tr>\n",
       "    <tr>\n",
       "      <th>15</th>\n",
       "      <td>Ambiguity and decision problems concerning num...</td>\n",
       "      <td>Karel Culik, II;Arto Salomaa</td>\n",
       "      <td>1984.0</td>\n",
       "      <td>Information and Control</td>\n",
       "      <td>NaN</td>\n",
       "      <td>NaN</td>\n",
       "    </tr>\n",
       "    <tr>\n",
       "      <th>16</th>\n",
       "      <td>The implication problem for functional and inc...</td>\n",
       "      <td>John C. Mitchell</td>\n",
       "      <td>1984.0</td>\n",
       "      <td>Information and Control</td>\n",
       "      <td>NaN</td>\n",
       "      <td>NaN</td>\n",
       "    </tr>\n",
       "    <tr>\n",
       "      <th>17</th>\n",
       "      <td>Cynamic parallel memories</td>\n",
       "      <td>Uzi Vishkin;Avi Wigderson</td>\n",
       "      <td>1984.0</td>\n",
       "      <td>Information and Control</td>\n",
       "      <td>NaN</td>\n",
       "      <td>NaN</td>\n",
       "    </tr>\n",
       "    <tr>\n",
       "      <th>18</th>\n",
       "      <td>Succinct representations of graphs</td>\n",
       "      <td>Hana Galperin;Avi Wigderson</td>\n",
       "      <td>1984.0</td>\n",
       "      <td>Information and Control</td>\n",
       "      <td>NaN</td>\n",
       "      <td>NaN</td>\n",
       "    </tr>\n",
       "    <tr>\n",
       "      <th>19</th>\n",
       "      <td>On storage media with after effects</td>\n",
       "      <td>H. S. Witsenhausen;A. D. Wyner</td>\n",
       "      <td>1984.0</td>\n",
       "      <td>Information and Control</td>\n",
       "      <td>NaN</td>\n",
       "      <td>NaN</td>\n",
       "    </tr>\n",
       "    <tr>\n",
       "      <th>20</th>\n",
       "      <td>A necessary and sufficient condition in order ...</td>\n",
       "      <td>NaN</td>\n",
       "      <td>1984.0</td>\n",
       "      <td>Information and Control</td>\n",
       "      <td>NaN</td>\n",
       "      <td>NaN</td>\n",
       "    </tr>\n",
       "  </tbody>\n",
       "</table>\n",
       "</div>"
      ],
      "text/plain": [
       "                                                   title  \\\n",
       "index                                                      \n",
       "11     Lower Bounds and Fast Algorithms for Sequence ...   \n",
       "12      Space-Time Trade-Offs for Banded Matrix Problems   \n",
       "13        The VLSI Complexity of Selected Graph Problems   \n",
       "14                             Computability with Pascal   \n",
       "15     Ambiguity and decision problems concerning num...   \n",
       "16     The implication problem for functional and inc...   \n",
       "17                             Cynamic parallel memories   \n",
       "18                    Succinct representations of graphs   \n",
       "19                   On storage media with after effects   \n",
       "20     A necessary and sufficient condition in order ...   \n",
       "\n",
       "                                     authors    year  \\\n",
       "index                                                  \n",
       "11                          George M. Trojan  1984.0   \n",
       "12                            John E. Savage  1984.0   \n",
       "13                              Joseph Já Já  1984.0   \n",
       "14     John S. Mallozzi;Nicholas J. De Lillo  1984.0   \n",
       "15              Karel Culik, II;Arto Salomaa  1984.0   \n",
       "16                          John C. Mitchell  1984.0   \n",
       "17                 Uzi Vishkin;Avi Wigderson  1984.0   \n",
       "18               Hana Galperin;Avi Wigderson  1984.0   \n",
       "19            H. S. Witsenhausen;A. D. Wyner  1984.0   \n",
       "20                                       NaN  1984.0   \n",
       "\n",
       "                           venue  \\\n",
       "index                              \n",
       "11     Journal of the ACM (JACM)   \n",
       "12     Journal of the ACM (JACM)   \n",
       "13     Journal of the ACM (JACM)   \n",
       "14     Computability with Pascal   \n",
       "15       Information and Control   \n",
       "16       Information and Control   \n",
       "17       Information and Control   \n",
       "18       Information and Control   \n",
       "19       Information and Control   \n",
       "20       Information and Control   \n",
       "\n",
       "                                                    refs  abs  \n",
       "index                                                          \n",
       "11                                                   NaN  NaN  \n",
       "12                           289024,408638,600828,688897  NaN  \n",
       "13     769,289452,319821,408343,598672,598673,598675,...  NaN  \n",
       "14                                                   NaN  NaN  \n",
       "15                                                   NaN  NaN  \n",
       "16                                                   NaN  NaN  \n",
       "17                                                   NaN  NaN  \n",
       "18                                                   NaN  NaN  \n",
       "19                                                   NaN  NaN  \n",
       "20                                                   NaN  NaN  "
      ]
     },
     "execution_count": 6,
     "metadata": {},
     "output_type": "execute_result"
    }
   ],
   "source": [
    "df.head(20).tail(10)"
   ]
  },
  {
   "cell_type": "code",
   "execution_count": 7,
   "metadata": {},
   "outputs": [
    {
     "data": {
      "text/plain": [
       "1976815"
      ]
     },
     "execution_count": 7,
     "metadata": {},
     "output_type": "execute_result"
    }
   ],
   "source": [
    "n_rows = df.shape[0]\n",
    "n_rows"
   ]
  },
  {
   "cell_type": "markdown",
   "metadata": {
    "collapsed": true
   },
   "source": [
    "# 1a"
   ]
  },
  {
   "cell_type": "code",
   "execution_count": 8,
   "metadata": {},
   "outputs": [
    {
     "name": "stdout",
     "output_type": "stream",
     "text": [
      "Total distinct authors:\t 1483290\n",
      "Total distinct venues:\t 255808\n",
      "Total publications:\t 1964961\n",
      "Total citations:\t 871089\n"
     ]
    }
   ],
   "source": [
    "authors = [author.split(';') for author in df[df['authors'].notnull()]['authors']]\n",
    "n_authors = len(set([name for author in authors for name in author]))\n",
    "n_venues = len(set(df['venue']))\n",
    "n_pubs = df[['title', 'authors', 'year', 'venue']].drop_duplicates().shape[0]\n",
    "references = [ref.split(',') for ref in df[df['refs'].notnull()]['refs']]\n",
    "n_refs = len(set([ref for reference in references for ref in reference]))\n",
    "print(\"Total distinct authors:\\t\", n_authors)\n",
    "print(\"Total distinct venues:\\t\", n_venues)\n",
    "print(\"Total publications:\\t\", n_pubs)\n",
    "print(\"Total citations:\\t\", n_refs) # total | distinct"
   ]
  },
  {
   "cell_type": "markdown",
   "metadata": {},
   "source": [
    "# 1b"
   ]
  },
  {
   "cell_type": "code",
   "execution_count": 5,
   "metadata": {
    "collapsed": true
   },
   "outputs": [
    {
     "data": {
      "text/html": [
       "<div>\n",
       "<style>\n",
       "    .dataframe thead tr:only-child th {\n",
       "        text-align: right;\n",
       "    }\n",
       "\n",
       "    .dataframe thead th {\n",
       "        text-align: left;\n",
       "    }\n",
       "\n",
       "    .dataframe tbody tr th {\n",
       "        vertical-align: top;\n",
       "    }\n",
       "</style>\n",
       "<table border=\"1\" class=\"dataframe\">\n",
       "  <thead>\n",
       "    <tr style=\"text-align: right;\">\n",
       "      <th></th>\n",
       "      <th>title</th>\n",
       "      <th>authors</th>\n",
       "      <th>year</th>\n",
       "      <th>venue</th>\n",
       "      <th>refs</th>\n",
       "      <th>abs</th>\n",
       "    </tr>\n",
       "    <tr>\n",
       "      <th>index</th>\n",
       "      <th></th>\n",
       "      <th></th>\n",
       "      <th></th>\n",
       "      <th></th>\n",
       "      <th></th>\n",
       "      <th></th>\n",
       "    </tr>\n",
       "  </thead>\n",
       "  <tbody>\n",
       "    <tr>\n",
       "      <th>799597</th>\n",
       "      <td>Summarization of dynamic content in web collec...</td>\n",
       "      <td>Adam Jatowt;Mitsuru Ishizuka</td>\n",
       "      <td>2004.0</td>\n",
       "      <td>PKDD '04 Proceedings of the 8th European Confe...</td>\n",
       "      <td>168251,207272,217578,272249,287616,357908,4117...</td>\n",
       "      <td>This paper describes a new research proposal o...</td>\n",
       "    </tr>\n",
       "    <tr>\n",
       "      <th>799734</th>\n",
       "      <td>Proceedings of the 8th European Conference on ...</td>\n",
       "      <td>Jean-François Boulicaut;Floriana Esposito;Fosc...</td>\n",
       "      <td>2004.0</td>\n",
       "      <td>PKDD '04 Proceedings of the 8th European Confe...</td>\n",
       "      <td>NaN</td>\n",
       "      <td>NaN</td>\n",
       "    </tr>\n",
       "    <tr>\n",
       "      <th>799735</th>\n",
       "      <td>Random matrices in data analysis</td>\n",
       "      <td>Dimitris Achlioptas</td>\n",
       "      <td>2004.0</td>\n",
       "      <td>PKDD '04 Proceedings of the 8th European Confe...</td>\n",
       "      <td>NaN</td>\n",
       "      <td>We show how carefully crafted random matrices ...</td>\n",
       "    </tr>\n",
       "    <tr>\n",
       "      <th>799736</th>\n",
       "      <td>Data privacy</td>\n",
       "      <td>Rakesh Agrawal</td>\n",
       "      <td>2004.0</td>\n",
       "      <td>PKDD '04 Proceedings of the 8th European Confe...</td>\n",
       "      <td>NaN</td>\n",
       "      <td>There is increasing need to build information ...</td>\n",
       "    </tr>\n",
       "    <tr>\n",
       "      <th>799737</th>\n",
       "      <td>Breaking through the syntax barrier: searching...</td>\n",
       "      <td>Soumen Chakrabarti</td>\n",
       "      <td>2004.0</td>\n",
       "      <td>PKDD '04 Proceedings of the 8th European Confe...</td>\n",
       "      <td>NaN</td>\n",
       "      <td>The next wave in search technology will be dri...</td>\n",
       "    </tr>\n",
       "    <tr>\n",
       "      <th>799738</th>\n",
       "      <td>Real-world learning with Markov logic networks</td>\n",
       "      <td>Pedro Domingos</td>\n",
       "      <td>2004.0</td>\n",
       "      <td>PKDD '04 Proceedings of the 8th European Confe...</td>\n",
       "      <td>NaN</td>\n",
       "      <td>Machine learning and data mining systems have ...</td>\n",
       "    </tr>\n",
       "    <tr>\n",
       "      <th>799739</th>\n",
       "      <td>Strength in diversity: the advance of data ana...</td>\n",
       "      <td>David J. Hand</td>\n",
       "      <td>2004.0</td>\n",
       "      <td>PKDD '04 Proceedings of the 8th European Confe...</td>\n",
       "      <td>NaN</td>\n",
       "      <td>The scientific analysis of data is only around...</td>\n",
       "    </tr>\n",
       "    <tr>\n",
       "      <th>799740</th>\n",
       "      <td>Mining positive and negative association rules...</td>\n",
       "      <td>Maria-Luiza Antonie;Osmar R. Zaïane</td>\n",
       "      <td>2004.0</td>\n",
       "      <td>PKDD '04 Proceedings of the 8th European Confe...</td>\n",
       "      <td>NaN</td>\n",
       "      <td>Typical association rules consider only items ...</td>\n",
       "    </tr>\n",
       "    <tr>\n",
       "      <th>799741</th>\n",
       "      <td>An experiment on knowledge discovery in chemic...</td>\n",
       "      <td>Sandra Berasaluce;Claude Laurenço;Amedeosw Nap...</td>\n",
       "      <td>2004.0</td>\n",
       "      <td>PKDD '04 Proceedings of the 8th European Confe...</td>\n",
       "      <td>NaN</td>\n",
       "      <td>In this paper, we present an experiment on kno...</td>\n",
       "    </tr>\n",
       "    <tr>\n",
       "      <th>799742</th>\n",
       "      <td>Shape and size regularization in expectation m...</td>\n",
       "      <td>Christian Borgelt;Rudolf Kruse</td>\n",
       "      <td>2004.0</td>\n",
       "      <td>PKDD '04 Proceedings of the 8th European Confe...</td>\n",
       "      <td>NaN</td>\n",
       "      <td>The more sophisticated fuzzy clustering algori...</td>\n",
       "    </tr>\n",
       "    <tr>\n",
       "      <th>799743</th>\n",
       "      <td>Combining multiple clustering systems</td>\n",
       "      <td>Constantinos Boulis;Mari Ostendorf</td>\n",
       "      <td>2004.0</td>\n",
       "      <td>PKDD '04 Proceedings of the 8th European Confe...</td>\n",
       "      <td>NaN</td>\n",
       "      <td>Three methods for combining multiple clusterin...</td>\n",
       "    </tr>\n",
       "    <tr>\n",
       "      <th>799744</th>\n",
       "      <td>Reducing data stream sliding windows by cyclic...</td>\n",
       "      <td>Francesco Buccafurri;Gianluca Lax</td>\n",
       "      <td>2004.0</td>\n",
       "      <td>PKDD '04 Proceedings of the 8th European Confe...</td>\n",
       "      <td>NaN</td>\n",
       "      <td>Data reduction is a basic step in a KDD proces...</td>\n",
       "    </tr>\n",
       "    <tr>\n",
       "      <th>799745</th>\n",
       "      <td>A framework for data mining pattern management</td>\n",
       "      <td>Barbara Catania;Anna Maddalena;Maurizio Mazza;...</td>\n",
       "      <td>2004.0</td>\n",
       "      <td>PKDD '04 Proceedings of the 8th European Confe...</td>\n",
       "      <td>NaN</td>\n",
       "      <td>To represent and manage data mining patterns, ...</td>\n",
       "    </tr>\n",
       "    <tr>\n",
       "      <th>799746</th>\n",
       "      <td>Spatial associative classification at differen...</td>\n",
       "      <td>Michelangelo Ceci;Annalisa Appice;Donato Malerba</td>\n",
       "      <td>2004.0</td>\n",
       "      <td>PKDD '04 Proceedings of the 8th European Confe...</td>\n",
       "      <td>NaN</td>\n",
       "      <td>In this paper we propose a novel spatial assoc...</td>\n",
       "    </tr>\n",
       "    <tr>\n",
       "      <th>799747</th>\n",
       "      <td>AutoPart: parameter-free graph partitioning an...</td>\n",
       "      <td>Deepayan Chakrabarti</td>\n",
       "      <td>2004.0</td>\n",
       "      <td>PKDD '04 Proceedings of the 8th European Confe...</td>\n",
       "      <td>NaN</td>\n",
       "      <td>Graphs arise in numerous applications, such as...</td>\n",
       "    </tr>\n",
       "    <tr>\n",
       "      <th>799748</th>\n",
       "      <td>Properties and benefits of calibrated classifiers</td>\n",
       "      <td>Ira Cohen;Moises Goldszmidt</td>\n",
       "      <td>2004.0</td>\n",
       "      <td>PKDD '04 Proceedings of the 8th European Confe...</td>\n",
       "      <td>NaN</td>\n",
       "      <td>A calibrated classifier provides reliable esti...</td>\n",
       "    </tr>\n",
       "    <tr>\n",
       "      <th>799749</th>\n",
       "      <td>A tree-based approach to clustering XML docume...</td>\n",
       "      <td>Gianni Costa;Giuseppe Manco;Riccardo Ortale;An...</td>\n",
       "      <td>2004.0</td>\n",
       "      <td>PKDD '04 Proceedings of the 8th European Confe...</td>\n",
       "      <td>NaN</td>\n",
       "      <td>We propose a novel methodology for clustering ...</td>\n",
       "    </tr>\n",
       "    <tr>\n",
       "      <th>799750</th>\n",
       "      <td>Discovery of regulatory connections in microar...</td>\n",
       "      <td>Michael Egmont-Petersen;Wim de Jonge;Arno Siebes</td>\n",
       "      <td>2004.0</td>\n",
       "      <td>PKDD '04 Proceedings of the 8th European Confe...</td>\n",
       "      <td>NaN</td>\n",
       "      <td>In this paper, we introduce a new approach for...</td>\n",
       "    </tr>\n",
       "    <tr>\n",
       "      <th>799751</th>\n",
       "      <td>Learning from little: comparison of classifier...</td>\n",
       "      <td>George Forman;Ira Cohen</td>\n",
       "      <td>2004.0</td>\n",
       "      <td>PKDD '04 Proceedings of the 8th European Confe...</td>\n",
       "      <td>NaN</td>\n",
       "      <td>Many real-world machine learning tasks are fac...</td>\n",
       "    </tr>\n",
       "    <tr>\n",
       "      <th>799752</th>\n",
       "      <td>Geometric and combinatorial tiles in 0-1 data</td>\n",
       "      <td>Aristides Gionis;Heikki Mannila;Jouni K. Seppänen</td>\n",
       "      <td>2004.0</td>\n",
       "      <td>PKDD '04 Proceedings of the 8th European Confe...</td>\n",
       "      <td>NaN</td>\n",
       "      <td>In this paper we introduce a simple probabilis...</td>\n",
       "    </tr>\n",
       "    <tr>\n",
       "      <th>799753</th>\n",
       "      <td>Document classification through interactive su...</td>\n",
       "      <td>Shantanu Godbole;Abhay Harpale;Sunita Sarawagi...</td>\n",
       "      <td>2004.0</td>\n",
       "      <td>PKDD '04 Proceedings of the 8th European Confe...</td>\n",
       "      <td>NaN</td>\n",
       "      <td>Effective incorporation of human expertise, wh...</td>\n",
       "    </tr>\n",
       "    <tr>\n",
       "      <th>799754</th>\n",
       "      <td>Classifying protein fingerprints</td>\n",
       "      <td>Melanie Hilario;Alex Mitchell;Jee-Hyub Kim;Pau...</td>\n",
       "      <td>2004.0</td>\n",
       "      <td>PKDD '04 Proceedings of the 8th European Confe...</td>\n",
       "      <td>NaN</td>\n",
       "      <td>Protein fingerprints are groups of conserved m...</td>\n",
       "    </tr>\n",
       "    <tr>\n",
       "      <th>799755</th>\n",
       "      <td>Finding interesting pass patterns from soccer ...</td>\n",
       "      <td>Shoji Hirano;Shusaku Tsumoto</td>\n",
       "      <td>2004.0</td>\n",
       "      <td>PKDD '04 Proceedings of the 8th European Confe...</td>\n",
       "      <td>NaN</td>\n",
       "      <td>This paper presents a novel method for finding...</td>\n",
       "    </tr>\n",
       "    <tr>\n",
       "      <th>799756</th>\n",
       "      <td>Discovering unexpected information for technol...</td>\n",
       "      <td>François Jacquenet;Christine Largeron</td>\n",
       "      <td>2004.0</td>\n",
       "      <td>PKDD '04 Proceedings of the 8th European Confe...</td>\n",
       "      <td>NaN</td>\n",
       "      <td>The purpose of technology watch is to gather, ...</td>\n",
       "    </tr>\n",
       "    <tr>\n",
       "      <th>799757</th>\n",
       "      <td>Scalable density-based distributed clustering</td>\n",
       "      <td>Eshref Januzaj;Hans-Peter Kriegel;Martin Pfeifle</td>\n",
       "      <td>2004.0</td>\n",
       "      <td>PKDD '04 Proceedings of the 8th European Confe...</td>\n",
       "      <td>NaN</td>\n",
       "      <td>Clustering has become an increasingly importan...</td>\n",
       "    </tr>\n",
       "    <tr>\n",
       "      <th>799758</th>\n",
       "      <td>Summarization of dynamic content in web collec...</td>\n",
       "      <td>Adam Jatowt;Mitsuru Ishizuka</td>\n",
       "      <td>2004.0</td>\n",
       "      <td>PKDD '04 Proceedings of the 8th European Confe...</td>\n",
       "      <td>NaN</td>\n",
       "      <td>This paper describes a new research proposal o...</td>\n",
       "    </tr>\n",
       "    <tr>\n",
       "      <th>799759</th>\n",
       "      <td>Mining thick skylines over large databases</td>\n",
       "      <td>Wen Jin;Jiawei Han;Martin Ester</td>\n",
       "      <td>2004.0</td>\n",
       "      <td>PKDD '04 Proceedings of the 8th European Confe...</td>\n",
       "      <td>NaN</td>\n",
       "      <td>People recently are interested in a new operat...</td>\n",
       "    </tr>\n",
       "    <tr>\n",
       "      <th>799760</th>\n",
       "      <td>Ensemble feature ranking</td>\n",
       "      <td>Kees Jong;Jérémie Mary;Antoine Cornuéjols;Elen...</td>\n",
       "      <td>2004.0</td>\n",
       "      <td>PKDD '04 Proceedings of the 8th European Confe...</td>\n",
       "      <td>NaN</td>\n",
       "      <td>A crucial issue for Machine Learning and Data ...</td>\n",
       "    </tr>\n",
       "    <tr>\n",
       "      <th>799761</th>\n",
       "      <td>Privately computing a distributed k-nn classifier</td>\n",
       "      <td>Murat Kantarcioglu;Chris Clifton</td>\n",
       "      <td>2004.0</td>\n",
       "      <td>PKDD '04 Proceedings of the 8th European Confe...</td>\n",
       "      <td>NaN</td>\n",
       "      <td>The ability of databases to organize and share...</td>\n",
       "    </tr>\n",
       "    <tr>\n",
       "      <th>799762</th>\n",
       "      <td>Incremental nonlinear PCA for classification</td>\n",
       "      <td>Byung Joo Kim;Il Kon Kim</td>\n",
       "      <td>2004.0</td>\n",
       "      <td>PKDD '04 Proceedings of the 8th European Confe...</td>\n",
       "      <td>NaN</td>\n",
       "      <td>The purpose of this study is to propose a new ...</td>\n",
       "    </tr>\n",
       "    <tr>\n",
       "      <th>...</th>\n",
       "      <td>...</td>\n",
       "      <td>...</td>\n",
       "      <td>...</td>\n",
       "      <td>...</td>\n",
       "      <td>...</td>\n",
       "      <td>...</td>\n",
       "    </tr>\n",
       "    <tr>\n",
       "      <th>1673594</th>\n",
       "      <td>Corpus-based neural network method for explain...</td>\n",
       "      <td>Bálint Gábor;Viktor Gyenes;András Lőrincz</td>\n",
       "      <td>2005.0</td>\n",
       "      <td>PKDD'05 Proceedings of the 9th European confer...</td>\n",
       "      <td>356892,458630,669201</td>\n",
       "      <td>This paper introduces an unsupervised algorith...</td>\n",
       "    </tr>\n",
       "    <tr>\n",
       "      <th>1673595</th>\n",
       "      <td>Segment and combine approach for non-parametri...</td>\n",
       "      <td>Pierre Geurts;Louis Wehenkel</td>\n",
       "      <td>2005.0</td>\n",
       "      <td>PKDD'05 Proceedings of the 9th European confer...</td>\n",
       "      <td>302383,466260,478460,715296,799392,799394,812305</td>\n",
       "      <td>This paper presents a novel, generic, scalable...</td>\n",
       "    </tr>\n",
       "    <tr>\n",
       "      <th>1673596</th>\n",
       "      <td>Producing accurate interpretable clusters from...</td>\n",
       "      <td>Derek Greene;Pádraig Cunningham</td>\n",
       "      <td>2005.0</td>\n",
       "      <td>PKDD'05 Proceedings of the 9th European confer...</td>\n",
       "      <td>329562,342621,643008,722902,783511</td>\n",
       "      <td>The primary goal of cluster analysis is to pro...</td>\n",
       "    </tr>\n",
       "    <tr>\n",
       "      <th>1673597</th>\n",
       "      <td>Stress-testing hoeffding trees</td>\n",
       "      <td>Geoffrey Holmes;Richard Kirkby;Bernhard Pfahri...</td>\n",
       "      <td>2005.0</td>\n",
       "      <td>PKDD'05 Proceedings of the 9th European confer...</td>\n",
       "      <td>310500,729965,737348</td>\n",
       "      <td>Hoeffding trees are state-of-the-art in classi...</td>\n",
       "    </tr>\n",
       "    <tr>\n",
       "      <th>1673598</th>\n",
       "      <td>Rank measures for ordering</td>\n",
       "      <td>Jin Huang;Charles X. Ling</td>\n",
       "      <td>2005.0</td>\n",
       "      <td>PKDD'05 Proceedings of the 9th European confer...</td>\n",
       "      <td>349550,464606,566871,580510,1279288,1378224</td>\n",
       "      <td>Many data mining applications require a rankin...</td>\n",
       "    </tr>\n",
       "    <tr>\n",
       "      <th>1673599</th>\n",
       "      <td>Dynamic ensemble re-construction for better ra...</td>\n",
       "      <td>Jin Huang;Charles X. Ling</td>\n",
       "      <td>2005.0</td>\n",
       "      <td>PKDD'05 Proceedings of the 9th European confer...</td>\n",
       "      <td>5182,209021,290482,349550,424997,734915,137822...</td>\n",
       "      <td>Ensemble learning has been shown to be very su...</td>\n",
       "    </tr>\n",
       "    <tr>\n",
       "      <th>1673600</th>\n",
       "      <td>Frequency-based separation of climate signals</td>\n",
       "      <td>Alexander Ilin;Harri Valpola</td>\n",
       "      <td>2005.0</td>\n",
       "      <td>PKDD'05 Proceedings of the 9th European confer...</td>\n",
       "      <td>803573,855605</td>\n",
       "      <td>The paper presents an example of exploratory d...</td>\n",
       "    </tr>\n",
       "    <tr>\n",
       "      <th>1673601</th>\n",
       "      <td>Efficient processing of ranked queries with sw...</td>\n",
       "      <td>Wen Jin;Martin Ester;Jiawei Han</td>\n",
       "      <td>2005.0</td>\n",
       "      <td>PKDD'05 Proceedings of the 9th European confer...</td>\n",
       "      <td>86950,201876,210173,248010,248796,300180,33385...</td>\n",
       "      <td>Existing methods for top-k ranked query employ...</td>\n",
       "    </tr>\n",
       "    <tr>\n",
       "      <th>1673602</th>\n",
       "      <td>Feature extraction from mass spectra for class...</td>\n",
       "      <td>Alexandros Kalousis;Julien Prados;Elton Rexhep...</td>\n",
       "      <td>2005.0</td>\n",
       "      <td>PKDD'05 Proceedings of the 9th European confer...</td>\n",
       "      <td>290482,477825,833722</td>\n",
       "      <td>Mass spectrometry is becoming an important too...</td>\n",
       "    </tr>\n",
       "    <tr>\n",
       "      <th>1673603</th>\n",
       "      <td>Numbers in multi-relational data mining</td>\n",
       "      <td>Arno J. Knobbe;Eric K. Y. Ho</td>\n",
       "      <td>2005.0</td>\n",
       "      <td>PKDD'05 Proceedings of the 9th European confer...</td>\n",
       "      <td>217072,224755,497964</td>\n",
       "      <td>Numeric data has traditionally received little...</td>\n",
       "    </tr>\n",
       "    <tr>\n",
       "      <th>1673604</th>\n",
       "      <td>Testing theories in particle physics using max...</td>\n",
       "      <td>Bruce Knuteson;Ricardo Vilalta</td>\n",
       "      <td>2005.0</td>\n",
       "      <td>PKDD'05 Proceedings of the 9th European confer...</td>\n",
       "      <td>546537,729437</td>\n",
       "      <td>We describe a methodology to assist scientists...</td>\n",
       "    </tr>\n",
       "    <tr>\n",
       "      <th>1673605</th>\n",
       "      <td>Improved naive bayes for extremely skewed misc...</td>\n",
       "      <td>Aleksander Kołcz;Abdur Chowdhury</td>\n",
       "      <td>2005.0</td>\n",
       "      <td>PKDD'05 Proceedings of the 9th European confer...</td>\n",
       "      <td>219052,246831,458369,486328,729956,1786755</td>\n",
       "      <td>Naive Bayes has been an effective and importan...</td>\n",
       "    </tr>\n",
       "    <tr>\n",
       "      <th>1673606</th>\n",
       "      <td>Clustering and prediction of mobile user route...</td>\n",
       "      <td>Kari Laasonen</td>\n",
       "      <td>2005.0</td>\n",
       "      <td>PKDD'05 Proceedings of the 9th European confer...</td>\n",
       "      <td>235941,419385,487495,723186,737508,778502,813847</td>\n",
       "      <td>Location-awareness and prediction of future lo...</td>\n",
       "    </tr>\n",
       "    <tr>\n",
       "      <th>1673607</th>\n",
       "      <td>Elastic partial matching of time series</td>\n",
       "      <td>L. J. Latecki;V. Megalooikonomou;Q. Wang;R. La...</td>\n",
       "      <td>2005.0</td>\n",
       "      <td>PKDD'05 Proceedings of the 9th European confer...</td>\n",
       "      <td>462231,477479,478455,631920,659971,729931,7299...</td>\n",
       "      <td>We consider a problem of elastic matching of t...</td>\n",
       "    </tr>\n",
       "    <tr>\n",
       "      <th>1673608</th>\n",
       "      <td>An entropy-based approach for generating multi...</td>\n",
       "      <td>Chang-Hwan Lee</td>\n",
       "      <td>2005.0</td>\n",
       "      <td>PKDD'05 Proceedings of the 9th European confer...</td>\n",
       "      <td>310559,329537,463903,479971,660658,727913</td>\n",
       "      <td>This paper proposes a new method for generatin...</td>\n",
       "    </tr>\n",
       "    <tr>\n",
       "      <th>1673609</th>\n",
       "      <td>Visual terrain analysis of high-dimensional da...</td>\n",
       "      <td>Wenyuan Li;Kok-Leong Ong;Wee-Keong Ng</td>\n",
       "      <td>2005.0</td>\n",
       "      <td>PKDD'05 Proceedings of the 9th European confer...</td>\n",
       "      <td>83976,469422,727882,731279</td>\n",
       "      <td>Most real-world datasets are, to a certain deg...</td>\n",
       "    </tr>\n",
       "    <tr>\n",
       "      <th>1673610</th>\n",
       "      <td>An auto-stopped hierarchical clustering algori...</td>\n",
       "      <td>Tian-yang Lv;Yu-hui Xing;Shao-bing Huang;Zheng...</td>\n",
       "      <td>2005.0</td>\n",
       "      <td>PKDD'05 Proceedings of the 9th European confer...</td>\n",
       "      <td>248790,416060,479986,719276</td>\n",
       "      <td>In the research of shape-based 3D model retrie...</td>\n",
       "    </tr>\n",
       "    <tr>\n",
       "      <th>1673611</th>\n",
       "      <td>A comparison between block CEM and two-way CEM...</td>\n",
       "      <td>Mohamed Nadif;Gérard Govaert</td>\n",
       "      <td>2005.0</td>\n",
       "      <td>PKDD'05 Proceedings of the 9th European confer...</td>\n",
       "      <td>131258,342621,375388,469422,796243</td>\n",
       "      <td>When the data consists of a set of objects des...</td>\n",
       "    </tr>\n",
       "    <tr>\n",
       "      <th>1673612</th>\n",
       "      <td>An imbalanced data rule learner</td>\n",
       "      <td>Canh Hao Nguyen;Tu Bao Ho</td>\n",
       "      <td>2005.0</td>\n",
       "      <td>PKDD'05 Proceedings of the 9th European confer...</td>\n",
       "      <td>260149,280437,331909,464606,577241,1271973,128...</td>\n",
       "      <td>Imbalanced data learning has recently begun to...</td>\n",
       "    </tr>\n",
       "    <tr>\n",
       "      <th>1673613</th>\n",
       "      <td>Improvements in the data partitioning approach...</td>\n",
       "      <td>Son N. Nguyen;Maria E. Orlowska</td>\n",
       "      <td>2005.0</td>\n",
       "      <td>PKDD'05 Proceedings of the 9th European confer...</td>\n",
       "      <td>152934,201075,227917,338609,443350,462219,4812...</td>\n",
       "      <td>Frequent Itemsets mining is well explored for ...</td>\n",
       "    </tr>\n",
       "    <tr>\n",
       "      <th>1673614</th>\n",
       "      <td>On-line adaptive filtering of web pages</td>\n",
       "      <td>Richard Nock;Babak Esfandiari</td>\n",
       "      <td>2005.0</td>\n",
       "      <td>PKDD'05 Proceedings of the 9th European confer...</td>\n",
       "      <td>165663,166352,238621,534116</td>\n",
       "      <td>We present a browser extension to dynamically ...</td>\n",
       "    </tr>\n",
       "    <tr>\n",
       "      <th>1673615</th>\n",
       "      <td>A bi-clustering framework for categorical data</td>\n",
       "      <td>Ruggero G. Pensa;Céline Robardet;Jean-François...</td>\n",
       "      <td>2005.0</td>\n",
       "      <td>PKDD'05 Proceedings of the 9th European confer...</td>\n",
       "      <td>36672,451052,546527,729918,778215,953950</td>\n",
       "      <td>Bi-clustering is a promising conceptual cluste...</td>\n",
       "    </tr>\n",
       "    <tr>\n",
       "      <th>1673616</th>\n",
       "      <td>Privacy-preserving collaborative filtering on ...</td>\n",
       "      <td>Huseyin Polat;Wenliang Du</td>\n",
       "      <td>2005.0</td>\n",
       "      <td>PKDD'05 Proceedings of the 9th European confer...</td>\n",
       "      <td>280852,280883,397153,577289,616944,727866,7299...</td>\n",
       "      <td>Collaborative filtering (CF) systems are widel...</td>\n",
       "    </tr>\n",
       "    <tr>\n",
       "      <th>1673617</th>\n",
       "      <td>Indexed bit map (IBM) for mining frequent sequ...</td>\n",
       "      <td>Lionel Savary;Karine Zeitouni</td>\n",
       "      <td>2005.0</td>\n",
       "      <td>PKDD'05 Proceedings of the 9th European confer...</td>\n",
       "      <td>259993,334041,459006,463903,464996,481290</td>\n",
       "      <td>Sequential pattern mining has been an emerging...</td>\n",
       "    </tr>\n",
       "    <tr>\n",
       "      <th>1673618</th>\n",
       "      <td>STochFS: a framework for combining feature sel...</td>\n",
       "      <td>Jerffeson Teixeira de Souza;Nathalie Japkowicz...</td>\n",
       "      <td>2005.0</td>\n",
       "      <td>PKDD'05 Proceedings of the 9th European confer...</td>\n",
       "      <td>126894,209021,464444,466410,466912,637486,1022...</td>\n",
       "      <td>The Feature Selection problem involves discove...</td>\n",
       "    </tr>\n",
       "    <tr>\n",
       "      <th>1673619</th>\n",
       "      <td>Speeding up logistic model tree induction</td>\n",
       "      <td>Marc Sumner;Eibe Frank;Mark Hall</td>\n",
       "      <td>2005.0</td>\n",
       "      <td>PKDD'05 Proceedings of the 9th European confer...</td>\n",
       "      <td>136350,290482,810935</td>\n",
       "      <td>Logistic Model Trees have been shown to be ver...</td>\n",
       "    </tr>\n",
       "    <tr>\n",
       "      <th>1673620</th>\n",
       "      <td>A random method for quantifying changing distr...</td>\n",
       "      <td>Haixun Wang;Jian Pei</td>\n",
       "      <td>2005.0</td>\n",
       "      <td>PKDD'05 Proceedings of the 9th European confer...</td>\n",
       "      <td>115608,342600,400847,424997,443616,481460,6544...</td>\n",
       "      <td>In applications such as fraud and intrusion de...</td>\n",
       "    </tr>\n",
       "    <tr>\n",
       "      <th>1673621</th>\n",
       "      <td>Deriving class association rules based on leve...</td>\n",
       "      <td>Takashi Washio;Koutarou Nakanishi;Hiroshi Motoda</td>\n",
       "      <td>2005.0</td>\n",
       "      <td>PKDD'05 Proceedings of the 9th European confer...</td>\n",
       "      <td>210160,248792,397384,466483,481290,546047</td>\n",
       "      <td>Most approaches of Class Association Rule (CAR...</td>\n",
       "    </tr>\n",
       "    <tr>\n",
       "      <th>1673622</th>\n",
       "      <td>An incremental algorithm for mining generators...</td>\n",
       "      <td>Lijun Xu;Kanglin Xie</td>\n",
       "      <td>2005.0</td>\n",
       "      <td>PKDD'05 Proceedings of the 9th European confer...</td>\n",
       "      <td>280467,464204,466664,481290,481779,511333,5466...</td>\n",
       "      <td>This paper presents an efficient algorithm for...</td>\n",
       "    </tr>\n",
       "    <tr>\n",
       "      <th>1673623</th>\n",
       "      <td>Hybrid technique for artificial neural network...</td>\n",
       "      <td>Cleber Zanchettin;Teresa Bernarda Ludermir</td>\n",
       "      <td>2005.0</td>\n",
       "      <td>PKDD'05 Proceedings of the 9th European confer...</td>\n",
       "      <td>11720,36408,369236,386199,388154,465882,1777043</td>\n",
       "      <td>This work presents a technique that integrates...</td>\n",
       "    </tr>\n",
       "  </tbody>\n",
       "</table>\n",
       "<p>212 rows × 6 columns</p>\n",
       "</div>"
      ],
      "text/plain": [
       "                                                     title  \\\n",
       "index                                                        \n",
       "799597   Summarization of dynamic content in web collec...   \n",
       "799734   Proceedings of the 8th European Conference on ...   \n",
       "799735                    Random matrices in data analysis   \n",
       "799736                                        Data privacy   \n",
       "799737   Breaking through the syntax barrier: searching...   \n",
       "799738      Real-world learning with Markov logic networks   \n",
       "799739   Strength in diversity: the advance of data ana...   \n",
       "799740   Mining positive and negative association rules...   \n",
       "799741   An experiment on knowledge discovery in chemic...   \n",
       "799742   Shape and size regularization in expectation m...   \n",
       "799743               Combining multiple clustering systems   \n",
       "799744   Reducing data stream sliding windows by cyclic...   \n",
       "799745      A framework for data mining pattern management   \n",
       "799746   Spatial associative classification at differen...   \n",
       "799747   AutoPart: parameter-free graph partitioning an...   \n",
       "799748   Properties and benefits of calibrated classifiers   \n",
       "799749   A tree-based approach to clustering XML docume...   \n",
       "799750   Discovery of regulatory connections in microar...   \n",
       "799751   Learning from little: comparison of classifier...   \n",
       "799752       Geometric and combinatorial tiles in 0-1 data   \n",
       "799753   Document classification through interactive su...   \n",
       "799754                    Classifying protein fingerprints   \n",
       "799755   Finding interesting pass patterns from soccer ...   \n",
       "799756   Discovering unexpected information for technol...   \n",
       "799757       Scalable density-based distributed clustering   \n",
       "799758   Summarization of dynamic content in web collec...   \n",
       "799759          Mining thick skylines over large databases   \n",
       "799760                            Ensemble feature ranking   \n",
       "799761   Privately computing a distributed k-nn classifier   \n",
       "799762        Incremental nonlinear PCA for classification   \n",
       "...                                                    ...   \n",
       "1673594  Corpus-based neural network method for explain...   \n",
       "1673595  Segment and combine approach for non-parametri...   \n",
       "1673596  Producing accurate interpretable clusters from...   \n",
       "1673597                     Stress-testing hoeffding trees   \n",
       "1673598                         Rank measures for ordering   \n",
       "1673599  Dynamic ensemble re-construction for better ra...   \n",
       "1673600      Frequency-based separation of climate signals   \n",
       "1673601  Efficient processing of ranked queries with sw...   \n",
       "1673602  Feature extraction from mass spectra for class...   \n",
       "1673603            Numbers in multi-relational data mining   \n",
       "1673604  Testing theories in particle physics using max...   \n",
       "1673605  Improved naive bayes for extremely skewed misc...   \n",
       "1673606  Clustering and prediction of mobile user route...   \n",
       "1673607            Elastic partial matching of time series   \n",
       "1673608  An entropy-based approach for generating multi...   \n",
       "1673609  Visual terrain analysis of high-dimensional da...   \n",
       "1673610  An auto-stopped hierarchical clustering algori...   \n",
       "1673611  A comparison between block CEM and two-way CEM...   \n",
       "1673612                    An imbalanced data rule learner   \n",
       "1673613  Improvements in the data partitioning approach...   \n",
       "1673614            On-line adaptive filtering of web pages   \n",
       "1673615     A bi-clustering framework for categorical data   \n",
       "1673616  Privacy-preserving collaborative filtering on ...   \n",
       "1673617  Indexed bit map (IBM) for mining frequent sequ...   \n",
       "1673618  STochFS: a framework for combining feature sel...   \n",
       "1673619          Speeding up logistic model tree induction   \n",
       "1673620  A random method for quantifying changing distr...   \n",
       "1673621  Deriving class association rules based on leve...   \n",
       "1673622  An incremental algorithm for mining generators...   \n",
       "1673623  Hybrid technique for artificial neural network...   \n",
       "\n",
       "                                                   authors    year  \\\n",
       "index                                                                \n",
       "799597                        Adam Jatowt;Mitsuru Ishizuka  2004.0   \n",
       "799734   Jean-François Boulicaut;Floriana Esposito;Fosc...  2004.0   \n",
       "799735                                 Dimitris Achlioptas  2004.0   \n",
       "799736                                      Rakesh Agrawal  2004.0   \n",
       "799737                                  Soumen Chakrabarti  2004.0   \n",
       "799738                                      Pedro Domingos  2004.0   \n",
       "799739                                       David J. Hand  2004.0   \n",
       "799740                 Maria-Luiza Antonie;Osmar R. Zaïane  2004.0   \n",
       "799741   Sandra Berasaluce;Claude Laurenço;Amedeosw Nap...  2004.0   \n",
       "799742                      Christian Borgelt;Rudolf Kruse  2004.0   \n",
       "799743                  Constantinos Boulis;Mari Ostendorf  2004.0   \n",
       "799744                   Francesco Buccafurri;Gianluca Lax  2004.0   \n",
       "799745   Barbara Catania;Anna Maddalena;Maurizio Mazza;...  2004.0   \n",
       "799746    Michelangelo Ceci;Annalisa Appice;Donato Malerba  2004.0   \n",
       "799747                                Deepayan Chakrabarti  2004.0   \n",
       "799748                         Ira Cohen;Moises Goldszmidt  2004.0   \n",
       "799749   Gianni Costa;Giuseppe Manco;Riccardo Ortale;An...  2004.0   \n",
       "799750    Michael Egmont-Petersen;Wim de Jonge;Arno Siebes  2004.0   \n",
       "799751                             George Forman;Ira Cohen  2004.0   \n",
       "799752   Aristides Gionis;Heikki Mannila;Jouni K. Seppänen  2004.0   \n",
       "799753   Shantanu Godbole;Abhay Harpale;Sunita Sarawagi...  2004.0   \n",
       "799754   Melanie Hilario;Alex Mitchell;Jee-Hyub Kim;Pau...  2004.0   \n",
       "799755                        Shoji Hirano;Shusaku Tsumoto  2004.0   \n",
       "799756               François Jacquenet;Christine Largeron  2004.0   \n",
       "799757    Eshref Januzaj;Hans-Peter Kriegel;Martin Pfeifle  2004.0   \n",
       "799758                        Adam Jatowt;Mitsuru Ishizuka  2004.0   \n",
       "799759                     Wen Jin;Jiawei Han;Martin Ester  2004.0   \n",
       "799760   Kees Jong;Jérémie Mary;Antoine Cornuéjols;Elen...  2004.0   \n",
       "799761                    Murat Kantarcioglu;Chris Clifton  2004.0   \n",
       "799762                            Byung Joo Kim;Il Kon Kim  2004.0   \n",
       "...                                                    ...     ...   \n",
       "1673594          Bálint Gábor;Viktor Gyenes;András Lőrincz  2005.0   \n",
       "1673595                       Pierre Geurts;Louis Wehenkel  2005.0   \n",
       "1673596                    Derek Greene;Pádraig Cunningham  2005.0   \n",
       "1673597  Geoffrey Holmes;Richard Kirkby;Bernhard Pfahri...  2005.0   \n",
       "1673598                          Jin Huang;Charles X. Ling  2005.0   \n",
       "1673599                          Jin Huang;Charles X. Ling  2005.0   \n",
       "1673600                       Alexander Ilin;Harri Valpola  2005.0   \n",
       "1673601                    Wen Jin;Martin Ester;Jiawei Han  2005.0   \n",
       "1673602  Alexandros Kalousis;Julien Prados;Elton Rexhep...  2005.0   \n",
       "1673603                       Arno J. Knobbe;Eric K. Y. Ho  2005.0   \n",
       "1673604                     Bruce Knuteson;Ricardo Vilalta  2005.0   \n",
       "1673605                   Aleksander Kołcz;Abdur Chowdhury  2005.0   \n",
       "1673606                                      Kari Laasonen  2005.0   \n",
       "1673607  L. J. Latecki;V. Megalooikonomou;Q. Wang;R. La...  2005.0   \n",
       "1673608                                     Chang-Hwan Lee  2005.0   \n",
       "1673609              Wenyuan Li;Kok-Leong Ong;Wee-Keong Ng  2005.0   \n",
       "1673610  Tian-yang Lv;Yu-hui Xing;Shao-bing Huang;Zheng...  2005.0   \n",
       "1673611                       Mohamed Nadif;Gérard Govaert  2005.0   \n",
       "1673612                          Canh Hao Nguyen;Tu Bao Ho  2005.0   \n",
       "1673613                    Son N. Nguyen;Maria E. Orlowska  2005.0   \n",
       "1673614                      Richard Nock;Babak Esfandiari  2005.0   \n",
       "1673615  Ruggero G. Pensa;Céline Robardet;Jean-François...  2005.0   \n",
       "1673616                          Huseyin Polat;Wenliang Du  2005.0   \n",
       "1673617                      Lionel Savary;Karine Zeitouni  2005.0   \n",
       "1673618  Jerffeson Teixeira de Souza;Nathalie Japkowicz...  2005.0   \n",
       "1673619                   Marc Sumner;Eibe Frank;Mark Hall  2005.0   \n",
       "1673620                               Haixun Wang;Jian Pei  2005.0   \n",
       "1673621   Takashi Washio;Koutarou Nakanishi;Hiroshi Motoda  2005.0   \n",
       "1673622                               Lijun Xu;Kanglin Xie  2005.0   \n",
       "1673623         Cleber Zanchettin;Teresa Bernarda Ludermir  2005.0   \n",
       "\n",
       "                                                     venue  \\\n",
       "index                                                        \n",
       "799597   PKDD '04 Proceedings of the 8th European Confe...   \n",
       "799734   PKDD '04 Proceedings of the 8th European Confe...   \n",
       "799735   PKDD '04 Proceedings of the 8th European Confe...   \n",
       "799736   PKDD '04 Proceedings of the 8th European Confe...   \n",
       "799737   PKDD '04 Proceedings of the 8th European Confe...   \n",
       "799738   PKDD '04 Proceedings of the 8th European Confe...   \n",
       "799739   PKDD '04 Proceedings of the 8th European Confe...   \n",
       "799740   PKDD '04 Proceedings of the 8th European Confe...   \n",
       "799741   PKDD '04 Proceedings of the 8th European Confe...   \n",
       "799742   PKDD '04 Proceedings of the 8th European Confe...   \n",
       "799743   PKDD '04 Proceedings of the 8th European Confe...   \n",
       "799744   PKDD '04 Proceedings of the 8th European Confe...   \n",
       "799745   PKDD '04 Proceedings of the 8th European Confe...   \n",
       "799746   PKDD '04 Proceedings of the 8th European Confe...   \n",
       "799747   PKDD '04 Proceedings of the 8th European Confe...   \n",
       "799748   PKDD '04 Proceedings of the 8th European Confe...   \n",
       "799749   PKDD '04 Proceedings of the 8th European Confe...   \n",
       "799750   PKDD '04 Proceedings of the 8th European Confe...   \n",
       "799751   PKDD '04 Proceedings of the 8th European Confe...   \n",
       "799752   PKDD '04 Proceedings of the 8th European Confe...   \n",
       "799753   PKDD '04 Proceedings of the 8th European Confe...   \n",
       "799754   PKDD '04 Proceedings of the 8th European Confe...   \n",
       "799755   PKDD '04 Proceedings of the 8th European Confe...   \n",
       "799756   PKDD '04 Proceedings of the 8th European Confe...   \n",
       "799757   PKDD '04 Proceedings of the 8th European Confe...   \n",
       "799758   PKDD '04 Proceedings of the 8th European Confe...   \n",
       "799759   PKDD '04 Proceedings of the 8th European Confe...   \n",
       "799760   PKDD '04 Proceedings of the 8th European Confe...   \n",
       "799761   PKDD '04 Proceedings of the 8th European Confe...   \n",
       "799762   PKDD '04 Proceedings of the 8th European Confe...   \n",
       "...                                                    ...   \n",
       "1673594  PKDD'05 Proceedings of the 9th European confer...   \n",
       "1673595  PKDD'05 Proceedings of the 9th European confer...   \n",
       "1673596  PKDD'05 Proceedings of the 9th European confer...   \n",
       "1673597  PKDD'05 Proceedings of the 9th European confer...   \n",
       "1673598  PKDD'05 Proceedings of the 9th European confer...   \n",
       "1673599  PKDD'05 Proceedings of the 9th European confer...   \n",
       "1673600  PKDD'05 Proceedings of the 9th European confer...   \n",
       "1673601  PKDD'05 Proceedings of the 9th European confer...   \n",
       "1673602  PKDD'05 Proceedings of the 9th European confer...   \n",
       "1673603  PKDD'05 Proceedings of the 9th European confer...   \n",
       "1673604  PKDD'05 Proceedings of the 9th European confer...   \n",
       "1673605  PKDD'05 Proceedings of the 9th European confer...   \n",
       "1673606  PKDD'05 Proceedings of the 9th European confer...   \n",
       "1673607  PKDD'05 Proceedings of the 9th European confer...   \n",
       "1673608  PKDD'05 Proceedings of the 9th European confer...   \n",
       "1673609  PKDD'05 Proceedings of the 9th European confer...   \n",
       "1673610  PKDD'05 Proceedings of the 9th European confer...   \n",
       "1673611  PKDD'05 Proceedings of the 9th European confer...   \n",
       "1673612  PKDD'05 Proceedings of the 9th European confer...   \n",
       "1673613  PKDD'05 Proceedings of the 9th European confer...   \n",
       "1673614  PKDD'05 Proceedings of the 9th European confer...   \n",
       "1673615  PKDD'05 Proceedings of the 9th European confer...   \n",
       "1673616  PKDD'05 Proceedings of the 9th European confer...   \n",
       "1673617  PKDD'05 Proceedings of the 9th European confer...   \n",
       "1673618  PKDD'05 Proceedings of the 9th European confer...   \n",
       "1673619  PKDD'05 Proceedings of the 9th European confer...   \n",
       "1673620  PKDD'05 Proceedings of the 9th European confer...   \n",
       "1673621  PKDD'05 Proceedings of the 9th European confer...   \n",
       "1673622  PKDD'05 Proceedings of the 9th European confer...   \n",
       "1673623  PKDD'05 Proceedings of the 9th European confer...   \n",
       "\n",
       "                                                      refs  \\\n",
       "index                                                        \n",
       "799597   168251,207272,217578,272249,287616,357908,4117...   \n",
       "799734                                                 NaN   \n",
       "799735                                                 NaN   \n",
       "799736                                                 NaN   \n",
       "799737                                                 NaN   \n",
       "799738                                                 NaN   \n",
       "799739                                                 NaN   \n",
       "799740                                                 NaN   \n",
       "799741                                                 NaN   \n",
       "799742                                                 NaN   \n",
       "799743                                                 NaN   \n",
       "799744                                                 NaN   \n",
       "799745                                                 NaN   \n",
       "799746                                                 NaN   \n",
       "799747                                                 NaN   \n",
       "799748                                                 NaN   \n",
       "799749                                                 NaN   \n",
       "799750                                                 NaN   \n",
       "799751                                                 NaN   \n",
       "799752                                                 NaN   \n",
       "799753                                                 NaN   \n",
       "799754                                                 NaN   \n",
       "799755                                                 NaN   \n",
       "799756                                                 NaN   \n",
       "799757                                                 NaN   \n",
       "799758                                                 NaN   \n",
       "799759                                                 NaN   \n",
       "799760                                                 NaN   \n",
       "799761                                                 NaN   \n",
       "799762                                                 NaN   \n",
       "...                                                    ...   \n",
       "1673594                               356892,458630,669201   \n",
       "1673595   302383,466260,478460,715296,799392,799394,812305   \n",
       "1673596                 329562,342621,643008,722902,783511   \n",
       "1673597                               310500,729965,737348   \n",
       "1673598        349550,464606,566871,580510,1279288,1378224   \n",
       "1673599  5182,209021,290482,349550,424997,734915,137822...   \n",
       "1673600                                      803573,855605   \n",
       "1673601  86950,201876,210173,248010,248796,300180,33385...   \n",
       "1673602                               290482,477825,833722   \n",
       "1673603                               217072,224755,497964   \n",
       "1673604                                      546537,729437   \n",
       "1673605         219052,246831,458369,486328,729956,1786755   \n",
       "1673606   235941,419385,487495,723186,737508,778502,813847   \n",
       "1673607  462231,477479,478455,631920,659971,729931,7299...   \n",
       "1673608          310559,329537,463903,479971,660658,727913   \n",
       "1673609                         83976,469422,727882,731279   \n",
       "1673610                        248790,416060,479986,719276   \n",
       "1673611                 131258,342621,375388,469422,796243   \n",
       "1673612  260149,280437,331909,464606,577241,1271973,128...   \n",
       "1673613  152934,201075,227917,338609,443350,462219,4812...   \n",
       "1673614                        165663,166352,238621,534116   \n",
       "1673615           36672,451052,546527,729918,778215,953950   \n",
       "1673616  280852,280883,397153,577289,616944,727866,7299...   \n",
       "1673617          259993,334041,459006,463903,464996,481290   \n",
       "1673618  126894,209021,464444,466410,466912,637486,1022...   \n",
       "1673619                               136350,290482,810935   \n",
       "1673620  115608,342600,400847,424997,443616,481460,6544...   \n",
       "1673621          210160,248792,397384,466483,481290,546047   \n",
       "1673622  280467,464204,466664,481290,481779,511333,5466...   \n",
       "1673623    11720,36408,369236,386199,388154,465882,1777043   \n",
       "\n",
       "                                                       abs  \n",
       "index                                                       \n",
       "799597   This paper describes a new research proposal o...  \n",
       "799734                                                 NaN  \n",
       "799735   We show how carefully crafted random matrices ...  \n",
       "799736   There is increasing need to build information ...  \n",
       "799737   The next wave in search technology will be dri...  \n",
       "799738   Machine learning and data mining systems have ...  \n",
       "799739   The scientific analysis of data is only around...  \n",
       "799740   Typical association rules consider only items ...  \n",
       "799741   In this paper, we present an experiment on kno...  \n",
       "799742   The more sophisticated fuzzy clustering algori...  \n",
       "799743   Three methods for combining multiple clusterin...  \n",
       "799744   Data reduction is a basic step in a KDD proces...  \n",
       "799745   To represent and manage data mining patterns, ...  \n",
       "799746   In this paper we propose a novel spatial assoc...  \n",
       "799747   Graphs arise in numerous applications, such as...  \n",
       "799748   A calibrated classifier provides reliable esti...  \n",
       "799749   We propose a novel methodology for clustering ...  \n",
       "799750   In this paper, we introduce a new approach for...  \n",
       "799751   Many real-world machine learning tasks are fac...  \n",
       "799752   In this paper we introduce a simple probabilis...  \n",
       "799753   Effective incorporation of human expertise, wh...  \n",
       "799754   Protein fingerprints are groups of conserved m...  \n",
       "799755   This paper presents a novel method for finding...  \n",
       "799756   The purpose of technology watch is to gather, ...  \n",
       "799757   Clustering has become an increasingly importan...  \n",
       "799758   This paper describes a new research proposal o...  \n",
       "799759   People recently are interested in a new operat...  \n",
       "799760   A crucial issue for Machine Learning and Data ...  \n",
       "799761   The ability of databases to organize and share...  \n",
       "799762   The purpose of this study is to propose a new ...  \n",
       "...                                                    ...  \n",
       "1673594  This paper introduces an unsupervised algorith...  \n",
       "1673595  This paper presents a novel, generic, scalable...  \n",
       "1673596  The primary goal of cluster analysis is to pro...  \n",
       "1673597  Hoeffding trees are state-of-the-art in classi...  \n",
       "1673598  Many data mining applications require a rankin...  \n",
       "1673599  Ensemble learning has been shown to be very su...  \n",
       "1673600  The paper presents an example of exploratory d...  \n",
       "1673601  Existing methods for top-k ranked query employ...  \n",
       "1673602  Mass spectrometry is becoming an important too...  \n",
       "1673603  Numeric data has traditionally received little...  \n",
       "1673604  We describe a methodology to assist scientists...  \n",
       "1673605  Naive Bayes has been an effective and importan...  \n",
       "1673606  Location-awareness and prediction of future lo...  \n",
       "1673607  We consider a problem of elastic matching of t...  \n",
       "1673608  This paper proposes a new method for generatin...  \n",
       "1673609  Most real-world datasets are, to a certain deg...  \n",
       "1673610  In the research of shape-based 3D model retrie...  \n",
       "1673611  When the data consists of a set of objects des...  \n",
       "1673612  Imbalanced data learning has recently begun to...  \n",
       "1673613  Frequent Itemsets mining is well explored for ...  \n",
       "1673614  We present a browser extension to dynamically ...  \n",
       "1673615  Bi-clustering is a promising conceptual cluste...  \n",
       "1673616  Collaborative filtering (CF) systems are widel...  \n",
       "1673617  Sequential pattern mining has been an emerging...  \n",
       "1673618  The Feature Selection problem involves discove...  \n",
       "1673619  Logistic Model Trees have been shown to be ver...  \n",
       "1673620  In applications such as fraud and intrusion de...  \n",
       "1673621  Most approaches of Class Association Rule (CAR...  \n",
       "1673622  This paper presents an efficient algorithm for...  \n",
       "1673623  This work presents a technique that integrates...  \n",
       "\n",
       "[212 rows x 6 columns]"
      ]
     },
     "execution_count": 5,
     "metadata": {},
     "output_type": "execute_result"
    }
   ],
   "source": [
    "venue_not_null = df[df['venue'].notnull()]\n",
    "venue_not_null[venue_not_null['venue'].str.contains('Principles and Practice of Knowledge Discovery in Databases')]"
   ]
  },
  {
   "cell_type": "markdown",
   "metadata": {},
   "source": [
    "The venue has multiple entries, based on the year."
   ]
  },
  {
   "cell_type": "markdown",
   "metadata": {
    "collapsed": true
   },
   "source": [
    "# 1c"
   ]
  },
  {
   "cell_type": "code",
   "execution_count": 6,
   "metadata": {
    "collapsed": true
   },
   "outputs": [],
   "source": [
    "batch_size = 10000"
   ]
  },
  {
   "cell_type": "code",
   "execution_count": 7,
   "metadata": {
    "collapsed": true
   },
   "outputs": [],
   "source": [
    "def count_authors(batch):\n",
    "    global auth_counter\n",
    "    for author in batch.str.split(';', expand=True).stack().values:\n",
    "        auth_counter[author] += 1"
   ]
  },
  {
   "cell_type": "code",
   "execution_count": 9,
   "metadata": {},
   "outputs": [
    {
     "name": "stderr",
     "output_type": "stream",
     "text": [
      "100%|██████████| 198/198 [00:16<00:00, 12.22it/s]\n"
     ]
    }
   ],
   "source": [
    "auth_counter = Counter()\n",
    "for i in tqdm(range(n_rows//batch_size + 1)):\n",
    "    start_index = batch_size * i\n",
    "    end_index = batch_size * (i + 1)\n",
    "    count_authors(df['authors'][start_index:end_index])"
   ]
  },
  {
   "cell_type": "code",
   "execution_count": 10,
   "metadata": {},
   "outputs": [
    {
     "data": {
      "text/plain": [
       "1483290"
      ]
     },
     "execution_count": 10,
     "metadata": {},
     "output_type": "execute_result"
    }
   ],
   "source": [
    "len(auth_counter) # matches number of authors"
   ]
  },
  {
   "cell_type": "code",
   "execution_count": 11,
   "metadata": {
    "collapsed": true
   },
   "outputs": [],
   "source": [
    "counts = np.array(list(auth_counter.values()))"
   ]
  },
  {
   "cell_type": "code",
   "execution_count": 12,
   "metadata": {},
   "outputs": [
    {
     "data": {
      "text/plain": [
       "Text(0.5,1,'Publication per Author')"
      ]
     },
     "execution_count": 12,
     "metadata": {},
     "output_type": "execute_result"
    },
    {
     "data": {
      "image/png": "[encoded data removed]",
      "text/plain": [
       "<matplotlib.figure.Figure at 0x7f768dc81fd0>"
      ]
     },
     "metadata": {},
     "output_type": "display_data"
    }
   ],
   "source": [
    "plt.yscale('log', nonposy='clip')\n",
    "plt.hist(counts)\n",
    "plt.xlabel('Number of publications')\n",
    "plt.ylabel('Number of authors (log)')\n",
    "plt.title('Publication per Author')"
   ]
  },
  {
   "cell_type": "markdown",
   "metadata": {},
   "source": [
    "# 1d"
   ]
  },
  {
   "cell_type": "code",
   "execution_count": 13,
   "metadata": {
    "collapsed": true
   },
   "outputs": [],
   "source": [
    "def print_summary(values, string):\n",
    "    print(string, \": \", sep='')\n",
    "    print(\"Mean: \", np.mean(values), sep=\"\\t\\t\\t\")\n",
    "    print(\"1st quantile: \", np.percentile(values, 25), sep=\"\\t\\t\")\n",
    "    print(\"Median/2nd quantile: \", np.median(values), sep=\"\\t\")\n",
    "    print(\"3st quantile: \", np.percentile(values, 75), sep=\"\\t\\t\")\n",
    "    print(\"Standard deviation: \", np.std(values), sep=\"\\t\")"
   ]
  },
  {
   "cell_type": "code",
   "execution_count": 14,
   "metadata": {},
   "outputs": [
    {
     "name": "stdout",
     "output_type": "stream",
     "text": [
      "Number of publications per author:: \n",
      "Mean: \t\t\t3.28167586918\n",
      "1st quantile: \t\t1.0\n",
      "Median/2nd quantile: \t1.0\n",
      "3st quantile: \t\t2.0\n",
      "Standard deviation: \t8.83637959265\n"
     ]
    }
   ],
   "source": [
    "print_summary(counts, \"Number of publications per author:\")"
   ]
  },
  {
   "cell_type": "markdown",
   "metadata": {},
   "source": [
    "The mean is larger than the median. The distribution is left or negative skewed."
   ]
  },
  {
   "cell_type": "markdown",
   "metadata": {},
   "source": [
    "# 1e"
   ]
  },
  {
   "cell_type": "code",
   "execution_count": 15,
   "metadata": {
    "collapsed": true
   },
   "outputs": [],
   "source": [
    "publication_counts = Counter()"
   ]
  },
  {
   "cell_type": "code",
   "execution_count": 16,
   "metadata": {
    "collapsed": true
   },
   "outputs": [],
   "source": [
    "publication_counts = df['venue'].value_counts()"
   ]
  },
  {
   "cell_type": "code",
   "execution_count": 17,
   "metadata": {},
   "outputs": [
    {
     "name": "stdout",
     "output_type": "stream",
     "text": [
      "Number of publications pper venue:: \n",
      "Mean: \t\t\t7.7309658368695855\n",
      "1st quantile: \t\t1.0\n",
      "Median/2nd quantile: \t1.0\n",
      "3st quantile: \t\t1.0\n",
      "Standard deviation: \t83.3809075405714\n"
     ]
    }
   ],
   "source": [
    "print_summary(publication_counts, \"Number of publications pper venue:\")"
   ]
  },
  {
   "cell_type": "code",
   "execution_count": 18,
   "metadata": {},
   "outputs": [
    {
     "data": {
      "text/plain": [
       "Text(0.5,1,'Publications per Venue')"
      ]
     },
     "execution_count": 18,
     "metadata": {},
     "output_type": "execute_result"
    },
    {
     "data": {
      "image/png": "[encoded data removed]",
      "text/plain": [
       "<matplotlib.figure.Figure at 0x7f762d861d30>"
      ]
     },
     "metadata": {},
     "output_type": "display_data"
    }
   ],
   "source": [
    "plt.hist(publication_counts)\n",
    "plt.yscale('log', nonposy='clip')\n",
    "plt.xlabel('Number of publications')\n",
    "plt.ylabel('Number of venues (log)')\n",
    "plt.title('Publications per Venue')"
   ]
  },
  {
   "cell_type": "code",
   "execution_count": 19,
   "metadata": {},
   "outputs": [
    {
     "name": "stdout",
     "output_type": "stream",
     "text": [
      "Venue with maximum publications:  IEEE Transactions on Information Theory\n"
     ]
    }
   ],
   "source": [
    "print(\"Venue with maximum publications: \", publication_counts.idxmax())"
   ]
  },
  {
   "cell_type": "markdown",
   "metadata": {},
   "source": [
    "# 1f "
   ]
  },
  {
   "cell_type": "markdown",
   "metadata": {},
   "source": [
    "### Number of references"
   ]
  },
  {
   "cell_type": "code",
   "execution_count": 20,
   "metadata": {
    "collapsed": true
   },
   "outputs": [],
   "source": [
    "non_null_refs = df[df['refs'].notnull()]"
   ]
  },
  {
   "cell_type": "code",
   "execution_count": 21,
   "metadata": {
    "collapsed": true
   },
   "outputs": [],
   "source": [
    "df['ref_counts'] = non_null_refs['refs'].str.count(',') + 1"
   ]
  },
  {
   "cell_type": "code",
   "execution_count": 22,
   "metadata": {},
   "outputs": [
    {
     "data": {
      "text/plain": [
       "Text(0.5,1,'Publications per Reference')"
      ]
     },
     "execution_count": 22,
     "metadata": {},
     "output_type": "execute_result"
    },
    {
     "data": {
      "image/png": "[encoded data removed]",
      "text/plain": [
       "<matplotlib.figure.Figure at 0x7f762d822ef0>"
      ]
     },
     "metadata": {},
     "output_type": "display_data"
    }
   ],
   "source": [
    "plt.hist(df['ref_counts'].value_counts())\n",
    "plt.yscale('log', nonposy='clip')\n",
    "plt.xlabel('Number of publications')\n",
    "plt.ylabel('Number of references (log)')\n",
    "plt.title('Publications per Reference')"
   ]
  },
  {
   "cell_type": "code",
   "execution_count": 23,
   "metadata": {},
   "outputs": [
    {
     "name": "stdout",
     "output_type": "stream",
     "text": [
      "Publication with largest citations:\n"
     ]
    },
    {
     "data": {
      "text/plain": [
       "title                                          Cited References\n",
       "authors       Johannes Grabmeier;Erich Kaltofen;Volker Weisp...\n",
       "year                                                       2003\n",
       "venue                                 Computer algebra handbook\n",
       "refs          293,767,858,1363,1460,1807,1825,2172,2593,2835...\n",
       "abs                                                         NaN\n",
       "ref_counts                                                  772\n",
       "Name: 719353, dtype: object"
      ]
     },
     "execution_count": 23,
     "metadata": {},
     "output_type": "execute_result"
    }
   ],
   "source": [
    "print(\"Publication with largest references:\")\n",
    "df.loc[df['ref_counts'].idxmax()]"
   ]
  },
  {
   "cell_type": "markdown",
   "metadata": {},
   "source": [
    "This makes sense, as the paper seems to be just a list of publications"
   ]
  },
  {
   "cell_type": "markdown",
   "metadata": {},
   "source": [
    "### Number of citations"
   ]
  },
  {
   "cell_type": "code",
   "execution_count": 24,
   "metadata": {
    "collapsed": true
   },
   "outputs": [],
   "source": [
    "def count_citations(batch):\n",
    "    global citation_counter\n",
    "    for reference in batch.str.split(',', expand=True).stack().values:\n",
    "        citation_counter[int(reference)] += 1"
   ]
  },
  {
   "cell_type": "code",
   "execution_count": 26,
   "metadata": {},
   "outputs": [
    {
     "name": "stderr",
     "output_type": "stream",
     "text": [
      "100%|██████████| 198/198 [00:28<00:00,  6.88it/s]\n"
     ]
    }
   ],
   "source": [
    "citation_counter = Counter()\n",
    "batch_size = 10000\n",
    "for i in tqdm(range(n_rows//batch_size + 1)):\n",
    "    start_index = batch_size * i\n",
    "    end_index = batch_size * (i + 1)\n",
    "    count_citations(non_null_refs['refs'][start_index:end_index])"
   ]
  },
  {
   "cell_type": "code",
   "execution_count": 27,
   "metadata": {},
   "outputs": [
    {
     "name": "stdout",
     "output_type": "stream",
     "text": [
      "Publication with the most citations:\n",
      "title         Computers and Intractability: A Guide to the T...\n",
      "authors                       Michael R. Garey;David S. Johnson\n",
      "year                                                       1979\n",
      "venue         Computers and Intractability: A Guide to the T...\n",
      "refs                                                        NaN\n",
      "abs                                                         NaN\n",
      "ref_counts                                                  NaN\n",
      "Name: 408396, dtype: object\n"
     ]
    }
   ],
   "source": [
    "print(\"Publication with the most citations:\")\n",
    "print(df.loc[citation_counter.most_common()[0][0]])"
   ]
  },
  {
   "cell_type": "markdown",
   "metadata": {},
   "source": [
    "This is a very old paper, 1979, makes sense that it has the most references."
   ]
  },
  {
   "cell_type": "markdown",
   "metadata": {},
   "source": [
    "# 1g"
   ]
  },
  {
   "cell_type": "code",
   "execution_count": 29,
   "metadata": {
    "collapsed": true
   },
   "outputs": [],
   "source": [
    "def citations_per_venue(batch):\n",
    "    global citations_per_venue_counter\n",
    "    for publication in batch['refs'].str.split(',', expand=True).stack().values:\n",
    "        try:\n",
    "            citations_per_venue_counter[df.loc[int(publication)]['venue']] += 1\n",
    "        except IndexError:\n",
    "            pass\n",
    "        except KeyError:\n",
    "            pass\n",
    "    return"
   ]
  },
  {
   "cell_type": "code",
   "execution_count": 31,
   "metadata": {},
   "outputs": [
    {
     "name": "stderr",
     "output_type": "stream",
     "text": [
      "100%|██████████| 1977/1977 [21:05<00:00,  1.56it/s]\n"
     ]
    }
   ],
   "source": [
    "batch_size = 1000\n",
    "citations_per_venue_counter = Counter()\n",
    "for i in tqdm(range(n_rows//batch_size + 1)):\n",
    "    start_index = batch_size * i\n",
    "    end_index = batch_size * (i + 1)\n",
    "    citations_per_venue(df[start_index:end_index])"
   ]
  },
  {
   "cell_type": "code",
   "execution_count": 32,
   "metadata": {},
   "outputs": [
    {
     "data": {
      "text/plain": [
       "(255685, 84575)"
      ]
     },
     "execution_count": 32,
     "metadata": {},
     "output_type": "execute_result"
    }
   ],
   "source": [
    "len(publication_counts), len(citations_per_venue_counter)"
   ]
  },
  {
   "cell_type": "code",
   "execution_count": 33,
   "metadata": {},
   "outputs": [
    {
     "name": "stderr",
     "output_type": "stream",
     "text": [
      "100%|██████████| 84575/84575 [00:01<00:00, 63880.03it/s]\n"
     ]
    }
   ],
   "source": [
    "impact = {}\n",
    "for value in tqdm(citations_per_venue_counter.most_common()):\n",
    "    if value[0] in publication_counts:\n",
    "        impact[value[0]] = value[1]/publication_counts[0]"
   ]
  },
  {
   "cell_type": "code",
   "execution_count": 34,
   "metadata": {},
   "outputs": [
    {
     "data": {
      "text/plain": [
       "84504"
      ]
     },
     "execution_count": 34,
     "metadata": {},
     "output_type": "execute_result"
    }
   ],
   "source": [
    "len(impact)"
   ]
  },
  {
   "cell_type": "code",
   "execution_count": 35,
   "metadata": {},
   "outputs": [
    {
     "data": {
      "text/plain": [
       "Text(0.5,1,'Publications per Citation')"
      ]
     },
     "execution_count": 35,
     "metadata": {},
     "output_type": "execute_result"
    },
    {
     "data": {
      "image/png": "[encoded data removed]",
      "text/plain": [
       "<matplotlib.figure.Figure at 0x7f762106b898>"
      ]
     },
     "metadata": {},
     "output_type": "display_data"
    }
   ],
   "source": [
    "plt.hist(impact.values())\n",
    "plt.yscale('log', nonposy='clip')\n",
    "plt.xlabel('Number of publications')\n",
    "plt.ylabel('Number of citations (log)')\n",
    "plt.title('Publications per Citation')"
   ]
  },
  {
   "cell_type": "markdown",
   "metadata": {},
   "source": [
    "# 1h"
   ]
  },
  {
   "cell_type": "code",
   "execution_count": 36,
   "metadata": {},
   "outputs": [
    {
     "name": "stdout",
     "output_type": "stream",
     "text": [
      "Communications of the ACM has max impact factor:  10.71826846\n"
     ]
    }
   ],
   "source": [
    "max_key = max(impact, key=lambda i: impact[i])  # off\n",
    "print(max_key, \"has max impact factor: \", impact[max_key]) "
   ]
  },
  {
   "cell_type": "markdown",
   "metadata": {},
   "source": [
    "The above number is believable"
   ]
  },
  {
   "cell_type": "markdown",
   "metadata": {},
   "source": [
    "# 1i"
   ]
  },
  {
   "cell_type": "code",
   "execution_count": 37,
   "metadata": {},
   "outputs": [
    {
     "name": "stderr",
     "output_type": "stream",
     "text": [
      "100%|██████████| 84575/84575 [00:00<00:00, 184527.30it/s]\n"
     ]
    }
   ],
   "source": [
    "impact_10 = {}\n",
    "sub_publication_count = publication_counts[publication_counts >= 10]\n",
    "for value in tqdm(citations_per_venue_counter.most_common()):\n",
    "    if value[0] in sub_publication_count:\n",
    "        impact_10[value[0]] = value[1]/sub_publication_count[0]"
   ]
  },
  {
   "cell_type": "code",
   "execution_count": 38,
   "metadata": {},
   "outputs": [
    {
     "data": {
      "text/plain": [
       "(23458, 22346)"
      ]
     },
     "execution_count": 38,
     "metadata": {},
     "output_type": "execute_result"
    }
   ],
   "source": [
    "len(sub_publication_count), len(impact_10)"
   ]
  },
  {
   "cell_type": "code",
   "execution_count": 39,
   "metadata": {},
   "outputs": [
    {
     "data": {
      "text/plain": [
       "Text(0.5,1,'Publications per Citation')"
      ]
     },
     "execution_count": 39,
     "metadata": {},
     "output_type": "execute_result"
    },
    {
     "data": {
      "image/png": "[encoded data removed]",
      "text/plain": [
       "<matplotlib.figure.Figure at 0x7f76197c8240>"
      ]
     },
     "metadata": {},
     "output_type": "display_data"
    }
   ],
   "source": [
    "plt.hist(impact_10.values())\n",
    "plt.yscale('log', nonposy='clip')\n",
    "plt.xlabel('Number of publications')\n",
    "plt.ylabel('Number of citations (log)')\n",
    "plt.title('Publications per Citation')"
   ]
  },
  {
   "cell_type": "markdown",
   "metadata": {},
   "source": [
    "The distribution has not changed much, although the values for each bins have reduced. Almost every venue has more than ten publications."
   ]
  },
  {
   "cell_type": "code",
   "execution_count": 40,
   "metadata": {},
   "outputs": [
    {
     "name": "stdout",
     "output_type": "stream",
     "text": [
      "1 Communications of the ACM  with impact factor:  10.71826846\n",
      "2 IEEE Transactions on Pattern Analysis and Machine Intelligence  with impact factor:  9.26970695644\n",
      "3 Journal of the ACM (JACM)  with impact factor:  5.92713993052\n",
      "4 IEEE Transactions on Computers  with impact factor:  4.44375167008\n",
      "5 Computer  with impact factor:  4.35753095217\n",
      "6 IEEE Transactions on Information Theory  with impact factor:  4.08256880734\n",
      "7 IEEE Transactions on Software Engineering  with impact factor:  4.01532021021\n",
      "8 Proceedings of the SIGCHI Conference on Human Factors in Computing Systems  with impact factor:  3.59499421039\n",
      "9 Artificial Intelligence  with impact factor:  3.25501024316\n",
      "10 Journal of Computational Physics  with impact factor:  3.17110537098\n"
     ]
    }
   ],
   "source": [
    "index = 1 # off\n",
    "for key, value in enumerate(impact_10):\n",
    "    if index > 10:\n",
    "        break\n",
    "    print(index, value, \" with impact factor: \", impact_10[value])\n",
    "    index += 1"
   ]
  },
  {
   "cell_type": "code",
   "execution_count": 41,
   "metadata": {},
   "outputs": [
    {
     "name": "stdout",
     "output_type": "stream",
     "text": [
      "Mean: \t85.720070943\n",
      "Median: \t4.0\n"
     ]
    }
   ],
   "source": [
    "print(\"Mean: \", np.mean(list(citations_per_venue_counter.values())), sep=\"\\t\") \n",
    "print(\"Median: \", np.median(list(citations_per_venue_counter.values())), sep=\"\\t\")"
   ]
  },
  {
   "cell_type": "markdown",
   "metadata": {},
   "source": [
    "The mean is much larger than the median, the distribution is right or positive skewed."
   ]
  },
  {
   "cell_type": "markdown",
   "metadata": {},
   "source": [
    "# 1j"
   ]
  },
  {
   "cell_type": "code",
   "execution_count": 42,
   "metadata": {
    "scrolled": true
   },
   "outputs": [
    {
     "data": {
      "text/plain": [
       "Text(0.5,1,'Numeber of references per publication per year')"
      ]
     },
     "execution_count": 42,
     "metadata": {},
     "output_type": "execute_result"
    },
    {
     "data": {
      "image/png": "[encoded data removed]",
      "text/plain": [
       "<matplotlib.figure.Figure at 0x7f762116c550>"
      ]
     },
     "metadata": {},
     "output_type": "display_data"
    }
   ],
   "source": [
    "df['ref_counts'].fillna(0, inplace=True)\n",
    "plt.plot(df[['ref_counts', 'year']].groupby('year').mean())\n",
    "plt.xlabel('Time')\n",
    "plt.ylabel('Numeber of references per publication')\n",
    "plt.title('Numeber of references per publication per year')"
   ]
  },
  {
   "cell_type": "code",
   "execution_count": 43,
   "metadata": {
    "collapsed": true
   },
   "outputs": [],
   "source": [
    "df = pd.concat([df, pd.DataFrame.from_dict(citation_counter, orient='index', )], axis=1, join_axes=[df.index])\n",
    "df.rename(columns={0:'citations'}, inplace=True)\n",
    "df['citations'].fillna(0, inplace=True)"
   ]
  },
  {
   "cell_type": "code",
   "execution_count": 44,
   "metadata": {},
   "outputs": [
    {
     "data": {
      "text/plain": [
       "Text(0.5,1,'Numeber of citations per publication per year')"
      ]
     },
     "execution_count": 44,
     "metadata": {},
     "output_type": "execute_result"
    },
    {
     "data": {
      "image/png": "[encoded data removed]",
      "text/plain": [
       "<matplotlib.figure.Figure at 0x7f76196fb630>"
      ]
     },
     "metadata": {},
     "output_type": "display_data"
    }
   ],
   "source": [
    "plt.plot(df[['citations', 'year']].groupby('year').mean())\n",
    "plt.xlabel('Time')\n",
    "plt.ylabel('Numeber of citations per publication')\n",
    "plt.title('Numeber of citations per publication per year')"
   ]
  }
 ],
 "metadata": {
  "kernelspec": {
   "display_name": "Python 3",
   "language": "python",
   "name": "python3"
  },
  "language_info": {
   "codemirror_mode": {
    "name": "ipython",
    "version": 3
   },
   "file_extension": ".py",
   "mimetype": "text/x-python",
   "name": "python",
   "nbconvert_exporter": "python",
   "pygments_lexer": "ipython3",
   "version": "3.6.3"
  }
 },
 "nbformat": 4,
 "nbformat_minor": 2
}
