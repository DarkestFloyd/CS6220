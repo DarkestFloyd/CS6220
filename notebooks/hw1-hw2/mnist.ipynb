{
 "cells": [
  {
   "cell_type": "code",
   "execution_count": 1,
   "metadata": {
    "collapsed": true
   },
   "outputs": [],
   "source": [
    "import numpy as np\n",
    "import pandas as pd\n",
    "from sklearn.metrics.pairwise import cosine_similarity, euclidean_distances\n",
    "from mnist import MNIST\n",
    "from tqdm import tqdm"
   ]
  },
  {
   "cell_type": "code",
   "execution_count": 2,
   "metadata": {
    "collapsed": true
   },
   "outputs": [],
   "source": [
    "mnist_loader = MNIST(\"../data/mnist/\")\n",
    "mnist_loader.gz = True"
   ]
  },
  {
   "cell_type": "code",
   "execution_count": 3,
   "metadata": {
    "collapsed": true
   },
   "outputs": [],
   "source": [
    "images, labels = mnist_loader.load_training()\n",
    "timages, tlabels = mnist_loader.load_testing()"
   ]
  },
  {
   "cell_type": "code",
   "execution_count": 4,
   "metadata": {
    "collapsed": true
   },
   "outputs": [],
   "source": [
    "images = np.array(images)\n",
    "labels = np.array(labels)\n",
    "timages = np.array(timages)\n",
    "tlabels = np.array(tlabels)"
   ]
  },
  {
   "cell_type": "code",
   "execution_count": 5,
   "metadata": {},
   "outputs": [
    {
     "data": {
      "text/plain": [
       "((60000, 784), (10000, 784))"
      ]
     },
     "execution_count": 5,
     "metadata": {},
     "output_type": "execute_result"
    }
   ],
   "source": [
    "images.shape, timages.shape"
   ]
  },
  {
   "cell_type": "code",
   "execution_count": 6,
   "metadata": {
    "collapsed": true
   },
   "outputs": [],
   "source": [
    "n_rows = images.shape[0]\n",
    "t_n_rows = timages.shape[0]\n",
    "batch_size = 2500"
   ]
  },
  {
   "cell_type": "markdown",
   "metadata": {},
   "source": [
    "## init test"
   ]
  },
  {
   "cell_type": "code",
   "execution_count": 71,
   "metadata": {
    "collapsed": true
   },
   "outputs": [],
   "source": [
    "sub_x = images[:500]\n",
    "sub_y = labels[:500]"
   ]
  },
  {
   "cell_type": "code",
   "execution_count": 76,
   "metadata": {
    "collapsed": true
   },
   "outputs": [],
   "source": [
    "fp = np.memmap('../data/mnist/tests/init.memmap', mode='w+', shape=(500, n_rows), dtype='float32')"
   ]
  },
  {
   "cell_type": "code",
   "execution_count": 77,
   "metadata": {},
   "outputs": [
    {
     "name": "stdout",
     "output_type": "stream",
     "text": [
      "(100, 784) 0 100\n",
      "(100, 784) 100 200\n",
      "(100, 784) 200 300\n",
      "(100, 784) 300 400\n",
      "(100, 784) 400 500\n"
     ]
    }
   ],
   "source": [
    "for i in range(5):\n",
    "    start = i * 100\n",
    "    end = (i + 1) * 100\n",
    "    fp[start:end] = euclidean_distances(X=sub_x[start:end], Y=images)\n",
    "    print(sub_x[start:end].shape, start, end)"
   ]
  },
  {
   "cell_type": "code",
   "execution_count": 78,
   "metadata": {},
   "outputs": [
    {
     "data": {
      "text/plain": [
       "True"
      ]
     },
     "execution_count": 78,
     "metadata": {},
     "output_type": "execute_result"
    }
   ],
   "source": [
    "np.allclose(fp, euclidean_distances(X=sub_x, Y=images))"
   ]
  },
  {
   "cell_type": "code",
   "execution_count": 79,
   "metadata": {
    "collapsed": true
   },
   "outputs": [],
   "source": [
    "del fp"
   ]
  },
  {
   "cell_type": "markdown",
   "metadata": {},
   "source": [
    "init test working"
   ]
  },
  {
   "cell_type": "markdown",
   "metadata": {},
   "source": [
    "## cos sim"
   ]
  },
  {
   "cell_type": "code",
   "execution_count": 9,
   "metadata": {
    "collapsed": true
   },
   "outputs": [],
   "source": [
    "path = '../data/mnist/cos_sim.memmap'"
   ]
  },
  {
   "cell_type": "code",
   "execution_count": 11,
   "metadata": {
    "collapsed": true
   },
   "outputs": [],
   "source": [
    "fp = np.memmap(path, dtype='float32', mode='w+', shape=(n_rows + t_n_rows, n_rows))"
   ]
  },
  {
   "cell_type": "code",
   "execution_count": null,
   "metadata": {},
   "outputs": [
    {
     "data": {
      "application/vnd.jupyter.widget-view+json": {
       "model_id": "bb3b7df929aa4c7cb306cff368569a26",
       "version_major": 2,
       "version_minor": 0
      },
      "text/plain": [
       "A Jupyter Widget"
      ]
     },
     "metadata": {},
     "output_type": "display_data"
    }
   ],
   "source": [
    "for batch_index in tqdm(range(n_rows // batch_size)):\n",
    "    start = batch_size * batch_index\n",
    "    end = batch_size * (batch_index + 1)\n",
    "    fp[start:end, :] = cosine_similarity(X=images[start:end], Y=images)"
   ]
  },
  {
   "cell_type": "code",
   "execution_count": 17,
   "metadata": {},
   "outputs": [
    {
     "data": {
      "application/vnd.jupyter.widget-view+json": {
       "model_id": "c6545d41941a4829995b593d9d05c574",
       "version_major": 2,
       "version_minor": 0
      },
      "text/plain": [
       "A Jupyter Widget"
      ]
     },
     "metadata": {},
     "output_type": "display_data"
    },
    {
     "name": "stdout",
     "output_type": "stream",
     "text": [
      "\n"
     ]
    }
   ],
   "source": [
    "for batch_index in tqdm(range(t_n_rows // batch_size)):\n",
    "    start = batch_size * batch_index\n",
    "    end = batch_size * (batch_index + 1)\n",
    "    fp_start = start + n_rows\n",
    "    fp_end = end + n_rows\n",
    "    fp[fp_start:fp_end, :] = cosine_similarity(X=timages[start:end], Y=images)"
   ]
  },
  {
   "cell_type": "code",
   "execution_count": 18,
   "metadata": {
    "collapsed": true
   },
   "outputs": [],
   "source": [
    "del fp"
   ]
  },
  {
   "cell_type": "markdown",
   "metadata": {},
   "source": [
    "## euc dist"
   ]
  },
  {
   "cell_type": "code",
   "execution_count": 9,
   "metadata": {
    "collapsed": true
   },
   "outputs": [],
   "source": [
    "path = '../data/mnist/eud_dist.memmap'\n",
    "fp = np.memmap(path, dtype='float32', mode='w+', shape=(n_rows + t_n_rows, n_rows))"
   ]
  },
  {
   "cell_type": "code",
   "execution_count": 10,
   "metadata": {},
   "outputs": [
    {
     "data": {
      "application/vnd.jupyter.widget-view+json": {
       "model_id": "c5b6d556a0d248749cb1a83d188d0cb5",
       "version_major": 2,
       "version_minor": 0
      },
      "text/plain": [
       "A Jupyter Widget"
      ]
     },
     "metadata": {},
     "output_type": "display_data"
    },
    {
     "name": "stdout",
     "output_type": "stream",
     "text": [
      "\n"
     ]
    }
   ],
   "source": [
    "for batch_index in tqdm(range(n_rows // batch_size)):\n",
    "    start = batch_size * batch_index\n",
    "    end = batch_size * (batch_index + 1)\n",
    "    fp[start:end, :] = euclidean_distances(X=images[start:end], Y=images)"
   ]
  },
  {
   "cell_type": "code",
   "execution_count": 11,
   "metadata": {},
   "outputs": [
    {
     "data": {
      "application/vnd.jupyter.widget-view+json": {
       "model_id": "79c19316114a4931ac81ae48703f2edc",
       "version_major": 2,
       "version_minor": 0
      },
      "text/plain": [
       "A Jupyter Widget"
      ]
     },
     "metadata": {},
     "output_type": "display_data"
    },
    {
     "name": "stdout",
     "output_type": "stream",
     "text": [
      "\n"
     ]
    }
   ],
   "source": [
    "for batch_index in tqdm(range(t_n_rows // batch_size)):\n",
    "    start = batch_size * batch_index\n",
    "    end = batch_size * (batch_index + 1)\n",
    "    fp_start = start + n_rows\n",
    "    fp_end = end + n_rows\n",
    "    fp[fp_start:fp_end, :] = euclidean_distances(X=timages[start:end], Y=images)"
   ]
  },
  {
   "cell_type": "code",
   "execution_count": 12,
   "metadata": {
    "collapsed": true
   },
   "outputs": [],
   "source": [
    "del fp"
   ]
  },
  {
   "cell_type": "markdown",
   "metadata": {},
   "source": [
    "## helper"
   ]
  },
  {
   "cell_type": "code",
   "execution_count": 7,
   "metadata": {
    "collapsed": true
   },
   "outputs": [],
   "source": [
    "def runner_train(fp, nf):\n",
    "    X = images/nf\n",
    "    for batch_index in tqdm(range(n_rows // batch_size)):\n",
    "        start = batch_size * batch_index\n",
    "        end = batch_size * (batch_index + 1)\n",
    "        fp[start:end, :] = euclidean_distances(X=X[start:end], Y=X)"
   ]
  },
  {
   "cell_type": "code",
   "execution_count": 8,
   "metadata": {
    "collapsed": true
   },
   "outputs": [],
   "source": [
    "def runner_test(fp, nf):\n",
    "    X = timages/nf\n",
    "    Y = images/nf\n",
    "    for batch_index in tqdm(range(t_n_rows // batch_size)):\n",
    "        start = batch_size * batch_index\n",
    "        end = batch_size * (batch_index + 1)\n",
    "        fp_start = start + n_rows\n",
    "        fp_end = end + n_rows\n",
    "        fp[fp_start:fp_end, :] = euclidean_distances(X=X[start:end], Y=Y)"
   ]
  },
  {
   "cell_type": "markdown",
   "metadata": {},
   "source": [
    "## euc no normalization"
   ]
  },
  {
   "cell_type": "code",
   "execution_count": 9,
   "metadata": {
    "collapsed": true
   },
   "outputs": [],
   "source": [
    "fp = np.memmap('../data/mnist/dist.memmap', dtype='float32', mode='w+', shape=(n_rows + t_n_rows, n_rows))"
   ]
  },
  {
   "cell_type": "code",
   "execution_count": 10,
   "metadata": {},
   "outputs": [
    {
     "name": "stderr",
     "output_type": "stream",
     "text": [
      "100%|██████████| 24/24 [05:06<00:00, 12.77s/it]\n"
     ]
    }
   ],
   "source": [
    "runner_train(fp, 1) # train-train"
   ]
  },
  {
   "cell_type": "code",
   "execution_count": 11,
   "metadata": {},
   "outputs": [
    {
     "name": "stderr",
     "output_type": "stream",
     "text": [
      "100%|██████████| 4/4 [00:55<00:00, 13.79s/it]\n"
     ]
    }
   ],
   "source": [
    "runner_test(fp, 1) #train-test"
   ]
  },
  {
   "cell_type": "code",
   "execution_count": 12,
   "metadata": {
    "collapsed": true
   },
   "outputs": [],
   "source": [
    "del fp"
   ]
  },
  {
   "cell_type": "markdown",
   "metadata": {},
   "source": [
    "## euc 255 normalized"
   ]
  },
  {
   "cell_type": "code",
   "execution_count": 14,
   "metadata": {},
   "outputs": [],
   "source": [
    "fp = np.memmap('../data/mnist/dist_255.memmap', dtype='float32', mode='w+', shape=(n_rows + t_n_rows, n_rows))"
   ]
  },
  {
   "cell_type": "code",
   "execution_count": 15,
   "metadata": {},
   "outputs": [
    {
     "name": "stderr",
     "output_type": "stream",
     "text": [
      "100%|██████████| 24/24 [04:52<00:00, 12.20s/it]\n"
     ]
    }
   ],
   "source": [
    "runner_train(fp, 255) # train-train"
   ]
  },
  {
   "cell_type": "code",
   "execution_count": 16,
   "metadata": {},
   "outputs": [
    {
     "name": "stderr",
     "output_type": "stream",
     "text": [
      "100%|██████████| 4/4 [00:40<00:00, 10.20s/it]\n"
     ]
    }
   ],
   "source": [
    "runner_test(fp, 255) #train-test"
   ]
  },
  {
   "cell_type": "code",
   "execution_count": 17,
   "metadata": {
    "collapsed": true
   },
   "outputs": [],
   "source": [
    "del fp"
   ]
  },
  {
   "cell_type": "markdown",
   "metadata": {},
   "source": [
    "## euc 128 normalized"
   ]
  },
  {
   "cell_type": "code",
   "execution_count": 19,
   "metadata": {
    "collapsed": true
   },
   "outputs": [],
   "source": [
    "fp = np.memmap('../data/mnist/tests/edu_128.memmap', dtype='float32', mode='w+', shape=(n_rows + t_n_rows, n_rows))"
   ]
  },
  {
   "cell_type": "code",
   "execution_count": 20,
   "metadata": {},
   "outputs": [
    {
     "name": "stderr",
     "output_type": "stream",
     "text": [
      "100%|██████████| 24/24 [04:28<00:00, 11.17s/it]\n"
     ]
    }
   ],
   "source": [
    "runner_train(fp, 128) # train-train"
   ]
  },
  {
   "cell_type": "code",
   "execution_count": 21,
   "metadata": {},
   "outputs": [
    {
     "name": "stderr",
     "output_type": "stream",
     "text": [
      "100%|██████████| 4/4 [00:42<00:00, 10.60s/it]\n"
     ]
    }
   ],
   "source": [
    "runner_test(fp, 128) #train-test"
   ]
  },
  {
   "cell_type": "code",
   "execution_count": 22,
   "metadata": {
    "collapsed": true
   },
   "outputs": [],
   "source": [
    "del fp"
   ]
  }
 ],
 "metadata": {
  "kernelspec": {
   "display_name": "Python 3",
   "language": "python",
   "name": "python3"
  },
  "language_info": {
   "codemirror_mode": {
    "name": "ipython",
    "version": 3
   },
   "file_extension": ".py",
   "mimetype": "text/x-python",
   "name": "python",
   "nbconvert_exporter": "python",
   "pygments_lexer": "ipython3",
   "version": "3.6.4"
  }
 },
 "nbformat": 4,
 "nbformat_minor": 2
}
